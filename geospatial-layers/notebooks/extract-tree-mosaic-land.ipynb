{
 "cells": [
  {
   "cell_type": "code",
   "execution_count": 3,
   "id": "035461fb-746d-4367-b887-f98fb8677eb9",
   "metadata": {},
   "outputs": [
    {
     "data": {
      "text/html": [
       "<p>To authorize access needed by Earth Engine, open the following\n",
       "        URL in a web browser and follow the instructions:</p>\n",
       "        <p><a href=https://code.earthengine.google.com/client-auth?scopes=https%3A//www.googleapis.com/auth/earthengine%20https%3A//www.googleapis.com/auth/devstorage.full_control&request_id=eB5O_mpViRXQSG3-U9AiYklI0-Jk__GyG0Cox3wlgTM&tc=wJzwChcejEKeaXKiNAlvBnZiwwgNm5EAumWBthf1wf4&cc=t2wigAgg_sGURS6qHXnvheiGppL3aEoxX_QOJSFuvvg>https://code.earthengine.google.com/client-auth?scopes=https%3A//www.googleapis.com/auth/earthengine%20https%3A//www.googleapis.com/auth/devstorage.full_control&request_id=eB5O_mpViRXQSG3-U9AiYklI0-Jk__GyG0Cox3wlgTM&tc=wJzwChcejEKeaXKiNAlvBnZiwwgNm5EAumWBthf1wf4&cc=t2wigAgg_sGURS6qHXnvheiGppL3aEoxX_QOJSFuvvg</a></p>\n",
       "        <p>The authorization workflow will generate a code, which you should paste in the box below.</p>\n",
       "        "
      ],
      "text/plain": [
       "<IPython.core.display.HTML object>"
      ]
     },
     "metadata": {},
     "output_type": "display_data"
    },
    {
     "name": "stdin",
     "output_type": "stream",
     "text": [
      "Enter verification code:  4/1AdQt8qiGcopTPupkXcKqhZtiFen2z0T454Vs9EKiOI-nH0z1nQ5BtRJkdn8\n"
     ]
    },
    {
     "name": "stdout",
     "output_type": "stream",
     "text": [
      "\n",
      "Successfully saved authorization token.\n"
     ]
    }
   ],
   "source": [
    "import ee\n",
    "ee.Authenticate()"
   ]
  },
  {
   "cell_type": "code",
   "execution_count": 4,
   "id": "1d44b9e6-310f-45fb-bf42-acf0277df0ab",
   "metadata": {},
   "outputs": [],
   "source": [
    "ee.Initialize()"
   ]
  },
  {
   "cell_type": "code",
   "execution_count": 16,
   "id": "d3b9ad94-518d-4e80-8f70-3dcb8909f5e0",
   "metadata": {},
   "outputs": [],
   "source": [
    "import geemap\n",
    "import ipyleaflet\n",
    "import numpy as np\n",
    "import requests\n",
    "import os\n",
    "import pandas as pd\n",
    "import rasterio\n",
    "import boto3\n",
    "import geopandas as gpd\n",
    "import glob"
   ]
  },
  {
   "cell_type": "markdown",
   "id": "c02f5a68-86a7-4a3e-8c59-a3071d2ecc56",
   "metadata": {
    "tags": []
   },
   "source": [
    "# Load data"
   ]
  },
  {
   "cell_type": "code",
   "execution_count": 17,
   "id": "741d7a78-844f-44ab-97b0-49b57f018daa",
   "metadata": {},
   "outputs": [],
   "source": [
    "# read Tree Mosaic Land\n",
    "tml = ee.ImageCollection('projects/wri-datalab/TML')\n",
    "tml_tree_cover = tml.reduce(ee.Reducer.mean()).rename('b1')"
   ]
  },
  {
   "cell_type": "code",
   "execution_count": 18,
   "id": "65c1fa38-fcf0-4d25-a020-16952a4cc9e3",
   "metadata": {},
   "outputs": [],
   "source": [
    "# get list of urbanshift cities\n",
    "boundary_georef = pd.read_csv('https://cities-urbanshift.s3.eu-west-3.amazonaws.com/data/boundaries/v_0/boundary_georef.csv') "
   ]
  },
  {
   "cell_type": "code",
   "execution_count": 19,
   "id": "8b29ed42-f44a-4088-98b1-cd78bd8e966a",
   "metadata": {},
   "outputs": [
    {
     "data": {
      "text/html": [
       "<div>\n",
       "<style scoped>\n",
       "    .dataframe tbody tr th:only-of-type {\n",
       "        vertical-align: middle;\n",
       "    }\n",
       "\n",
       "    .dataframe tbody tr th {\n",
       "        vertical-align: top;\n",
       "    }\n",
       "\n",
       "    .dataframe thead th {\n",
       "        text-align: right;\n",
       "    }\n",
       "</style>\n",
       "<table border=\"1\" class=\"dataframe\">\n",
       "  <thead>\n",
       "    <tr style=\"text-align: right;\">\n",
       "      <th></th>\n",
       "      <th>geo_name</th>\n",
       "      <th>level</th>\n",
       "      <th>aoi_boundary_name</th>\n",
       "      <th>units_boundary_name</th>\n",
       "      <th>city_name</th>\n",
       "      <th>country_name</th>\n",
       "      <th>country_code</th>\n",
       "      <th>continent</th>\n",
       "    </tr>\n",
       "  </thead>\n",
       "  <tbody>\n",
       "    <tr>\n",
       "      <th>0</th>\n",
       "      <td>BRA-Teresina</td>\n",
       "      <td>city</td>\n",
       "      <td>ADM4union</td>\n",
       "      <td>ADM4</td>\n",
       "      <td>Teresina city</td>\n",
       "      <td>Brazil</td>\n",
       "      <td>BRA</td>\n",
       "      <td>America</td>\n",
       "    </tr>\n",
       "    <tr>\n",
       "      <th>1</th>\n",
       "      <td>BRA-Teresina</td>\n",
       "      <td>region</td>\n",
       "      <td>ADM2union</td>\n",
       "      <td>ADM2</td>\n",
       "      <td>Teresina region</td>\n",
       "      <td>Brazil</td>\n",
       "      <td>BRA</td>\n",
       "      <td>America</td>\n",
       "    </tr>\n",
       "    <tr>\n",
       "      <th>2</th>\n",
       "      <td>BRA-Belem</td>\n",
       "      <td>city</td>\n",
       "      <td>ADM4union</td>\n",
       "      <td>ADM4</td>\n",
       "      <td>Belem city</td>\n",
       "      <td>Brazil</td>\n",
       "      <td>BRA</td>\n",
       "      <td>America</td>\n",
       "    </tr>\n",
       "    <tr>\n",
       "      <th>3</th>\n",
       "      <td>BRA-Belem</td>\n",
       "      <td>region</td>\n",
       "      <td>ADM2union</td>\n",
       "      <td>ADM2</td>\n",
       "      <td>Belem region</td>\n",
       "      <td>Brazil</td>\n",
       "      <td>BRA</td>\n",
       "      <td>America</td>\n",
       "    </tr>\n",
       "    <tr>\n",
       "      <th>4</th>\n",
       "      <td>CRI-San_Jose</td>\n",
       "      <td>region</td>\n",
       "      <td>ADM2union</td>\n",
       "      <td>ADM2</td>\n",
       "      <td>San Jose</td>\n",
       "      <td>Costa Rica</td>\n",
       "      <td>CRI</td>\n",
       "      <td>America</td>\n",
       "    </tr>\n",
       "    <tr>\n",
       "      <th>5</th>\n",
       "      <td>RWA-Kigali</td>\n",
       "      <td>city</td>\n",
       "      <td>ADM4union</td>\n",
       "      <td>ADM4</td>\n",
       "      <td>Kigali</td>\n",
       "      <td>Rwanda</td>\n",
       "      <td>RWA</td>\n",
       "      <td>Africa</td>\n",
       "    </tr>\n",
       "    <tr>\n",
       "      <th>6</th>\n",
       "      <td>SLE-Freetown</td>\n",
       "      <td>city</td>\n",
       "      <td>ADM4cityunion</td>\n",
       "      <td>ADM4city</td>\n",
       "      <td>Freetown city</td>\n",
       "      <td>Sierra Leone</td>\n",
       "      <td>SLE</td>\n",
       "      <td>Africa</td>\n",
       "    </tr>\n",
       "    <tr>\n",
       "      <th>7</th>\n",
       "      <td>SLE-Freetown</td>\n",
       "      <td>region</td>\n",
       "      <td>ADM4regionunion</td>\n",
       "      <td>ADM4region</td>\n",
       "      <td>Freetown region</td>\n",
       "      <td>Sierra Leone</td>\n",
       "      <td>SLE</td>\n",
       "      <td>Africa</td>\n",
       "    </tr>\n",
       "    <tr>\n",
       "      <th>8</th>\n",
       "      <td>MAR-Marrakech</td>\n",
       "      <td>NaN</td>\n",
       "      <td>ADM2</td>\n",
       "      <td>ADM5</td>\n",
       "      <td>Marrakech</td>\n",
       "      <td>Morocco</td>\n",
       "      <td>MAR</td>\n",
       "      <td>Africa</td>\n",
       "    </tr>\n",
       "    <tr>\n",
       "      <th>9</th>\n",
       "      <td>IND-Chennai</td>\n",
       "      <td>region</td>\n",
       "      <td>ADM4union</td>\n",
       "      <td>ADM4</td>\n",
       "      <td>Chennai region</td>\n",
       "      <td>India</td>\n",
       "      <td>IND</td>\n",
       "      <td>Asia</td>\n",
       "    </tr>\n",
       "    <tr>\n",
       "      <th>10</th>\n",
       "      <td>IND-Surat</td>\n",
       "      <td>region</td>\n",
       "      <td>ADM4union</td>\n",
       "      <td>ADM4</td>\n",
       "      <td>Surat</td>\n",
       "      <td>India</td>\n",
       "      <td>IND</td>\n",
       "      <td>Asia</td>\n",
       "    </tr>\n",
       "    <tr>\n",
       "      <th>11</th>\n",
       "      <td>IDN-Jakarta</td>\n",
       "      <td>NaN</td>\n",
       "      <td>ADM4union</td>\n",
       "      <td>ADM4</td>\n",
       "      <td>Jakarta</td>\n",
       "      <td>Indonesia</td>\n",
       "      <td>IDN</td>\n",
       "      <td>Asia</td>\n",
       "    </tr>\n",
       "    <tr>\n",
       "      <th>12</th>\n",
       "      <td>IDN-Bitung</td>\n",
       "      <td>NaN</td>\n",
       "      <td>ADM2</td>\n",
       "      <td>ADM3</td>\n",
       "      <td>Bitung</td>\n",
       "      <td>Indonesia</td>\n",
       "      <td>IDN</td>\n",
       "      <td>Asia</td>\n",
       "    </tr>\n",
       "    <tr>\n",
       "      <th>13</th>\n",
       "      <td>IDN-Semarang</td>\n",
       "      <td>NaN</td>\n",
       "      <td>ADM1</td>\n",
       "      <td>ADM4</td>\n",
       "      <td>Semarang</td>\n",
       "      <td>Indonesia</td>\n",
       "      <td>IDN</td>\n",
       "      <td>Asia</td>\n",
       "    </tr>\n",
       "    <tr>\n",
       "      <th>14</th>\n",
       "      <td>IDN-Balikpapan</td>\n",
       "      <td>NaN</td>\n",
       "      <td>ADM4union</td>\n",
       "      <td>ADM4</td>\n",
       "      <td>Balikpapan</td>\n",
       "      <td>Indonesia</td>\n",
       "      <td>IDN</td>\n",
       "      <td>Asia</td>\n",
       "    </tr>\n",
       "  </tbody>\n",
       "</table>\n",
       "</div>"
      ],
      "text/plain": [
       "          geo_name   level aoi_boundary_name units_boundary_name  \\\n",
       "0     BRA-Teresina    city         ADM4union                ADM4   \n",
       "1     BRA-Teresina  region         ADM2union                ADM2   \n",
       "2        BRA-Belem    city         ADM4union                ADM4   \n",
       "3        BRA-Belem  region         ADM2union                ADM2   \n",
       "4     CRI-San_Jose  region         ADM2union                ADM2   \n",
       "5       RWA-Kigali    city         ADM4union                ADM4   \n",
       "6     SLE-Freetown    city     ADM4cityunion            ADM4city   \n",
       "7     SLE-Freetown  region   ADM4regionunion          ADM4region   \n",
       "8    MAR-Marrakech     NaN              ADM2                ADM5   \n",
       "9      IND-Chennai  region         ADM4union                ADM4   \n",
       "10       IND-Surat  region         ADM4union                ADM4   \n",
       "11     IDN-Jakarta     NaN         ADM4union                ADM4   \n",
       "12      IDN-Bitung     NaN              ADM2                ADM3   \n",
       "13    IDN-Semarang     NaN              ADM1                ADM4   \n",
       "14  IDN-Balikpapan     NaN         ADM4union                ADM4   \n",
       "\n",
       "          city_name  country_name country_code continent  \n",
       "0     Teresina city        Brazil          BRA   America  \n",
       "1   Teresina region        Brazil          BRA   America  \n",
       "2        Belem city        Brazil          BRA   America  \n",
       "3      Belem region        Brazil          BRA   America  \n",
       "4          San Jose    Costa Rica          CRI   America  \n",
       "5            Kigali        Rwanda          RWA    Africa  \n",
       "6     Freetown city  Sierra Leone          SLE    Africa  \n",
       "7   Freetown region  Sierra Leone          SLE    Africa  \n",
       "8         Marrakech       Morocco          MAR    Africa  \n",
       "9    Chennai region         India          IND      Asia  \n",
       "10            Surat         India          IND      Asia  \n",
       "11          Jakarta     Indonesia          IDN      Asia  \n",
       "12           Bitung     Indonesia          IDN      Asia  \n",
       "13         Semarang     Indonesia          IDN      Asia  \n",
       "14       Balikpapan     Indonesia          IDN      Asia  "
      ]
     },
     "execution_count": 19,
     "metadata": {},
     "output_type": "execute_result"
    }
   ],
   "source": [
    "# subset cities with avaialable tml data\n",
    "tml_available_cities = ['Teresina city','Teresina region','Belem city','Belem region','San Jose','Kigali',\n",
    "                        'Freetown city','Freetown region','Marrakech','Chennai region','Chennai region',\n",
    "                        'Pune','Surat','Jakarta','Bitung','Semarang','Balikpapan','Balikpapan']\n",
    "boundary_georef = boundary_georef.loc[boundary_georef['city_name'].isin(tml_available_cities)].reset_index(drop=True)\n",
    "boundary_georef                        "
   ]
  },
  {
   "cell_type": "markdown",
   "id": "6535d63b-696b-4500-9c15-39f912e1575e",
   "metadata": {
    "tags": []
   },
   "source": [
    "# Extract TML by city"
   ]
  },
  {
   "cell_type": "code",
   "execution_count": 9,
   "id": "196a4d67-0243-48d1-ae95-aa90ed0cafa3",
   "metadata": {},
   "outputs": [
    {
     "name": "stdout",
     "output_type": "stream",
     "text": [
      "0\n",
      "BRA-Teresina-ADM4union\n",
      "1\n",
      "BRA-Teresina-ADM2union\n",
      "2\n",
      "BRA-Belem-ADM4union\n",
      "3\n",
      "BRA-Belem-ADM2union\n",
      "4\n",
      "CRI-San_Jose-ADM2union\n",
      "5\n",
      "RWA-Kigali-ADM4union\n",
      "6\n",
      "SLE-Freetown-ADM4cityunion\n",
      "7\n",
      "SLE-Freetown-ADM4regionunion\n",
      "8\n",
      "MAR-Marrakech-ADM2\n",
      "9\n",
      "IND-Chennai-ADM4union\n",
      "10\n",
      "IND-Surat-ADM4union\n",
      "11\n",
      "IDN-Jakarta-ADM4union\n",
      "12\n",
      "IDN-Bitung-ADM2\n",
      "13\n",
      "IDN-Semarang-ADM1\n",
      "14\n",
      "IDN-Balikpapan-ADM4union\n"
     ]
    }
   ],
   "source": [
    "for i in range(0,len(boundary_georef)):\n",
    "    print(i)\n",
    "    boundary_id = boundary_georef.loc[i, 'geo_name']+'-'+boundary_georef.loc[i, 'aoi_boundary_name']\n",
    "    print(boundary_id)\n",
    "    \n",
    "    # read boundaries\n",
    "    boundary_path = 'https://cities-urbanshift.s3.eu-west-3.amazonaws.com/data/boundaries/v_0/boundary-'+boundary_id+'.geojson'\n",
    "    boundary_geo = requests.get(boundary_path).json()\n",
    "    boundary_geo_ee = geemap.geojson_to_ee(boundary_geo)\n",
    "    \n",
    "    # Download ee.Image for TML as GeoTIFF\n",
    "    geemap.ee_export_image_to_drive(\n",
    "        tml_tree_cover, \n",
    "        description = boundary_id + '-TML-TreeCover',\n",
    "        folder='data', \n",
    "        scale=10, \n",
    "        region=boundary_geo_ee.geometry(),\n",
    "        maxPixels = 5000000000\n",
    "    )"
   ]
  },
  {
   "cell_type": "markdown",
   "id": "48219700-c1de-4192-ac46-2455d81664a1",
   "metadata": {
    "tags": []
   },
   "source": [
    "# Upload to aws\n",
    "\n",
    "Since we can't download directly the rasters locally due to their size, the rasters are stored in a google-drive folder and then downloaded locally in order to push them back to s3 bucket."
   ]
  },
  {
   "cell_type": "code",
   "execution_count": 41,
   "id": "cb8fac46-b020-4d00-bb3e-9ec76687936d",
   "metadata": {},
   "outputs": [],
   "source": [
    "# connect to s3\n",
    "aws_credentials = pd.read_csv('C:\\\\Users\\\\Saif.Shabou\\\\OneDrive - World Resources Institute\\\\Documents\\\\aws\\\\credentials.csv')\n",
    "aws_key = aws_credentials.iloc[0]['Access key ID']\n",
    "aws_secret = aws_credentials.iloc[0]['Secret access key']\n",
    "\n",
    "s3 = boto3.resource(\n",
    "    service_name='s3',\n",
    "    aws_access_key_id=aws_key,\n",
    "    aws_secret_access_key=aws_secret\n",
    ")\n",
    "\n",
    "# specify bucket name\n",
    "bucket_name = 'cities-urbanshift' "
   ]
  },
  {
   "cell_type": "code",
   "execution_count": 10,
   "id": "3ccb5f0d-d71d-4d10-83d1-571e52dc3cd4",
   "metadata": {},
   "outputs": [],
   "source": [
    "# define work directory\n",
    "out_dir = os.getcwd()"
   ]
  },
  {
   "cell_type": "code",
   "execution_count": 119,
   "id": "2ae44f0f-b2ce-4409-898e-cbf62288a7ae",
   "metadata": {},
   "outputs": [
    {
     "name": "stdout",
     "output_type": "stream",
     "text": [
      "\n",
      " boundary_id: BRA-Teresina-ADM4union\n",
      "\n",
      " boundary_id: BRA-Teresina-ADM2union\n",
      "\n",
      " boundary_id: BRA-Belem-ADM4union\n",
      "\n",
      " boundary_id: BRA-Belem-ADM2union\n",
      "\n",
      " boundary_id: CRI-San_Jose-ADM2union\n",
      "\n",
      " boundary_id: RWA-Kigali-ADM4union\n",
      "\n",
      " boundary_id: SLE-Freetown-ADM4cityunion\n",
      "\n",
      " boundary_id: SLE-Freetown-ADM4regionunion\n",
      "\n",
      " boundary_id: MAR-Marrakech-ADM2\n",
      "\n",
      " boundary_id: IND-Chennai-ADM4union\n",
      "\n",
      " boundary_id: IND-Surat-ADM4union\n",
      "\n",
      " boundary_id: IDN-Jakarta-ADM4union\n",
      "\n",
      " boundary_id: IDN-Bitung-ADM2\n",
      "\n",
      " boundary_id: IDN-Semarang-ADM1\n",
      "\n",
      " boundary_id: IDN-Balikpapan-ADM4union\n"
     ]
    }
   ],
   "source": [
    "# upload the geotiff files to aws s3 byucket\n",
    "for i in range(0, len(boundary_georef)):\n",
    "    boundary_id = boundary_georef.loc[i, 'geo_name']+'-'+boundary_georef.loc[i, 'aoi_boundary_name']\n",
    "    geo_name = boundary_georef.loc[i, 'geo_name']\n",
    "    print(\"\\n boundary_id: \"+boundary_id)\n",
    "\n",
    "    # read local raster\n",
    "    city_file = 'data\\\\' + boundary_id +'-TML-TreeCover.tif'\n",
    "    raster_path = os.path.join(out_dir, city_file)\n",
    "    \n",
    "    # upload in s3\n",
    "    s3.meta.client.upload_file(raster_path, \n",
    "                               bucket_name, \n",
    "                               'data/tree_cover/tree_mosaic_land/v_0/'+ boundary_id + '-TML-tree_cover-2000.tif',\n",
    "                               ExtraArgs={'ACL':'public-read'})"
   ]
  },
  {
   "cell_type": "markdown",
   "id": "2f7dcc1b-04eb-4704-8f14-d405a3ecd76c",
   "metadata": {
    "jp-MarkdownHeadingCollapsed": true,
    "tags": []
   },
   "source": [
    "# Visualize data"
   ]
  },
  {
   "cell_type": "code",
   "execution_count": 11,
   "id": "196625f2-a39e-4035-99b2-a1582bd61b16",
   "metadata": {},
   "outputs": [
    {
     "data": {
      "application/vnd.jupyter.widget-view+json": {
       "model_id": "a9fe610f1b614def87e2473af9693d61",
       "version_major": 2,
       "version_minor": 0
      },
      "text/plain": [
       "Map(center=[20, 0], controls=(WidgetControl(options=['position', 'transparent_bg'], widget=HBox(children=(Togg…"
      ]
     },
     "metadata": {},
     "output_type": "display_data"
    }
   ],
   "source": [
    "## create map\n",
    "Map = geemap.Map(height=\"350px\")\n",
    "Map"
   ]
  },
  {
   "cell_type": "code",
   "execution_count": 12,
   "id": "a30c12c6-70f9-4270-93cf-f54533bd93c7",
   "metadata": {},
   "outputs": [
    {
     "name": "stdout",
     "output_type": "stream",
     "text": [
      "BRA-Teresina-ADM4union\n"
     ]
    }
   ],
   "source": [
    "# read boundaries\n",
    "i = 0\n",
    "boundary_id = boundary_georef.loc[i, 'geo_name']+'-'+boundary_georef.loc[i, 'aoi_boundary_name']\n",
    "print(boundary_id)\n",
    "boundary_path = 'https://cities-urbanshift.s3.eu-west-3.amazonaws.com/data/boundaries/v_0/boundary-'+boundary_id+'.geojson'\n",
    "boundary_geo = requests.get(boundary_path).json()\n",
    "boundary_geo_ee = geemap.geojson_to_ee(boundary_geo)"
   ]
  },
  {
   "cell_type": "code",
   "execution_count": 13,
   "id": "93d53861-a215-414f-b686-4a945cb1dd8c",
   "metadata": {},
   "outputs": [],
   "source": [
    "## add basemap and center on area of interest\n",
    "Map.add_basemap('HYBRID')\n",
    "Map.centerObject(boundary_geo_ee, zoom=8)"
   ]
  },
  {
   "cell_type": "code",
   "execution_count": 15,
   "id": "81250412-b23d-45e7-9c84-bd7ff8680c8d",
   "metadata": {},
   "outputs": [],
   "source": [
    "Map.addLayer(boundary_geo_ee)"
   ]
  },
  {
   "cell_type": "code",
   "execution_count": 14,
   "id": "dd8ce425-2fe0-4455-a741-1045dc49eb47",
   "metadata": {},
   "outputs": [],
   "source": [
    "tree_percent_threshold = 10\n",
    "Map.addLayer(tml_tree_cover.updateMask(tml_tree_cover.gte(tree_percent_threshold)),\n",
    "             {'min':0, 'max':0.5, 'palette':['white','#006400']},\n",
    "             'Tree Cover 2020 (WRI Trees in Mosaic Landscapes)',True,1)"
   ]
  },
  {
   "cell_type": "code",
   "execution_count": null,
   "id": "859ebaf7-477f-43fc-9aed-02d163ca8329",
   "metadata": {},
   "outputs": [],
   "source": []
  }
 ],
 "metadata": {
  "kernelspec": {
   "display_name": "Python 3 (ipykernel)",
   "language": "python",
   "name": "python3"
  },
  "language_info": {
   "codemirror_mode": {
    "name": "ipython",
    "version": 3
   },
   "file_extension": ".py",
   "mimetype": "text/x-python",
   "name": "python",
   "nbconvert_exporter": "python",
   "pygments_lexer": "ipython3",
   "version": "3.10.5"
  }
 },
 "nbformat": 4,
 "nbformat_minor": 5
}
