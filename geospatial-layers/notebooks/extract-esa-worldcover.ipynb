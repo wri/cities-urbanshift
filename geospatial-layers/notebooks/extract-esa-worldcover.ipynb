{
 "cells": [
  {
   "cell_type": "code",
   "execution_count": 2,
   "id": "f8dc9608-d4f1-43d9-b45e-618c4a507b8c",
   "metadata": {},
   "outputs": [
    {
     "data": {
      "text/html": [
       "<p>To authorize access needed by Earth Engine, open the following\n",
       "        URL in a web browser and follow the instructions:</p>\n",
       "        <p><a href=https://code.earthengine.google.com/client-auth?scopes=https%3A//www.googleapis.com/auth/earthengine%20https%3A//www.googleapis.com/auth/devstorage.full_control&request_id=3x6dtgdUqfLCN2oFKF9W23JgyrN8qiTbwz0GmjxclyE&tc=9MLeobiRhl4xvwsEfoMWIGZ1ULc2u2lR0nX3M-dOcqM&cc=8aPmCl78bYfVELAefi-sGn0pCNzJx5-x6pvCv0i8ARo>https://code.earthengine.google.com/client-auth?scopes=https%3A//www.googleapis.com/auth/earthengine%20https%3A//www.googleapis.com/auth/devstorage.full_control&request_id=3x6dtgdUqfLCN2oFKF9W23JgyrN8qiTbwz0GmjxclyE&tc=9MLeobiRhl4xvwsEfoMWIGZ1ULc2u2lR0nX3M-dOcqM&cc=8aPmCl78bYfVELAefi-sGn0pCNzJx5-x6pvCv0i8ARo</a></p>\n",
       "        <p>The authorization workflow will generate a code, which you should paste in the box below.</p>\n",
       "        "
      ],
      "text/plain": [
       "<IPython.core.display.HTML object>"
      ]
     },
     "metadata": {},
     "output_type": "display_data"
    },
    {
     "name": "stdin",
     "output_type": "stream",
     "text": [
      "Enter verification code:  4/1AdQt8qjGe6f94aB2ZG1cXX0zVLumR73GVVXox5h3H-_Y-cNtv6vuxHOaqE0\n"
     ]
    },
    {
     "name": "stdout",
     "output_type": "stream",
     "text": [
      "\n",
      "Successfully saved authorization token.\n"
     ]
    }
   ],
   "source": [
    "import ee\n",
    "ee.Authenticate()"
   ]
  },
  {
   "cell_type": "code",
   "execution_count": 3,
   "id": "39366990-46f0-4859-a776-8fd2e4fb3ce7",
   "metadata": {},
   "outputs": [],
   "source": [
    "ee.Initialize()"
   ]
  },
  {
   "cell_type": "code",
   "execution_count": 57,
   "id": "d61ff348-dd5f-4cdf-ab12-50d10bfb1d3f",
   "metadata": {},
   "outputs": [],
   "source": [
    "import geemap\n",
    "import ipyleaflet\n",
    "import numpy as np\n",
    "import requests\n",
    "import os\n",
    "import pandas as pd\n",
    "import rasterio\n",
    "import boto3\n",
    "import geopandas as gpd\n",
    "import glob"
   ]
  },
  {
   "cell_type": "markdown",
   "id": "4ccaba0a-2130-4b3d-86ec-d57b46004e79",
   "metadata": {},
   "source": [
    "# load data"
   ]
  },
  {
   "cell_type": "code",
   "execution_count": 5,
   "id": "b2fca8de-7f70-4e0b-9113-71b302cbce13",
   "metadata": {},
   "outputs": [],
   "source": [
    "# read esa land cover\n",
    "esa_land_cover = ee.ImageCollection('ESA/WorldCover/v100').first()"
   ]
  },
  {
   "cell_type": "code",
   "execution_count": 137,
   "id": "06cb6b89-5a3e-4581-a941-41ef4e2b6a6e",
   "metadata": {},
   "outputs": [
    {
     "name": "stdout",
     "output_type": "stream",
     "text": [
      "             geo_name   level aoi_boundary_name units_boundary_name\n",
      "0         ARG-Mendoza  region         ADM3union                ADM3\n",
      "1   ARG-Mar_del_Plata    city              ADM3                ADM4\n",
      "2   ARG-Mar_del_Plata  region              ADM2                 NaN\n",
      "3         ARG-Ushuaia    city              ADM4                ADM5\n",
      "4         ARG-Ushuaia  region              ADM3                 NaN\n",
      "5           ARG-Salta  region         ADM2union                ADM3\n",
      "6    ARG-Buenos_Aires  region         ADM2union                ADM2\n",
      "7        BRA-Teresina    city         ADM4union                ADM4\n",
      "8        BRA-Teresina  region         ADM2union                ADM2\n",
      "9   BRA-Florianopolis    city         ADM4union                ADM4\n",
      "10  BRA-Florianopolis  region         ADM2union                ADM2\n",
      "11          BRA-Belem    city         ADM4union                ADM4\n",
      "12          BRA-Belem  region         ADM2union                ADM2\n",
      "13       CRI-San_Jose  region         ADM2union                ADM2\n",
      "14         RWA-Kigali    city         ADM4union                ADM4\n",
      "15       SLE-Freetown    city     ADM4cityunion            ADM4city\n",
      "16       SLE-Freetown  region   ADM4regionunion          ADM4region\n",
      "17      MAR-Marrakech     NaN              ADM2                ADM5\n",
      "18        IND-Chennai  region         ADM4union                ADM4\n",
      "19        IND-Chennai    city         ADM6union                ADM6\n",
      "20           IND-Pune  region         ADM4union                ADM4\n",
      "21          IND-Surat  region         ADM4union                ADM4\n",
      "22        CHN-Chengdu     NaN         ADM3union                ADM3\n",
      "23      CHN-Chongqing     NaN              ADM1                ADM3\n",
      "24         CHN-Ningbo     NaN         ADM3union                ADM3\n",
      "25        IDN-Jakarta     NaN         ADM4union                ADM4\n",
      "26         IDN-Bitung     NaN              ADM2                ADM3\n",
      "27       IDN-Semarang     NaN              ADM1                ADM4\n",
      "28     IDN-Balikpapan     NaN         ADM4union                ADM4\n",
      "29      IDN-Palembang     NaN              ADM2                ADM3\n"
     ]
    }
   ],
   "source": [
    "# get list of urbanshift cities\n",
    "boundary_georef = pd.read_csv('https://cities-urbanshift.s3.eu-west-3.amazonaws.com/data/boundaries/v_0/boundary_georef.csv') \n",
    "print(boundary_georef.to_string())"
   ]
  },
  {
   "cell_type": "markdown",
   "id": "b57b96c3-6cb1-49b0-b468-755276e1fbc9",
   "metadata": {},
   "source": [
    "# Extract ESA raster by feature"
   ]
  },
  {
   "cell_type": "code",
   "execution_count": 32,
   "id": "571d34ee-ab4a-41ff-9662-1df1f23e9765",
   "metadata": {},
   "outputs": [
    {
     "name": "stdout",
     "output_type": "stream",
     "text": [
      "0\n",
      "ARG-Mendoza-ADM3union\n",
      "1\n",
      "ARG-Mar_del_Plata-ADM3\n",
      "2\n",
      "ARG-Mar_del_Plata-ADM2\n",
      "3\n",
      "ARG-Ushuaia-ADM4\n",
      "4\n",
      "ARG-Ushuaia-ADM3\n",
      "5\n",
      "ARG-Salta-ADM2union\n",
      "6\n",
      "ARG-Buenos_Aires-ADM2union\n",
      "7\n",
      "BRA-Teresina-ADM4union\n",
      "8\n",
      "BRA-Teresina-ADM2union\n",
      "9\n",
      "BRA-Florianopolis-ADM4union\n",
      "10\n",
      "BRA-Florianopolis-ADM2union\n",
      "11\n",
      "BRA-Belem-ADM4union\n",
      "12\n",
      "BRA-Belem-ADM2union\n",
      "13\n",
      "CRI-San_Jose-ADM2union\n",
      "14\n",
      "RWA-Kigali-ADM4union\n",
      "15\n",
      "SLE-Freetown-ADM4cityunion\n",
      "16\n",
      "SLE-Freetown-ADM4regionunion\n",
      "17\n",
      "MAR-Marrakech-ADM2\n",
      "18\n",
      "IND-Chennai-ADM4union\n",
      "19\n",
      "IND-Chennai-ADM6union\n",
      "20\n",
      "IND-Pune-ADM4union\n",
      "21\n",
      "IND-Surat-ADM4union\n",
      "22\n",
      "CHN-Chengdu-ADM3union\n",
      "23\n",
      "CHN-Chongqing-ADM1\n",
      "24\n",
      "CHN-Ningbo-ADM3union\n",
      "25\n",
      "IDN-Jakarta-ADM4union\n",
      "26\n",
      "IDN-Bitung-ADM2\n",
      "27\n",
      "IDN-Semarang-ADM1\n",
      "28\n",
      "IDN-Balikpapan-ADM4union\n",
      "29\n",
      "IDN-Palembang-ADM2\n"
     ]
    }
   ],
   "source": [
    "for i in range(0,len(boundary_georef)):\n",
    "    print(i)\n",
    "    boundary_id = boundary_georef.loc[i, 'geo_name']+'-'+boundary_georef.loc[i, 'aoi_boundary_name']\n",
    "    print(boundary_id)\n",
    "    \n",
    "    # read boundaries\n",
    "    boundary_path = 'https://cities-urbanshift.s3.eu-west-3.amazonaws.com/data/boundaries/v_0/boundary-'+boundary_id+'.geojson'\n",
    "    boundary_geo = requests.get(boundary_path).json()\n",
    "    boundary_geo_ee = geemap.geojson_to_ee(boundary_geo)\n",
    "    \n",
    "    # Download ee.Image for Land cover as GeoTIFF\n",
    "    geemap.ee_export_image_to_drive(\n",
    "        esa_land_cover, \n",
    "        description = boundary_id + '-ESA-Landcover',\n",
    "        folder='data', \n",
    "        scale=10, \n",
    "        region=boundary_geo_ee.geometry(),\n",
    "        maxPixels = 5000000000\n",
    "    )"
   ]
  },
  {
   "cell_type": "markdown",
   "id": "a7094936-e495-4429-9249-d4831f0954e4",
   "metadata": {},
   "source": [
    "# upload in aws\n",
    "\n",
    "Since we can't download directly the rasters locally due to their size, the rasters are stored in a google-drive folder and then downloaded locally in order to push them back to s3 bucket."
   ]
  },
  {
   "cell_type": "code",
   "execution_count": 39,
   "id": "ca9f5054-b011-4ca2-b766-7c14ecf37935",
   "metadata": {},
   "outputs": [],
   "source": [
    "# connect to s3\n",
    "aws_credentials = pd.read_csv('C:\\\\Users\\\\Saif.Shabou\\\\OneDrive - World Resources Institute\\\\Documents\\\\aws\\\\credentials.csv')\n",
    "aws_key = aws_credentials.iloc[0]['Access key ID']\n",
    "aws_secret = aws_credentials.iloc[0]['Secret access key']\n",
    "\n",
    "s3 = boto3.resource(\n",
    "    service_name='s3',\n",
    "    aws_access_key_id=aws_key,\n",
    "    aws_secret_access_key=aws_secret\n",
    ")\n",
    "\n",
    "# specify bucket name\n",
    "bucket_name = 'cities-urbanshift' "
   ]
  },
  {
   "cell_type": "code",
   "execution_count": 36,
   "id": "e718742d-6c90-463a-938a-998598d33590",
   "metadata": {},
   "outputs": [],
   "source": [
    "out_dir = os.getcwd()"
   ]
  },
  {
   "cell_type": "code",
   "execution_count": null,
   "id": "6b71a246-6876-4b85-bde5-da554f2548bc",
   "metadata": {},
   "outputs": [],
   "source": [
    "for i in range(0, len(boundary_georef)):\n",
    "    boundary_id = boundary_georef.loc[i, 'geo_name']+'-'+boundary_georef.loc[i, 'aoi_boundary_name']\n",
    "    geo_name = boundary_georef.loc[i, 'geo_name']\n",
    "    print(\"\\n geo_name: \"+geo_name)\n",
    "\n",
    "    # read local raster\n",
    "    city_file = 'data\\\\' + geo_name +'_ESA_Worldcover.tif'\n",
    "    raster_path = os.path.join(out_dir, city_file)\n",
    "    \n",
    "    # upload in s3\n",
    "    s3.meta.client.upload_file(raster_path, \n",
    "                               bucket_name, \n",
    "                               'data/land_use/esa_world_cover/v_0/'+ boundary_id + '-ESA-world_cover-2000.tif',\n",
    "                               ExtraArgs={'ACL':'public-read'})"
   ]
  }
 ],
 "metadata": {
  "kernelspec": {
   "display_name": "Python 3 (ipykernel)",
   "language": "python",
   "name": "python3"
  },
  "language_info": {
   "codemirror_mode": {
    "name": "ipython",
    "version": 3
   },
   "file_extension": ".py",
   "mimetype": "text/x-python",
   "name": "python",
   "nbconvert_exporter": "python",
   "pygments_lexer": "ipython3",
   "version": "3.10.5"
  }
 },
 "nbformat": 4,
 "nbformat_minor": 5
}
