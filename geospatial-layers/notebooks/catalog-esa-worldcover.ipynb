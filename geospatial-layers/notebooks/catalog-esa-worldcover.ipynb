{
 "cells": [
  {
   "cell_type": "code",
   "execution_count": 83,
   "id": "8544d48e-bf31-4410-a0d0-1128d0a65b60",
   "metadata": {},
   "outputs": [],
   "source": [
    "import json\n",
    "import os\n",
    "import boto3"
   ]
  },
  {
   "cell_type": "code",
   "execution_count": 78,
   "id": "a281bbb4-57db-42a9-82e6-35ebcff72797",
   "metadata": {},
   "outputs": [],
   "source": [
    "out_dir = os.getcwd()"
   ]
  },
  {
   "cell_type": "code",
   "execution_count": 17,
   "id": "72b6573b-edbe-4f68-b49c-3a4e2354b066",
   "metadata": {},
   "outputs": [],
   "source": [
    "metadata_file = os.path.join(out_dir, 'metadata\\\\metadata_landcover_esa.json')"
   ]
  },
  {
   "cell_type": "markdown",
   "id": "6d14e573-bebb-454a-a917-711298fed0a2",
   "metadata": {},
   "source": [
    "# Load input data"
   ]
  },
  {
   "cell_type": "code",
   "execution_count": 79,
   "id": "63f97329-b681-48e5-812b-341939f91930",
   "metadata": {},
   "outputs": [
    {
     "name": "stdout",
     "output_type": "stream",
     "text": [
      "             geo_name   level aoi_boundary_name units_boundary_name\n",
      "0         ARG-Mendoza  region         ADM3union                ADM3\n",
      "1   ARG-Mar_del_Plata    city              ADM3                ADM4\n",
      "2         ARG-Ushuaia    city              ADM4                ADM5\n",
      "3           ARG-Salta  region         ADM2union                ADM3\n",
      "4    ARG-Buenos_Aires  region         ADM2union                ADM2\n",
      "5        BRA-Teresina    city         ADM4union                ADM4\n",
      "6        BRA-Teresina  region         ADM2union                ADM2\n",
      "7   BRA-Florianopolis    city         ADM4union                ADM4\n",
      "8   BRA-Florianopolis  region         ADM2union                ADM2\n",
      "9           BRA-Belem    city         ADM4union                ADM4\n",
      "10          BRA-Belem  region         ADM2union                ADM2\n",
      "11       CRI-San_Jose  region         ADM2union                ADM2\n",
      "12         RWA-Kigali    city         ADM4union                ADM4\n",
      "13       SLE-Freetown    city     ADM4cityunion            ADM4city\n",
      "14       SLE-Freetown  region   ADM4regionunion          ADM4region\n",
      "15      MAR-Marrakech     NaN              ADM2                ADM5\n",
      "16        IND-Chennai  region         ADM4union                ADM4\n",
      "17        IND-Chennai    city         ADM6union                ADM6\n",
      "18           IND-Pune  region         ADM4union                ADM4\n",
      "19          IND-Surat  region         ADM4union                ADM4\n",
      "20        CHN-Chengdu     NaN         ADM3union                ADM3\n",
      "21      CHN-Chongqing     NaN              ADM1                ADM3\n",
      "22         CHN-Ningbo     NaN         ADM3union                ADM3\n",
      "23        IDN-Jakarta     NaN         ADM4union                ADM4\n",
      "24         IDN-Bitung     NaN              ADM2                ADM3\n",
      "25       IDN-Semarang     NaN              ADM1                ADM4\n",
      "26     IDN-Balikpapan     NaN         ADM4union                ADM4\n",
      "27      IDN-Palembang     NaN              ADM2                ADM3\n"
     ]
    }
   ],
   "source": [
    "# get list of urbanshift cities\n",
    "boundary_georef = pd.read_csv('https://cities-urbanshift.s3.eu-west-3.amazonaws.com/data/boundaries/v_0/boundary_georef.csv') \n",
    "boundary_georef = boundary_georef.dropna(subset=['units_boundary_name']).reset_index(drop=True)\n",
    "print(boundary_georef.to_string())"
   ]
  },
  {
   "cell_type": "markdown",
   "id": "03469951-5145-43de-88a2-55e0ebc9c419",
   "metadata": {},
   "source": [
    "# Create metadata file"
   ]
  },
  {
   "cell_type": "code",
   "execution_count": 80,
   "id": "175205eb-9757-48e5-8945-7fe76e1a451f",
   "metadata": {},
   "outputs": [],
   "source": [
    "dataset_metadata_cities = []"
   ]
  },
  {
   "cell_type": "code",
   "execution_count": 81,
   "id": "08a4a333-0734-48f6-9dec-19ae71b60525",
   "metadata": {},
   "outputs": [
    {
     "name": "stdout",
     "output_type": "stream",
     "text": [
      "ARG-Mendoza-ADM3union\n",
      "ARG-Mar_del_Plata-ADM3\n",
      "ARG-Ushuaia-ADM4\n",
      "ARG-Salta-ADM2union\n",
      "ARG-Buenos_Aires-ADM2union\n",
      "BRA-Teresina-ADM4union\n",
      "BRA-Teresina-ADM2union\n",
      "BRA-Florianopolis-ADM4union\n",
      "BRA-Florianopolis-ADM2union\n",
      "BRA-Belem-ADM4union\n",
      "BRA-Belem-ADM2union\n",
      "CRI-San_Jose-ADM2union\n",
      "RWA-Kigali-ADM4union\n",
      "SLE-Freetown-ADM4cityunion\n",
      "SLE-Freetown-ADM4regionunion\n",
      "MAR-Marrakech-ADM2\n",
      "IND-Chennai-ADM4union\n",
      "IND-Chennai-ADM6union\n",
      "IND-Pune-ADM4union\n",
      "IND-Surat-ADM4union\n",
      "CHN-Chengdu-ADM3union\n",
      "CHN-Chongqing-ADM1\n",
      "CHN-Ningbo-ADM3union\n",
      "IDN-Jakarta-ADM4union\n",
      "IDN-Bitung-ADM2\n",
      "IDN-Semarang-ADM1\n",
      "IDN-Balikpapan-ADM4union\n",
      "IDN-Palembang-ADM2\n"
     ]
    }
   ],
   "source": [
    "for i in range(0, len(boundary_georef)):\n",
    "    boundary_id = boundary_georef.loc[i, 'geo_name']+'-'+boundary_georef.loc[i, 'aoi_boundary_name']\n",
    "    geo_name = boundary_georef.loc[i, 'geo_name']\n",
    "    #print(geo_name)\n",
    "    print(boundary_id)\n",
    "    \n",
    "    # fill metadata fields\n",
    "    dataset_title = \"ESA World cover land cover extract for \" + geo_name\n",
    "    dataset_city_name = geo_name\n",
    "    dataset_description = \"The European Space Agency (ESA) WorldCover 10 m 2020 product provides a global land cover map for 2020 at 10 m resolution based on Sentinel-1 and Sentinel-2 data. The WorldCover product comes with 11 land cover classes, aligned with UN-FAO’s Land Cover Classification System, and has been generated in the framework of the ESA WorldCover project. The World Cover product comes with 11 land cover classes: Tree cover, Shrubland, Grassland, Cropland, Built-up, Bare / sparse vegetation, Snow and ice, Open water, Herbaceous wetland, Mangroves, Moss and lichen.\"\n",
    "    dataset_snippet = \"Land cover data for \"+ geo_name\n",
    "    dataset_tags = [geo_name,\n",
    "                    \"Biodiversity\",\n",
    "                    \"Land cover\",\n",
    "                    \"Geography:America\",\n",
    "                    \"Geography:America:Costa_Rica\",\n",
    "                    \"Geography:America:Costa_Rica:San_Jose\",\n",
    "                    \"Time:2020\"]\n",
    "    dataset_url = \"https://cities-urbanshift.s3.eu-west-3.amazonaws.com/data/land_use/esa_world_cover/v_0/\"+boundary_id+\"-ESA-world_cover-2000.tif\"\n",
    "    \n",
    "    # create a dictionary\n",
    "    dataset_metadata_city = {\n",
    "        'title': dataset_title,\n",
    "        'city_name': dataset_city_name,\n",
    "        'description': dataset_description,\n",
    "        'snippet': dataset_snippet,\n",
    "        'tags': dataset_tags,\n",
    "        'url': dataset_url\n",
    "    }\n",
    "    \n",
    "    # append cities\n",
    "    dataset_metadata_cities.append(dataset_metadata_city)\n",
    "    "
   ]
  },
  {
   "cell_type": "code",
   "execution_count": 82,
   "id": "ae04686a-fc52-4b82-858c-ebdafc77a03d",
   "metadata": {},
   "outputs": [],
   "source": [
    "with open(metadata_file, 'w') as f:\n",
    "    json.dump(dataset_metadata_cities, f)"
   ]
  },
  {
   "cell_type": "code",
   "execution_count": 85,
   "id": "67dc3c5d-790b-4a41-871c-ddc10c0fae5c",
   "metadata": {},
   "outputs": [
    {
     "data": {
      "text/plain": [
       "'C:\\\\Users\\\\Saif.Shabou\\\\OneDrive - World Resources Institute\\\\Documents\\\\UrbanShift\\\\github\\\\cities-urbanshift\\\\geospatial-layers\\\\notebooks\\\\metadata\\\\metadata_landcover_esa.json'"
      ]
     },
     "execution_count": 85,
     "metadata": {},
     "output_type": "execute_result"
    }
   ],
   "source": [
    "metadata_file"
   ]
  },
  {
   "cell_type": "markdown",
   "id": "48f00f8a-4346-4f47-a9f5-597c7e6202d4",
   "metadata": {},
   "source": [
    "# Upload to aws s3"
   ]
  },
  {
   "cell_type": "code",
   "execution_count": 84,
   "id": "d8dbd5c1-9a03-4dd2-b7c9-bba17bc52114",
   "metadata": {},
   "outputs": [],
   "source": [
    "# connect to s3\n",
    "aws_credentials = pd.read_csv('C:\\\\Users\\\\Saif.Shabou\\\\OneDrive - World Resources Institute\\\\Documents\\\\aws\\\\credentials.csv')\n",
    "aws_key = aws_credentials.iloc[0]['Access key ID']\n",
    "aws_secret = aws_credentials.iloc[0]['Secret access key']\n",
    "\n",
    "s3 = boto3.resource(\n",
    "    service_name='s3',\n",
    "    aws_access_key_id=aws_key,\n",
    "    aws_secret_access_key=aws_secret\n",
    ")\n",
    "\n",
    "# specify bucket name\n",
    "bucket_name = 'cities-urbanshift' "
   ]
  },
  {
   "cell_type": "code",
   "execution_count": 86,
   "id": "c3f160dc-1da2-4e28-8e4b-8ee49b503a8b",
   "metadata": {},
   "outputs": [],
   "source": [
    "# upload in s3\n",
    "s3.meta.client.upload_file(metadata_file, \n",
    "                           bucket_name, \n",
    "                           'data/land_use/esa_world_cover/v_0/metadata.json',\n",
    "                           ExtraArgs={'ACL':'public-read'})"
   ]
  },
  {
   "cell_type": "code",
   "execution_count": null,
   "id": "33bf30f0-19ec-4556-8f0f-239241297494",
   "metadata": {},
   "outputs": [],
   "source": []
  }
 ],
 "metadata": {
  "kernelspec": {
   "display_name": "Python 3 (ipykernel)",
   "language": "python",
   "name": "python3"
  },
  "language_info": {
   "codemirror_mode": {
    "name": "ipython",
    "version": 3
   },
   "file_extension": ".py",
   "mimetype": "text/x-python",
   "name": "python",
   "nbconvert_exporter": "python",
   "pygments_lexer": "ipython3",
   "version": "3.10.5"
  }
 },
 "nbformat": 4,
 "nbformat_minor": 5
}
