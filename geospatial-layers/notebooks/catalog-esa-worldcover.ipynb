{
 "cells": [
  {
   "cell_type": "code",
   "execution_count": 103,
   "id": "8544d48e-bf31-4410-a0d0-1128d0a65b60",
   "metadata": {},
   "outputs": [],
   "source": [
    "import json\n",
    "import os\n",
    "import boto3\n",
    "import rasterio\n",
    "import pandas as pd"
   ]
  },
  {
   "cell_type": "markdown",
   "id": "8f700f32-f7b5-4786-b76b-e504cb65be37",
   "metadata": {},
   "source": [
    "# Create metadata output file"
   ]
  },
  {
   "cell_type": "code",
   "execution_count": 78,
   "id": "a281bbb4-57db-42a9-82e6-35ebcff72797",
   "metadata": {},
   "outputs": [],
   "source": [
    "out_dir = os.getcwd()"
   ]
  },
  {
   "cell_type": "code",
   "execution_count": 17,
   "id": "72b6573b-edbe-4f68-b49c-3a4e2354b066",
   "metadata": {},
   "outputs": [],
   "source": [
    "metadata_file = os.path.join(out_dir, 'metadata\\\\metadata_landcover_esa.json')"
   ]
  },
  {
   "cell_type": "markdown",
   "id": "6d14e573-bebb-454a-a917-711298fed0a2",
   "metadata": {},
   "source": [
    "# Load input data"
   ]
  },
  {
   "cell_type": "code",
   "execution_count": 88,
   "id": "63f97329-b681-48e5-812b-341939f91930",
   "metadata": {},
   "outputs": [
    {
     "name": "stdout",
     "output_type": "stream",
     "text": [
      "             geo_name   level aoi_boundary_name units_boundary_name           city_name  country_name country_code continent\n",
      "0         ARG-Mendoza  region         ADM3union                ADM3             Mendoza     Argentina          ARG   America\n",
      "1   ARG-Mar_del_Plata    city              ADM3                ADM4  Mar del Plata city     Argentina          ARG   America\n",
      "2         ARG-Ushuaia    city              ADM4                ADM5        Ushuaia city     Argentina          ARG   America\n",
      "3           ARG-Salta  region         ADM2union                ADM3               Salta     Argentina          ARG   America\n",
      "4    ARG-Buenos_Aires  region         ADM2union                ADM2        Buenos Aires     Argentina          ARG   America\n",
      "5        BRA-Teresina    city         ADM4union                ADM4       Teresina city        Brazil          BRA   America\n",
      "6        BRA-Teresina  region         ADM2union                ADM2     Teresina region        Brazil          BRA   America\n",
      "7   BRA-Florianopolis    city         ADM4union                ADM4       Florianopolis        Brazil          BRA   America\n",
      "8   BRA-Florianopolis  region         ADM2union                ADM2       Florianopolis        Brazil          BRA   America\n",
      "9           BRA-Belem    city         ADM4union                ADM4          Belem city        Brazil          BRA   America\n",
      "10          BRA-Belem  region         ADM2union                ADM2        Belem region        Brazil          BRA   America\n",
      "11       CRI-San_Jose  region         ADM2union                ADM2            San Jose    Costa Rica          CRI   America\n",
      "12         RWA-Kigali    city         ADM4union                ADM4              Kigali        Rwanda          RWA    Africa\n",
      "13       SLE-Freetown    city     ADM4cityunion            ADM4city       Freetown city  Sierra Leone          SLE    Africa\n",
      "14       SLE-Freetown  region   ADM4regionunion          ADM4region     Freetown region  Sierra Leone          SLE    Africa\n",
      "15      MAR-Marrakech     NaN              ADM2                ADM5           Marrakech       Morocco          MAR    Africa\n",
      "16        IND-Chennai  region         ADM4union                ADM4      Chennai region         India          IND      Asia\n",
      "17        IND-Chennai    city         ADM6union                ADM6        Chennai city         India          IND      Asia\n",
      "18           IND-Pune  region         ADM4union                ADM4               Pune          India          IND      Asia\n",
      "19          IND-Surat  region         ADM4union                ADM4               Surat         India          IND      Asia\n",
      "20        CHN-Chengdu     NaN         ADM3union                ADM3             Chengdu         China          CHN      Asia\n",
      "21      CHN-Chongqing     NaN              ADM1                ADM3           Chongqing         China          CHN      Asia\n",
      "22         CHN-Ningbo     NaN         ADM3union                ADM3              Ningbo         China          CHN      Asia\n",
      "23        IDN-Jakarta     NaN         ADM4union                ADM4             Jakarta     Indonesia          IDN      Asia\n",
      "24         IDN-Bitung     NaN              ADM2                ADM3              Bitung     Indonesia          IDN      Asia\n",
      "25       IDN-Semarang     NaN              ADM1                ADM4            Semarang     Indonesia          IDN      Asia\n",
      "26     IDN-Balikpapan     NaN         ADM4union                ADM4          Balikpapan     Indonesia          IDN      Asia\n",
      "27      IDN-Palembang     NaN              ADM2                ADM3           Palembang     Indonesia          IDN      Asia\n"
     ]
    }
   ],
   "source": [
    "# get list of urbanshift cities\n",
    "boundary_georef = pd.read_csv('https://cities-urbanshift.s3.eu-west-3.amazonaws.com/data/boundaries/v_0/boundary_georef.csv') \n",
    "boundary_georef = boundary_georef.dropna(subset=['units_boundary_name']).reset_index(drop=True)\n",
    "print(boundary_georef.to_string())"
   ]
  },
  {
   "cell_type": "markdown",
   "id": "03469951-5145-43de-88a2-55e0ebc9c419",
   "metadata": {},
   "source": [
    "# Create metadata file"
   ]
  },
  {
   "cell_type": "code",
   "execution_count": 141,
   "id": "175205eb-9757-48e5-8945-7fe76e1a451f",
   "metadata": {},
   "outputs": [],
   "source": [
    "dataset_metadata_cities = []"
   ]
  },
  {
   "cell_type": "code",
   "execution_count": 142,
   "id": "08a4a333-0734-48f6-9dec-19ae71b60525",
   "metadata": {},
   "outputs": [
    {
     "name": "stdout",
     "output_type": "stream",
     "text": [
      "ARG-Mendoza-ADM3union\n",
      "ARG-Mar_del_Plata-ADM3\n",
      "ARG-Ushuaia-ADM4\n",
      "ARG-Salta-ADM2union\n",
      "ARG-Buenos_Aires-ADM2union\n",
      "BRA-Teresina-ADM4union\n",
      "BRA-Teresina-ADM2union\n",
      "BRA-Florianopolis-ADM4union\n",
      "BRA-Florianopolis-ADM2union\n",
      "BRA-Belem-ADM4union\n",
      "BRA-Belem-ADM2union\n",
      "CRI-San_Jose-ADM2union\n",
      "RWA-Kigali-ADM4union\n",
      "SLE-Freetown-ADM4cityunion\n",
      "SLE-Freetown-ADM4regionunion\n",
      "MAR-Marrakech-ADM2\n",
      "IND-Chennai-ADM4union\n",
      "IND-Chennai-ADM6union\n",
      "IND-Pune-ADM4union\n",
      "IND-Surat-ADM4union\n",
      "CHN-Chengdu-ADM3union\n",
      "CHN-Chongqing-ADM1\n",
      "CHN-Ningbo-ADM3union\n",
      "IDN-Jakarta-ADM4union\n",
      "IDN-Bitung-ADM2\n",
      "IDN-Semarang-ADM1\n",
      "IDN-Balikpapan-ADM4union\n",
      "IDN-Palembang-ADM2\n"
     ]
    }
   ],
   "source": [
    "for i in range(0, len(boundary_georef)):\n",
    "    \n",
    "    boundary_id = boundary_georef.loc[i, 'geo_name']+'-'+boundary_georef.loc[i, 'aoi_boundary_name']\n",
    "    geo_name = boundary_georef.loc[i, 'geo_name']\n",
    "    city_name = boundary_georef.loc[i, 'city_name']\n",
    "    country_name = boundary_georef.loc[i, 'country_name']\n",
    "    continent_name = boundary_georef.loc[i, 'continent']\n",
    "\n",
    "    print(boundary_id)\n",
    "    \n",
    "    # read dataset\n",
    "    dataset = rasterio.open('https://cities-urbanshift.s3.eu-west-3.amazonaws.com/data/land_use/esa_world_cover/v_0/'+boundary_id+'-ESA-world_cover-2000.tif')\n",
    "\n",
    "    # fill metadata fields\n",
    "    dataset_title = \"ESA WorldCover land cover extract for \" + city_name\n",
    "    dataset_year = '2020'\n",
    "    dataset_city_name = city_name\n",
    "    dataset_country_name = country_name\n",
    "    dataset_description = \"The European Space Agency (ESA) WorldCover 10m 2020 product provides a global land cover map for 2020 at 10-meter resolution based on Sentinel-1 and Sentinel-2 data. The WorldCover product comes with 11 land cover classes, aligned with UN-FAO’s Land Cover Classification System, and has been generated in the framework of the ESA WorldCover project. The World Cover product comes with 11 land cover classes: Tree cover, Shrubland, Grassland, Cropland, Built-up, Bare / sparse vegetation, Snow and ice, Open water, Herbaceous wetland, Mangroves, Moss and lichen.\"\n",
    "    dataset_snippet = \"Land cover data for \"+ city_name + ', ' + country_name + ' ('+ dataset_year + ')' \n",
    "    dataset_tags = [geo_name,\n",
    "                    \"Biodiversity\",\n",
    "                    \"Land cover\",\n",
    "                    \"Geography: \" + continent_name,\n",
    "                    \"Geography: \" + continent_name + \": \" + country_name,\n",
    "                    \"Geography: \" + continent_name + \": \" + country_name + \": \"+ city_name,\n",
    "                    \"Time: \"+ dataset_year]\n",
    "    dataset_spatial_resolution = '10m'\n",
    "    dataset_temporal_resolution = 'yearly'\n",
    "    dataset_spatial_extent = 'Global'\n",
    "    dataset_temporal_extent = '2020'\n",
    "    dataset_extent = [[dataset.bounds[0],dataset.bounds[1]],[dataset.bounds[2],dataset.bounds[3]]]\n",
    "    dataset_format = 'raster'\n",
    "    dataset_data_source = 'ESA WorldCover'\n",
    "    dataset_source_url = 'https://esa-worldcover.org/en'\n",
    "    dataset_provider = 'European Space Agency (ESA)'\n",
    "    dataset_url = \"https://cities-urbanshift.s3.eu-west-3.amazonaws.com/data/land_use/esa_world_cover/v_0/\"+boundary_id+\"-ESA-world_cover-2000.tif\"\n",
    "    dataset_status = 'published'\n",
    "    dataset_license = 'CC BY 4.0'\n",
    "    dataset_crs = 'ESPG:4326'\n",
    "    dataset_legend = [\n",
    "        {\n",
    "            \"value\": 10,\n",
    "            \"color\": \"006400\",\n",
    "            \"class\": \"Trees\"\n",
    "        },\n",
    "        {\n",
    "            \"value\": 20,\n",
    "            \"color\": \"ffbb22\",\n",
    "            \"class\": \"Shrubland\"\n",
    "        },\n",
    "        {\n",
    "            \"value\": 30,\n",
    "            \"color\": \"ffff4c\",\n",
    "            \"class\": \"Grassland\"\n",
    "        },\n",
    "        {\n",
    "            \"value\": 40,\n",
    "            \"color\": \"f096ff\",\n",
    "            \"class\": \"Cropland\"\n",
    "        },\n",
    "        {\n",
    "            \"value\": 50,\n",
    "            \"color\": \"fa0000\",\n",
    "            \"class\": \"Built-up\"\n",
    "        },\n",
    "        {\n",
    "            \"value\": 60,\n",
    "            \"color\": \"b4b4b4\",\n",
    "            \"class\": \"Barren / sparse vegetation\"\n",
    "        },\n",
    "        {\n",
    "            \"value\": 70,\n",
    "            \"color\": \"f0f0f0\",\n",
    "            \"class\": \"Snow and ice\"\n",
    "        },\n",
    "        {\n",
    "            \"value\": 80,\n",
    "            \"color\": \"0064c8\",\n",
    "            \"class\": \"Open water\"\n",
    "        },\n",
    "        {\n",
    "            \"value\": 90,\n",
    "            \"color\": \"0096a0\",\n",
    "            \"class\": \"Herbaceous wetland\"\n",
    "        },\n",
    "        {\n",
    "            \"value\": 95,\n",
    "            \"color\": \"00cf75\",\n",
    "            \"class\": \"Mangroves\"\n",
    "        },\n",
    "        {\n",
    "            \"value\": 100,\n",
    "            \"color\": \"fae6a0\",\n",
    "            \"class\": \"Moss and lichen\"\n",
    "        }\n",
    "    ]\n",
    "    \n",
    "    # create a dictionary\n",
    "    dataset_metadata_city = {\n",
    "        'title': dataset_title,\n",
    "        'city_name': dataset_city_name,\n",
    "        'country': dataset_country_name,\n",
    "        'city_id': geo_name,\n",
    "        'description': dataset_description,\n",
    "        'snippet': dataset_snippet,\n",
    "        'tags': dataset_tags,\n",
    "        'year': dataset_year,\n",
    "        'spatial resolution': dataset_spatial_resolution,\n",
    "        'temporal resolution': dataset_temporal_resolution,\n",
    "        'spatial extent': dataset_spatial_extent,\n",
    "        'temporal extent': dataset_temporal_extent,\n",
    "        'extent': dataset_extent,\n",
    "        'format': dataset_format,\n",
    "        'data_source': dataset_data_source,\n",
    "        'source_url': dataset_source_url, \n",
    "        'provider': dataset_provider,\n",
    "        'url': dataset_url,\n",
    "        'status': dataset_status,\n",
    "        'license': dataset_license,\n",
    "        'crs': dataset_crs,\n",
    "        'legend': dataset_legend,\n",
    "    }\n",
    "    \n",
    "    # append cities\n",
    "    dataset_metadata_cities.append(dataset_metadata_city)\n",
    "    "
   ]
  },
  {
   "cell_type": "code",
   "execution_count": 143,
   "id": "ae04686a-fc52-4b82-858c-ebdafc77a03d",
   "metadata": {},
   "outputs": [],
   "source": [
    "with open(metadata_file, 'w') as f:\n",
    "    json.dump(dataset_metadata_cities, f)"
   ]
  },
  {
   "cell_type": "markdown",
   "id": "48f00f8a-4346-4f47-a9f5-597c7e6202d4",
   "metadata": {},
   "source": [
    "# Upload to aws s3"
   ]
  },
  {
   "cell_type": "code",
   "execution_count": 144,
   "id": "d8dbd5c1-9a03-4dd2-b7c9-bba17bc52114",
   "metadata": {},
   "outputs": [],
   "source": [
    "# connect to s3\n",
    "aws_credentials = pd.read_csv('C:\\\\Users\\\\Saif.Shabou\\\\OneDrive - World Resources Institute\\\\Documents\\\\aws\\\\credentials.csv')\n",
    "aws_key = aws_credentials.iloc[0]['Access key ID']\n",
    "aws_secret = aws_credentials.iloc[0]['Secret access key']\n",
    "\n",
    "s3 = boto3.resource(\n",
    "    service_name='s3',\n",
    "    aws_access_key_id=aws_key,\n",
    "    aws_secret_access_key=aws_secret\n",
    ")\n",
    "\n",
    "# specify bucket name\n",
    "bucket_name = 'cities-urbanshift' "
   ]
  },
  {
   "cell_type": "code",
   "execution_count": 145,
   "id": "c3f160dc-1da2-4e28-8e4b-8ee49b503a8b",
   "metadata": {},
   "outputs": [],
   "source": [
    "# upload in s3\n",
    "s3.meta.client.upload_file(metadata_file, \n",
    "                           bucket_name, \n",
    "                           'data/land_use/esa_world_cover/v_0/metadata.json',\n",
    "                           ExtraArgs={'ACL':'public-read'})"
   ]
  }
 ],
 "metadata": {
  "kernelspec": {
   "display_name": "Python 3 (ipykernel)",
   "language": "python",
   "name": "python3"
  },
  "language_info": {
   "codemirror_mode": {
    "name": "ipython",
    "version": 3
   },
   "file_extension": ".py",
   "mimetype": "text/x-python",
   "name": "python",
   "nbconvert_exporter": "python",
   "pygments_lexer": "ipython3",
   "version": "3.10.5"
  }
 },
 "nbformat": 4,
 "nbformat_minor": 5
}
