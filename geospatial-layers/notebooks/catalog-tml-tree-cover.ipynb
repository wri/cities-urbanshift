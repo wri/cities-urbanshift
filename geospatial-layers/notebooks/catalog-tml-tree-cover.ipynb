{
 "cells": [
  {
   "cell_type": "code",
   "execution_count": 6,
   "id": "6f30fdc3-4ae6-48d1-bc54-79b0fc0ec0f5",
   "metadata": {},
   "outputs": [],
   "source": [
    "import json\n",
    "import os\n",
    "import boto3\n",
    "import rasterio\n",
    "import pandas as pd"
   ]
  },
  {
   "cell_type": "markdown",
   "id": "1aa94f3b-05ea-4f5b-9a13-4ba5a6a7013b",
   "metadata": {},
   "source": [
    "# Create metadata output file"
   ]
  },
  {
   "cell_type": "code",
   "execution_count": 4,
   "id": "eb0b99f6-eb4c-4d45-ba6e-296501c3eda6",
   "metadata": {},
   "outputs": [],
   "source": [
    "out_dir = os.getcwd()\n",
    "metadata_file = os.path.join(out_dir, 'metadata\\\\metadata_treecover_tml.json')"
   ]
  },
  {
   "cell_type": "markdown",
   "id": "f3fbd921-2ccf-4bf7-8c5a-83c2ee733bd6",
   "metadata": {},
   "source": [
    "# Load input data"
   ]
  },
  {
   "cell_type": "code",
   "execution_count": 7,
   "id": "ca39f30d-a16c-48b7-9231-000317bd9e0b",
   "metadata": {},
   "outputs": [
    {
     "name": "stdout",
     "output_type": "stream",
     "text": [
      "             geo_name   level aoi_boundary_name units_boundary_name           city_name  country_name country_code continent\n",
      "0         ARG-Mendoza  region         ADM3union                ADM3             Mendoza     Argentina          ARG   America\n",
      "1   ARG-Mar_del_Plata    city              ADM3                ADM4  Mar del Plata city     Argentina          ARG   America\n",
      "2         ARG-Ushuaia    city              ADM4                ADM5        Ushuaia city     Argentina          ARG   America\n",
      "3           ARG-Salta  region         ADM2union                ADM3               Salta     Argentina          ARG   America\n",
      "4    ARG-Buenos_Aires  region         ADM2union                ADM2        Buenos Aires     Argentina          ARG   America\n",
      "5        BRA-Teresina    city         ADM4union                ADM4       Teresina city        Brazil          BRA   America\n",
      "6        BRA-Teresina  region         ADM2union                ADM2     Teresina region        Brazil          BRA   America\n",
      "7   BRA-Florianopolis    city         ADM4union                ADM4       Florianopolis        Brazil          BRA   America\n",
      "8   BRA-Florianopolis  region         ADM2union                ADM2       Florianopolis        Brazil          BRA   America\n",
      "9           BRA-Belem    city         ADM4union                ADM4          Belem city        Brazil          BRA   America\n",
      "10          BRA-Belem  region         ADM2union                ADM2        Belem region        Brazil          BRA   America\n",
      "11       CRI-San_Jose  region         ADM2union                ADM2            San Jose    Costa Rica          CRI   America\n",
      "12         RWA-Kigali    city         ADM4union                ADM4              Kigali        Rwanda          RWA    Africa\n",
      "13       SLE-Freetown    city     ADM4cityunion            ADM4city       Freetown city  Sierra Leone          SLE    Africa\n",
      "14       SLE-Freetown  region   ADM4regionunion          ADM4region     Freetown region  Sierra Leone          SLE    Africa\n",
      "15      MAR-Marrakech     NaN              ADM2                ADM5           Marrakech       Morocco          MAR    Africa\n",
      "16        IND-Chennai  region         ADM4union                ADM4      Chennai region         India          IND      Asia\n",
      "17        IND-Chennai    city         ADM6union                ADM6        Chennai city         India          IND      Asia\n",
      "18           IND-Pune  region         ADM4union                ADM4               Pune          India          IND      Asia\n",
      "19          IND-Surat  region         ADM4union                ADM4               Surat         India          IND      Asia\n",
      "20        CHN-Chengdu     NaN         ADM3union                ADM3             Chengdu         China          CHN      Asia\n",
      "21      CHN-Chongqing     NaN              ADM1                ADM3           Chongqing         China          CHN      Asia\n",
      "22         CHN-Ningbo     NaN         ADM3union                ADM3              Ningbo         China          CHN      Asia\n",
      "23        IDN-Jakarta     NaN         ADM4union                ADM4             Jakarta     Indonesia          IDN      Asia\n",
      "24         IDN-Bitung     NaN              ADM2                ADM3              Bitung     Indonesia          IDN      Asia\n",
      "25       IDN-Semarang     NaN              ADM1                ADM4            Semarang     Indonesia          IDN      Asia\n",
      "26     IDN-Balikpapan     NaN         ADM4union                ADM4          Balikpapan     Indonesia          IDN      Asia\n",
      "27      IDN-Palembang     NaN              ADM2                ADM3           Palembang     Indonesia          IDN      Asia\n"
     ]
    }
   ],
   "source": [
    "# get list of urbanshift cities\n",
    "boundary_georef = pd.read_csv('https://cities-urbanshift.s3.eu-west-3.amazonaws.com/data/boundaries/v_0/boundary_georef.csv') \n",
    "boundary_georef = boundary_georef.dropna(subset=['units_boundary_name']).reset_index(drop=True)\n",
    "print(boundary_georef.to_string())"
   ]
  },
  {
   "cell_type": "code",
   "execution_count": null,
   "id": "b339179d-cfd0-427e-8e97-d499e401f973",
   "metadata": {},
   "outputs": [],
   "source": [
    "boundary_id = boundary_georef.loc[i, 'geo_name']+'-'+boundary_georef.loc[i, 'aoi_boundary_name']\n",
    "geo_name = boundary_georef.loc[i, 'geo_name']\n",
    "city_name = boundary_georef.loc[i, 'city_name']\n",
    "country_name = boundary_georef.loc[i, 'country_name']\n",
    "continent_name = boundary_georef.loc[i, 'continent']\n",
    "\n",
    "print(boundary_id)\n",
    "\n",
    "# read dataset\n",
    "#dataset = rasterio.open('https://cities-urbanshift.s3.eu-west-3.amazonaws.com/data/land_use/esa_world_cover/v_0/'+boundary_id+'-ESA-world_cover-2000.tif')\n",
    "\n",
    "# fill metadata fields\n",
    "dataset_title = \"Trees in Mosaic Landscapes extract for \" + city_name\n",
    "dataset_year = '2020'\n",
    "dataset_city_name = city_name\n",
    "dataset_country_name = country_name\n",
    "dataset_description = \"The Trees in Mosaic Landscapes dataset provides tree extent data at 10m scale based on trained Convolutional Neural Network using satellite imagery (Sentinel-1 and Sentinel-2). It enables accurate reporting of tree cover outside of dense, closed-canopy forests, including in urban areas.\"\n",
    "dataset_snippet = \"Tree cover data for \"+ city_name + ', ' + country_name + ' ('+ dataset_year + ')' \n",
    "dataset_tags = [geo_name,\n",
    "                \"Greenspace\",\n",
    "                \"Biodiversity\",\n",
    "                \"Tree cover\",\n",
    "                \"Geography: \" + continent_name,\n",
    "                \"Geography: \" + continent_name + \": \" + country_name,\n",
    "                \"Geography: \" + continent_name + \": \" + country_name + \": \"+ city_name,\n",
    "                \"Time: \"+ dataset_year]\n",
    "dataset_spatial_resolution = '10m'\n",
    "dataset_temporal_resolution = 'yearly'\n",
    "dataset_spatial_extent = 'Global'\n",
    "dataset_temporal_extent = '2020'\n",
    "dataset_extent = [[dataset.bounds[0],dataset.bounds[1]],[dataset.bounds[2],dataset.bounds[3]]]\n",
    "dataset_format = 'raster'\n",
    "dataset_data_source = 'Trees in Mosaic Landscapes'\n",
    "dataset_source_url = 'https://www.landcarbonlab.org/data/#trees-in-mosaic-landscapes'\n",
    "dataset_provider = 'World Resources Institute (WRI)'\n",
    "dataset_url = \"https://cities-urbanshift.s3.eu-west-3.amazonaws.com/data/land_use/esa_world_cover/v_0/\"+boundary_id+\"-ESA-world_cover-2000.tif\"\n",
    "dataset_status = 'published'\n",
    "dataset_license = 'CC BY 4.0'\n",
    "dataset_crs = 'ESPG:4326'"
   ]
  }
 ],
 "metadata": {
  "kernelspec": {
   "display_name": "Python 3 (ipykernel)",
   "language": "python",
   "name": "python3"
  },
  "language_info": {
   "codemirror_mode": {
    "name": "ipython",
    "version": 3
   },
   "file_extension": ".py",
   "mimetype": "text/x-python",
   "name": "python",
   "nbconvert_exporter": "python",
   "pygments_lexer": "ipython3",
   "version": "3.10.5"
  }
 },
 "nbformat": 4,
 "nbformat_minor": 5
}
