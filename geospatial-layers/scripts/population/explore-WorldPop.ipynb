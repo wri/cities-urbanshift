{
 "cells": [
  {
   "cell_type": "code",
   "execution_count": 1,
   "id": "2ff8be65",
   "metadata": {},
   "outputs": [],
   "source": [
    "import geemap\n",
    "import ee \n",
    "import os"
   ]
  },
  {
   "cell_type": "markdown",
   "id": "8977e427",
   "metadata": {},
   "source": [
    "# get map"
   ]
  },
  {
   "cell_type": "code",
   "execution_count": 2,
   "id": "8be74a8a",
   "metadata": {},
   "outputs": [
    {
     "data": {
      "application/vnd.jupyter.widget-view+json": {
       "model_id": "f4d0fd98611b415abcd2d2397e26c8fd",
       "version_major": 2,
       "version_minor": 0
      },
      "text/plain": [
       "Map(center=[40, -100], controls=(WidgetControl(options=['position', 'transparent_bg'], widget=HBox(children=(T…"
      ]
     },
     "metadata": {},
     "output_type": "display_data"
    }
   ],
   "source": [
    "Map = geemap.Map()\n",
    "Map"
   ]
  },
  {
   "cell_type": "markdown",
   "id": "5ecb42f5",
   "metadata": {},
   "source": [
    "# Get population data"
   ]
  },
  {
   "cell_type": "code",
   "execution_count": 3,
   "id": "123c38d9",
   "metadata": {},
   "outputs": [],
   "source": [
    "pop = ee.ImageCollection(\"WorldPop/GP/100m/pop\")\n",
    "\n",
    "popviz = {\n",
    "  'bands': ['population'],\n",
    "  'min': 0.0,\n",
    "  'max': 100.0,\n",
    "  'palette': ['24126c', '1fff4f', 'd4ff50']\n",
    "}\n",
    "\n",
    "Map.addLayer(pop, popviz, 'Population')"
   ]
  },
  {
   "cell_type": "code",
   "execution_count": 5,
   "id": "9a4eff0d",
   "metadata": {},
   "outputs": [
    {
     "name": "stdout",
     "output_type": "stream",
     "text": [
      "Count:  5221\n"
     ]
    }
   ],
   "source": [
    "# Get the number of images.\n",
    "count = pop.size()\n",
    "print('Count: ', count.getInfo())"
   ]
  },
  {
   "cell_type": "code",
   "execution_count": 6,
   "id": "670ee2f4",
   "metadata": {},
   "outputs": [
    {
     "name": "stdout",
     "output_type": "stream",
     "text": [
      "Date range:  {'type': 'Date', 'value': 946684800000} {'type': 'Date', 'value': 1577836800000}\n"
     ]
    }
   ],
   "source": [
    "# Get the date range of images in the collection.\n",
    "range = pop.reduceColumns(ee.Reducer.minMax(), [\"system:time_start\"])\n",
    "print('Date range: ', ee.Date(range.get('min')).getInfo(), ee.Date(range.get('max')).getInfo())"
   ]
  },
  {
   "cell_type": "code",
   "execution_count": 7,
   "id": "05e72c7d",
   "metadata": {},
   "outputs": [
    {
     "name": "stdout",
     "output_type": "stream",
     "text": [
      "Recent images:  {'type': 'ImageCollection', 'bands': [], 'id': 'WorldPop/GP/100m/pop', 'version': 1624974052648223, 'properties': {'date_range': [946684800000, 1609459200000], 'period': 0, 'system:visualization_0_min': '0.0', 'type_name': 'ImageCollection', 'system:visualization_0_bands': 'population', 'thumb': 'https://mw1.google.com/ges/dd/images/WorldPop_GP_100m_pop_thumb.png', 'description': '<p>Global high-resolution, contemporary data on human population distributions are\\na prerequisite for the accurate measurement of the impacts of population\\ngrowth, for monitoring changes, and for planning interventions. The WorldPop\\nproject aims to meet these needs through the provision of detailed and open\\naccess population distribution datasets built using transparent and\\npeer-reviewed approaches.</p><p>Full details on the methods and datasets used in constructing the\\ndata, along with open access publications, are provided on the\\n<a href=\"https://www.worldpop.org.uk\">WorldPop website</a>. In brief, recent census-based\\npopulation counts matched to their associated administrative units are\\ndisaggregated to ~100x100m grid cells through machine learning approaches\\nthat exploit the relationships between population densities and a range of\\ngeospatial covariate layers. The mapping approach\\nis Random Forest-based dasymetric redistribution.</p><p>This dataset depict estimated number of people\\nresiding in each grid cell in 2010, 2015, and other years.</p><p>For 2020, the breakdown of population by age and sex is available in\\nthe <a href=\"WorldPop_GP_100m_pop_age_sex\">WorldPop/GP/100m/pop_age_sex</a>\\nand <a href=\"WorldPop_GP_100m_pop_age_sex_cons_unadj\">WorldPop/GP/100m/pop_age_sex_cons_unadj</a>\\ncollections.</p><p><b>Resolution</b><br>3 arc seconds\\n</p><p><b>Bands</b><table class=\"eecat\"><tr><th scope=\"col\">Name</th><th scope=\"col\">Description</th></tr><tr><td>population</td><td><p>Estimated number of people residing in each grid cell</p></td></tr></table><p><b>Image Properties</b><table class=\"eecat\"><tr><th scope=\"col\">Name</th><th scope=\"col\">Type</th><th scope=\"col\">Description</th></tr><tr><td>country</td><td>STRING</td><td><p>Country</p></td></tr><tr><td>year</td><td>DOUBLE</td><td><p>Year</p></td></tr></table><p><sup>Further WorldPop gridded datasets on population age structures, poverty, urban growth, and population dynamics are freely available on the WorldPop website. WorldPop represents a collaboration between researchers at the University of Southampton, Universite Libre de Bruxelles, and University of Louisville. The project is principally funded by the Bill and Melinda Gates Foundation.</sup><p><b>Terms of Use</b><br><p>WorldPop datasets are licensed under the Creative Commons Attribution 4.0\\nInternational License. Users are free to use, copy, distribute, transmit,\\nand adapt the work for commercial and non-commercial purposes, without\\nrestriction, as long as clear attribution of the source is provided.</p><p><b>Suggested citation(s)</b><ul><li><p>Please cite the WorldPop website as the source: <a href=\"https://www.worldpop.org\">www.worldpop.org</a>.</p></li><li><p>Americas population data: Alessandro Sorichetta, Graeme M. Hornby, Forrest R. Stevens, Andrea E. Gaughan, Catherine Linard, Andrew J. Tatem, 2015, High-resolution gridded population datasets for Latin America and the Caribbean in 2010, 2015, and 2020, Scientific Data, <a href=\"https://doi.org/10.1038/sdata.2015.45\">doi:10.1038/sdata.2015.45</a></p></li><li><p>Africa population count data: Linard, C., Gilbert, M., Snow, R.W., Noor, A.M. and Tatem, A.J., 2012, Population distribution, settlement patterns and accessibility across Africa in 2010, PLoS ONE, 7(2): e31743.</p></li><li><p>Asia population count data: Gaughan AE, Stevens FR, Linard C, Jia P and Tatem AJ, 2013, High resolution population distribution maps for Southeast Asia in 2010 and 2015, PLoS ONE, 8(2): e55882.</p></li></ul><style>\\n  table.eecat {\\n  border: 1px solid black;\\n  border-collapse: collapse;\\n  font-size: 13px;\\n  }\\n  table.eecat td, tr, th {\\n  text-align: left; vertical-align: top;\\n  border: 1px solid gray; padding: 3px;\\n  }\\n  td.nobreak { white-space: nowrap; }\\n</style>', 'source_tags': ['worldpop'], 'visualization_0_max': '50.0', 'provider_url': 'https://www.worldpop.org', 'title': 'WorldPop Global Project Population Data: Estimated Residential Population per 100x100m Grid Square', 'sample': 'https://mw1.google.com/ges/dd/images/WorldPop_GP_100m_pop_sample.png', 'tags': ['worldpop', 'population', 'demography'], 'system:visualization_0_max': '50.0', 'product_tags': ['population', 'demography'], 'visualization_0_palette': '24126c,1fff4f,d4ff50', 'provider': 'WorldPop', 'visualization_0_min': '0.0', 'system:visualization_0_palette': '24126c,1fff4f,d4ff50', 'system:visualization_0_name': 'Population', 'visualization_0_name': 'Population', 'visualization_0_bands': 'population'}, 'features': [{'type': 'Image', 'bands': [{'id': 'population', 'data_type': {'type': 'PixelType', 'precision': 'float'}, 'dimensions': [238, 255], 'crs': 'EPSG:4326', 'crs_transform': [0.0008333333319328062, 0, -70.063749705, 0, -0.0008333333294117658, 12.624583484]}], 'version': 1565318305004374, 'id': 'WorldPop/GP/100m/pop/ABW_2020', 'properties': {'system:time_start': 1577836800000, 'country': 'ABW', 'year': 2020, 'system:footprint': {'type': 'LinearRing', 'coordinates': [[-69.86498498783737, 12.412395498665477], [-69.86497826242554, 12.412500167578521], [-69.864977535354, 12.62416679184153], [-69.86532516635901, 12.624551403208795], [-69.86562053898062, 12.624975422012351], [-69.86576122719113, 12.625001587002544], [-70.0633333654209, 12.625001620363104], [-70.06372732592082, 12.624662300171128], [-70.06416180883592, 12.624373901941755], [-70.064188521076, 12.624236606497416], [-70.06418779421233, 12.412500128261646], [-70.0638403532899, 12.412115431066274], [-70.06354479213007, 12.411691404276327], [-70.06343985107755, 12.411671927942354], [-70.06333272941438, 12.411665353315854], [-69.8658333889632, 12.411665368528759], [-69.8654393165307, 12.412004564607956], [-69.86500498230461, 12.412293098378496], [-69.86498498783737, 12.412395498665477]]}, 'system:time_end': 1609459200000, 'system:asset_size': 61732, 'system:index': 'ABW_2020'}}, {'type': 'Image', 'bands': [{'id': 'population', 'data_type': {'type': 'PixelType', 'precision': 'float'}, 'dimensions': [17267, 10955], 'crs': 'EPSG:4326', 'crs_transform': [0.0008333333299936294, 0, 60.504583106, 0, -0.0008333333299863073, 38.490416714]}], 'version': 1565628204586520.0, 'id': 'WorldPop/GP/100m/pop/AFG_2020', 'properties': {'system:time_start': 1577836800000, 'country': 'AFG', 'year': 2020, 'system:footprint': {'type': 'LinearRing', 'coordinates': [[70.84661432760917, 38.490834879249576], [69.04807263538466, 38.49083483486074], [66.7998955977528, 38.490834812681435], [64.32690083349449, 38.4908348338629], [62.528359170899144, 38.490834880148334], [60.503933197571264, 38.4908337866605], [60.504041986586465, 29.359319248349017], [62.30354146666827, 29.356308279634934], [64.10208305980083, 29.359324065606515], [65.67580708161157, 29.358004674185675], [67.69916645221053, 29.35630835298056], [69.94734346118544, 29.3563082980381], [71.97070286651596, 29.35800471193092], [73.76924454675898, 29.35800467239522], [74.89429087947998, 29.360830366802137], [74.89439963088297, 38.490833797888435], [72.86997363985422, 38.49083483710676], [70.84661432760917, 38.490834879249576]]}, 'system:time_end': 1609459200000, 'system:asset_size': 406374227, 'system:index': 'AFG_2020'}}, {'type': 'Image', 'bands': [{'id': 'population', 'data_type': {'type': 'PixelType', 'precision': 'float'}, 'dimensions': [14897, 16403], 'crs': 'EPSG:4326', 'crs_transform': [0.0008333333299993288, 0, 11.667916635, 0, -0.0008333333300006096, -4.372916448]}], 'version': 1565316706247571, 'id': 'WorldPop/GP/100m/pop/AGO_2020', 'properties': {'system:time_start': 1577836800000, 'country': 'AGO', 'year': 2020, 'system:footprint': {'type': 'LinearRing', 'coordinates': [[12.44416662856267, -4.372498326239137], [11.66749606830262, -4.372497923771122], [11.667455340679602, -18.042500349095626], [12.832083316803532, -18.042501153267356], [14.383749969995511, -18.042501224328063], [16.32333327928874, -18.04250121213377], [17.874999926217995, -18.042501163566463], [19.42666659012871, -18.042501164183307], [20.97833327738197, -18.042501167157376], [22.917916605455442, -18.04250118857301], [24.082544586987826, -18.04250031294819], [24.082503849106175, -4.371698404391368], [22.142083225596615, -4.372198825775762], [20.59041660970906, -4.372198813875831], [19.038749974864274, -4.372198877874341], [17.874999926217995, -4.3724983300216085], [16.7112499213775, -4.372198834977381], [15.15958327082715, -4.372198831333311], [13.607916657917619, -4.372198819360451], [12.44416662856267, -4.372498326239137]]}, 'system:time_end': 1609459200000, 'system:asset_size': 675859737, 'system:index': 'AGO_2020'}}, {'type': 'Image', 'bands': [{'id': 'population', 'data_type': {'type': 'PixelType', 'precision': 'float'}, 'dimensions': [608, 531], 'crs': 'EPSG:4326', 'crs_transform': [0.0008333333305921009, 0, -63.430416398, 0, -0.0008333333295668595, 18.596250127]}], 'version': 1565316770306432, 'id': 'WorldPop/GP/100m/pop/AIA_2020', 'properties': {'system:time_start': 1577836800000, 'country': 'AIA', 'year': 2020, 'system:footprint': {'type': 'LinearRing', 'coordinates': [[-63.4301095567815, 18.153338577948777], [-63.42999850452944, 18.153332043530792], [-62.924167567409384, 18.153332015131237], [-62.923762008792814, 18.153671038893684], [-62.923315329585115, 18.153959771536993], [-62.92329494846628, 18.15406133059203], [-62.92328785547824, 18.15416680949908], [-62.92328561086184, 18.595833420024736], [-62.92364322345453, 18.596217765535837], [-62.923946696335676, 18.596641876699135], [-62.92409196842197, 18.59666814657174], [-63.43000093435935, 18.59666824188409], [-63.43040599636314, 18.596328740428543], [-63.430852996300096, 18.596040527104904], [-63.43088053447656, 18.59590282845151], [-63.430878284625415, 18.154166758325932], [-63.4305209185507, 18.153781808851637], [-63.43021646937324, 18.153357820800352], [-63.4301095567815, 18.153338577948777]]}, 'system:time_end': 1609459200000, 'system:asset_size': 59001, 'system:index': 'AIA_2020'}}, {'type': 'Image', 'bands': [{'id': 'population', 'data_type': {'type': 'PixelType', 'precision': 'float'}, 'dimensions': [2414, 1091], 'crs': 'EPSG:4326', 'crs_transform': [0.0008333333301574149, 0, 19.317083271, 0, -0.0008333333299725028, 60.657083292]}], 'version': 1565307633481620.0, 'id': 'WorldPop/GP/100m/pop/ALA_2020', 'properties': {'system:time_start': 1577836800000, 'country': 'ALA', 'year': 2020, 'system:footprint': {'type': 'LinearRing', 'coordinates': [[20.071562399782405, 60.65750139920708], [19.820208218089228, 60.657501404322055], [19.568854183041623, 60.6575014434276], [19.315796307657465, 60.65749977910111], [19.315842929690696, 59.747496900580316], [19.56885406973016, 59.74749849156484], [19.820208272366113, 59.74749854543017], [20.07156245761766, 59.74749851211648], [20.322916634537986, 59.74749850413648], [20.574270705634724, 59.7474984675679], [20.825624885463615, 59.74749848170478], [21.076979133026914, 59.74749848263529], [21.329990230638597, 59.74749690242983], [21.330036754001437, 60.6574998153104], [21.07697908115268, 60.657501394846726], [20.82562497158985, 60.65750139376123], [20.574270793220485, 60.657501405114715], [20.322916564527745, 60.65750139293595], [20.071562399782405, 60.65750139920708]]}, 'system:time_end': 1609459200000, 'system:asset_size': 1353663, 'system:index': 'ALA_2020'}}, {'type': 'Image', 'bands': [{'id': 'population', 'data_type': {'type': 'PixelType', 'precision': 'float'}, 'dimensions': [2144, 3612], 'crs': 'EPSG:4326', 'crs_transform': [0.0008333333302238797, 0, 19.262916605, 0, -0.0008333333300110753, 42.660416697]}], 'version': 1565307730744155, 'id': 'WorldPop/GP/100m/pop/ALB_2020', 'properties': {'system:time_start': 1577836800000, 'country': 'ALB', 'year': 2020, 'system:footprint': {'type': 'LinearRing', 'coordinates': [[21.049165277747452, 39.64999861102826], [21.05025080970035, 39.650644042037534], [21.050301748033842, 42.660833737082235], [20.825937435544557, 42.66083481513231], [20.602708284732692, 42.66083484509274], [20.37947907226698, 42.660834831435935], [20.156249892817875, 42.660834850504486], [19.93302078270258, 42.660834802443844], [19.70979163152137, 42.660834785345266], [19.486562457230107, 42.660834830616494], [19.26219808685165, 42.66083371214049], [19.262249085967973, 39.64999755715643], [19.486562457230107, 39.649998568114555], [19.70979163152137, 39.64999856178195], [19.93302078270258, 39.64999857942347], [20.156249892817872, 39.64999859884396], [20.37947907226698, 39.649998607257885], [20.602708284732692, 39.64999857454724], [20.825937435544557, 39.649998588872826], [21.049165277747452, 39.64999861102826]]}, 'system:time_end': 1609459200000, 'system:asset_size': 20970560, 'system:index': 'ALB_2020'}}, {'type': 'Image', 'bands': [{'id': 'population', 'data_type': {'type': 'PixelType', 'precision': 'float'}, 'dimensions': [444, 268], 'crs': 'EPSG:4326', 'crs_transform': [0.0008333333310810812, 0, 1.413750009, 0, -0.000833333328358193, 42.652083364]}], 'version': 1565307794560637, 'id': 'WorldPop/GP/100m/pop/AND_2020', 'properties': {'system:time_start': 1577836800000, 'country': 'AND', 'year': 2020, 'system:footprint': {'type': 'LinearRing', 'coordinates': [[1.414025304442425, 42.42833842692481], [1.4141691479967324, 42.428331935485176], [1.783330856397728, 42.42833188070026], [1.7838537314954632, 42.42867077090985], [1.7844290128170304, 42.42895966886699], [1.7844551756617861, 42.429060535437806], [1.7844643177958859, 42.429166688260494], [1.7844683314163405, 42.65166671167951], [1.7840077337117404, 42.65205087539007], [1.783617303473258, 42.65247492337854], [1.7834297822512946, 42.65250134490441], [1.41416421073552, 42.65250151924672], [1.4136429276070381, 42.65216185693677], [1.4130671213031492, 42.651873771452244], [1.4130316771208509, 42.65173580598244], [1.4130357299884313, 42.429166711248676], [1.4134959171935237, 42.428781560488254], [1.4138885356127753, 42.42835757623532], [1.414025304442425, 42.42833842692481]]}, 'system:time_end': 1609459200000, 'system:asset_size': 326544, 'system:index': 'AND_2020'}}, {'type': 'Image', 'bands': [{'id': 'population', 'data_type': {'type': 'PixelType', 'precision': 'float'}, 'dimensions': [6324, 4298], 'crs': 'EPSG:4326', 'crs_transform': [0.0008333333300126499, 0, 51.112083144, 0, -0.0008333333299208932, 26.078750097]}], 'version': 1565301580772896, 'id': 'WorldPop/GP/100m/pop/ARE_2020', 'properties': {'system:time_start': 1577836800000, 'country': 'ARE', 'year': 2020, 'system:footprint': {'type': 'LinearRing', 'coordinates': [[54.076406037959025, 22.496665345432262], [54.405728929378924, 22.496665289361903], [54.89971330868021, 22.496414396096668], [55.39369769814514, 22.49666534404099], [55.88768205489412, 22.49641440077339], [56.38257002174585, 22.496664379405217], [56.38259589192303, 26.07916715193035], [55.39369769814513, 26.07916825476153], [54.735051902032104, 26.079168197340262], [53.74708310333597, 26.079168240066284], [53.08843728406511, 26.079168223985484], [52.42979149623507, 26.079168253221233], [51.77114565040791, 26.07916821974284], [51.11157035423477, 26.079167157586895], [51.11159626085346, 22.496664410799124], [51.60648421991717, 22.496414434053243], [52.26513005053726, 22.496414427253686], [52.92377588595996, 22.496414430611146], [53.582421686765066, 22.496414386570176], [54.076406037959025, 22.496665345432262]]}, 'system:time_end': 1609459200000, 'system:asset_size': 40018873, 'system:index': 'ARE_2020'}}, {'type': 'Image', 'bands': [{'id': 'population', 'data_type': {'type': 'PixelType', 'precision': 'float'}, 'dimensions': [23928, 39940], 'crs': 'EPSG:4326', 'crs_transform': [0.0008333333299899701, 0, -73.577916357, 0, -0.0008333333299949925, -21.778749712]}], 'version': 1565302691340120.0, 'id': 'WorldPop/GP/100m/pop/ARG_2020', 'properties': {'system:time_start': 1577836800000, 'country': 'ARG', 'year': 2020, 'system:footprint': {'type': 'LinearRing', 'coordinates': [[-59.55777315927804, -21.77658060539162], [-60.959745843491405, -21.77723724071777], [-62.51749323940658, -21.77577804658872], [-64.07524061116506, -21.777237241940966], [-65.7887627060617, -21.774829589693276], [-67.65805961859702, -21.77658059999632], [-69.3715817301582, -21.775778020219207], [-71.2408786094042, -21.775778075718932], [-73.57839853099208, -21.772487364307068], [-73.57895738762161, -55.062499204489946], [-69.52735650624179, -55.06250100792069], [-66.10031229784815, -55.06250101467774], [-61.42707004168267, -55.062501003994186], [-58.9346742349773, -55.06250102706889], [-55.507629990860565, -55.0625010407764], [-53.63687531924513, -55.062499179654736], [-53.637434217590695, -21.772487396587163], [-56.13072891104858, -21.774829588685254], [-58.00002583268049, -21.776580589336557], [-59.55777315927804, -21.77658060539162]]}, 'system:time_end': 1609459200000, 'system:asset_size': 1799962231, 'system:index': 'ARG_2020'}}, {'type': 'Image', 'bands': [{'id': 'population', 'data_type': {'type': 'PixelType', 'precision': 'float'}, 'dimensions': [3816, 2966], 'crs': 'EPSG:4326', 'crs_transform': [0.0008333333299266253, 0, 43.449583175, 0, -0.000833333330074174, 41.30208337]}], 'version': 1565302791056344, 'id': 'WorldPop/GP/100m/pop/ARM_2020', 'properties': {'system:time_start': 1577836800000, 'country': 'ARM', 'year': 2020, 'system:footprint': {'type': 'LinearRing', 'coordinates': [[46.62916416294402, 38.829998614206076], [46.63023811882208, 38.83064408886612], [46.63027768354294, 41.302499581701824], [46.23177066296296, 41.302501498010066], [45.83437487286925, 41.302501504584335], [45.43697898148411, 41.302501485200615], [45.03958315902912, 41.30250152145308], [44.64218732365165, 41.302501472954226], [44.2447915561934, 41.302501501675415], [43.84739561679774, 41.302501502187646], [43.44888863899443, 41.302499593976606], [43.448928231463796, 38.82999674356016], [43.84739568639236, 38.82999858196375], [44.244791522628134, 38.82999858660282], [44.64218733556371, 38.8299986027725], [45.039583177740774, 38.82999856026176], [45.43697895201342, 38.82999857910893], [45.83437487024632, 38.82999859152242], [46.231770673233825, 38.829998572124126], [46.62916416294402, 38.829998614206076]]}, 'system:time_end': 1609459200000, 'system:asset_size': 13779861, 'system:index': 'ARM_2020'}}]}\n"
     ]
    }
   ],
   "source": [
    "# Limit the collection to the 10 most recent images.\n",
    "recent = pop.sort('system:time_start', False).limit(10)\n",
    "print('Recent images: ', recent.getInfo())"
   ]
  },
  {
   "cell_type": "code",
   "execution_count": 9,
   "id": "76030cde",
   "metadata": {},
   "outputs": [
    {
     "name": "stdout",
     "output_type": "stream",
     "text": [
      "Least image:  {'type': 'Image', 'bands': [{'id': 'population', 'data_type': {'type': 'PixelType', 'precision': 'float'}, 'dimensions': [238, 255], 'crs': 'EPSG:4326', 'crs_transform': [0.0008333333319328062, 0, -70.063749705, 0, -0.0008333333294117658, 12.624583484]}], 'version': 1565309523222858, 'id': 'WorldPop/GP/100m/pop/ABW_2000', 'properties': {'system:time_start': 946684800000, 'country': 'ABW', 'year': 2000, 'system:footprint': {'type': 'LinearRing', 'coordinates': [[-69.86498498783737, 12.412395498665477], [-69.86497826242554, 12.412500167578521], [-69.864977535354, 12.62416679184153], [-69.86532516635901, 12.624551403208795], [-69.86562053898062, 12.624975422012351], [-69.86576122719113, 12.625001587002544], [-70.0633333654209, 12.625001620363104], [-70.06372732592082, 12.624662300171128], [-70.06416180883592, 12.624373901941755], [-70.064188521076, 12.624236606497416], [-70.06418779421233, 12.412500128261646], [-70.0638403532899, 12.412115431066274], [-70.06354479213007, 12.411691404276327], [-70.06343985107755, 12.411671927942354], [-70.06333272941438, 12.411665353315854], [-69.8658333889632, 12.411665368528759], [-69.8654393165307, 12.412004564607956], [-69.86500498230461, 12.412293098378496], [-69.86498498783737, 12.412395498665477]]}, 'system:time_end': 978307200000, 'system:asset_size': 61573, 'system:index': 'ABW_2000'}}\n"
     ]
    }
   ],
   "source": [
    "# Sort by a cloud cover property, get the least cloudy image.\n",
    "image = ee.Image(pop.first())\n",
    "print('Least image: ', image.getInfo())"
   ]
  },
  {
   "cell_type": "code",
   "execution_count": null,
   "id": "3062bd26",
   "metadata": {},
   "outputs": [],
   "source": []
  }
 ],
 "metadata": {
  "kernelspec": {
   "display_name": "Python 3 (ipykernel)",
   "language": "python",
   "name": "python3"
  },
  "language_info": {
   "codemirror_mode": {
    "name": "ipython",
    "version": 3
   },
   "file_extension": ".py",
   "mimetype": "text/x-python",
   "name": "python",
   "nbconvert_exporter": "python",
   "pygments_lexer": "ipython3",
   "version": "3.8.10"
  }
 },
 "nbformat": 4,
 "nbformat_minor": 5
}
