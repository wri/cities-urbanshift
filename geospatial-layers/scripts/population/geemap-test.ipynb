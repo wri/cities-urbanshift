{
 "cells": [
  {
   "cell_type": "code",
   "execution_count": 1,
   "id": "9ca941d2",
   "metadata": {},
   "outputs": [],
   "source": [
    "import geemap\n",
    "import ee"
   ]
  },
  {
   "cell_type": "markdown",
   "id": "1c02c6bc",
   "metadata": {},
   "source": [
    "# static image"
   ]
  },
  {
   "cell_type": "code",
   "execution_count": 5,
   "id": "efa9f586",
   "metadata": {},
   "outputs": [
    {
     "name": "stdout",
     "output_type": "stream",
     "text": [
      "Mount Everest elevation (m): 8729\n"
     ]
    },
    {
     "data": {
      "text/html": [
       "<img src=\"https://earthengine.googleapis.com/v1alpha/projects/earthengine-legacy/thumbnails/21b5d5fe6cfbb4d31ee1ca6c2dd8eb25-2b66504548f5a430b1ad1f4a646df147:getPixels\"/>"
      ],
      "text/plain": [
       "<IPython.core.display.Image object>"
      ]
     },
     "execution_count": 5,
     "metadata": {},
     "output_type": "execute_result"
    }
   ],
   "source": [
    "# Print the elevation of Mount Everest.\n",
    "dem = ee.Image('USGS/SRTMGL1_003')\n",
    "xy = ee.Geometry.Point([86.9250, 27.9881])\n",
    "elev = dem.sample(xy, 30).first().get('elevation').getInfo()\n",
    "print('Mount Everest elevation (m):', elev)\n",
    "\n",
    "# Import the Image function from the IPython.display module.\n",
    "from IPython.display import Image\n",
    "\n",
    "# Display a thumbnail of global elevation.\n",
    "Image(url = dem.updateMask(dem.gt(0))\n",
    "  .getThumbURL({'min': 0, 'max': 4000, 'dimensions': 512,\n",
    "                'palette': ['006633', 'E5FFCC', '662A00', 'D8D8D8', 'F5F5F5']}))"
   ]
  },
  {
   "cell_type": "markdown",
   "id": "32c9f1c7",
   "metadata": {},
   "source": [
    "# interactive image"
   ]
  },
  {
   "cell_type": "code",
   "execution_count": 2,
   "id": "49fb1130",
   "metadata": {},
   "outputs": [
    {
     "data": {
      "application/vnd.jupyter.widget-view+json": {
       "model_id": "3c1f8fcbc9ba4234b4d3d84137f7761c",
       "version_major": 2,
       "version_minor": 0
      },
      "text/plain": [
       "Map(center=[40, -100], controls=(WidgetControl(options=['position', 'transparent_bg'], widget=HBox(children=(T…"
      ]
     },
     "metadata": {},
     "output_type": "display_data"
    }
   ],
   "source": [
    "Map = geemap.Map(center=[40,-100], zoom=4)\n",
    "Map"
   ]
  },
  {
   "cell_type": "code",
   "execution_count": 3,
   "id": "27affba1",
   "metadata": {},
   "outputs": [],
   "source": [
    "# Add Earth Engine dataset\n",
    "# Load an image.\n",
    "image = ee.Image('LANDSAT/LC08/C01/T1/LC08_044034_20140318')\n",
    "\n",
    "# Center the map on the image.\n",
    "Map.centerObject(image, 9)\n",
    "\n",
    "# Display the image.\n",
    "Map.addLayer(image, {}, 'Landsat 8 original image')\n",
    "\n",
    "# Define visualization parameters in an object literal.\n",
    "vizParams = {'bands': ['B5', 'B4', 'B3'],\n",
    "             'min': 5000, 'max': 15000, 'gamma': 1.3}\n",
    "\n",
    "# Center the map on the image and display.\n",
    "Map.centerObject(image, 9)\n",
    "Map.addLayer(image, vizParams, 'Landsat 8 False color')\n",
    "\n",
    "# Use Map.addLayer() to add features and feature collections to the map. For example,\n",
    "counties = ee.FeatureCollection('TIGER/2016/Counties')\n",
    "Map.addLayer(ee.Image().paint(counties, 0, 2), {}, 'counties')"
   ]
  },
  {
   "cell_type": "code",
   "execution_count": 4,
   "id": "05ce69f9",
   "metadata": {},
   "outputs": [
    {
     "data": {
      "application/vnd.jupyter.widget-view+json": {
       "model_id": "3c1f8fcbc9ba4234b4d3d84137f7761c",
       "version_major": 2,
       "version_minor": 0
      },
      "text/plain": [
       "Map(bottom=51101.0, center=[37.471602850590656, -122.14451407746262], controls=(WidgetControl(options=['positi…"
      ]
     },
     "metadata": {},
     "output_type": "display_data"
    }
   ],
   "source": [
    "Map.addLayerControl() # This line is not needed for ipyleaflet-based Map.\n",
    "Map"
   ]
  },
  {
   "cell_type": "code",
   "execution_count": null,
   "id": "a3dc1948",
   "metadata": {},
   "outputs": [],
   "source": []
  }
 ],
 "metadata": {
  "kernelspec": {
   "display_name": "Python 3 (ipykernel)",
   "language": "python",
   "name": "python3"
  },
  "language_info": {
   "codemirror_mode": {
    "name": "ipython",
    "version": 3
   },
   "file_extension": ".py",
   "mimetype": "text/x-python",
   "name": "python",
   "nbconvert_exporter": "python",
   "pygments_lexer": "ipython3",
   "version": "3.8.10"
  }
 },
 "nbformat": 4,
 "nbformat_minor": 5
}
