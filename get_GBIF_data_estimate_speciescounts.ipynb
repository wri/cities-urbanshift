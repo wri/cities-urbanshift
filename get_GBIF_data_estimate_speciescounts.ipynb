{
 "cells": [
  {
   "cell_type": "code",
   "execution_count": 93,
   "id": "cb075308",
   "metadata": {},
   "outputs": [],
   "source": [
    "import requests, json\n",
    "import random, scipy\n",
    "from scipy.optimize import curve_fit\n",
    "import numpy as np"
   ]
  },
  {
   "cell_type": "code",
   "execution_count": 94,
   "id": "7622c7b1",
   "metadata": {},
   "outputs": [],
   "source": [
    "API_URL = 'https://api.gbif.org/v1/occurrence/search/'\n",
    "DATASETKEY = '50c9509d-22c7-4a22-a47d-8c48425ef4a7'  # iNaturalist research-grade observations\n",
    "TAXONKEYS = {'Arthropoda': '54', 'Aves': '212', 'Tracheophyta': '7707728'}\n",
    "STARTYEAR = '2016'\n",
    "ENDYEAR = '2021'\n",
    "LIMIT = 300"
   ]
  },
  {
   "cell_type": "code",
   "execution_count": 107,
   "id": "56a09bd2",
   "metadata": {},
   "outputs": [],
   "source": [
    "NUM_CURVEFITS = 200"
   ]
  },
  {
   "cell_type": "code",
   "execution_count": 100,
   "id": "767269c7",
   "metadata": {},
   "outputs": [],
   "source": [
    "# sample geometry: a rectangle that includes San Jose CR\n",
    "# actual geometry is a WKT polygon\n",
    "\n",
    "geom = 'POLYGON((-84.41345 9.59533,-83.68835 9.59533,-83.68835 10.24465,-84.41345 10.24465,-84.41345 9.59533))'"
   ]
  },
  {
   "cell_type": "code",
   "execution_count": 101,
   "id": "60b14c40",
   "metadata": {},
   "outputs": [
    {
     "name": "stdout",
     "output_type": "stream",
     "text": [
      "Arthropoda: 0/5733\n",
      "Arthropoda: 300/5733\n",
      "Arthropoda: 600/5733\n",
      "Arthropoda: 900/5733\n",
      "Arthropoda: 1200/5733\n",
      "Arthropoda: 1500/5733\n",
      "Arthropoda: 1800/5733\n",
      "Arthropoda: 2100/5733\n",
      "Arthropoda: 2400/5733\n",
      "Arthropoda: 2700/5733\n",
      "Arthropoda: 3000/5733\n",
      "Arthropoda: 3300/5733\n",
      "Arthropoda: 3600/5733\n",
      "Arthropoda: 3900/5733\n",
      "Arthropoda: 4200/5733\n",
      "Arthropoda: 4500/5733\n",
      "Arthropoda: 4800/5733\n",
      "Arthropoda: 5100/5733\n",
      "Arthropoda: 5400/5733\n",
      "Arthropoda: 5700/5733\n",
      "Aves: 0/7240\n",
      "Aves: 300/7240\n",
      "Aves: 600/7240\n",
      "Aves: 900/7240\n",
      "Aves: 1200/7240\n",
      "Aves: 1500/7240\n",
      "Aves: 1800/7240\n",
      "Aves: 2100/7240\n",
      "Aves: 2400/7240\n",
      "Aves: 2700/7240\n",
      "Aves: 3000/7240\n",
      "Aves: 3300/7240\n",
      "Aves: 3600/7240\n",
      "Aves: 3900/7240\n",
      "Aves: 4200/7240\n",
      "Aves: 4500/7240\n",
      "Aves: 4800/7240\n",
      "Aves: 5100/7240\n",
      "Aves: 5400/7240\n",
      "Aves: 5700/7240\n",
      "Aves: 6000/7240\n",
      "Aves: 6300/7240\n",
      "Aves: 6600/7240\n",
      "Aves: 6900/7240\n",
      "Aves: 7200/7240\n",
      "Tracheophyta: 0/4342\n",
      "Tracheophyta: 300/4342\n",
      "Tracheophyta: 600/4342\n",
      "Tracheophyta: 900/4342\n",
      "Tracheophyta: 1200/4342\n",
      "Tracheophyta: 1500/4342\n",
      "Tracheophyta: 1800/4342\n",
      "Tracheophyta: 2100/4342\n",
      "Tracheophyta: 2400/4342\n",
      "Tracheophyta: 2700/4342\n",
      "Tracheophyta: 3000/4342\n",
      "Tracheophyta: 3300/4342\n",
      "Tracheophyta: 3600/4342\n",
      "Tracheophyta: 3900/4342\n",
      "Tracheophyta: 4200/4342\n"
     ]
    }
   ],
   "source": [
    "# Get observation records from GBIF\n",
    "\n",
    "observations = {taxon: [] for taxon in TAXONKEYS.keys()}\n",
    "\n",
    "for taxon in TAXONKEYS.keys():\n",
    "    offset = 0\n",
    "    url = '{0}?dataset_key={1}&taxon_key={2}&year={3},{4}&geometry={5}&limit={6}&offset={7}&hasCoordinate=true'.format(API_URL, DATASETKEY, TAXONKEYS[taxon], STARTYEAR, ENDYEAR, geom, str(LIMIT), str(offset))\n",
    "    resp = requests.get(url)\n",
    "    results = resp.json()\n",
    "    print('{0}: {1}/{2}'.format(taxon, results['offset'], results['count']))\n",
    "    observations[taxon] += [{\n",
    "        'species': i['species'],\n",
    "        'lat': i['decimalLatitude'],\n",
    "        'lon': i['decimalLongitude'],\n",
    "    } for i in results['results'] if 'species' in i.keys()]\n",
    "    while not results['endOfRecords']:\n",
    "        offset += LIMIT\n",
    "        url = '{0}?dataset_key={1}&taxon_key={2}&year={3},{4}&geometry={5}&limit={6}&offset={7}&hasCoordinate=true'.format(API_URL, DATASETKEY, TAXONKEYS[taxon], STARTYEAR, ENDYEAR, geom, str(LIMIT), str(offset))\n",
    "        resp = requests.get(url)\n",
    "        results = resp.json()\n",
    "        print('{0}: {1}/{2}'.format(taxon, results['offset'], results['count']))\n",
    "        observations[taxon] += [{\n",
    "            'species': i['species'],\n",
    "            'lat': i['decimalLatitude'],\n",
    "            'lon': i['decimalLongitude'],\n",
    "        } for i in results['results'] if 'species' in i.keys()]"
   ]
  },
  {
   "cell_type": "code",
   "execution_count": 108,
   "id": "1113d892",
   "metadata": {},
   "outputs": [
    {
     "name": "stderr",
     "output_type": "stream",
     "text": [
      "C:\\Users\\theodore.wong\\AppData\\Local\\Temp\\ipykernel_12500\\3432103625.py:14: RuntimeWarning: overflow encountered in exp\n",
      "  asymptotes.append(scipy.optimize.curve_fit(lambda x,a,b,c: -((a*np.exp(-b*x))+c), list(range(1, len(sac)+1)), sac)[0][2])\n",
      "C:\\Users\\theodore.wong\\AppData\\Local\\Temp\\ipykernel_12500\\3432103625.py:14: RuntimeWarning: overflow encountered in multiply\n",
      "  asymptotes.append(scipy.optimize.curve_fit(lambda x,a,b,c: -((a*np.exp(-b*x))+c), list(range(1, len(sac)+1)), sac)[0][2])\n"
     ]
    },
    {
     "name": "stdout",
     "output_type": "stream",
     "text": [
      "Arthropoda: 2123\n",
      "Aves: 514\n",
      "Tracheophyta: 1503\n"
     ]
    }
   ],
   "source": [
    "# Estimate species counts by estimating asymptote of species-accumulation curve created when observation order is randomized\n",
    "# Final estimate is average over NUM_CURVEFITS estimates\n",
    "\n",
    "count_estimates = {taxon: None for taxon in TAXONKEYS.keys()}\n",
    "for taxon in TAXONKEYS.keys():\n",
    "    taxon_observations = [i['species'] for i in observations[taxon]]\n",
    "    asymptotes = []\n",
    "    tries = 0\n",
    "    while len(asymptotes) < NUM_CURVEFITS:   # Different observation-orders give different results, so average over many\n",
    "        tries += 1\n",
    "        taxon_observations.sort(key=lambda x: random.random())                    # Randomize order of observations\n",
    "        sac = []                                                            # Initialize species accumulation curve data\n",
    "        for obs_count in range(1, len(taxon_observations)):                       # Go through observation list from beginning\n",
    "            sac.append(len(set(taxon_observations[:obs_count])))                  # and count unique species from start to index\n",
    "        if len(sac) > 5 and tries <= 1000:          # Avoid letting infinite-species errors stop the process\n",
    "            try:\n",
    "                asymptotes.append(scipy.optimize.curve_fit(lambda x,a,b,c: -((a*np.exp(-b*x))+c), list(range(1, len(sac)+1)), sac)[0][2])\n",
    "            except:\n",
    "                pass\n",
    "        else:\n",
    "            asymptotes.append(-1)\n",
    "    if -1 in asymptotes:\n",
    "        count_estimates[taxon] = \"insufficient data\"\n",
    "    else:\n",
    "        count_estimates[taxon] = -round(np.mean(asymptotes))  \n",
    "    print('{0}: {1}'.format(taxon, str(count_estimates[taxon])))"
   ]
  },
  {
   "cell_type": "code",
   "execution_count": 27,
   "id": "41b97a41",
   "metadata": {},
   "outputs": [],
   "source": []
  },
  {
   "cell_type": "code",
   "execution_count": null,
   "id": "83d73b72",
   "metadata": {},
   "outputs": [],
   "source": []
  },
  {
   "cell_type": "code",
   "execution_count": null,
   "id": "a330dd4b",
   "metadata": {},
   "outputs": [],
   "source": []
  }
 ],
 "metadata": {
  "kernelspec": {
   "display_name": "Python 3 (ipykernel)",
   "language": "python",
   "name": "python3"
  },
  "language_info": {
   "codemirror_mode": {
    "name": "ipython",
    "version": 3
   },
   "file_extension": ".py",
   "mimetype": "text/x-python",
   "name": "python",
   "nbconvert_exporter": "python",
   "pygments_lexer": "ipython3",
   "version": "3.9.10"
  }
 },
 "nbformat": 4,
 "nbformat_minor": 5
}
