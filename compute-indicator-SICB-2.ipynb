{
 "cells": [
  {
   "cell_type": "code",
   "execution_count": 1,
   "id": "81e82f5e-dc1b-4b97-8f67-267174bab98a",
   "metadata": {},
   "outputs": [],
   "source": [
    "from math import floor\n",
    "from pystac_client import Client\n",
    "import planetary_computer as pc\n",
    "import numpy as np\n",
    "import rasterio\n",
    "import requests, pyproj\n",
    "from pyproj.aoi import AreaOfInterest\n",
    "from pyproj.database import query_utm_crs_info\n",
    "from rasterio.merge import merge\n",
    "import rasterio.mask\n",
    "from rasterio.features import shapes\n",
    "from shapely.geometry import Polygon, MultiPolygon\n",
    "from shapely.ops import transform, unary_union\n",
    "import networkx as nx"
   ]
  },
  {
   "cell_type": "code",
   "execution_count": 78,
   "id": "95c682e2-20af-4fe0-a783-58d47ea5ee3c",
   "metadata": {},
   "outputs": [],
   "source": [
    "CONNECTIVITY_DISTANCE = 100    # Max distance two patches can be apart and be considered connected (meter)\n",
    "MIN_PATCHSIZE = 1000    # Min patch size to be included in analysis (sq meter)"
   ]
  },
  {
   "cell_type": "code",
   "execution_count": 67,
   "id": "9b596928-a571-402d-8037-3f96b9a379ad",
   "metadata": {},
   "outputs": [],
   "source": [
    "# Get distict boundaries as geojson\n",
    "\n",
    "URL = 'https://cities-urbanshift.s3.eu-west-3.amazonaws.com/data/boundaries/ADM2/boundary-CRI-San_Jose-ADM2.geojson'\n",
    "Districts_json = requests.get(URL).json()"
   ]
  },
  {
   "cell_type": "code",
   "execution_count": 4,
   "id": "9099737d-419f-4118-906a-e06e146f5c2b",
   "metadata": {},
   "outputs": [],
   "source": [
    "# Convert district-boundary geojsons to Shapely polygons\n",
    "\n",
    "def geojson_to_polygons(g):\n",
    "    result = []\n",
    "    for feature in g['features']:\n",
    "        name = feature['properties']['shapeName']\n",
    "        coordpairs = [(float(i[0]), float(i[1])) for i in feature['geometry']['coordinates'][0][0]]\n",
    "        result.append((name, Polygon(coordpairs)))\n",
    "    return result\n",
    "\n",
    "district_polys = geojson_to_polygons(Districts_json)"
   ]
  },
  {
   "cell_type": "code",
   "execution_count": 5,
   "id": "9bfb7f2c-d2be-4c97-9f92-00c7dcf5a272",
   "metadata": {},
   "outputs": [],
   "source": [
    "# Get bounding box and target EPSG for union of district polygons\n",
    "\n",
    "all_districts = MultiPolygon([i[1] for i in district_polys])\n",
    "bounds = all_districts.bounds\n",
    "\n",
    "centroid_lon = all_districts.centroid.xy[0][0]\n",
    "centroid_lat = all_districts.centroid.xy[1][0]\n",
    "target_epsg = (32600 + [0, 100][int(centroid_lat < 0)]) + floor((180 + centroid_lon) / 6) + 1\n",
    "# EPSG is 32600 (or 32700 if lat is neg) + longitude zone. Each zone is six degrees, and first zone is 1."
   ]
  },
  {
   "cell_type": "code",
   "execution_count": 6,
   "id": "a48bc2de-86e1-44eb-9ea3-eb9faf391851",
   "metadata": {},
   "outputs": [],
   "source": [
    "# Get ESA WorldCover raster tiles covering AOI\n",
    "\n",
    "catalog = Client.open(\"https://planetarycomputer.microsoft.com/api/stac/v1\")\n",
    "\n",
    "search = catalog.search(\n",
    "    collections=[\"esa-worldcover\"],\n",
    "    bbox=bounds,\n",
    ")\n",
    "\n",
    "items = list(search.get_items())\n",
    "\n",
    "rasters_to_mosaic = []\n",
    "signed_hrefs = [pc.sign(i.assets[\"map\"].href) for i in items]\n",
    "for href in signed_hrefs:\n",
    "    raster = rasterio.open(href)\n",
    "    rasters_to_mosaic.append(raster)"
   ]
  },
  {
   "cell_type": "code",
   "execution_count": 7,
   "id": "5af06ec6-26fa-4144-bc7a-edd6c29d7cbe",
   "metadata": {},
   "outputs": [],
   "source": [
    "# Stitch rasters together\n",
    "\n",
    "mosaic, mosaic_transform = merge(rasters_to_mosaic)"
   ]
  },
  {
   "cell_type": "code",
   "execution_count": 8,
   "id": "88dcb9ad-32d4-4439-ac90-b127a9c45cc5",
   "metadata": {},
   "outputs": [],
   "source": [
    "# This function clips and masks raster\n",
    "# Adapted from https://gis.stackexchange.com/a/387772\n",
    "\n",
    "def mask_raster_with_geometry(raster, transform, shapes, **kwargs):\n",
    "    \"\"\"Wrapper for rasterio.mask.mask to allow for in-memory processing.\n",
    "\n",
    "    Docs: https://rasterio.readthedocs.io/en/latest/api/rasterio.mask.html\n",
    "\n",
    "    Args:\n",
    "        raster (numpy.ndarray): raster to be masked with dim: [H, W]\n",
    "        transform (affine.Affine): the transform of the raster\n",
    "        shapes, **kwargs: passed to rasterio.mask.mask\n",
    "\n",
    "    Returns:\n",
    "        masked: numpy.ndarray or numpy.ma.MaskedArray with dim: [H, W], and new affine transform\n",
    "    \"\"\"\n",
    "    with rasterio.io.MemoryFile() as memfile:\n",
    "        with memfile.open(\n",
    "            driver='GTiff',\n",
    "            height=raster.shape[0],\n",
    "            width=raster.shape[1],\n",
    "            count=1,\n",
    "            dtype=raster.dtype,\n",
    "            transform=transform,\n",
    "        ) as dataset:\n",
    "            dataset.write(raster, 1)\n",
    "        with memfile.open() as dataset:\n",
    "            output, new_transform = rasterio.mask.mask(dataset, shapes, **kwargs)\n",
    "    return output.squeeze(0), new_transform"
   ]
  },
  {
   "cell_type": "code",
   "execution_count": 72,
   "id": "eaea663d-18f0-4fee-bcf8-889753a3b7e7",
   "metadata": {},
   "outputs": [],
   "source": [
    "# Reclassify from ESA WorldCover classes to habitat/nonhabitat\n",
    "\n",
    "def classify_habitat(r):  # Note: order is important\n",
    "    r[r == 60] = 1    # sparse veg\n",
    "    r[r >= 90] = 1    # herbaceous wetland, mangrove, lichen & moss\n",
    "    r[r == 80] = 0    # permanent open water\n",
    "    r[r == 70] = 0    # snow/ice\n",
    "    r[r == 40] = 0    # cropland\n",
    "    r[r == 50] = 0    # built up\n",
    "    r[r >= 10] = 1    # tree, shrub, grassland\n",
    "    r[r == 0] = 0\n",
    "\n",
    "    return r"
   ]
  },
  {
   "cell_type": "code",
   "execution_count": 10,
   "id": "5da277dc-3291-4a57-97a8-d8a44896099c",
   "metadata": {},
   "outputs": [],
   "source": [
    "# This transforms fro EPSG:4326 to target EPSG\n",
    "\n",
    "project = pyproj.Transformer.from_crs(\n",
    "    pyproj.CRS.from_epsg(4326), # source coordinate system\n",
    "    pyproj.CRS.from_epsg(target_epsg), # destination coordinate system\n",
    "    always_xy=True\n",
    ")"
   ]
  },
  {
   "cell_type": "code",
   "execution_count": 79,
   "id": "50d3e370-f1a0-4293-a1be-4df275462100",
   "metadata": {},
   "outputs": [],
   "source": [
    "connectivity_indicator = {}\n",
    "for district_data in district_polys:  # Loop over districts\n",
    "    district_name = district_data[0]\n",
    "    district_geom = district_data[1]\n",
    "\n",
    "    # Clip raster to district boundary\n",
    "    clipped_raster, clip_transform = mask_raster_with_geometry(mosaic[0], mosaic_transform, [district_geom], crop=True)\n",
    "    \n",
    "    # Classify clipped raster as habitat/nonhabitat\n",
    "    hab_raster = classify_habitat(clipped_raster)\n",
    "    \n",
    "    # Vectorize and collect only the habitat patches (as opposed to nonhabitat)\n",
    "    with rasterio.Env():\n",
    "        image = hab_raster\n",
    "        results = (\n",
    "        {'properties': {'raster_val': v}, 'geometry': s}\n",
    "        for i, (s, v) \n",
    "        in enumerate(\n",
    "            shapes(image, transform=clip_transform)) if v == 1)\n",
    "    shapelist = list(results)\n",
    "    shapelist = shapelist[:-1]\n",
    "    all_patches = {  # project to UTM so that spatial unit is meter\n",
    "        i: transform(project.transform, Polygon(shapelist[i]['geometry']['coordinates'][0])) for i in range(len(shapelist))\n",
    "    }\n",
    "    patches = {\n",
    "        i: all_patches[i] for i in all_patches if all_patches[i].area >= MIN_PATCHSIZE # Remove very small patches from consideration\n",
    "    }\n",
    "    within_distance = []\n",
    "    for i in patches:\n",
    "        for j in patches:\n",
    "            if j > i:\n",
    "                if patches[i].distance(patches[j]) <= CONNECTIVITY_DISTANCE:  # Collect pairs of patches within connectivity distance\n",
    "                    within_distance.append((i, j))\n",
    "\n",
    "    # Find groups of connected patches\n",
    "    G = nx.Graph()\n",
    "    G.add_nodes_from(list(patches.keys()))\n",
    "    G.add_edges_from(within_distance)\n",
    "    connected_patch_clusters = nx.connected_components(G)\n",
    "    \n",
    "    total_area = sum([patches[i].area for i in patches])\n",
    "    cluster_areas = []\n",
    "    for i in connected_patch_clusters:\n",
    "        cluster_areas.append(sum([patches[j].area for j in i]))\n",
    "    connectivity_indicator[district_name] = sum([i**2 for i in cluster_areas]) / (total_area**2)\n",
    "    "
   ]
  },
  {
   "cell_type": "code",
   "execution_count": 12,
   "id": "2d40322c-aa47-4d40-9648-6ef073c9b42b",
   "metadata": {
    "tags": []
   },
   "outputs": [
    {
     "data": {
      "text/plain": [
       "{'San Jose': 0.6972844454195042,\n",
       " 'Alajuela': 0.2509144471439529,\n",
       " 'Moravia': 0.9629849521330002,\n",
       " 'Paraíso': 0.255951095413317,\n",
       " 'Poás': 0.16702459080916154,\n",
       " 'Mora': 0.316104901575237,\n",
       " 'Alvarado': 0.06389461119000793,\n",
       " 'Oreamuno': 0.9999001856566834,\n",
       " 'Heredia Urban': 0.37237589803365284,\n",
       " 'Heredia Rural': 0.47466346454040775,\n",
       " 'Tibás': 0.57984084174516,\n",
       " 'Vasquez de Coronado': 0.6381071001000168,\n",
       " 'Atenas': 1.0000000000000002,\n",
       " 'Desamparados': 0.46950708706251654,\n",
       " 'Aserrí': 0.4793307889029919,\n",
       " 'Santo Domingo': 0.09732983839538048,\n",
       " 'El Guarco': 0.36731615179082067,\n",
       " 'Montes de Oca': 0.9671781759563389,\n",
       " 'Goicoechea': 0.9413713968859365,\n",
       " 'Cartago': 0.9604917842558767,\n",
       " 'San Pablo': 0.9899425418594883,\n",
       " 'Curridabat': 0.9554204487999002,\n",
       " 'Alajuelita': 0.41052804625864964,\n",
       " 'Barva': 0.9996343791279675,\n",
       " 'Belén': 0.9478446535411826,\n",
       " 'Escazú': 0.6328730031801533,\n",
       " 'Flores': 0.959067458038766,\n",
       " 'La Unión': 0.5419508817126665,\n",
       " 'San Isidro': 0.1618281707744469,\n",
       " 'San Rafael': 0.9992007257203535,\n",
       " 'Santa Ana': 0.08372893874152242,\n",
       " 'Santa Bárbara': 0.07718408556740533}"
      ]
     },
     "execution_count": 12,
     "metadata": {},
     "output_type": "execute_result"
    }
   ],
   "source": [
    "connectivity_indicator"
   ]
  },
  {
   "cell_type": "code",
   "execution_count": 13,
   "id": "e9949db5-88d5-4e8e-ab7e-5e3efa9eb88f",
   "metadata": {},
   "outputs": [],
   "source": [
    "# Write outputs to CSV\n",
    "\n",
    "ofile = open('connectivity_outputs.csv', 'w')\n",
    "ofile.write('District,Connectivity\\n')\n",
    "for dist in connectivity_indicator:\n",
    "    ofile.write('{0},{1}\\n'.format(dist, str(connectivity_indicator[dist])))\n",
    "ofile.close()"
   ]
  },
  {
   "cell_type": "code",
   "execution_count": null,
   "id": "cb663d29-732a-4f95-85c4-d43c5c71c809",
   "metadata": {},
   "outputs": [],
   "source": []
  },
  {
   "cell_type": "code",
   "execution_count": 81,
   "id": "ba93aac6-21de-43f2-8a4f-8a19115e4db8",
   "metadata": {},
   "outputs": [],
   "source": [
    "'''\n",
    "from shapely.geometry import mapping, Polygon\n",
    "import fiona\n",
    "\n",
    "# Define a polygon feature geometry with one attribute\n",
    "schema = {\n",
    "    'geometry': 'Polygon',\n",
    "    'properties': {'id': 'int'},\n",
    "}\n",
    "\n",
    "# Write a new Shapefile\n",
    "with fiona.open('filename.shp', 'w', 'ESRI Shapefile', schema) as c:\n",
    "    ## If there are multiple geometries, put the \"for\" loop here\n",
    "    count = 1\n",
    "    for i in patches:   # Will do patches dict for most recent district\n",
    "        c.write({\n",
    "            'geometry': mapping(patches[i]),\n",
    "            'properties': {'id': count},\n",
    "        })\n",
    "        count += 1\n",
    "'''"
   ]
  },
  {
   "cell_type": "code",
   "execution_count": null,
   "id": "ec396b26-7102-469c-affd-19d4fe24d260",
   "metadata": {},
   "outputs": [],
   "source": []
  }
 ],
 "metadata": {
  "kernelspec": {
   "display_name": "Python 3 (ipykernel)",
   "language": "python",
   "name": "python3"
  },
  "language_info": {
   "codemirror_mode": {
    "name": "ipython",
    "version": 3
   },
   "file_extension": ".py",
   "mimetype": "text/x-python",
   "name": "python",
   "nbconvert_exporter": "python",
   "pygments_lexer": "ipython3",
   "version": "3.8.13"
  },
  "toc-autonumbering": true
 },
 "nbformat": 4,
 "nbformat_minor": 5
}
