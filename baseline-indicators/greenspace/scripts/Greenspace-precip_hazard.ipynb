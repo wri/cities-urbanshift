{
 "cells": [
  {
   "cell_type": "code",
   "execution_count": null,
   "id": "c4f58363-f8c1-44a8-81de-1961176f6630",
   "metadata": {},
   "outputs": [],
   "source": [
    "# import sys\n",
    "# !{sys.executable} -m pip install pip earthengine-api"
   ]
  },
  {
   "cell_type": "code",
   "execution_count": null,
   "id": "e86c4ef8-8afc-4376-95bd-59a10f8040b6",
   "metadata": {},
   "outputs": [],
   "source": [
    "import numpy as np\n",
    "import pandas as pd\n",
    "import matplotlib.pyplot as plt\n",
    "import seaborn as sns\n",
    "sns.set_theme(style=\"darkgrid\")\n",
    "import ee\n",
    "#ee.Authenticate()"
   ]
  },
  {
   "cell_type": "code",
   "execution_count": null,
   "id": "36a2b0f6-402a-48ca-930b-4d1e998e0e3a",
   "metadata": {},
   "outputs": [],
   "source": [
    "ee.Initialize()"
   ]
  },
  {
   "cell_type": "code",
   "execution_count": null,
   "id": "63ef9ae4-0ba7-44c2-9d06-466181f30976",
   "metadata": {},
   "outputs": [],
   "source": [
    "# USER INPUTS\n",
    "\n",
    "YEARS = range(2020, 2099)\n",
    "#LONLAT = (36.817223, -1.286389)   # (x, y) for Nairobi\n",
    "LONLAT = (76.383896, 10.426311,) # (x, y) for Kerala\n",
    "\n",
    "current_geom = ee.Geometry.Point(LONLAT)"
   ]
  },
  {
   "cell_type": "code",
   "execution_count": null,
   "id": "a5c66cdc-3d41-4047-b66e-bc708a3655bb",
   "metadata": {},
   "outputs": [],
   "source": [
    "maxprecip_probs = ee.ImageCollection('users/tedwongwri/dataportal/posterior_probs/maxprecip')"
   ]
  },
  {
   "cell_type": "code",
   "execution_count": null,
   "id": "cc5edbd3-42a5-43a3-bb14-5bae70b50659",
   "metadata": {},
   "outputs": [],
   "source": [
    "def expected_value(year, geom, probdata):\n",
    "# Return expected value of hazard for given year\n",
    "    probs = probdata.filterMetadata('year', 'equals', year).first().reduceRegion(reducer=ee.Reducer.mean(), geometry=geom, scale=250, bestEffort=True).getInfo()\n",
    "    if np.sum([float(i) for i in probs.values()]) == 0:\n",
    "        return 0, 1\n",
    "    dataprobs = np.array([float(i) for i in probs.values()]) / np.sum([float(i) for i in probs.values()])\n",
    "    mag_range = [(j.split('-')[0], j.split('-')[1]) for j in [i.split('_')[1] for i in list(probs.keys())]]\n",
    "    avg_mags = np.array([(float(i[0].replace('neg', '-')) + float(i[1].replace('neg', '-'))) / 2 for i in mag_range])\n",
    "    ev = np.dot(dataprobs, avg_mags) \n",
    "    for idx in range(len(mag_range)):\n",
    "        mag_pair = mag_range[idx]\n",
    "        if ev >= float(mag_pair[0].replace('neg', '-')) and ev < float(mag_pair[1].replace('neg', '-')):\n",
    "            break\n",
    "    key = list(probs.keys())[idx]\n",
    "    return ev"
   ]
  },
  {
   "cell_type": "code",
   "execution_count": null,
   "id": "ee53544f-bb22-42d6-aa23-6460d99b28f9",
   "metadata": {},
   "outputs": [],
   "source": [
    "maxprecip_evs = [expected_value(y, current_geom, maxprecip_probs) for y in YEARS]"
   ]
  },
  {
   "cell_type": "code",
   "execution_count": null,
   "id": "b86e45a9-23d4-43f7-a7df-180e12540e0f",
   "metadata": {},
   "outputs": [],
   "source": [
    "df = pd.DataFrame({'year': YEARS, 'max daily precip':maxprecip_evs})"
   ]
  },
  {
   "cell_type": "code",
   "execution_count": null,
   "id": "d4f02d1b-4fe6-4593-9892-ee069718aa7c",
   "metadata": {},
   "outputs": [],
   "source": [
    "df"
   ]
  },
  {
   "cell_type": "code",
   "execution_count": null,
   "id": "eba00dd3-1c4e-472f-ba75-2d3b8f5ecf42",
   "metadata": {},
   "outputs": [],
   "source": [
    "g = sns.relplot(x=\"year\", y=\"max daily precip\", kind=\"line\", data=df)\n",
    "g.figure.autofmt_xdate()"
   ]
  },
  {
   "cell_type": "code",
   "execution_count": null,
   "id": "14d6df59-5c39-4d1e-8d07-f83a590cc607",
   "metadata": {},
   "outputs": [],
   "source": [
    "startyear = df[df.year == 2020]['max daily precip'].iloc[0]\n",
    "endyear = df[df.year == 2050]['max daily precip'].iloc[0]\n",
    "print(startyear,endyear)"
   ]
  },
  {
   "cell_type": "code",
   "execution_count": null,
   "id": "cec62760-af47-451d-8baf-87c54fc165f0",
   "metadata": {},
   "outputs": [],
   "source": [
    "pctChange = (endyear /startyear) - 1\n",
    "print(pctChange)"
   ]
  },
  {
   "cell_type": "code",
   "execution_count": null,
   "id": "1872eb03-be7a-4ec7-a0de-0ea5f5dd696c",
   "metadata": {},
   "outputs": [],
   "source": []
  }
 ],
 "metadata": {
  "kernelspec": {
   "display_name": "Python 3 (ipykernel)",
   "language": "python",
   "name": "python3"
  },
  "language_info": {
   "codemirror_mode": {
    "name": "ipython",
    "version": 3
   },
   "file_extension": ".py",
   "mimetype": "text/x-python",
   "name": "python",
   "nbconvert_exporter": "python",
   "pygments_lexer": "ipython3",
   "version": "3.8.13"
  }
 },
 "nbformat": 4,
 "nbformat_minor": 5
}
