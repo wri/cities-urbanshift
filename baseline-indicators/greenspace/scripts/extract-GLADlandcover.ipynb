{
 "cells": [
  {
   "cell_type": "code",
   "execution_count": null,
   "id": "30ea11e8-dd5e-4c74-be11-497feb22a025",
   "metadata": {},
   "outputs": [],
   "source": [
    "# import sys\n",
    "# !{sys.executable} -m pip install pip earthengine-api\n",
    "# !{sys.executable} -m pip install pip geemap"
   ]
  },
  {
   "cell_type": "code",
   "execution_count": null,
   "id": "035461fb-746d-4367-b887-f98fb8677eb9",
   "metadata": {},
   "outputs": [],
   "source": [
    "import ee\n",
    "# ee.Authenticate()"
   ]
  },
  {
   "cell_type": "code",
   "execution_count": null,
   "id": "1d44b9e6-310f-45fb-bf42-acf0277df0ab",
   "metadata": {},
   "outputs": [],
   "source": [
    "ee.Initialize()"
   ]
  },
  {
   "cell_type": "code",
   "execution_count": null,
   "id": "d3b9ad94-518d-4e80-8f70-3dcb8909f5e0",
   "metadata": {},
   "outputs": [],
   "source": [
    "import geemap\n",
    "import ipyleaflet\n",
    "import numpy as np\n",
    "import requests\n",
    "import os\n",
    "import pandas as pd\n",
    "import rasterio\n",
    "import boto3\n",
    "import geopandas as gpd\n",
    "import glob"
   ]
  },
  {
   "cell_type": "code",
   "execution_count": null,
   "id": "785f7693-0699-4380-9fdf-0d9580f9f371",
   "metadata": {},
   "outputs": [],
   "source": [
    "# define directory\n",
    "out_dir = os.getcwd()\n",
    "bucket_name = 'cities-urbanshift' \n",
    "aws_s3_dir = 'https://'+bucket_name+'.s3.eu-west-3.amazonaws.com'"
   ]
  },
  {
   "cell_type": "markdown",
   "id": "c02f5a68-86a7-4a3e-8c59-a3071d2ecc56",
   "metadata": {},
   "source": [
    "# Load data"
   ]
  },
  {
   "cell_type": "code",
   "execution_count": null,
   "id": "11f10650-ddea-4abc-9391-174fd97ea9bb",
   "metadata": {},
   "outputs": [],
   "source": [
    "LCLUC2000 = ee.Image('projects/glad/GLCLU2020/LCLUC_2000')\n",
    "LCLUC2020 = ee.Image('projects/glad/GLCLU2020/LCLUC_2020')\n",
    "LCLUCscale = LCLUC2000.projection().nominalScale()\n",
    "\n",
    "def simplifyLCLUC(im):\n",
    "    im = (im.where(im.eq(0),0)\n",
    "    .where(im.gte(1).And(im.lte(24)),1)\n",
    "    .where(im.gte(25).And(im.lte(41)),2)\n",
    "    .where(im.gte(42).And(im.lte(48)),3)\n",
    "    .where(im.gte(100).And(im.lte(124)),4)\n",
    "    .where(im.gte(125).And(im.lte(148)),5)\n",
    "    .where(im.gte(200).And(im.lte(207)),6)\n",
    "    ##.where(im.eq(254),6)\n",
    "    .where(im.eq(241),7)\n",
    "    .where(im.eq(244),8)\n",
    "    .where(im.eq(250),9)\n",
    "    .where(im.eq(255),10))\n",
    "    return im\n",
    "\n",
    "LCLUC2000 = simplifyLCLUC(LCLUC2000)\n",
    "LCLUC2020 = simplifyLCLUC(LCLUC2020)\n",
    "\n",
    "LANDCLASSES = {\n",
    "    0: {'name': 'bare ground', 'is_habitat': 0, 'color': 'FEFECC'},\n",
    "    1: {'name': 'short vegetation', 'is_habitat': 1, 'color': 'B9B91E'},\n",
    "    2: {'name': 'forest', 'is_habitat': 1, 'color': '347834'},\n",
    "    3: {'name': 'tall forest', 'is_habitat': 1, 'color': '0D570D'},\n",
    "    4: {'name': 'wetland - short vegetation', 'is_habitat': 1, 'color': '88CAAD'},\n",
    "    5: {'name': 'wetland - forest', 'is_habitat': 1, 'color': '589558'},\n",
    "    6: {'name': 'water', 'is_habitat': 1, 'color': '6BAED6'},\n",
    "    7: {'name': 'snow/ice', 'is_habitat': 0, 'color': 'ACD1E8'},\n",
    "    8: {'name': 'cropland', 'is_habitat': 0, 'color': 'FFF183'},\n",
    "    9: {'name': 'built-up', 'is_habitat': 0, 'color': 'E8765D'}\n",
    "}\n",
    "\n",
    "habitat_2000 = LCLUC2000.remap(list(LANDCLASSES.keys()), [int(LANDCLASSES[i]['is_habitat']) for i in LANDCLASSES], 0)\n",
    "habitat_2020 = LCLUC2020.remap(list(LANDCLASSES.keys()), [int(LANDCLASSES[i]['is_habitat']) for i in LANDCLASSES], 0)\n",
    "\n",
    "class_00 = habitat_2000.eq(0).multiply(habitat_2020.eq(0)) # 0: never habitat\n",
    "class_01 = habitat_2000.multiply(-1).add(1).multiply(habitat_2020) # 1: became habitat between 2000 and 2020\n",
    "class_10 = habitat_2020.multiply(-1).add(1).multiply(habitat_2000) # 10: became nonhabitat between 2000 and 2020\n",
    "class_11 = habitat_2000.eq(1).multiply(habitat_2020.eq(1)) # 11: was always habitat\n",
    "habitatchange = class_01.updateMask(class_01.eq(1)).where(1,1).blend(class_10.updateMask(class_10.eq(1)).where(1,10))\n",
    "\n",
    "Map = geemap.Map(height=\"400px\")\n",
    "Map.addLayer(habitat_2000,{'min':0,'max':1},\"habitat_2000\")\n",
    "Map.addLayer(habitat_2020,{'min':0,'max':1},\"habitat_2020\")\n",
    "Map.addLayer(habitatchange,{'min':1,'max':10},\"change\")\n",
    "Map"
   ]
  },
  {
   "cell_type": "code",
   "execution_count": null,
   "id": "674d6aa0-7144-47a5-80ed-bf4186d84bc7",
   "metadata": {},
   "outputs": [],
   "source": [
    "# get list of cities\n",
    "boundary_georef = pd.read_csv(aws_s3_dir+'/data/boundaries/v_0/boundary_georef.csv')\n",
    "boundary_georef"
   ]
  },
  {
   "cell_type": "markdown",
   "id": "6535d63b-696b-4500-9c15-39f912e1575e",
   "metadata": {},
   "source": [
    "# Extract land cover by city"
   ]
  },
  {
   "cell_type": "code",
   "execution_count": null,
   "id": "196a4d67-0243-48d1-ae95-aa90ed0cafa3",
   "metadata": {},
   "outputs": [],
   "source": [
    "for i in range(0,len(boundary_georef)):\n",
    "    print(i)\n",
    "    boundary_id = boundary_georef.loc[i, 'geo_name']+'-'+boundary_georef.loc[i, 'aoi_boundary_name']\n",
    "    print(boundary_id)\n",
    "    \n",
    "    # read boundaries\n",
    "    boundary_path = aws_s3_dir+'/data/boundaries/v_0/boundary-'+boundary_id+'.geojson'\n",
    "    boundary_geo = requests.get(boundary_path).json()\n",
    "    boundary_geo_ee = geemap.geojson_to_ee(boundary_geo)\n",
    "    \n",
    "    # Download ee.Image as GeoTIFF to Google Drive \n",
    "    geemap.ee_export_image_to_drive(\n",
    "        LCLUC2000.toByte(), # use toByte() to reduce file size\n",
    "        description = boundary_id + '-GLADlandcover-2000',\n",
    "        folder='data', \n",
    "        scale=100, #LCLUCscale or 100\n",
    "        region=boundary_geo_ee.geometry(),\n",
    "        maxPixels = 5000000000\n",
    "    )\n",
    "    \n",
    "    geemap.ee_export_image_to_drive(\n",
    "        LCLUC2020.toByte(), # use toByte() to reduce file size\n",
    "        description = boundary_id + '-GLADlandcover-2020',\n",
    "        folder='data', \n",
    "        scale=100, #LCLUCscale or 100\n",
    "        region=boundary_geo_ee.geometry(),\n",
    "        maxPixels = 5000000000\n",
    "    )\n",
    "    \n",
    "    geemap.ee_export_image_to_drive(\n",
    "        habitatchange.toByte(), # use toByte() to reduce file size\n",
    "        description = boundary_id + '-habitatchange-2000to2020',\n",
    "        folder='data', \n",
    "        scale=100, #LCLUCscale or 100\n",
    "        region=boundary_geo_ee.geometry(),\n",
    "        maxPixels = 5000000000\n",
    "    )"
   ]
  },
  {
   "cell_type": "markdown",
   "id": "48219700-c1de-4192-ac46-2455d81664a1",
   "metadata": {},
   "source": [
    "# Upload in aws\n",
    "\n",
    "Since we can't download directly the rasters locally due to their size, the rasters are stored in a google-drive folder and then downloaded locally in order to push them back to s3 bucket."
   ]
  },
  {
   "cell_type": "code",
   "execution_count": null,
   "id": "cb8fac46-b020-4d00-bb3e-9ec76687936d",
   "metadata": {},
   "outputs": [],
   "source": [
    "# connect to s3\n",
    "aws_credentials = pd.read_csv('/home/jovyan/PlanetaryComputerExamples/aws_credentials.csv')\n",
    "aws_key = aws_credentials.iloc[0]['Access key ID']\n",
    "aws_secret = aws_credentials.iloc[0]['Secret access key']\n",
    "\n",
    "s3 = boto3.resource(\n",
    "    service_name='s3',\n",
    "    aws_access_key_id=aws_key,\n",
    "    aws_secret_access_key=aws_secret\n",
    ")"
   ]
  },
  {
   "cell_type": "code",
   "execution_count": null,
   "id": "2ae44f0f-b2ce-4409-898e-cbf62288a7ae",
   "metadata": {},
   "outputs": [],
   "source": [
    "for i in range(0, len(boundary_georef)):\n",
    "    boundary_id = boundary_georef.loc[i, 'geo_name']+'-'+boundary_georef.loc[i, 'aoi_boundary_name']\n",
    "    geo_name = boundary_georef.loc[i, 'geo_name']\n",
    "    print(\"\\n boundary_id: \"+boundary_id)\n",
    "\n",
    "    # read local raster\n",
    "    city_file = 'data/' + boundary_id + '-GLADlandcover-2000.tif'\n",
    "    raster_path = os.path.join(out_dir, city_file)\n",
    "    \n",
    "    # upload in s3\n",
    "    s3.meta.client.upload_file(raster_path, \n",
    "                               bucket_name, \n",
    "                               'data/land_use/GLAD-ARD/v_0/' + boundary_id + '-GLADlandcover-2000-100m.tif',\n",
    "                               ExtraArgs={'ACL':'public-read'})"
   ]
  },
  {
   "cell_type": "code",
   "execution_count": null,
   "id": "f7fb0256-4bae-4107-88df-263e7d330ca7",
   "metadata": {},
   "outputs": [],
   "source": [
    "for i in range(0, len(boundary_georef)):\n",
    "    boundary_id = boundary_georef.loc[i, 'geo_name']+'-'+boundary_georef.loc[i, 'aoi_boundary_name']\n",
    "    geo_name = boundary_georef.loc[i, 'geo_name']\n",
    "    print(\"\\n boundary_id: \"+boundary_id)\n",
    "\n",
    "    # read local raster\n",
    "    city_file = 'data/' + boundary_id + '-GLADlandcover-2020.tif'\n",
    "    raster_path = os.path.join(out_dir, city_file)\n",
    "    \n",
    "    # upload in s3\n",
    "    s3.meta.client.upload_file(raster_path, \n",
    "                               bucket_name, \n",
    "                               'data/land_use/GLAD-ARD/v_0/' + boundary_id + '-GLADlandcover-2020-100m.tif',\n",
    "                               ExtraArgs={'ACL':'public-read'})"
   ]
  },
  {
   "cell_type": "code",
   "execution_count": null,
   "id": "faffd1f3-9e31-4e82-852c-2a6e2bf2a1f8",
   "metadata": {},
   "outputs": [],
   "source": [
    "for i in range(0, len(boundary_georef)):\n",
    "    boundary_id = boundary_georef.loc[i, 'geo_name']+'-'+boundary_georef.loc[i, 'aoi_boundary_name']\n",
    "    geo_name = boundary_georef.loc[i, 'geo_name']\n",
    "    print(\"\\n boundary_id: \"+boundary_id)\n",
    "\n",
    "    # read local raster\n",
    "    city_file = 'data/' + boundary_id + '-habitatchange-2000to2020.tif'\n",
    "    raster_path = os.path.join(out_dir, city_file)\n",
    "    \n",
    "    # upload in s3\n",
    "    s3.meta.client.upload_file(raster_path, \n",
    "                               bucket_name, \n",
    "                               'data/land_use/GLAD-ARD/v_0/' + boundary_id + '-habitatchange-2000to2020-100m.tif',\n",
    "                               ExtraArgs={'ACL':'public-read'})"
   ]
  },
  {
   "cell_type": "markdown",
   "id": "2f7dcc1b-04eb-4704-8f14-d405a3ecd76c",
   "metadata": {},
   "source": [
    "# Visualize data"
   ]
  },
  {
   "cell_type": "code",
   "execution_count": null,
   "id": "196625f2-a39e-4035-99b2-a1582bd61b16",
   "metadata": {},
   "outputs": [],
   "source": [
    "## create map\n",
    "Map = geemap.Map(height=\"350px\")\n",
    "Map"
   ]
  },
  {
   "cell_type": "code",
   "execution_count": null,
   "id": "93d53861-a215-414f-b686-4a945cb1dd8c",
   "metadata": {},
   "outputs": [],
   "source": [
    "## add basemap and center on area of interest\n",
    "Map.add_basemap('HYBRID')\n",
    "Map.centerObject(boundary_geo_ee, zoom=8)"
   ]
  },
  {
   "cell_type": "code",
   "execution_count": null,
   "id": "dd8ce425-2fe0-4455-a741-1045dc49eb47",
   "metadata": {},
   "outputs": [],
   "source": [
    "Map.addLayer(greenmask),\n",
    "             {'min':0, 'max':0.5, 'palette':['white','#006400']},\n",
    "             'Vegetation cover',True,1)"
   ]
  }
 ],
 "metadata": {
  "kernelspec": {
   "display_name": "Python 3 (ipykernel)",
   "language": "python",
   "name": "python3"
  },
  "language_info": {
   "codemirror_mode": {
    "name": "ipython",
    "version": 3
   },
   "file_extension": ".py",
   "mimetype": "text/x-python",
   "name": "python",
   "nbconvert_exporter": "python",
   "pygments_lexer": "ipython3",
   "version": "3.10.6"
  }
 },
 "nbformat": 4,
 "nbformat_minor": 5
}
