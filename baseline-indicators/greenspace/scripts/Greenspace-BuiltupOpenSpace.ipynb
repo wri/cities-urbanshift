{
 "cells": [
  {
   "cell_type": "code",
   "execution_count": 1,
   "id": "ea33f141",
   "metadata": {},
   "outputs": [
    {
     "data": {
      "text/html": [
       "<p>To authorize access needed by Earth Engine, open the following\n",
       "        URL in a web browser and follow the instructions:</p>\n",
       "        <p><a href=https://code.earthengine.google.com/client-auth?scopes=https%3A//www.googleapis.com/auth/earthengine%20https%3A//www.googleapis.com/auth/devstorage.full_control&request_id=_7Sd1wdfvegBNhEHZJIBGr87YxcXZEapraeLnmY-E7g&tc=oORY12FvOt6YNq_pf0EqGfgT8KMYS1RDl1xuSmm7ohQ&cc=yI_622fILJ5zlbjTuV3lgBno_sJayxH87uXfkje05K4>https://code.earthengine.google.com/client-auth?scopes=https%3A//www.googleapis.com/auth/earthengine%20https%3A//www.googleapis.com/auth/devstorage.full_control&request_id=_7Sd1wdfvegBNhEHZJIBGr87YxcXZEapraeLnmY-E7g&tc=oORY12FvOt6YNq_pf0EqGfgT8KMYS1RDl1xuSmm7ohQ&cc=yI_622fILJ5zlbjTuV3lgBno_sJayxH87uXfkje05K4</a></p>\n",
       "        <p>The authorization workflow will generate a code, which you\n",
       "        should paste in the box below</p>\n",
       "        "
      ],
      "text/plain": [
       "<IPython.core.display.HTML object>"
      ]
     },
     "metadata": {},
     "output_type": "display_data"
    },
    {
     "name": "stdout",
     "output_type": "stream",
     "text": [
      "Enter verification code: 4/1AX4XfWhxUs9ekMBYqQ0S5rpimdZCEY-8QA8PJR_FhqVD6bVimQgjoOx0gUg\n",
      "\n",
      "Successfully saved authorization token.\n"
     ]
    }
   ],
   "source": [
    "import ee\n",
    "ee.Authenticate()"
   ]
  },
  {
   "cell_type": "code",
   "execution_count": 2,
   "id": "94d6aaae",
   "metadata": {},
   "outputs": [],
   "source": [
    "ee.Initialize()"
   ]
  },
  {
   "cell_type": "code",
   "execution_count": 3,
   "id": "a82dcb99",
   "metadata": {},
   "outputs": [],
   "source": [
    "import geemap\n",
    "import geopandas"
   ]
  },
  {
   "cell_type": "code",
   "execution_count": 4,
   "id": "4c295590",
   "metadata": {},
   "outputs": [],
   "source": [
    "## specify areas of interest / districts\n",
    "#Districts = ee.FeatureCollection('users/emackres/Wards/Addis_Ababa_Woredas')\n",
    "#Districts = ee.FeatureCollection('users/emackres/Wards/Kigali_Sectors_2012_PrincipleComponents')\n",
    "#Districts = ee.FeatureCollection('users/emackres/KingCountyJurisdictions')\n",
    "#UrbanShiftCities = ee.FeatureCollection('users/emackres/UrbanShift_cities')\n",
    "#Districts= UrbanShiftCities.filter(ee.Filter.inList('id',['CRI-San_Jose'])) \n",
    "Districts = ee.FeatureCollection('users/emackres/Wards/San_Jose_municipalities')\n",
    "\n",
    "#print(Districts.limit(1).getInfo())"
   ]
  },
  {
   "cell_type": "code",
   "execution_count": 5,
   "id": "5a7f1088",
   "metadata": {},
   "outputs": [
    {
     "data": {
      "application/vnd.jupyter.widget-view+json": {
       "model_id": "2fabee16f138441cbf652dca430919aa",
       "version_major": 2,
       "version_minor": 0
      },
      "text/plain": [
       "Map(center=[20, 0], controls=(WidgetControl(options=['position', 'transparent_bg'], widget=HBox(children=(Togg…"
      ]
     },
     "metadata": {},
     "output_type": "display_data"
    }
   ],
   "source": [
    "## create map\n",
    "Map = geemap.Map(height=\"350px\")\n",
    "Map"
   ]
  },
  {
   "cell_type": "code",
   "execution_count": 6,
   "id": "d7c8ec95",
   "metadata": {},
   "outputs": [],
   "source": [
    "## add basemap and center on area of interest\n",
    "Map.add_basemap('HYBRID')\n",
    "Map.centerObject(Districts, zoom=10)"
   ]
  },
  {
   "cell_type": "code",
   "execution_count": 7,
   "id": "5c42b835",
   "metadata": {},
   "outputs": [],
   "source": [
    "##Add Land use land cover dataset\n",
    "WC = ee.ImageCollection(\"ESA/WorldCover/v100\")\n",
    "WorldCover = WC.first();\n",
    "Map.addLayer(WorldCover, {'bands': \"Map\"}, \"WorldCover 10m 2020 (ESA)\",1);\n",
    "\n",
    "Map.add_legend(builtin_legend='ESA_WorldCover',position='bottomleft')"
   ]
  },
  {
   "cell_type": "code",
   "execution_count": 8,
   "id": "252ca463",
   "metadata": {},
   "outputs": [],
   "source": [
    "Map.addLayer(Districts,{},\"Districts\")"
   ]
  },
  {
   "cell_type": "code",
   "execution_count": 9,
   "id": "8e367d9b",
   "metadata": {},
   "outputs": [
    {
     "name": "stdout",
     "output_type": "stream",
     "text": [
      "{'geodesic': False, 'type': 'Polygon', 'coordinates': [[[-84.46888054107754, 9.551113504203316], [-83.64649300414285, 9.551113504203316], [-83.64649300414285, 10.413695383547827], [-84.46888054107754, 10.413695383547827], [-84.46888054107754, 9.551113504203316]]]}\n",
      "West -84.46888054107754\n",
      "East -83.64649300414285\n",
      "North 9.551113504203316\n",
      "South 10.413695383547827\n"
     ]
    }
   ],
   "source": [
    "# get bounding box for Districts area\n",
    "\n",
    "bb = Districts.union().geometry().bounds(1000)\n",
    "print(bb.getInfo())\n",
    "#Map.addLayer(bb,{},\"Bounding box\")\n",
    "\n",
    "# get N, S, E, W coordinates from bounding box\n",
    "# from https://gis.stackexchange.com/questions/318959/get-lon-lat-of-a-top-left-corner-for-geometry-in-google-earth-engine\n",
    "\n",
    "## return the list of coordinates\n",
    "listCoords = ee.Array.cat(bb.coordinates(), 1); \n",
    "##Casting it to an array makes it possible to slice out the x and y coordinates:\n",
    "##get the X-coordinates\n",
    "xCoords = listCoords.slice(1, 0, 1); #print('xCoords', xCoords.getInfo());\n",
    "yCoords = listCoords.slice(1, 1, 2); #print('yCoords', yCoords.getInfo());\n",
    "\n",
    "## Reducing each array reveals then the min and max values:\n",
    "## reduce the arrays to find the max (or min) value\n",
    "West = ee.Number(xCoords.reduce('min', [0]).get([0,0])).getInfo(); print('West',West);\n",
    "East = ee.Number(xCoords.reduce('max', [0]).get([0,0])).getInfo(); print('East',East);\n",
    "North = ee.Number(yCoords.reduce('min', [0]).get([0,0])).getInfo(); print('North',North);\n",
    "South = ee.Number(yCoords.reduce('max', [0]).get([0,0])).getInfo(); print('South',South);"
   ]
  },
  {
   "cell_type": "code",
   "execution_count": 10,
   "id": "92672355",
   "metadata": {},
   "outputs": [
    {
     "name": "stdout",
     "output_type": "stream",
     "text": [
      "1985\n"
     ]
    },
    {
     "data": {
      "text/html": [
       "<div>\n",
       "<style scoped>\n",
       "    .dataframe tbody tr th:only-of-type {\n",
       "        vertical-align: middle;\n",
       "    }\n",
       "\n",
       "    .dataframe tbody tr th {\n",
       "        vertical-align: top;\n",
       "    }\n",
       "\n",
       "    .dataframe thead th {\n",
       "        text-align: right;\n",
       "    }\n",
       "</style>\n",
       "<table border=\"1\" class=\"dataframe\">\n",
       "  <thead>\n",
       "    <tr style=\"text-align: right;\">\n",
       "      <th></th>\n",
       "      <th>element_type</th>\n",
       "      <th>osmid</th>\n",
       "      <th>leisure</th>\n",
       "      <th>source</th>\n",
       "      <th>geometry</th>\n",
       "      <th>name</th>\n",
       "      <th>addr:city</th>\n",
       "      <th>contact:phone</th>\n",
       "      <th>opening_hours</th>\n",
       "      <th>operator</th>\n",
       "      <th>...</th>\n",
       "      <th>leaf_type</th>\n",
       "      <th>operator:type</th>\n",
       "      <th>boundary</th>\n",
       "      <th>material</th>\n",
       "      <th>place</th>\n",
       "      <th>man_made</th>\n",
       "      <th>height</th>\n",
       "      <th>protect_class</th>\n",
       "      <th>ref:CR:SINAC</th>\n",
       "      <th>start_date</th>\n",
       "    </tr>\n",
       "  </thead>\n",
       "  <tbody>\n",
       "    <tr>\n",
       "      <th>1974</th>\n",
       "      <td>way</td>\n",
       "      <td>1046371686</td>\n",
       "      <td>playground</td>\n",
       "      <td>NaN</td>\n",
       "      <td>POLYGON ((-84.00292 9.95366, -84.00308 9.95356...</td>\n",
       "      <td>NaN</td>\n",
       "      <td>NaN</td>\n",
       "      <td>NaN</td>\n",
       "      <td>NaN</td>\n",
       "      <td>NaN</td>\n",
       "      <td>...</td>\n",
       "      <td>NaN</td>\n",
       "      <td>NaN</td>\n",
       "      <td>NaN</td>\n",
       "      <td>NaN</td>\n",
       "      <td>NaN</td>\n",
       "      <td>NaN</td>\n",
       "      <td>NaN</td>\n",
       "      <td>NaN</td>\n",
       "      <td>NaN</td>\n",
       "      <td>NaN</td>\n",
       "    </tr>\n",
       "    <tr>\n",
       "      <th>892</th>\n",
       "      <td>way</td>\n",
       "      <td>130098464</td>\n",
       "      <td>park</td>\n",
       "      <td>KG Ground Survey 2015</td>\n",
       "      <td>POLYGON ((-84.12873 9.98952, -84.12909 9.98998...</td>\n",
       "      <td>Parque La Lilliana 2</td>\n",
       "      <td>NaN</td>\n",
       "      <td>NaN</td>\n",
       "      <td>NaN</td>\n",
       "      <td>NaN</td>\n",
       "      <td>...</td>\n",
       "      <td>NaN</td>\n",
       "      <td>NaN</td>\n",
       "      <td>NaN</td>\n",
       "      <td>NaN</td>\n",
       "      <td>NaN</td>\n",
       "      <td>NaN</td>\n",
       "      <td>NaN</td>\n",
       "      <td>NaN</td>\n",
       "      <td>NaN</td>\n",
       "      <td>NaN</td>\n",
       "    </tr>\n",
       "    <tr>\n",
       "      <th>617</th>\n",
       "      <td>way</td>\n",
       "      <td>713693643</td>\n",
       "      <td>park</td>\n",
       "      <td>NaN</td>\n",
       "      <td>POLYGON ((-84.08185 9.94393, -84.08184 9.94406...</td>\n",
       "      <td>Parque Florida Norte 2</td>\n",
       "      <td>NaN</td>\n",
       "      <td>NaN</td>\n",
       "      <td>NaN</td>\n",
       "      <td>NaN</td>\n",
       "      <td>...</td>\n",
       "      <td>NaN</td>\n",
       "      <td>NaN</td>\n",
       "      <td>NaN</td>\n",
       "      <td>NaN</td>\n",
       "      <td>NaN</td>\n",
       "      <td>NaN</td>\n",
       "      <td>NaN</td>\n",
       "      <td>NaN</td>\n",
       "      <td>NaN</td>\n",
       "      <td>NaN</td>\n",
       "    </tr>\n",
       "  </tbody>\n",
       "</table>\n",
       "<p>3 rows × 82 columns</p>\n",
       "</div>"
      ],
      "text/plain": [
       "     element_type       osmid     leisure                 source  \\\n",
       "1974          way  1046371686  playground                    NaN   \n",
       "892           way   130098464        park  KG Ground Survey 2015   \n",
       "617           way   713693643        park                    NaN   \n",
       "\n",
       "                                               geometry  \\\n",
       "1974  POLYGON ((-84.00292 9.95366, -84.00308 9.95356...   \n",
       "892   POLYGON ((-84.12873 9.98952, -84.12909 9.98998...   \n",
       "617   POLYGON ((-84.08185 9.94393, -84.08184 9.94406...   \n",
       "\n",
       "                        name addr:city contact:phone opening_hours operator  \\\n",
       "1974                     NaN       NaN           NaN           NaN      NaN   \n",
       "892     Parque La Lilliana 2       NaN           NaN           NaN      NaN   \n",
       "617   Parque Florida Norte 2       NaN           NaN           NaN      NaN   \n",
       "\n",
       "      ... leaf_type operator:type boundary material place man_made height  \\\n",
       "1974  ...       NaN           NaN      NaN      NaN   NaN      NaN    NaN   \n",
       "892   ...       NaN           NaN      NaN      NaN   NaN      NaN    NaN   \n",
       "617   ...       NaN           NaN      NaN      NaN   NaN      NaN    NaN   \n",
       "\n",
       "     protect_class ref:CR:SINAC start_date  \n",
       "1974           NaN          NaN        NaN  \n",
       "892            NaN          NaN        NaN  \n",
       "617            NaN          NaN        NaN  \n",
       "\n",
       "[3 rows x 82 columns]"
      ]
     },
     "execution_count": 10,
     "metadata": {},
     "output_type": "execute_result"
    }
   ],
   "source": [
    "# use bounding box to get geodataframe of all OSM data on recreation sites/parks. Use .drop to remove properties that have incompatible names with FeatureCollections\n",
    "\n",
    "tags = {'leisure':['park','nature_reserve','common','playground']} #{'leisure':['park','nature_reserve','common','pitch','playground','track'],'boundary':['protected_area','national_park']} #}\n",
    "RecSites = geemap.osm_gdf_from_bbox(North, South, East, West, tags)#.drop(columns=['contact:p.o.box']) # use to remove properties that have incompatible names with FeatureCollections\n",
    "#RecSites = geemap.osm_gdf_from_bbox(9.09932636176124, 8.833260675723484, 38.90627204838861, 38.63876608591662, {'leisure':'park'}).drop(columns=['contact:p.o.box'])\n",
    "RecSites = RecSites.reset_index()\n",
    "print(RecSites.shape[0])\n",
    "RecSites.sample(3)\n"
   ]
  },
  {
   "cell_type": "code",
   "execution_count": 11,
   "id": "31e666cf",
   "metadata": {},
   "outputs": [],
   "source": [
    "# convert Geodataframe to GeoJson\n",
    "RecSitesGJ = geemap.gdf_to_geojson(RecSites)"
   ]
  },
  {
   "cell_type": "code",
   "execution_count": 12,
   "id": "dbefd53e",
   "metadata": {},
   "outputs": [],
   "source": [
    "# convert GeoJson to ee.FeatureCollection\n",
    "RecSitesFC = geemap.geojson_to_ee(RecSitesGJ)#.filter(ee.Filter.eq('element_type','way')).select(['osmid','element_type','geometry','leisure','boundary'])\n",
    "#print(RecSitesFC.first().toDictionary().getInfo())\n"
   ]
  },
  {
   "cell_type": "code",
   "execution_count": 13,
   "id": "f9fd2c67",
   "metadata": {},
   "outputs": [],
   "source": [
    "# optional and not working in a helpful way yet. \n",
    "# simplify geometries and reduce number of properties.  This doesn't seem to reduce size of large FCs sufficiently for the next operations. \n",
    "\n",
    "def simplifyFC(feat):\n",
    "    feat = ee.Feature(feat)\n",
    "    return feat.simplify(100)#.select(['osmid','element_type','geometry','leisure','boundary'])\n",
    "\n",
    "RecSitesFCsimp = RecSitesFC.map(simplifyFC)  #.filter(ee.Filter.eq('element_type','way'))\n",
    "#print(RecSitesFCsimp.first().getInfo())"
   ]
  },
  {
   "cell_type": "code",
   "execution_count": 14,
   "id": "77012ff5",
   "metadata": {},
   "outputs": [
    {
     "data": {
      "application/vnd.jupyter.widget-view+json": {
       "model_id": "2fabee16f138441cbf652dca430919aa",
       "version_major": 2,
       "version_minor": 0
      },
      "text/plain": [
       "Map(center=[9.929535560132063, -84.03209086625435], controls=(WidgetControl(options=['position', 'transparent_…"
      ]
     },
     "metadata": {},
     "output_type": "display_data"
    }
   ],
   "source": [
    "# add recreation sites to map \n",
    "Map.addLayer(RecSitesFC, {}, 'Recreation Sites')\n",
    "#Map.centerObject(RecSitesFC, 11)\n",
    "Map\n",
    "\n",
    "# Large number of or complicated features may lead to \"EEException: Request payload size exceeds the limit:\" errors when trying to add to map or do additional operations.  Need to simplify geometries in those cases?  Split FC into multiple?  "
   ]
  },
  {
   "cell_type": "code",
   "execution_count": 15,
   "id": "7553c7ce",
   "metadata": {},
   "outputs": [],
   "source": [
    "## Make an image, with the same projection as WorldCover, out of the OSM ways in the FC.\n",
    "\n",
    "WCprojection = WorldCover.projection(); \n",
    "#RecSitesImg = RecSitesFC.filter(ee.Filter.eq('element_type','way')).reduceToImage(properties=['osmid'],reducer=ee.Reducer.first());\n",
    "\n",
    "RecSitesImg = RecSitesFCsimp.style(\n",
    "  color='gray',\n",
    ").reproject(\n",
    "      crs= WCprojection\n",
    "    )\n",
    "#print(RecSitesImg.getInfo())\n",
    "\n",
    "## Display image.\n",
    "#Map.addLayer(RecSitesImg, {},\"Rec Sites Image\");"
   ]
  },
  {
   "cell_type": "code",
   "execution_count": 16,
   "id": "8ebaf28f",
   "metadata": {},
   "outputs": [],
   "source": [
    "# create image with two bands: BuiltupPixels and UrbanOpenPixels\n",
    "Builtup = WorldCover.updateMask(WorldCover.eq(50)).rename(\"BuiltupPixels\")\n",
    "UrbanOpen = RecSitesImg.updateMask(WorldCover.eq(50)).select(1).rename(\"UrbanOpenPixels\")\n",
    "\n",
    "#Map.addLayer(Builtup, {},\"Builtup\");\n",
    "#Map.addLayer(UrbanOpen, {},\"UrbanOpen\");\n",
    "\n",
    "comb = Builtup.addBands([UrbanOpen])\n",
    "#print(comb.getInfo)"
   ]
  },
  {
   "cell_type": "code",
   "execution_count": 17,
   "id": "da97dcba",
   "metadata": {},
   "outputs": [],
   "source": [
    "## create FeatureCollection with pixels counts of Builtup and UrbanOpen for each feature\n",
    "\n",
    "OpenBuiltcount=comb.reduceRegions(\n",
    "  reducer= ee.Reducer.count(), \n",
    "  collection= Districts, \n",
    "  scale= 10, \n",
    "  tileScale= 1\n",
    ")\n",
    "\n",
    "#print(OpenBuiltcount.limit(1).getInfo())"
   ]
  },
  {
   "cell_type": "code",
   "execution_count": 18,
   "id": "18f08a69",
   "metadata": {},
   "outputs": [],
   "source": [
    "# Function to translate pixel counts into area and percents\n",
    "\n",
    "def CountToArea(feat):\n",
    "    feat = ee.Feature(feat)\n",
    "    area = ee.Number(feat.area()).multiply(0.000001)\n",
    "    UrbanOpenArea = ee.Number(feat.getNumber('UrbanOpenPixels')).multiply(ee.Number(100)).multiply(ee.Number(0.000001))\n",
    "    BuiltupArea = ee.Number(feat.getNumber('BuiltupPixels')).multiply(ee.Number(100)).multiply(ee.Number(0.000001))\n",
    "    OpenAreaPctofBuiltUpArea = ee.Number(UrbanOpenArea).divide(ee.Number(BuiltupArea))\n",
    "\n",
    "    return feat.set({\n",
    "        'TotalareaKM2': area,\n",
    "        'UrbanOpenAreaKM2': UrbanOpenArea,\n",
    "        'BuiltupAreaKM2': BuiltupArea,\n",
    "        'OpenAreaPctofBuiltUpArea': OpenAreaPctofBuiltUpArea\n",
    "    })\n",
    "\n",
    "# apply function to FeatureCollection\n",
    "OpenBuiltAreaPct = OpenBuiltcount.map(CountToArea)\n",
    "#print(OpenBuiltAreaPct.limit(1).getInfo())"
   ]
  },
  {
   "cell_type": "code",
   "execution_count": 19,
   "id": "bc8f6cdd",
   "metadata": {},
   "outputs": [
    {
     "data": {
      "application/vnd.jupyter.widget-view+json": {
       "model_id": "2fabee16f138441cbf652dca430919aa",
       "version_major": 2,
       "version_minor": 0
      },
      "text/plain": [
       "Map(center=[9.929535560132063, -84.03209086625435], controls=(WidgetControl(options=['position', 'transparent_…"
      ]
     },
     "metadata": {},
     "output_type": "display_data"
    }
   ],
   "source": [
    "Tpctfills = ee.Image().paint(**{'featureCollection': OpenBuiltAreaPct,'color': 'OpenAreaPctofBuiltUpArea'})\n",
    "\n",
    "fillspalette = ['red', 'green']\n",
    "Map.addLayer(Tpctfills, {'palette': fillspalette,'min':0,'max':0.1}, 'Open Area as % of built-up area', True, 0.65)\n",
    "Map"
   ]
  },
  {
   "cell_type": "code",
   "execution_count": null,
   "id": "2226d0e8",
   "metadata": {},
   "outputs": [],
   "source": []
  },
  {
   "cell_type": "code",
   "execution_count": null,
   "id": "2de8d468",
   "metadata": {},
   "outputs": [],
   "source": []
  },
  {
   "cell_type": "code",
   "execution_count": 20,
   "id": "b5d8d790",
   "metadata": {},
   "outputs": [
    {
     "name": "stderr",
     "output_type": "stream",
     "text": [
      "C:\\Users\\Eric.Mackres.INTERNAL\\Anaconda3\\envs\\geemap2\\lib\\site-packages\\ee\\apifunction.py:206: DeprecationWarning: Feature.geometry() is deprecated: Use Element.geometry()\n",
      "  bound_function = MakeBoundFunction(api_func)\n",
      "C:\\Users\\Eric.Mackres.INTERNAL\\Anaconda3\\envs\\geemap2\\lib\\site-packages\\ee\\apifunction.py:206: DeprecationWarning: Feature.geometry() is deprecated: Use Element.geometry()\n",
      "  bound_function = MakeBoundFunction(api_func)\n",
      "C:\\Users\\Eric.Mackres.INTERNAL\\Anaconda3\\envs\\geemap2\\lib\\site-packages\\ee\\apifunction.py:206: DeprecationWarning: Feature.geometry() is deprecated: Use Element.geometry()\n",
      "  bound_function = MakeBoundFunction(api_func)\n"
     ]
    },
    {
     "name": "stdout",
     "output_type": "stream",
     "text": [
      "Column names:  ['system:index', 'fid', 'UrbanOpenAreaKM2', 'shapeID', 'UrbanOpenPixels', 'ObjectId', 'TotalareaKM2', 'OpenAreaPctofBuiltUpArea', 'BuiltupAreaKM2', 'SHAPE_Leng', 'shapeName', 'BuiltupPixels', 'SHAPE_Area']\n",
      "https://earthengine.googleapis.com/v1alpha/projects/earthengine-legacy/tables/950103076dd415cb4449000fa04d71db-00021eb774503efac784091049057ce0:getFeatures\n"
     ]
    }
   ],
   "source": [
    "# Download OpenBuiltAreaPct as shapefile through URL\n",
    "\n",
    "# function for converting GeometryCollection to Polygon/MultiPolygon\n",
    "def filter_polygons(ftr):\n",
    "    geometries = ftr.geometry().geometries()\n",
    "    geometries = geometries.map(\n",
    "        lambda geo: ee.Feature(ee.Geometry(geo)).set('geoType', ee.Geometry(geo).type())\n",
    "    )\n",
    "\n",
    "    polygons = (\n",
    "        ee.FeatureCollection(geometries)\n",
    "        .filter(ee.Filter.eq('geoType', 'Polygon'))\n",
    "        .geometry()\n",
    "    )\n",
    "    return ee.Feature(polygons).copyProperties(ftr)\n",
    "\n",
    "OpenBuiltAreaPctSHP = OpenBuiltAreaPct.map(filter_polygons)\n",
    "\n",
    "col_names = OpenBuiltAreaPctSHP.first().propertyNames().getInfo()\n",
    "print(\"Column names: \", col_names)\n",
    "\n",
    "url = OpenBuiltAreaPctSHP.getDownloadURL(\"shp\", col_names, 'OpenBuiltAreaPctSHP')\n",
    "print(url)\n"
   ]
  },
  {
   "cell_type": "code",
   "execution_count": 21,
   "id": "a2955978",
   "metadata": {},
   "outputs": [],
   "source": [
    "# Download FeatureCollection of OpenBuiltAreaPct as shapefile to Google Drive\n",
    "\n",
    "# Set configuration parameters for output vector\n",
    "task_config = {\n",
    "    #'folder': 'gee-data',  # output Google Drive folder\n",
    "    'fileFormat': 'SHP',\n",
    "    #'selectors': col_names,  # a list of properties/attributes to be exported\n",
    "}\n",
    "#print('Exporting {}'.format(OpenBuiltAreaPct))\n",
    "task = ee.batch.Export.table.toDrive(OpenBuiltAreaPct, 'OpenBuiltAreaPct', **task_config)\n",
    "task.start()"
   ]
  },
  {
   "cell_type": "code",
   "execution_count": 22,
   "id": "cb9cbaec",
   "metadata": {},
   "outputs": [],
   "source": [
    "\n",
    "# Download FeatureCollection of OSM data (ways/polygons only) to Google Drive as geojson\n",
    "# Set configuration parameters for output vector\n",
    "task_config = {\n",
    "    #'folder': 'gee-data',  # output Google Drive folder\n",
    "    'fileFormat': 'Geojson',\n",
    "    #'selectors': col_names,  # a list of properties/attributes to be exported\n",
    "}\n",
    "\n",
    "#print('Exporting {}'.format(RecSitesFC))\n",
    "task = ee.batch.Export.table.toDrive(RecSitesFC, 'RecSites', **task_config)\n",
    "task.start()"
   ]
  },
  {
   "cell_type": "code",
   "execution_count": null,
   "id": "b06926f0",
   "metadata": {},
   "outputs": [],
   "source": []
  }
 ],
 "metadata": {
  "kernelspec": {
   "display_name": "Python 3 (ipykernel)",
   "language": "python",
   "name": "python3"
  },
  "language_info": {
   "codemirror_mode": {
    "name": "ipython",
    "version": 3
   },
   "file_extension": ".py",
   "mimetype": "text/x-python",
   "name": "python",
   "nbconvert_exporter": "python",
   "pygments_lexer": "ipython3",
   "version": "3.9.12"
  }
 },
 "nbformat": 4,
 "nbformat_minor": 5
}
