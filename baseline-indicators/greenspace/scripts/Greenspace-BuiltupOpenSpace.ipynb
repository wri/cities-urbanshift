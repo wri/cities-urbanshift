{
 "cells": [
  {
   "cell_type": "code",
   "execution_count": 1,
   "id": "ea33f141",
   "metadata": {},
   "outputs": [
    {
     "data": {
      "text/html": [
       "<p>To authorize access needed by Earth Engine, open the following\n",
       "        URL in a web browser and follow the instructions:</p>\n",
       "        <p><a href=https://code.earthengine.google.com/client-auth?scopes=https%3A//www.googleapis.com/auth/earthengine%20https%3A//www.googleapis.com/auth/devstorage.full_control&request_id=Tj9hSQYeVhBP1zEuKrzDb87W9bOMq0s8T0X7vngM14w&tc=1kvQjnjjNPcZYVJt5WFyh9Vi7pig9lgGPFsBCuvKmIo&cc=dsPKc1FlV8N2V-WPxvu6mUtBH6t4eziLCRj8pYytoDk>https://code.earthengine.google.com/client-auth?scopes=https%3A//www.googleapis.com/auth/earthengine%20https%3A//www.googleapis.com/auth/devstorage.full_control&request_id=Tj9hSQYeVhBP1zEuKrzDb87W9bOMq0s8T0X7vngM14w&tc=1kvQjnjjNPcZYVJt5WFyh9Vi7pig9lgGPFsBCuvKmIo&cc=dsPKc1FlV8N2V-WPxvu6mUtBH6t4eziLCRj8pYytoDk</a></p>\n",
       "        <p>The authorization workflow will generate a code, which you\n",
       "        should paste in the box below</p>\n",
       "        "
      ],
      "text/plain": [
       "<IPython.core.display.HTML object>"
      ]
     },
     "metadata": {},
     "output_type": "display_data"
    },
    {
     "name": "stdout",
     "output_type": "stream",
     "text": [
      "Enter verification code: 4/1AX4XfWgypaQTY5c7BZqlXZ9Xa0BL2GbOy6uezk6inlpl3XAMauDKxrx0E8U\n",
      "\n",
      "Successfully saved authorization token.\n"
     ]
    }
   ],
   "source": [
    "import ee\n",
    "ee.Authenticate()"
   ]
  },
  {
   "cell_type": "code",
   "execution_count": 2,
   "id": "94d6aaae",
   "metadata": {},
   "outputs": [],
   "source": [
    "ee.Initialize()"
   ]
  },
  {
   "cell_type": "code",
   "execution_count": 3,
   "id": "a82dcb99",
   "metadata": {},
   "outputs": [],
   "source": [
    "import geemap\n",
    "import geopandas"
   ]
  },
  {
   "cell_type": "code",
   "execution_count": 4,
   "id": "4c295590",
   "metadata": {},
   "outputs": [
    {
     "ename": "NameError",
     "evalue": "name 'UrbanShiftCities' is not defined",
     "output_type": "error",
     "traceback": [
      "\u001b[1;31m---------------------------------------------------------------------------\u001b[0m",
      "\u001b[1;31mNameError\u001b[0m                                 Traceback (most recent call last)",
      "Input \u001b[1;32mIn [4]\u001b[0m, in \u001b[0;36m<cell line: 6>\u001b[1;34m()\u001b[0m\n\u001b[0;32m      1\u001b[0m \u001b[38;5;66;03m## specify areas of interest / districts\u001b[39;00m\n\u001b[0;32m      2\u001b[0m \u001b[38;5;66;03m#Districts = ee.FeatureCollection('users/emackres/Wards/Addis_Ababa_Woredas')\u001b[39;00m\n\u001b[0;32m      3\u001b[0m \u001b[38;5;66;03m#Districts = ee.FeatureCollection('users/emackres/Wards/Kigali_Sectors_2012_PrincipleComponents')\u001b[39;00m\n\u001b[0;32m      4\u001b[0m \u001b[38;5;66;03m#Districts = ee.FeatureCollection('users/emackres/KingCountyJurisdictions')\u001b[39;00m\n\u001b[0;32m      5\u001b[0m \u001b[38;5;66;03m#UrbanShiftCities = ee.FeatureCollection('users/emackres/UrbanShift_cities')\u001b[39;00m\n\u001b[1;32m----> 6\u001b[0m Districts\u001b[38;5;241m=\u001b[39m \u001b[43mUrbanShiftCities\u001b[49m\u001b[38;5;241m.\u001b[39mfilter(ee\u001b[38;5;241m.\u001b[39mFilter\u001b[38;5;241m.\u001b[39minList(\u001b[38;5;124m'\u001b[39m\u001b[38;5;124mid\u001b[39m\u001b[38;5;124m'\u001b[39m,[\u001b[38;5;124m'\u001b[39m\u001b[38;5;124mCRI-San_Jose\u001b[39m\u001b[38;5;124m'\u001b[39m]))\n",
      "\u001b[1;31mNameError\u001b[0m: name 'UrbanShiftCities' is not defined"
     ]
    }
   ],
   "source": [
    "## specify areas of interest / districts\n",
    "#Districts = ee.FeatureCollection('users/emackres/Wards/Addis_Ababa_Woredas')\n",
    "#Districts = ee.FeatureCollection('users/emackres/Wards/Kigali_Sectors_2012_PrincipleComponents')\n",
    "#Districts = ee.FeatureCollection('users/emackres/KingCountyJurisdictions')\n",
    "#UrbanShiftCities = ee.FeatureCollection('users/emackres/UrbanShift_cities')\n",
    "Districts= UrbanShiftCities.filter(ee.Filter.inList('id',['CRI-San_Jose'])) \n",
    "#Districts = ee.FeatureCollection('users/emackres/Wards/San_Jose_municipalities')\n",
    "\n",
    "#print(Districts.limit(1).getInfo())"
   ]
  },
  {
   "cell_type": "code",
   "execution_count": null,
   "id": "5a7f1088",
   "metadata": {},
   "outputs": [],
   "source": [
    "## create map\n",
    "Map = geemap.Map(height=\"350px\")\n",
    "Map"
   ]
  },
  {
   "cell_type": "code",
   "execution_count": null,
   "id": "d7c8ec95",
   "metadata": {},
   "outputs": [],
   "source": [
    "## add basemap and center on area of interest\n",
    "Map.add_basemap('HYBRID')\n",
    "Map.centerObject(Districts, zoom=10)"
   ]
  },
  {
   "cell_type": "code",
   "execution_count": null,
   "id": "5c42b835",
   "metadata": {},
   "outputs": [],
   "source": [
    "##Add Land use land cover dataset\n",
    "WC = ee.ImageCollection(\"ESA/WorldCover/v100\")\n",
    "WorldCover = WC.first();\n",
    "Map.addLayer(WorldCover, {'bands': \"Map\"}, \"WorldCover 10m 2020 (ESA)\",1);\n",
    "\n",
    "Map.add_legend(builtin_legend='ESA_WorldCover',position='bottomleft')"
   ]
  },
  {
   "cell_type": "code",
   "execution_count": null,
   "id": "252ca463",
   "metadata": {},
   "outputs": [],
   "source": [
    "Map.addLayer(Districts,{},\"Districts\")"
   ]
  },
  {
   "cell_type": "code",
   "execution_count": null,
   "id": "8e367d9b",
   "metadata": {},
   "outputs": [],
   "source": [
    "# get bounding box for Districts area\n",
    "\n",
    "bb = Districts.union().geometry().bounds(1000)\n",
    "print(bb.getInfo())\n",
    "#Map.addLayer(bb,{},\"Bounding box\")\n",
    "\n",
    "# get N, S, E, W coordinates from bounding box\n",
    "# from https://gis.stackexchange.com/questions/318959/get-lon-lat-of-a-top-left-corner-for-geometry-in-google-earth-engine\n",
    "\n",
    "## return the list of coordinates\n",
    "listCoords = ee.Array.cat(bb.coordinates(), 1); \n",
    "##Casting it to an array makes it possible to slice out the x and y coordinates:\n",
    "##get the X-coordinates\n",
    "xCoords = listCoords.slice(1, 0, 1); #print('xCoords', xCoords.getInfo());\n",
    "yCoords = listCoords.slice(1, 1, 2); #print('yCoords', yCoords.getInfo());\n",
    "\n",
    "## Reducing each array reveals then the min and max values:\n",
    "## reduce the arrays to find the max (or min) value\n",
    "West = ee.Number(xCoords.reduce('min', [0]).get([0,0])).getInfo(); print('West',West);\n",
    "East = ee.Number(xCoords.reduce('max', [0]).get([0,0])).getInfo(); print('East',East);\n",
    "North = ee.Number(yCoords.reduce('min', [0]).get([0,0])).getInfo(); print('North',North);\n",
    "South = ee.Number(yCoords.reduce('max', [0]).get([0,0])).getInfo(); print('South',South);"
   ]
  },
  {
   "cell_type": "code",
   "execution_count": null,
   "id": "92672355",
   "metadata": {},
   "outputs": [],
   "source": [
    "# use bounding box to get geodataframe of all OSM data on recreation sites/parks. Use .drop to remove properties that have incompatible names with FeatureCollections\n",
    "\n",
    "tags = {'leisure':['park','nature_reserve','common','playground','pitch','track'],'boundary':['protected_area','national_park']} #{'leisure':['park','nature_reserve','common','playground','pitch','track'],'boundary':['protected_area','national_park']} #}\n",
    "RecSites = geemap.osm_gdf_from_bbox(North, South, East, West, tags)#.drop(columns=['contact:p.o.box']) # use to remove properties that have incompatible names with FeatureCollections\n",
    "#RecSites = geemap.osm_gdf_from_bbox(9.09932636176124, 8.833260675723484, 38.90627204838861, 38.63876608591662, {'leisure':'park'}).drop(columns=['contact:p.o.box'])\n",
    "RecSites = RecSites.reset_index()\n",
    "print(RecSites.shape[0])\n",
    "print(RecSites.crs)\n",
    "RecSites.sort_index()#.sample(3)\n",
    "#.sort_values(by=['osmid'],axis='columns')"
   ]
  },
  {
   "cell_type": "code",
   "execution_count": null,
   "id": "d64fd133",
   "metadata": {},
   "outputs": [],
   "source": [
    "## keep only columns desired to reduce file size \n",
    "RecSites = RecSites.loc[:, ['osmid','geometry']] #['element_type','osmid','leisure','boundary','name','geometry']\n",
    "RecSites#.sample(3)"
   ]
  },
  {
   "cell_type": "code",
   "execution_count": null,
   "id": "b7634164",
   "metadata": {},
   "outputs": [],
   "source": [
    "##Optional and not working in useful way - use only if \"EEException\" occurs below and willing to sacrafice geographic precision.\n",
    "# Simplify geography of geodataframe - \n",
    "\n",
    "RecSitesGeo = RecSites.geometry.simplify(0.00001) #parameter is tolerance for error in units of the CRS - degrees for default EPSG:4326\n",
    "RecSitesSimp = RecSites.set_geometry(RecSitesGeo)\n",
    "RecSitesSimp#.sample(3)"
   ]
  },
  {
   "cell_type": "code",
   "execution_count": null,
   "id": "31e666cf",
   "metadata": {},
   "outputs": [],
   "source": [
    "# convert Geodataframe to GeoJson\n",
    "RecSitesGJ = geemap.gdf_to_geojson(RecSites) #RecSitesSimp"
   ]
  },
  {
   "cell_type": "code",
   "execution_count": null,
   "id": "dbefd53e",
   "metadata": {},
   "outputs": [],
   "source": [
    "# convert GeoJson to ee.FeatureCollection\n",
    "RecSitesFC = geemap.geojson_to_ee(RecSitesGJ)#.filter(ee.Filter.eq('element_type','way')).select(['osmid','element_type','geometry','leisure','boundary'])\n",
    "#print(RecSitesFC.first().toDictionary().getInfo())\n"
   ]
  },
  {
   "cell_type": "code",
   "execution_count": null,
   "id": "77012ff5",
   "metadata": {},
   "outputs": [],
   "source": [
    "# add recreation sites to map \n",
    "Map.addLayer(RecSitesFC, {}, 'Recreation Sites')\n",
    "#Map.centerObject(RecSitesFC, 11)\n",
    "Map\n",
    "\n",
    "# Large number of columns or complicated features may lead to \"EEException: Request payload size exceeds the limit:\" errors when trying to add to map or do additional operations. \n",
    "# Reduce number of columns in geodataframe to address. Secondarily, simplifying the geometries of each feature could be attempted. Use the lowest tolerance parameter possible. "
   ]
  },
  {
   "cell_type": "code",
   "execution_count": null,
   "id": "7553c7ce",
   "metadata": {},
   "outputs": [],
   "source": [
    "## Make an image, with the same projection as WorldCover, out of the OSM ways in the FC.\n",
    "\n",
    "WCprojection = WorldCover.projection(); \n",
    "#RecSitesImg = RecSitesFC.filter(ee.Filter.eq('element_type','way')).reduceToImage(properties=['osmid'],reducer=ee.Reducer.first());\n",
    "\n",
    "RecSitesImg = RecSitesFCsimp.style(\n",
    "  color='gray',\n",
    ").reproject(\n",
    "      crs= WCprojection\n",
    "    )\n",
    "#print(RecSitesImg.getInfo())\n",
    "\n",
    "## Display image.\n",
    "#Map.addLayer(RecSitesImg, {},\"Rec Sites Image\");"
   ]
  },
  {
   "cell_type": "code",
   "execution_count": null,
   "id": "8ebaf28f",
   "metadata": {},
   "outputs": [],
   "source": [
    "# create image with two bands: BuiltupPixels and UrbanOpenPixels\n",
    "Builtup = WorldCover.updateMask(WorldCover.eq(50)).rename(\"BuiltupPixels\")\n",
    "UrbanOpen = RecSitesImg.updateMask(WorldCover.eq(50)).select(1).rename(\"UrbanOpenPixels\")\n",
    "\n",
    "#Map.addLayer(Builtup, {},\"Builtup\");\n",
    "#Map.addLayer(UrbanOpen, {},\"UrbanOpen\");\n",
    "\n",
    "comb = Builtup.addBands([UrbanOpen])\n",
    "#print(comb.getInfo)"
   ]
  },
  {
   "cell_type": "code",
   "execution_count": null,
   "id": "da97dcba",
   "metadata": {},
   "outputs": [],
   "source": [
    "## create FeatureCollection with pixels counts of Builtup and UrbanOpen for each feature\n",
    "\n",
    "OpenBuiltcount=comb.reduceRegions(\n",
    "  reducer= ee.Reducer.count(), \n",
    "  collection= Districts, \n",
    "  scale= 10, \n",
    "  tileScale= 1\n",
    ")\n",
    "\n",
    "#print(OpenBuiltcount.limit(1).getInfo())"
   ]
  },
  {
   "cell_type": "code",
   "execution_count": null,
   "id": "18f08a69",
   "metadata": {},
   "outputs": [],
   "source": [
    "# Function to translate pixel counts into area and percents\n",
    "\n",
    "def CountToArea(feat):\n",
    "    feat = ee.Feature(feat)\n",
    "    area = ee.Number(feat.area()).multiply(0.000001)\n",
    "    UrbanOpenArea = ee.Number(feat.getNumber('UrbanOpenPixels')).multiply(ee.Number(100)).multiply(ee.Number(0.000001))\n",
    "    BuiltupArea = ee.Number(feat.getNumber('BuiltupPixels')).multiply(ee.Number(100)).multiply(ee.Number(0.000001))\n",
    "    OpenAreaPctofBuiltUpArea = ee.Number(UrbanOpenArea).divide(ee.Number(BuiltupArea))\n",
    "\n",
    "    return feat.set({\n",
    "        'TotalareaKM2': area,\n",
    "        'UrbanOpenAreaKM2': UrbanOpenArea,\n",
    "        'BuiltupAreaKM2': BuiltupArea,\n",
    "        'OpenAreaPctofBuiltUpArea': OpenAreaPctofBuiltUpArea\n",
    "    })\n",
    "\n",
    "# apply function to FeatureCollection\n",
    "OpenBuiltAreaPct = OpenBuiltcount.map(CountToArea)\n",
    "#print(OpenBuiltAreaPct.limit(1).getInfo())"
   ]
  },
  {
   "cell_type": "code",
   "execution_count": null,
   "id": "bc8f6cdd",
   "metadata": {},
   "outputs": [],
   "source": [
    "Tpctfills = ee.Image().paint(**{'featureCollection': OpenBuiltAreaPct,'color': 'OpenAreaPctofBuiltUpArea'})\n",
    "\n",
    "fillspalette = ['red', 'green']\n",
    "Map.addLayer(Tpctfills, {'palette': fillspalette,'min':0,'max':0.1}, 'Open Area as % of built-up area', True, 0.65)\n",
    "Map"
   ]
  },
  {
   "cell_type": "code",
   "execution_count": null,
   "id": "2226d0e8",
   "metadata": {},
   "outputs": [],
   "source": []
  },
  {
   "cell_type": "code",
   "execution_count": null,
   "id": "1608e1d7",
   "metadata": {},
   "outputs": [],
   "source": []
  },
  {
   "cell_type": "code",
   "execution_count": null,
   "id": "6e9a48be",
   "metadata": {},
   "outputs": [],
   "source": [
    "# Download OpenBuiltAreaPct as shapefile through URL\n",
    "\n",
    "# function for converting GeometryCollection to Polygon/MultiPolygon\n",
    "def filter_polygons(ftr):\n",
    "    geometries = ftr.geometry().geometries()\n",
    "    geometries = geometries.map(\n",
    "        lambda geo: ee.Feature(ee.Geometry(geo)).set('geoType', ee.Geometry(geo).type())\n",
    "    )\n",
    "\n",
    "    polygons = (\n",
    "        ee.FeatureCollection(geometries)\n",
    "        .filter(ee.Filter.eq('geoType', 'Polygon'))\n",
    "        .geometry()\n",
    "    )\n",
    "    return ee.Feature(polygons).copyProperties(ftr)\n",
    "\n",
    "OpenBuiltAreaPctSHP = OpenBuiltAreaPct.map(filter_polygons)\n",
    "\n",
    "col_names = OpenBuiltAreaPctSHP.first().propertyNames().getInfo()\n",
    "print(\"Column names: \", col_names)\n",
    "\n",
    "url = OpenBuiltAreaPctSHP.getDownloadURL(\"shp\", col_names, 'OpenBuiltAreaPctSHP')\n",
    "print(url)\n"
   ]
  },
  {
   "cell_type": "code",
   "execution_count": null,
   "id": "d29e254d",
   "metadata": {},
   "outputs": [],
   "source": [
    "# Download FeatureCollection of OpenBuiltAreaPct as shapefile to Google Drive\n",
    "\n",
    "# Set configuration parameters for output vector\n",
    "task_config = {\n",
    "    #'folder': 'gee-data',  # output Google Drive folder\n",
    "    'fileFormat': 'SHP',\n",
    "    #'selectors': col_names,  # a list of properties/attributes to be exported\n",
    "}\n",
    "#print('Exporting {}'.format(OpenBuiltAreaPct))\n",
    "task = ee.batch.Export.table.toDrive(OpenBuiltAreaPct, 'OpenBuiltAreaPct', **task_config)\n",
    "task.start()"
   ]
  },
  {
   "cell_type": "code",
   "execution_count": null,
   "id": "97400f57",
   "metadata": {},
   "outputs": [],
   "source": [
    "\n",
    "# Download FeatureCollection of OSM data (ways/polygons only) to Google Drive as geojson\n",
    "# Set configuration parameters for output vector\n",
    "task_config = {\n",
    "    #'folder': 'gee-data',  # output Google Drive folder\n",
    "    'fileFormat': 'Geojson',\n",
    "    #'selectors': col_names,  # a list of properties/attributes to be exported\n",
    "}\n",
    "\n",
    "#print('Exporting {}'.format(RecSitesFC))\n",
    "task = ee.batch.Export.table.toDrive(RecSitesFC, 'RecSites', **task_config)\n",
    "task.start()"
   ]
  },
  {
   "cell_type": "code",
   "execution_count": null,
   "id": "5d25b425",
   "metadata": {},
   "outputs": [],
   "source": []
  }
 ],
 "metadata": {
  "kernelspec": {
   "display_name": "Python 3 (ipykernel)",
   "language": "python",
   "name": "python3"
  },
  "language_info": {
   "codemirror_mode": {
    "name": "ipython",
    "version": 3
   },
   "file_extension": ".py",
   "mimetype": "text/x-python",
   "name": "python",
   "nbconvert_exporter": "python",
   "pygments_lexer": "ipython3",
   "version": "3.9.12"
  }
 },
 "nbformat": 4,
 "nbformat_minor": 5
}
