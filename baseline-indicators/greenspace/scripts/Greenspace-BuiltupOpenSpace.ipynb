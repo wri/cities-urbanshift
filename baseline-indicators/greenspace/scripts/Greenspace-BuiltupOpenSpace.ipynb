{
 "cells": [
  {
   "cell_type": "code",
   "execution_count": null,
   "id": "320501b4",
   "metadata": {},
   "outputs": [],
   "source": [
    "import ee\n",
    "#ee.Authenticate()"
   ]
  },
  {
   "cell_type": "code",
   "execution_count": null,
   "id": "94d6aaae",
   "metadata": {},
   "outputs": [],
   "source": [
    "ee.Initialize()"
   ]
  },
  {
   "cell_type": "code",
   "execution_count": null,
   "id": "a82dcb99",
   "metadata": {},
   "outputs": [],
   "source": [
    "import geemap\n",
    "import geopandas\n",
    "import os\n",
    "import requests"
   ]
  },
  {
   "cell_type": "code",
   "execution_count": null,
   "id": "4c295590",
   "metadata": {},
   "outputs": [],
   "source": [
    "## specify areas of interest / districts\n",
    "## URL method accesses an UrbanShift city's boundaries and uses information from file name and geoBoundaries properties (\"shapeName\") to create properties for output file\n",
    "#URL = 'https://cities-urbanshift.s3.eu-west-3.amazonaws.com/data/boundaries/ADM1/boundary-CHN-Ningbo-ADM1.geojson'\n",
    "URL = 'https://cities-urbanshift.s3.eu-west-3.amazonaws.com/data/boundaries/ADM2/boundary-CRI-San_Jose-ADM2.geojson'\n",
    "DistrictsGJ = requests.get(URL).json()\n",
    "Districts = geemap.geojson_to_ee(DistrictsGJ)\n",
    "#Districts = ee.FeatureCollection('users/emackres/Wards/Addis_Ababa_Woredas')\n",
    "DistrictsProjCRS = Districts.geometry().projection().crs()\n",
    "\n",
    "print(DistrictsProjCRS.getInfo())\n",
    "print(Districts.limit(1).getInfo())"
   ]
  },
  {
   "cell_type": "code",
   "execution_count": null,
   "id": "8de67cf0",
   "metadata": {},
   "outputs": [],
   "source": [
    "# extract area properties from standarized filename\n",
    "# https://note.nkmk.me/en/python-split-rsplit-splitlines-re/ \n",
    "basename = os.path.splitext(os.path.basename(URL))[0]\n",
    "AOIname = basename.split('-',1)[1].rsplit('-',1)[0]\n",
    "#ADMlevel = basename.split('-')[-1]\n",
    "\n",
    "Areaofinterest = AOIname ## 3-letter country abreviation - city name with underscore for spaces, e.g. \"ETH-Addis_Ababa\"\n",
    "#unitofanalysis = ADMlevel ## options: \"ADM0\" (country), \"ADM1\" (state), \"Metro\" (metropolitan region), \"ADM2\" (municipality), \"ADM3\" (subcity/locality), \"ADM4\"(ward/neighborhood), ideally align with https://www.geoboundaries.org/index.html#getdata\n",
    "\n",
    "print(Areaofinterest)\n",
    "#print(unitofanalysis)"
   ]
  },
  {
   "cell_type": "code",
   "execution_count": null,
   "id": "5a7f1088",
   "metadata": {},
   "outputs": [],
   "source": [
    "## create map\n",
    "Map = geemap.Map(height=\"350px\")\n",
    "Map"
   ]
  },
  {
   "cell_type": "code",
   "execution_count": null,
   "id": "d7c8ec95",
   "metadata": {},
   "outputs": [],
   "source": [
    "## add basemap and center on area of interest\n",
    "Map.add_basemap('HYBRID')\n",
    "Map.centerObject(Districts, zoom=10)"
   ]
  },
  {
   "cell_type": "code",
   "execution_count": null,
   "id": "5c42b835",
   "metadata": {},
   "outputs": [],
   "source": [
    "##Add Land use land cover dataset\n",
    "WC = ee.ImageCollection(\"ESA/WorldCover/v100\")\n",
    "WorldCover = WC.first();\n",
    "Map.addLayer(WorldCover, {'bands': \"Map\"}, \"WorldCover 10m 2020 (ESA)\",1);\n",
    "\n",
    "Map.add_legend(builtin_legend='ESA_WorldCover',position='bottomleft')"
   ]
  },
  {
   "cell_type": "code",
   "execution_count": null,
   "id": "252ca463",
   "metadata": {},
   "outputs": [],
   "source": [
    "Map.addLayer(Districts,{},\"Districts\")"
   ]
  },
  {
   "cell_type": "code",
   "execution_count": null,
   "id": "8e367d9b",
   "metadata": {},
   "outputs": [],
   "source": [
    "# get bounding box for Districts area\n",
    "\n",
    "bb = Districts.union(1).geometry().buffer(100).bounds(1000)\n",
    "print(bb.getInfo())\n",
    "#Map.addLayer(bb,{},\"Bounding box\")\n",
    "\n",
    "# get N, S, E, W coordinates from bounding box\n",
    "# from https://gis.stackexchange.com/questions/318959/get-lon-lat-of-a-top-left-corner-for-geometry-in-google-earth-engine\n",
    "\n",
    "## return the list of coordinates\n",
    "listCoords = ee.Array.cat(bb.coordinates(), 1); \n",
    "##Casting it to an array makes it possible to slice out the x and y coordinates:\n",
    "##get the X-coordinates\n",
    "xCoords = listCoords.slice(1, 0, 1); #print('xCoords', xCoords.getInfo());\n",
    "yCoords = listCoords.slice(1, 1, 2); #print('yCoords', yCoords.getInfo());\n",
    "\n",
    "## Reducing each array reveals then the min and max values:\n",
    "## reduce the arrays to find the max (or min) value\n",
    "West = ee.Number(xCoords.reduce('min', [0]).get([0,0])).getInfo(); print('West',West);\n",
    "East = ee.Number(xCoords.reduce('max', [0]).get([0,0])).getInfo(); print('East',East);\n",
    "North = ee.Number(yCoords.reduce('min', [0]).get([0,0])).getInfo(); print('North',North);\n",
    "South = ee.Number(yCoords.reduce('max', [0]).get([0,0])).getInfo(); print('South',South);"
   ]
  },
  {
   "cell_type": "code",
   "execution_count": null,
   "id": "92672355",
   "metadata": {},
   "outputs": [],
   "source": [
    "# use bounding box to get geodataframe of all OSM data on recreation sites/parks. Use .drop to remove properties that have incompatible names with FeatureCollections\n",
    "\n",
    "tags = {'leisure':['park','nature_reserve','common','playground','pitch','track'],'boundary':['protected_area','national_park']} #{'leisure':['park','nature_reserve','common','playground','pitch','track'],'boundary':['protected_area','national_park']} #}\n",
    "RecSites = geemap.osm_gdf_from_bbox(North, South, East, West, tags)#.drop(columns=['contact:p.o.box']) # use to remove properties that have incompatible names with FeatureCollections\n",
    "#RecSites = geemap.osm_gdf_from_bbox(9.09932636176124, 8.833260675723484, 38.90627204838861, 38.63876608591662, {'leisure':'park'}).drop(columns=['contact:p.o.box'])\n",
    "RecSites = RecSites.reset_index()\n",
    "print(RecSites.shape[0])\n",
    "print(RecSites.crs)\n",
    "RecSites.sort_index()#.sample(3)\n",
    "#RecSites.sort_values(by=['osmid'],axis='index')"
   ]
  },
  {
   "cell_type": "code",
   "execution_count": null,
   "id": "d64fd133",
   "metadata": {},
   "outputs": [],
   "source": [
    "## keep only columns desired to reduce file size \n",
    "RecSites = RecSites.loc[:, ['osmid','geometry']] #['element_type','osmid','leisure','boundary','name','geometry']\n",
    "RecSites#.sample(3)"
   ]
  },
  {
   "cell_type": "code",
   "execution_count": null,
   "id": "b7634164",
   "metadata": {},
   "outputs": [],
   "source": [
    "##Optional and not working in useful way - use only if \"EEException\" occurs below and willing to sacrafice geographic precision.\n",
    "# Simplify geography of geodataframe - \n",
    "\n",
    "RecSitesGeo = RecSites.geometry.simplify(0.00001) #parameter is tolerance for error in units of the CRS - degrees for default EPSG:4326\n",
    "RecSitesSimp = RecSites.set_geometry(RecSitesGeo)\n",
    "RecSitesSimp#.sample(3)"
   ]
  },
  {
   "cell_type": "code",
   "execution_count": null,
   "id": "31e666cf",
   "metadata": {},
   "outputs": [],
   "source": [
    "# convert Geodataframe to GeoJson\n",
    "RecSitesGJ = geemap.gdf_to_geojson(RecSites) #RecSitesSimp"
   ]
  },
  {
   "cell_type": "code",
   "execution_count": null,
   "id": "dbefd53e",
   "metadata": {},
   "outputs": [],
   "source": [
    "# convert GeoJson to ee.FeatureCollection\n",
    "RecSitesFC = geemap.geojson_to_ee(RecSitesGJ)#.filter(ee.Filter.eq('element_type','way')).select(['osmid','element_type','geometry','leisure','boundary'])\n",
    "#print(RecSitesFC.first().toDictionary().getInfo())\n"
   ]
  },
  {
   "cell_type": "code",
   "execution_count": null,
   "id": "77012ff5",
   "metadata": {},
   "outputs": [],
   "source": [
    "# add recreation sites to map \n",
    "Map.addLayer(RecSitesFC, {}, 'Recreation Sites')\n",
    "#Map.centerObject(RecSitesFC, 11)\n",
    "Map\n",
    "\n",
    "# Large number of columns or complicated features may lead to \"EEException: Request payload size exceeds the limit:\" errors when trying to add to map or do additional operations. \n",
    "# Reduce number of columns in geodataframe to address. Secondarily, simplifying the geometries of each feature could be attempted. Use the lowest tolerance parameter possible. "
   ]
  },
  {
   "cell_type": "code",
   "execution_count": null,
   "id": "7553c7ce",
   "metadata": {},
   "outputs": [],
   "source": [
    "## Make an image, with the same projection as WorldCover, out of the OSM ways in the FC.\n",
    "\n",
    "WCprojection = WorldCover.projection(); \n",
    "#RecSitesImg = RecSitesFC.filter(ee.Filter.eq('element_type','way')).reduceToImage(properties=['osmid'],reducer=ee.Reducer.first());\n",
    "\n",
    "RecSitesImg = RecSitesFC.style(\n",
    "  color='gray',\n",
    ").reproject(\n",
    "      crs= WCprojection\n",
    "    )\n",
    "#print(RecSitesImg.getInfo())\n",
    "\n",
    "## Display image.\n",
    "#Map.addLayer(RecSitesImg, {},\"Rec Sites Image\");"
   ]
  },
  {
   "cell_type": "code",
   "execution_count": null,
   "id": "8ebaf28f",
   "metadata": {},
   "outputs": [],
   "source": [
    "# create image with two bands: BuiltupPixels and UrbanOpenPixels\n",
    "Builtup = WorldCover.updateMask(WorldCover.eq(50)).rename(\"BuiltupPixels\")\n",
    "UrbanOpen = RecSitesImg.updateMask(WorldCover.eq(50)).select(1).rename(\"UrbanOpenPixels\")\n",
    "\n",
    "#Map.addLayer(Builtup, {},\"Builtup\");\n",
    "#Map.addLayer(UrbanOpen, {},\"UrbanOpen\");\n",
    "\n",
    "comb = Builtup.addBands([UrbanOpen])\n",
    "#print(comb.getInfo)"
   ]
  },
  {
   "cell_type": "code",
   "execution_count": null,
   "id": "da97dcba",
   "metadata": {},
   "outputs": [],
   "source": [
    "## create FeatureCollection with pixels counts of Builtup and UrbanOpen for each feature\n",
    "\n",
    "OpenBuiltcount=comb.reduceRegions(\n",
    "  reducer= ee.Reducer.count(), \n",
    "  collection= Districts, \n",
    "  scale= 10, \n",
    "  tileScale= 1\n",
    ")\n",
    "\n",
    "#print(OpenBuiltcount.limit(1).getInfo())"
   ]
  },
  {
   "cell_type": "code",
   "execution_count": null,
   "id": "18f08a69",
   "metadata": {},
   "outputs": [],
   "source": [
    "# Function to translate pixel counts into area and percents\n",
    "\n",
    "def CountToArea(feat):\n",
    "    feat = ee.Feature(feat)\n",
    "    FeatArea = ee.Number(feat.area(1)).multiply(0.000001)\n",
    "    UrbanOpenArea = ee.Number(feat.getNumber('UrbanOpenPixels')).multiply(ee.Number(100)).multiply(ee.Number(0.000001))\n",
    "    BuiltupArea = ee.Number(feat.getNumber('BuiltupPixels')).multiply(ee.Number(100)).multiply(ee.Number(0.000001))\n",
    "    OpenAreaPctofBuiltUpArea = ee.Number(UrbanOpenArea).divide(ee.Number(BuiltupArea))\n",
    "    \n",
    "    cityID = Areaofinterest\n",
    "    #geo_level = unitofanalysis\n",
    "    geo_level = feat.getString(\"shapeID\").split('-').getString(1)\n",
    "    #geo_name = feat.getString(\"Sub_City\").cat(ee.String(\"-\")).cat(feat.getString(\"Woreda\"))\n",
    "    #geo_name = feat.getString(\"city_name_viz\").split(' ').join('_')\n",
    "    geo_name = feat.getString(\"shapeName\").split(' ').join('_')\n",
    "    geo_id = ee.String(cityID+\"-\").cat(geo_name)\n",
    "    year = 2020\n",
    "    source = \"OpenStreetMap, GLAD LCLUC\"\n",
    "\n",
    "    return feat.set({\n",
    "        'TotalareaKM2': FeatArea,\n",
    "        'UrbanOpenAreaKM2': UrbanOpenArea,\n",
    "        'BuiltupAreaKM2': BuiltupArea,\n",
    "        'OpenAreaPctofBuiltUpArea': OpenAreaPctofBuiltUpArea,\n",
    "        'geo_level': geo_level,\n",
    "        'geo_name': geo_name,\n",
    "        'geo_id': geo_id,\n",
    "        'year':year,\n",
    "        'source':source,\n",
    "    })\n",
    "\n",
    "# apply function to FeatureCollection\n",
    "OpenBuiltAreaPct = OpenBuiltcount.map(CountToArea)\n",
    "print(OpenBuiltAreaPct.limit(1).getInfo())"
   ]
  },
  {
   "cell_type": "code",
   "execution_count": null,
   "id": "bc8f6cdd",
   "metadata": {},
   "outputs": [],
   "source": [
    "Tpctfills = ee.Image().paint(**{'featureCollection': OpenBuiltAreaPct,'color': 'OpenAreaPctofBuiltUpArea'})\n",
    "\n",
    "fillspalette = ['red', 'green']\n",
    "Map.addLayer(Tpctfills, {'palette': fillspalette,'min':0,'max':0.1}, 'Open Area as % of built-up area', True, 0.65)\n",
    "Map"
   ]
  },
  {
   "cell_type": "code",
   "execution_count": null,
   "id": "2226d0e8",
   "metadata": {},
   "outputs": [],
   "source": []
  },
  {
   "cell_type": "code",
   "execution_count": null,
   "id": "1608e1d7",
   "metadata": {},
   "outputs": [],
   "source": []
  },
  {
   "cell_type": "code",
   "execution_count": null,
   "id": "6e9a48be",
   "metadata": {},
   "outputs": [],
   "source": [
    "# Download OpenBuiltAreaPct as shapefile through URL\n",
    "\n",
    "# function for converting GeometryCollection to Polygon/MultiPolygon\n",
    "def filter_polygons(ftr):\n",
    "    geometries = ftr.geometry().geometries()\n",
    "    geometries = geometries.map(\n",
    "        lambda geo: ee.Feature(ee.Geometry(geo)).set('geoType', ee.Geometry(geo).type())\n",
    "    )\n",
    "\n",
    "    polygons = (\n",
    "        ee.FeatureCollection(geometries)\n",
    "        .filter(ee.Filter.eq('geoType', 'Polygon'))\n",
    "        .geometry()\n",
    "    )\n",
    "    return ee.Feature(polygons).copyProperties(ftr)\n",
    "\n",
    "OpenBuiltAreaPctSHP = OpenBuiltAreaPct.map(filter_polygons)\n",
    "\n",
    "col_names = OpenBuiltAreaPctSHP.first().propertyNames().getInfo()\n",
    "print(\"Column names: \", col_names)\n",
    "\n",
    "url = OpenBuiltAreaPctSHP.getDownloadURL(\"shp\", col_names, 'OpenBuiltAreaPctSHP')\n",
    "print(url)\n"
   ]
  },
  {
   "cell_type": "code",
   "execution_count": null,
   "id": "d29e254d",
   "metadata": {},
   "outputs": [],
   "source": [
    "# Download FeatureCollection of OpenBuiltAreaPct as shapefile to Google Drive\n",
    "\n",
    "# Set configuration parameters for output vector\n",
    "task_config = {\n",
    "    #'folder': 'gee-data',  # output Google Drive folder\n",
    "    'fileFormat': 'SHP',\n",
    "    #'selectors': col_names,  # a list of properties/attributes to be exported\n",
    "}\n",
    "#print('Exporting {}'.format(OpenBuiltAreaPct))\n",
    "task = ee.batch.Export.table.toDrive(OpenBuiltAreaPct, 'OpenBuiltAreaPct', **task_config)\n",
    "task.start()"
   ]
  },
  {
   "cell_type": "code",
   "execution_count": null,
   "id": "97400f57",
   "metadata": {},
   "outputs": [],
   "source": [
    "\n",
    "# Download FeatureCollection of OSM data (ways/polygons only) to Google Drive as geojson\n",
    "# Set configuration parameters for output vector\n",
    "task_config = {\n",
    "    #'folder': 'gee-data',  # output Google Drive folder\n",
    "    'fileFormat': 'Geojson',\n",
    "    #'selectors': col_names,  # a list of properties/attributes to be exported\n",
    "}\n",
    "\n",
    "#print('Exporting {}'.format(RecSitesFC))\n",
    "task = ee.batch.Export.table.toDrive(RecSitesFC, 'RecSites', **task_config)\n",
    "task.start()"
   ]
  },
  {
   "cell_type": "code",
   "execution_count": null,
   "id": "5d25b425",
   "metadata": {},
   "outputs": [],
   "source": []
  }
 ],
 "metadata": {
  "kernelspec": {
   "display_name": "Python 3 (ipykernel)",
   "language": "python",
   "name": "python3"
  },
  "language_info": {
   "codemirror_mode": {
    "name": "ipython",
    "version": 3
   },
   "file_extension": ".py",
   "mimetype": "text/x-python",
   "name": "python",
   "nbconvert_exporter": "python",
   "pygments_lexer": "ipython3",
   "version": "3.9.12"
  }
 },
 "nbformat": 4,
 "nbformat_minor": 5
}
