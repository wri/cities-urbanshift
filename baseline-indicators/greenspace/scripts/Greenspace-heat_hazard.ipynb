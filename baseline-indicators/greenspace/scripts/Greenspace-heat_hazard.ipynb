{
 "cells": [
  {
   "cell_type": "code",
   "execution_count": 1,
   "id": "c4f58363-f8c1-44a8-81de-1961176f6630",
   "metadata": {},
   "outputs": [],
   "source": [
    "# import sys\n",
    "# !{sys.executable} -m pip install pip earthengine-api\n",
    "# !{sys.executable} -m pip install pip geemap"
   ]
  },
  {
   "cell_type": "code",
   "execution_count": 2,
   "id": "e86c4ef8-8afc-4376-95bd-59a10f8040b6",
   "metadata": {},
   "outputs": [],
   "source": [
    "import numpy as np\n",
    "import pandas as pd\n",
    "import matplotlib.pyplot as plt\n",
    "import seaborn as sns\n",
    "sns.set_theme(style=\"darkgrid\")\n",
    "import requests\n",
    "import geemap\n",
    "import ee\n",
    "#ee.Authenticate()"
   ]
  },
  {
   "cell_type": "code",
   "execution_count": 3,
   "id": "36a2b0f6-402a-48ca-930b-4d1e998e0e3a",
   "metadata": {},
   "outputs": [],
   "source": [
    "ee.Initialize()"
   ]
  },
  {
   "cell_type": "code",
   "execution_count": 16,
   "id": "63ef9ae4-0ba7-44c2-9d06-466181f30976",
   "metadata": {},
   "outputs": [],
   "source": [
    "# USER INPUTS\n",
    "\n",
    "YEARS = range(2020, 2099)\n",
    "\n",
    "# LONLAT = (-75.1652, 39.9526)   # (x, y) for Philadelphia\n",
    "# current_geom = ee.Geometry.Point(LONLAT)"
   ]
  },
  {
   "cell_type": "code",
   "execution_count": 5,
   "id": "d2c1d9bc-b457-4fa5-a5e6-d9dfd92b933e",
   "metadata": {},
   "outputs": [
    {
     "name": "stdout",
     "output_type": "stream",
     "text": [
      "EPSG:4326\n"
     ]
    }
   ],
   "source": [
    "## specify areas of interest / districts and metadata\n",
    "## URL method accessed an UrbanShift city's boundaries and uses information from file name and geoBoundaries properties (\"shapeName\", \"shapeID\") to create properties for output file\n",
    "URL = 'https://cities-urbanshift.s3.eu-west-3.amazonaws.com/data/boundaries/v_0/boundary-CRI-San_Jose-ADM2.geojson'\n",
    "#'https://cities-urbanshift.s3.eu-west-3.amazonaws.com/data/boundaries/ADM1/boundary-MAR-Marrakech-ADM1.geojson'\n",
    "#URL = 'https://pccompute.westeurope.cloudapp.azure.com/compute/hub/user-redirect/lab/tree/PlanetaryComputerExamples/urban_edge_t3.geojson'\n",
    "DistrictsGJ = requests.get(URL).json()\n",
    "Districts = geemap.geojson_to_ee(DistrictsGJ)\n",
    "DistrictsCent = Districts.geometry().centroid(1)\n",
    "#Districts = ee.FeatureCollection('users/emackres/Wards/Addis_Ababa_Woredas')\n",
    "DistrictsProjCRS = Districts.geometry().projection().crs()\n",
    "\n",
    "print(DistrictsProjCRS.getInfo())\n",
    "#print(Districts.limit(1).getInfo())"
   ]
  },
  {
   "cell_type": "code",
   "execution_count": 18,
   "id": "fd4ad4d3-3bc2-4d4f-8b02-29d19a62ca41",
   "metadata": {},
   "outputs": [],
   "source": [
    "current_geom = DistrictsCent"
   ]
  },
  {
   "cell_type": "code",
   "execution_count": 19,
   "id": "35db4637-2042-4ed8-ad0e-ba0c4550ee40",
   "metadata": {},
   "outputs": [
    {
     "data": {
      "text/plain": [
       "{'type': 'Point', 'coordinates': [-84.03209072102781, 9.929535538754497]}"
      ]
     },
     "execution_count": 19,
     "metadata": {},
     "output_type": "execute_result"
    }
   ],
   "source": [
    "current_geom.getInfo()"
   ]
  },
  {
   "cell_type": "code",
   "execution_count": 6,
   "id": "a5c66cdc-3d41-4047-b66e-bc708a3655bb",
   "metadata": {},
   "outputs": [],
   "source": [
    "mtt35_probs = ee.ImageCollection('users/tedwongwri/dataportal/posterior_probs/mtt35')\n",
    "maxtemp_probs = ee.ImageCollection('users/tedwongwri/dataportal/posterior_probs/maxtemp')"
   ]
  },
  {
   "cell_type": "code",
   "execution_count": 20,
   "id": "cc5edbd3-42a5-43a3-bb14-5bae70b50659",
   "metadata": {},
   "outputs": [],
   "source": [
    "def expected_value(year, geom, probdata):\n",
    "# Return expected value of hazard for given year\n",
    "    probs = probdata.filterMetadata('year', 'equals', year).first().reduceRegion(reducer=ee.Reducer.mean(), geometry=geom, scale=250, bestEffort=True).getInfo()\n",
    "    if np.sum([float(i) for i in probs.values()]) == 0:\n",
    "        return 0, 1\n",
    "    dataprobs = np.array([float(i) for i in probs.values()]) / np.sum([float(i) for i in probs.values()])\n",
    "    mag_range = [(j.split('-')[0], j.split('-')[1]) for j in [i.split('_')[1] for i in list(probs.keys())]]\n",
    "    avg_mags = np.array([(float(i[0].replace('neg', '-')) + float(i[1].replace('neg', '-'))) / 2 for i in mag_range])\n",
    "    ev = np.dot(dataprobs, avg_mags) \n",
    "    for idx in range(len(mag_range)):\n",
    "        mag_pair = mag_range[idx]\n",
    "        if ev >= float(mag_pair[0].replace('neg', '-')) and ev < float(mag_pair[1].replace('neg', '-')):\n",
    "            break\n",
    "    key = list(probs.keys())[idx]\n",
    "    return ev"
   ]
  },
  {
   "cell_type": "code",
   "execution_count": null,
   "id": "47f09dc0-b7cf-4738-a320-78afd82f810e",
   "metadata": {},
   "outputs": [],
   "source": []
  },
  {
   "cell_type": "code",
   "execution_count": 21,
   "id": "ee53544f-bb22-42d6-aa23-6460d99b28f9",
   "metadata": {},
   "outputs": [],
   "source": [
    "mtt35_evs = [expected_value(y, current_geom, mtt35_probs) for y in YEARS]"
   ]
  },
  {
   "cell_type": "code",
   "execution_count": null,
   "id": "b86e45a9-23d4-43f7-a7df-180e12540e0f",
   "metadata": {},
   "outputs": [],
   "source": [
    "df = pd.DataFrame({'year': YEARS, 'mtt35':mtt35_evs})"
   ]
  },
  {
   "cell_type": "code",
   "execution_count": null,
   "id": "d4f02d1b-4fe6-4593-9892-ee069718aa7c",
   "metadata": {},
   "outputs": [],
   "source": [
    "df"
   ]
  },
  {
   "cell_type": "code",
   "execution_count": null,
   "id": "eba00dd3-1c4e-472f-ba75-2d3b8f5ecf42",
   "metadata": {},
   "outputs": [],
   "source": [
    "g = sns.relplot(x=\"year\", y=\"mtt35\", kind=\"line\", data=df)\n",
    "g.figure.autofmt_xdate()"
   ]
  },
  {
   "cell_type": "code",
   "execution_count": null,
   "id": "b4c6b755-aa31-4ea9-9629-0bf3aecc44d7",
   "metadata": {},
   "outputs": [],
   "source": [
    "startyear = df[df.year == 2020]['mtt35'].iloc[0]\n",
    "endyear = df[df.year == 2050]['mtt35'].iloc[0]\n",
    "print(startyear,endyear)"
   ]
  },
  {
   "cell_type": "code",
   "execution_count": null,
   "id": "6ac24bcb-28df-4562-aa7c-3980e21304e8",
   "metadata": {},
   "outputs": [],
   "source": [
    "pctChange = (endyear /startyear) - 1\n",
    "print(pctChange)"
   ]
  },
  {
   "cell_type": "code",
   "execution_count": null,
   "id": "49ee2080-2c90-44cf-a9c0-012a107ef529",
   "metadata": {},
   "outputs": [],
   "source": []
  }
 ],
 "metadata": {
  "kernelspec": {
   "display_name": "Python 3 (ipykernel)",
   "language": "python",
   "name": "python3"
  },
  "language_info": {
   "codemirror_mode": {
    "name": "ipython",
    "version": 3
   },
   "file_extension": ".py",
   "mimetype": "text/x-python",
   "name": "python",
   "nbconvert_exporter": "python",
   "pygments_lexer": "ipython3",
   "version": "3.8.13"
  }
 },
 "nbformat": 4,
 "nbformat_minor": 5
}
