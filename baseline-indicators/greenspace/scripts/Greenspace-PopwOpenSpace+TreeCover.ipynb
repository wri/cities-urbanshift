{
 "cells": [
  {
   "cell_type": "code",
   "execution_count": null,
   "id": "64653ad4-458f-4a6f-96d5-8b5accb70492",
   "metadata": {},
   "outputs": [],
   "source": [
    "# import sys\n",
    "# !{sys.executable} -m pip install pip earthengine-api\n",
    "# !{sys.executable} -m pip install pip geemap[all]"
   ]
  },
  {
   "cell_type": "code",
   "execution_count": null,
   "id": "320501b4",
   "metadata": {},
   "outputs": [],
   "source": [
    "import ee\n",
    "# ee.Authenticate()"
   ]
  },
  {
   "cell_type": "code",
   "execution_count": null,
   "id": "94d6aaae",
   "metadata": {},
   "outputs": [],
   "source": [
    "ee.Initialize()"
   ]
  },
  {
   "cell_type": "code",
   "execution_count": null,
   "id": "a82dcb99",
   "metadata": {},
   "outputs": [],
   "source": [
    "import geemap\n",
    "import geopandas\n",
    "import os\n",
    "import requests"
   ]
  },
  {
   "cell_type": "code",
   "execution_count": null,
   "id": "4c295590",
   "metadata": {},
   "outputs": [],
   "source": [
    "## specify areas of interest / districts\n",
    "## URL method accesses an UrbanShift city's boundaries and uses information from file name and geoBoundaries properties (\"shapeName\") to create properties for output file\n",
    "#URL = 'https://cities-urbanshift.s3.eu-west-3.amazonaws.com/data/boundaries/ADM1/boundary-CHN-Ningbo-ADM1.geojson'\n",
    "URL = 'https://cities-urbanshift.s3.eu-west-3.amazonaws.com/cities4forests/data/boundaries/MEX-Mexico_City-ADM2.geojson'\n",
    "DistrictsGJ = requests.get(URL).json()\n",
    "Districts = geemap.geojson_to_ee(DistrictsGJ)\n",
    "#Districts = ee.FeatureCollection('users/emackres/Wards/Addis_Ababa_Woredas')\n",
    "DistrictsProjCRS = Districts.geometry().projection().crs()\n",
    "\n",
    "print(DistrictsProjCRS.getInfo())\n",
    "print(Districts.first().toDictionary().getInfo())"
   ]
  },
  {
   "cell_type": "code",
   "execution_count": null,
   "id": "8de67cf0",
   "metadata": {},
   "outputs": [],
   "source": [
    "# extract area properties from standarized filename\n",
    "# https://note.nkmk.me/en/python-split-rsplit-splitlines-re/ \n",
    "basename = os.path.splitext(os.path.basename(URL))[0]\n",
    "AOIname = basename.split('-',1)[1].rsplit('-',1)[0]\n",
    "#ADMlevel = basename.split('-')[-1]\n",
    "\n",
    "Areaofinterest = AOIname ## 3-letter country abreviation - city name with underscore for spaces, e.g. \"ETH-Addis_Ababa\"\n",
    "#unitofanalysis = ADMlevel ## options: \"ADM0\" (country), \"ADM1\" (state), \"Metro\" (metropolitan region), \"ADM2\" (municipality), \"ADM3\" (subcity/locality), \"ADM4\"(ward/neighborhood), ideally align with https://www.geoboundaries.org/index.html#getdata\n",
    "\n",
    "print(Areaofinterest)\n",
    "#print(unitofanalysis)"
   ]
  },
  {
   "cell_type": "code",
   "execution_count": null,
   "id": "5a7f1088",
   "metadata": {},
   "outputs": [],
   "source": [
    "## create map\n",
    "Map = geemap.Map(height=\"350px\")"
   ]
  },
  {
   "cell_type": "code",
   "execution_count": null,
   "id": "d7c8ec95",
   "metadata": {},
   "outputs": [],
   "source": [
    "## add basemap and center on area of interest\n",
    "Map.add_basemap('HYBRID')\n",
    "Map.centerObject(Districts, zoom=10)"
   ]
  },
  {
   "cell_type": "code",
   "execution_count": null,
   "id": "252ca463",
   "metadata": {},
   "outputs": [],
   "source": [
    "Map.addLayer(Districts,{},\"Districts\")\n",
    "#Map"
   ]
  },
  {
   "cell_type": "code",
   "execution_count": null,
   "id": "230d3e3e-5c3f-404b-abf9-c91eca54d7d2",
   "metadata": {},
   "outputs": [],
   "source": [
    "pop = ee.ImageCollection('WorldPop/GP/100m/pop_age_sex_cons_unadj')\n",
    "pop = (pop.filter(ee.Filter.And(\n",
    "    ee.Filter.bounds(Districts),\n",
    "    ee.Filter.inList('year',[2020])))\n",
    "    .select('population'))\n",
    "popImg = pop.mean().rename('population')\n",
    "\n",
    "popProj = pop.first().projection()\n",
    "popScale = popProj.nominalScale()\n",
    "popProj10m = popProj.atScale(10)\n",
    "popScale10m = popProj10m.nominalScale()\n",
    "\n",
    "popviz = {\n",
    "  'min': 0.0,\n",
    "  'max': 150.0,\n",
    "  'palette': ['24126c', '1fff4f', 'd4ff50']\n",
    "};\n",
    "       \n",
    "Map.addLayer(popImg,popviz,\"Population\")"
   ]
  },
  {
   "cell_type": "code",
   "execution_count": null,
   "id": "8e367d9b",
   "metadata": {},
   "outputs": [],
   "source": [
    "# get bounding box for Districts area\n",
    "\n",
    "bb = Districts.union(1).geometry().buffer(100).bounds(1000)\n",
    "print(bb.getInfo())\n",
    "#Map.addLayer(bb,{},\"Bounding box\")\n",
    "\n",
    "# get N, S, E, W coordinates from bounding box\n",
    "# from https://gis.stackexchange.com/questions/318959/get-lon-lat-of-a-top-left-corner-for-geometry-in-google-earth-engine\n",
    "\n",
    "## return the list of coordinates\n",
    "listCoords = ee.Array.cat(bb.coordinates(), 1); \n",
    "##Casting it to an array makes it possible to slice out the x and y coordinates:\n",
    "##get the X-coordinates\n",
    "xCoords = listCoords.slice(1, 0, 1); #print('xCoords', xCoords.getInfo());\n",
    "yCoords = listCoords.slice(1, 1, 2); #print('yCoords', yCoords.getInfo());\n",
    "\n",
    "## Reducing each array reveals then the min and max values:\n",
    "## reduce the arrays to find the max (or min) value\n",
    "West = ee.Number(xCoords.reduce(ee.Reducer.min(), [0]).get([0,0])).getInfo(); #print('West',West);\n",
    "East = ee.Number(xCoords.reduce(ee.Reducer.max(), [0]).get([0,0])).getInfo(); #print('East',East);\n",
    "North = ee.Number(yCoords.reduce(ee.Reducer.min(), [0]).get([0,0])).getInfo(); #print('North',North);\n",
    "South = ee.Number(yCoords.reduce(ee.Reducer.max(), [0]).get([0,0])).getInfo(); #print('South',South);"
   ]
  },
  {
   "cell_type": "code",
   "execution_count": null,
   "id": "92672355",
   "metadata": {},
   "outputs": [],
   "source": [
    "# use bounding box to get geodataframe of all OSM data on recreation sites/parks. Use .drop to remove properties that have incompatible names with FeatureCollections\n",
    "\n",
    "tags = {'leisure':['park','nature_reserve','common','playground','pitch','track'],'boundary':['protected_area','national_park']} \n",
    "RecSites = geemap.osm_gdf_from_bbox(North, South, East, West, tags)#.drop(columns=['contact:p.o.box']) # use to remove properties that have incompatible names with FeatureCollections\n",
    "RecSites = RecSites.reset_index()\n",
    "print(RecSites.shape[0])\n",
    "print(RecSites.crs)\n",
    "RecSites.sort_index()#.sample(3)\n",
    "#RecSites.sort_values(by=['osmid'],axis='index')"
   ]
  },
  {
   "cell_type": "code",
   "execution_count": null,
   "id": "31e666cf",
   "metadata": {},
   "outputs": [],
   "source": [
    "## keep only columns desired to reduce file size \n",
    "RecSites = RecSites[RecSites['element_type']!= 'node']\n",
    "RecSites = RecSites[RecSites.geom_type != 'LineString']\n",
    "RecSites = RecSites.loc[:, ['osmid','geometry']] #['element_type','osmid','leisure','boundary','name','geometry']\n",
    "print(RecSites.shape[0])\n",
    "RecSites.sort_index()#.sample(3)"
   ]
  },
  {
   "cell_type": "code",
   "execution_count": null,
   "id": "3ae98766-d5d4-4804-adad-7e16792e3a33",
   "metadata": {},
   "outputs": [],
   "source": [
    "# convert Geodataframe to GeoJson\n",
    "RecSitesGJ = geemap.gdf_to_geojson(RecSites) #RecSitesSimp\n",
    "# convert GeoJson to ee.FeatureCollection\n",
    "RecSitesFC = geemap.geojson_to_ee(RecSitesGJ)#.filter(ee.Filter.eq('element_type','way')).select(['osmid','element_type','geometry','leisure','boundary'])"
   ]
  },
  {
   "cell_type": "code",
   "execution_count": null,
   "id": "77012ff5",
   "metadata": {},
   "outputs": [],
   "source": [
    "# add recreation sites to map \n",
    "Map.addLayer(RecSitesFC, {}, 'Recreation Sites')"
   ]
  },
  {
   "cell_type": "code",
   "execution_count": null,
   "id": "475eb1c8-6cd7-4095-a1d7-242a127b0cd3",
   "metadata": {},
   "outputs": [],
   "source": [
    "DistanceThres = 400 # meters distance from population to be considered\n",
    "\n",
    "def amenityBuffer(feat):\n",
    "  feat = ee.Feature(feat)\n",
    "  return feat.buffer(DistanceThres)\n",
    "RecCatchment = RecSitesFC.map(amenityBuffer)\n",
    "\n",
    "RecCatchmentUnion = RecCatchment.union()\n",
    "Map.addLayer(RecCatchmentUnion, {}, 'Recreation catchment')\n"
   ]
  },
  {
   "cell_type": "code",
   "execution_count": null,
   "id": "2da30b2f-51fc-415a-8a7e-a57101f5a229",
   "metadata": {},
   "outputs": [],
   "source": [
    "mask = ee.Image.constant(1).clip(RecCatchmentUnion.geometry()).mask()\n",
    "\n",
    "popwOSaccess = popImg.updateMask(mask).rename('populationwOpenSpace')\n",
    "#Map.addLayer(popwOSaccess, popviz, 'Population with open space access')\n",
    "\n",
    "Map"
   ]
  },
  {
   "cell_type": "code",
   "execution_count": null,
   "id": "45b8fa47-75cd-4ee2-94b1-3f026b337798",
   "metadata": {},
   "outputs": [],
   "source": [
    "## add tree cover dataset\n",
    "TML = ee.ImageCollection('projects/wri-datalab/TML')\n",
    "TreeCover = TML.reduce(ee.Reducer.mean()).rename('b1')\n",
    "#TreeCover = TreeCover.resample('bilinear').reproject(popProj10m)\n",
    "\n",
    "Map2 = geemap.Map(height=\"350px\")\n",
    "Map2.add_basemap('HYBRID')\n",
    "Map2.centerObject(Districts, zoom=10)\n",
    "\n",
    "Map2.addLayer(popImg,popviz,\"Population\",False)\n",
    "\n",
    "TreePctThreshold = 10 #whole numbers - 0-100, minimum percentage of tree cover threshold to consider \n",
    "\n",
    "Map2.addLayer(TreeCover.updateMask(TreeCover.gte(TreePctThreshold)),\n",
    "             {'min':0, 'max':0.5, 'palette':['white','#006400']},\n",
    "             'Tree Cover 2020 (WRI Trees in Mosaic Landscapes)',True,1)"
   ]
  },
  {
   "cell_type": "code",
   "execution_count": null,
   "id": "01223672-639c-42ce-83ca-0f76fea8de8e",
   "metadata": {},
   "outputs": [],
   "source": [
    "# calcs for % population with threshold level (e.g. 10%+) of tree cover within walking distance (e.g. 400m)\n",
    "\n",
    "circleTheshm = ee.Kernel.circle(DistanceThres, 'meters', False)\n",
    "TreeCoverinThreshm = TreeCover.reduceNeighborhood(ee.Reducer.mean(), circleTheshm)\n",
    "\n",
    "popwthresTC = popImg.updateMask(TreeCoverinThreshm.gte(TreePctThreshold)).rename('populationwTreeCover')\n",
    "\n",
    "Map2.addLayer(TreeCoverinThreshm,{'min':0, 'max':100},'TreeCoverin400m',False)\n",
    "Map2.addLayer(popwthresTC, popviz, 'Population with access to tree cover')\n",
    "Map2"
   ]
  },
  {
   "cell_type": "code",
   "execution_count": null,
   "id": "6c1b3349-f2d5-4830-8e7e-836e47ebddc2",
   "metadata": {},
   "outputs": [],
   "source": [
    "combImg = popImg.addBands([popwOSaccess,popwthresTC])\n",
    "\n",
    "PopbyDistrict=combImg.reduceRegions(\n",
    "  reducer= ee.Reducer.sum(), \n",
    "  collection= Districts, \n",
    "  scale= popScale, \n",
    "  tileScale= 1\n",
    ")\n",
    "\n",
    "#print(PopbyDistrict.first().toDictionary().getInfo())"
   ]
  },
  {
   "cell_type": "code",
   "execution_count": null,
   "id": "36336b51-ec9a-48e2-8c19-9906755a62e8",
   "metadata": {},
   "outputs": [],
   "source": [
    "def calcs(feat):\n",
    "     return feat.set({\n",
    "        'PopwOpenSpaceAccessPct': feat.getNumber('populationwOpenSpace').divide(feat.getNumber('population')),\n",
    "        'PopwTreeCoverAccessPct': feat.getNumber('populationwTreeCover').divide(feat.getNumber('population'))\n",
    "     })\n",
    "         \n",
    "PopbyDistrict = PopbyDistrict.map(calcs).sort('PopwTreeCoverAccessPct',False)\n",
    "#print(PopbyDistrict.first().toDictionary().getInfo())"
   ]
  },
  {
   "cell_type": "code",
   "execution_count": null,
   "id": "2226d0e8",
   "metadata": {},
   "outputs": [],
   "source": [
    "## display features in chart\n",
    "\n",
    "import geemap.chart as chart\n",
    "\n",
    "xProperty = 'shapeName' #'geo_name' #,\"Woreda\"\n",
    "yProperties = ['PopwTreeCoverAccessPct'] # ,'LC50areaKM2'\n",
    "\n",
    "options = {\n",
    "    'xlabel': \"District\",\n",
    "    'ylabel': \"% population with at least 10% tree cover within 5 minute walking distance\",\n",
    "    \"legend_location\": \"top-right\",\n",
    "    \"height\": \"500px\",\n",
    "}\n",
    "\n",
    "chart.feature_byFeature(PopbyDistrict, xProperty, yProperties, **options)"
   ]
  },
  {
   "cell_type": "code",
   "execution_count": null,
   "id": "8de80839-8dd1-4f9d-a324-4c85a5c5b902",
   "metadata": {},
   "outputs": [],
   "source": []
  },
  {
   "cell_type": "code",
   "execution_count": null,
   "id": "d29e254d",
   "metadata": {},
   "outputs": [],
   "source": [
    "# Download Image to Google Drive\n",
    "\n",
    "# Set configuration parameters for output vector\n",
    "task_config = {\n",
    "    #'folder': 'gee-data',  # output Google Drive folder\n",
    "    'region':Districts.geometry(),\n",
    "    'scale':10\n",
    "}\n",
    "#print('Exporting {}'.format(OpenBuiltAreaPct))\n",
    "#task = ee.batch.Export.image.toDrive(combImg, 'OS+TCimage', **task_config)\n",
    "#task.start()"
   ]
  },
  {
   "cell_type": "code",
   "execution_count": null,
   "id": "5d25b425",
   "metadata": {},
   "outputs": [],
   "source": []
  }
 ],
 "metadata": {
  "kernelspec": {
   "display_name": "Python 3 (ipykernel)",
   "language": "python",
   "name": "python3"
  },
  "language_info": {
   "codemirror_mode": {
    "name": "ipython",
    "version": 3
   },
   "file_extension": ".py",
   "mimetype": "text/x-python",
   "name": "python",
   "nbconvert_exporter": "python",
   "pygments_lexer": "ipython3",
   "version": "3.8.13"
  }
 },
 "nbformat": 4,
 "nbformat_minor": 5
}
