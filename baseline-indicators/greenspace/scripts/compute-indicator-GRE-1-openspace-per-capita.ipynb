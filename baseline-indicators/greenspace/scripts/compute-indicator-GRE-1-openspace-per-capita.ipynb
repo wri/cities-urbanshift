{
 "cells": [
  {
   "cell_type": "code",
   "execution_count": null,
   "id": "e59cc439-7de2-459a-9c06-acb77df425f8",
   "metadata": {
    "tags": []
   },
   "outputs": [],
   "source": [
    "# import sys\n",
    "# !{sys.executable} -m pip install pip earthengine-api\n",
    "# !{sys.executable} -m pip install pip geemap\n",
    "# !{sys.executable} -m pip install pip wget"
   ]
  },
  {
   "cell_type": "code",
   "execution_count": null,
   "id": "185d9b4b-1492-4ee2-b694-f5c5c02e9df3",
   "metadata": {},
   "outputs": [],
   "source": [
    "import ee\n",
    "# ee.Authenticate()"
   ]
  },
  {
   "cell_type": "code",
   "execution_count": null,
   "id": "a552e728-b093-4a08-ac3c-1a92ab04af65",
   "metadata": {},
   "outputs": [],
   "source": [
    "ee.Initialize()"
   ]
  },
  {
   "cell_type": "code",
   "execution_count": null,
   "id": "90ed0cfe-4d8f-403c-9c06-6bd5982b9ecb",
   "metadata": {},
   "outputs": [],
   "source": [
    "import os, requests, json, geojson\n",
    "import pandas as pd\n",
    "import geopandas as gpd\n",
    "import geemap\n",
    "import fiona\n",
    "import shapely\n",
    "from shapely.validation import make_valid\n",
    "from shapely.geometry import Polygon, MultiPolygon, box, shape\n",
    "import boto3"
   ]
  },
  {
   "cell_type": "code",
   "execution_count": null,
   "id": "41d9a906-e859-41a3-a8eb-5f6118a79378",
   "metadata": {},
   "outputs": [],
   "source": [
    "# define directory\n",
    "out_dir = os.getcwd()\n",
    "OUTPUT_FILENAME = 'UrbanShift_GRE_3_4_OpenSpaceHectaresper1000people.csv'\n",
    "bucket_name = 'cities-urbanshift' \n",
    "aws_s3_dir = \"https://\"+bucket_name+\".s3.eu-west-3.amazonaws.com\""
   ]
  },
  {
   "cell_type": "code",
   "execution_count": null,
   "id": "21f7b3b1-b86d-42be-81b5-56e0b685168c",
   "metadata": {},
   "outputs": [],
   "source": [
    "#load population\n",
    "pop = ee.ImageCollection('WorldPop/GP/100m/pop')\n",
    "pop = (pop.filter(\n",
    "    ee.Filter.inList('year',[2020]))\n",
    "    .select('population'))\n",
    "popImg = pop.mean().rename('population')\n",
    "\n",
    "popProj = pop.first().projection()\n",
    "popScale = popProj.nominalScale()"
   ]
  },
  {
   "cell_type": "code",
   "execution_count": null,
   "id": "2d15d730-62e6-418c-8184-9054f51462c4",
   "metadata": {},
   "outputs": [],
   "source": [
    "# get list of cities\n",
    "boundary_georef = pd.read_csv(aws_s3_dir + '/data/boundaries/v_0/boundary_georef.csv')\n",
    "boundary_georef"
   ]
  },
  {
   "cell_type": "code",
   "execution_count": null,
   "id": "c24d5ed0-f24d-4c47-b897-6c245cf7d551",
   "metadata": {},
   "outputs": [],
   "source": [
    "# Convert geojsons to Shapely Polygons\n",
    "\n",
    "def geojson_to_polygons(g):\n",
    "    result = []\n",
    "    for feature in g['features']:\n",
    "        if type(feature['geometry']['coordinates'][0][0][0]) == list:\n",
    "            coordpairs = [(float(i[0]), float(i[1])) for i in feature['geometry']['coordinates'][0][0]]\n",
    "        else:\n",
    "            coordpairs = [(float(i[0]), float(i[1])) for i in feature['geometry']['coordinates'][0]]\n",
    "        result.append((Polygon(coordpairs)))\n",
    "    return result"
   ]
  },
  {
   "cell_type": "code",
   "execution_count": null,
   "id": "58c102e7-84e7-4814-9570-019a3acf7e1d",
   "metadata": {},
   "outputs": [],
   "source": [
    "boundary_id = \"ARG-Mendoza-ADM3union\"\n",
    "\n",
    "# read boundaries\n",
    "boundary_path = aws_s3_dir +'/data/boundaries/v_0/boundary-'+boundary_id+'.geojson'\n",
    "boundary_geo = requests.get(boundary_path).json()\n",
    "boundary_geo_shapely = MultiPolygon(geojson_to_polygons(boundary_geo))\n",
    "#read open space\n",
    "openspace_path = aws_s3_dir +'/data/open_space/openstreetmap/v_0/'+boundary_id+'-OSM-open_space-2022.geojson'\n",
    "openspace_geo = requests.get(openspace_path).json()\n",
    "openspace_geo_shapely = MultiPolygon(geojson_to_polygons(openspace_geo))\n",
    "openspace_poly = make_valid(openspace_geo_shapely).intersection(boundary_geo_shapely)"
   ]
  },
  {
   "cell_type": "code",
   "execution_count": null,
   "id": "dc6dd6a0",
   "metadata": {},
   "outputs": [],
   "source": [
    "boundary_geo_shapely"
   ]
  },
  {
   "cell_type": "code",
   "execution_count": null,
   "id": "f8139acf-fc46-4b56-ab44-cfdd9e02728c",
   "metadata": {},
   "outputs": [],
   "source": [
    "openspace_geo_shapely"
   ]
  },
  {
   "cell_type": "code",
   "execution_count": null,
   "id": "0f967d61-1fd6-46b6-bdd0-5a94f23c74a1",
   "metadata": {},
   "outputs": [],
   "source": [
    "openspace_poly"
   ]
  },
  {
   "cell_type": "code",
   "execution_count": null,
   "id": "1c2a6e9f-0e21-41fc-ac28-d02d3f94826d",
   "metadata": {
    "tags": []
   },
   "outputs": [],
   "source": [
    "def do_one_geom(row):\n",
    "    bound_poly = row[0]\n",
    "    bound_poly_ee = ee.FeatureCollection(gpd.GeoSeries([bound_poly]).__geo_interface__)\n",
    "    openspace_poly = make_valid(openspace_geo_shapely).intersection(bound_poly)\n",
    "    if openspace_poly.is_empty:\n",
    "        openspace_poly_ee = ee.FeatureCollection(gpd.GeoSeries().apply(lambda x: 0, axis=1).__geo_interface__)\n",
    "    else: \n",
    "        openspace_poly_ee = ee.FeatureCollection(gpd.GeoSeries([openspace_poly]).__geo_interface__)\n",
    "    # openspace_area = openspace_poly.area\n",
    "    def calcAreaHA(feat):\n",
    "        featarea = ee.Number(feat.area().multiply(0.0001))\n",
    "        return feat.set({\n",
    "            'AreaHA':featarea\n",
    "        })\n",
    "    openspace_area = openspace_poly_ee.map(calcAreaHA).aggregate_sum('AreaHA').getInfo()\n",
    "    polyPop = popImg.reduceRegions(bound_poly_ee,ee.Reducer.sum(),popScale).first().get('sum').getInfo()\n",
    "    # print(openspace_area,polyPop)\n",
    "    result = openspace_area / (polyPop * 0.001) # hectares of open space per 1000 people\n",
    "    print(openspace_area, polyPop)\n",
    "    print('{0}: {1}'.format(row[1], result))\n",
    "    return result "
   ]
  },
  {
   "cell_type": "code",
   "execution_count": null,
   "id": "8ab64cd3-d7f0-4503-b6a5-e1239186f44f",
   "metadata": {},
   "outputs": [],
   "source": [
    "for i in range(len(boundary_georef)):\n",
    "    if not OUTPUT_FILENAME in os.listdir('.'):\n",
    "        so_far_df = pd.DataFrame()\n",
    "        so_far_df.to_csv(OUTPUT_FILENAME)\n",
    "        so_far = []\n",
    "    else:\n",
    "        so_far_df = pd.read_csv(OUTPUT_FILENAME)\n",
    "        so_far = [so_far_df.iloc[j]['geo_id'] for j in range(len(so_far_df))]\n",
    "    most_recent = []\n",
    "    #outputs_df = pd.DataFrame()\n",
    "    do_units = True\n",
    "    for boundary_name in ['aoi_boundary_name', 'units_boundary_name']:\n",
    "        if type(boundary_georef.loc[i, boundary_name]) != float: # sometimes boundary_id is nan\n",
    "            boundary_id = boundary_georef.loc[i, 'geo_name']+'-' + boundary_georef.loc[i, boundary_name]\n",
    "            boundary_id_aoi = boundary_georef.loc[i, 'geo_name']+'-'+boundary_georef.loc[i, 'aoi_boundary_name']\n",
    "            # read boundaries\n",
    "            boundary_path = aws_s3_dir +'/data/boundaries/v_0/boundary-'+boundary_id+'.geojson'\n",
    "            boundary_geo = requests.get(boundary_path).json()\n",
    "            boundary_geo_ee = ee.FeatureCollection(boundary_geo)\n",
    "            boundary_geo_shapely = MultiPolygon(geojson_to_polygons(boundary_geo))\n",
    "            #read open space\n",
    "            openspace_path = aws_s3_dir +'/data/open_space/openstreetmap/v_0/'+boundary_id_aoi+'-OSM-open_space-2022.geojson'\n",
    "            openspace_geo = requests.get(openspace_path).json()\n",
    "            openspace_geo_shapely = MultiPolygon(geojson_to_polygons(openspace_geo))\n",
    "            temp_gdf = gpd.GeoDataFrame.from_features(boundary_geo)\n",
    "            if (boundary_name == 'aoi_boundary_name') or (boundary_name == 'units_boundary_name' and do_units):\n",
    "                temp_gdf['GRE_3_4_OpenSpaceHectaresper1000people'] = temp_gdf.apply(do_one_geom, axis=1)\n",
    "            else:\n",
    "                 temp_gdf['GRE_3_4_OpenSpaceHectaresper1000people'] = temp_gdf.apply(lambda x: 0, axis=1)\n",
    "            if boundary_name == 'aoi_boundary_name':\n",
    "                do_units = temp_gdf.iloc[-1]['GRE_3_4_OpenSpaceHectaresper1000people'] != 0\n",
    "            most_recent.append(temp_gdf.copy())\n",
    "    result = pd.concat([so_far_df] + most_recent, axis=0)\n",
    "    result = result[['geo_id', 'geo_level', 'geo_name', 'geo_parent_name', 'GRE_3_4_OpenSpaceHectaresper1000people']]\n",
    "    result.to_csv(OUTPUT_FILENAME)"
   ]
  },
  {
   "cell_type": "code",
   "execution_count": null,
   "id": "fca7f2f0-8b58-41dd-8b9b-617d06640c97",
   "metadata": {},
   "outputs": [],
   "source": [
    "processedcities = pd.read_csv(OUTPUT_FILENAME)\n",
    "# ''out_dir +'/' OUTPUT_FILENAME'\n",
    "processedcities"
   ]
  },
  {
   "cell_type": "markdown",
   "id": "e12029fa-18ee-41dc-9fca-5fb09029fa4d",
   "metadata": {},
   "source": [
    "# Merge with indicator table"
   ]
  },
  {
   "cell_type": "code",
   "execution_count": null,
   "id": "3c7ed381-bdd0-487b-92fe-fb6512b27533",
   "metadata": {},
   "outputs": [],
   "source": [
    "# read indicator table\n",
    "#cities_indicators = pd.read_csv(aws_s3_dir + '/indicators/cities_indicators_erictest.csv')\n",
    "cities_indicators = pd.read_csv(aws_s3_dir + '/indicators/cities_indicators_ericV1.csv')\n",
    "cities_indicators"
   ]
  },
  {
   "cell_type": "code",
   "execution_count": null,
   "id": "7f7c412a-e3fa-4275-a9f9-92f5eb70ebb3",
   "metadata": {},
   "outputs": [],
   "source": [
    "def merge_indicators(indicator_table, new_indicator_table, indicator_name):\n",
    "    if indicator_name in indicator_table.columns:\n",
    "        print(\"replace with new calculations\")\n",
    "        indicator_table.drop(indicator_name, inplace=True, axis=1)\n",
    "        new_indicator_table = new_indicator_table.drop_duplicates()\n",
    "        cities_indicators_df = indicator_table.merge(new_indicator_table[[\"geo_id\",indicator_name]], \n",
    "                                                     on='geo_id', \n",
    "                                                     how='left',\n",
    "                                                     validate='one_to_many')\n",
    "    else:\n",
    "        print(\"add new indicators\")\n",
    "        new_indicator_table = new_indicator_table.drop_duplicates()\n",
    "        cities_indicators_df = indicator_table.merge(new_indicator_table[[\"geo_id\",indicator_name]], \n",
    "                                                     on='geo_id', \n",
    "                                                     how='left',\n",
    "                                                     validate='one_to_many')\n",
    "    return(cities_indicators_df)"
   ]
  },
  {
   "cell_type": "code",
   "execution_count": null,
   "id": "6243bdfc-d25f-4ccf-a47f-a230f73a1a5f",
   "metadata": {},
   "outputs": [],
   "source": [
    "cities_indicators_merged = merge_indicators(indicator_table = cities_indicators,\n",
    "                                            new_indicator_table = processedcities,\n",
    "                                            indicator_name = 'GRE_3_4_OpenSpaceHectaresper1000people')"
   ]
  },
  {
   "cell_type": "code",
   "execution_count": null,
   "id": "701f2316-806d-438b-b09c-b78d9001222e",
   "metadata": {},
   "outputs": [],
   "source": [
    "cities_indicators_merged"
   ]
  },
  {
   "cell_type": "markdown",
   "id": "318db2f7-042a-4004-9f58-1f4bf3769141",
   "metadata": {},
   "source": [
    "# Upload in aws s3"
   ]
  },
  {
   "cell_type": "code",
   "execution_count": null,
   "id": "4c059a57-b6a6-4354-b24b-f45102ec8399",
   "metadata": {},
   "outputs": [],
   "source": [
    "# connect to s3\n",
    "aws_credentials = pd.read_csv('/home/jovyan/PlanetaryComputerExamples/aws_credentials.csv')\n",
    "# aws_credentials = pd.read_csv('C:\\\\Users\\\\Saif.Shabou\\\\OneDrive - World Resources Institute\\\\Documents\\\\aws\\\\credentials.csv')\n",
    "aws_key = aws_credentials.iloc[0]['Access key ID']\n",
    "aws_secret = aws_credentials.iloc[0]['Secret access key']\n",
    "\n",
    "s3 = boto3.resource(\n",
    "    service_name='s3',\n",
    "    aws_access_key_id=aws_key,\n",
    "    aws_secret_access_key=aws_secret\n",
    ")"
   ]
  },
  {
   "cell_type": "code",
   "execution_count": null,
   "id": "1a2235f8-fb77-40f6-91d8-908dca3fd164",
   "metadata": {},
   "outputs": [],
   "source": [
    "# upload to aws\n",
    "# key_data = 'data/indicators/cities_indicators_erictest.csv'\n",
    "# key_data = 'indicators/cities_indicators_v2test.csv'\n",
    "key_data = 'indicators/cities_indicators_ericV1.csv'\n",
    "\n",
    "cities_indicators_merged.to_csv(\n",
    "    f\"s3://{bucket_name}/{key_data}\",\n",
    "    index=False,\n",
    "    storage_options={\n",
    "        \"key\": aws_key,\n",
    "        \"secret\": aws_secret\n",
    "    },\n",
    ")"
   ]
  },
  {
   "cell_type": "code",
   "execution_count": null,
   "id": "db9ed391-015d-4778-acc5-37c0c7a04703",
   "metadata": {},
   "outputs": [],
   "source": [
    "# make it public\n",
    "object_acl = s3.ObjectAcl(bucket_name,key_data)\n",
    "response = object_acl.put(ACL='public-read')"
   ]
  },
  {
   "cell_type": "code",
   "execution_count": null,
   "id": "e2bba97e-f916-409b-80b3-c89e0ab28e01",
   "metadata": {},
   "outputs": [],
   "source": []
  },
  {
   "cell_type": "code",
   "execution_count": null,
   "id": "35a65154-ec83-4404-8f45-746cb246be3b",
   "metadata": {},
   "outputs": [],
   "source": []
  },
  {
   "cell_type": "code",
   "execution_count": null,
   "id": "67ded3fe-e57b-4484-9afb-4e0231347774",
   "metadata": {},
   "outputs": [],
   "source": []
  }
 ],
 "metadata": {
  "kernelspec": {
   "display_name": "Python 3 (ipykernel)",
   "language": "python",
   "name": "python3"
  },
  "language_info": {
   "codemirror_mode": {
    "name": "ipython",
    "version": 3
   },
   "file_extension": ".py",
   "mimetype": "text/x-python",
   "name": "python",
   "nbconvert_exporter": "python",
   "pygments_lexer": "ipython3",
   "version": "3.10.6"
  }
 },
 "nbformat": 4,
 "nbformat_minor": 5
}
