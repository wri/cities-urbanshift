{
 "cells": [
  {
   "cell_type": "code",
   "execution_count": null,
   "id": "a6c81709-eea2-4847-bc81-a2947bb57472",
   "metadata": {},
   "outputs": [],
   "source": [
    "# import sys\n",
    "# !{sys.executable} -m pip install pip earthengine-api\n",
    "# !{sys.executable} -m pip install pip geemap[all]\n",
    "# !{sys.executable} -m pip install pip rasterstats "
   ]
  },
  {
   "cell_type": "code",
   "execution_count": null,
   "id": "2df62f58-9870-4a93-9bfa-029f4b1df37d",
   "metadata": {},
   "outputs": [],
   "source": [
    "import ee\n",
    "# ee.Authenticate()"
   ]
  },
  {
   "cell_type": "code",
   "execution_count": null,
   "id": "c48c2563-382d-4cee-96d6-6662f1a4b41d",
   "metadata": {},
   "outputs": [],
   "source": [
    "ee.Initialize()"
   ]
  },
  {
   "cell_type": "code",
   "execution_count": null,
   "id": "c3e6a6f2-fcbc-4acf-b269-7e7906179b72",
   "metadata": {},
   "outputs": [],
   "source": [
    "import numpy as np\n",
    "import requests\n",
    "import os\n",
    "import pandas as pd\n",
    "import rasterio\n",
    "import boto3\n",
    "import geopandas as gpd\n",
    "import io\n",
    "from rasterstats import zonal_stats\n",
    "import fiona\n",
    "import rasterio.mask\n",
    "import geemap\n",
    "import glob\n",
    "import boto3"
   ]
  },
  {
   "cell_type": "code",
   "execution_count": null,
   "id": "f81e963e-704c-4b54-8f58-f250a3bcbc25",
   "metadata": {},
   "outputs": [],
   "source": [
    "# hide warnings\n",
    "import warnings\n",
    "warnings.filterwarnings('ignore')"
   ]
  },
  {
   "cell_type": "markdown",
   "id": "2750fdd9-3577-4a7a-a309-2fb83e66a6aa",
   "metadata": {},
   "source": [
    "# Read input data"
   ]
  },
  {
   "cell_type": "code",
   "execution_count": null,
   "id": "9b1c7594-db33-4241-bade-a2ba209eabf8",
   "metadata": {},
   "outputs": [],
   "source": [
    "# define directory\n",
    "out_dir = os.getcwd()\n",
    "bucket_name = 'cities-urbanshift' \n",
    "aws_s3_dir = \"https://\"+bucket_name+\".s3.eu-west-3.amazonaws.com\""
   ]
  },
  {
   "cell_type": "code",
   "execution_count": null,
   "id": "03eff1ad-72c3-4c62-92c3-63bb9eb02439",
   "metadata": {},
   "outputs": [],
   "source": [
    "# get list of cities\n",
    "boundary_georef = pd.read_csv(aws_s3_dir + '/data/boundaries/v_0/boundary_georef.csv')\n",
    "boundary_georef"
   ]
  },
  {
   "cell_type": "markdown",
   "id": "524c0453-5c4d-448c-8d11-bac74007596b",
   "metadata": {},
   "source": [
    "# Extract images with population: total, with open space access and with tree access"
   ]
  },
  {
   "cell_type": "code",
   "execution_count": null,
   "id": "8a286f5e-8429-4f41-b959-f1e14737cc64",
   "metadata": {},
   "outputs": [],
   "source": [
    "for i in range(0,len(boundary_georef)):\n",
    "    print(i)\n",
    "    geo_name = boundary_georef.loc[i, 'geo_name']\n",
    "    print(\"\\n geo_name: \"+geo_name)\n",
    "    \n",
    "    boundary_id_aoi = boundary_georef.loc[i, 'geo_name']+'-'+boundary_georef.loc[i, 'aoi_boundary_name']\n",
    "\n",
    "    # process aoi level ------\n",
    "    # read boundaries\n",
    "    boundary_path = aws_s3_dir +'/data/boundaries/v_0/boundary-'+boundary_id_aoi+'.geojson'\n",
    "    boundary_geo = requests.get(boundary_path).json()\n",
    "    boundary_geo_ee = geemap.geojson_to_ee(boundary_geo)\n",
    "    \n",
    "    #read open space\n",
    "    openspace_path = aws_s3_dir +'/data/open_space/openstreetmap/v_0/'+boundary_id_aoi+'-OSM-open_space-2022.geojson'\n",
    "    openspace_geo = requests.get(openspace_path).json()\n",
    "    openspace_geo_ee = geemap.geojson_to_ee(openspace_geo)\n",
    "    \n",
    "    #load population\n",
    "    pop = ee.ImageCollection('WorldPop/GP/100m/pop')\n",
    "    pop = (pop.filter(\n",
    "        ee.Filter.inList('year',[2020]))\n",
    "        .select('population'))\n",
    "    popImg = pop.mean().rename('population')\n",
    "\n",
    "    popProj = pop.first().projection()\n",
    "    popScale = popProj.nominalScale()\n",
    "\n",
    "    # define threshold distance (m) and buffer open space areas by that to get recreation catchment\n",
    "    DistanceThres = 400 # meters distance from population to be considered\n",
    "    def amenityBuffer(feat):\n",
    "      feat = ee.Feature(feat)\n",
    "      return feat.buffer(DistanceThres)\n",
    "    RecCatchment = openspace_geo_ee.map(amenityBuffer)\n",
    "    RecCatchmentUnion = RecCatchment.union()\n",
    "    \n",
    "    #mask population by recreation catchment\n",
    "    mask = ee.Image.constant(1).clipToCollection(RecCatchmentUnion).mask()\n",
    "    popwOSaccess = popImg.updateMask(mask).rename('populationwOpenSpace')\n",
    "    \n",
    "    ## add tree cover dataset\n",
    "    TML = ee.ImageCollection('projects/wri-datalab/TML').filter(ee.Filter.bounds(boundary_geo_ee))\n",
    "    TreeCover = TML.reduce(ee.Reducer.mean()).rename('b1')\n",
    "    \n",
    "    # calcs for % population with threshold level (e.g. 10%+) of tree cover within walking distance (e.g. 400m)\n",
    "    TreePctThreshold = 10 #whole numbers - 0-100, minimum percentage of tree cover threshold to consider \n",
    "    circleTheshm = ee.Kernel.circle(DistanceThres, 'meters', False)\n",
    "    TreeCoverinThreshm = TreeCover.reduceNeighborhood(ee.Reducer.mean(), circleTheshm)\n",
    "    popwthresTC = popImg.updateMask(TreeCoverinThreshm.gte(TreePctThreshold)).rename('populationwTreeCover')\n",
    "    \n",
    "    # combine images \n",
    "    combImg = popImg.addBands([popwOSaccess,popwthresTC])\n",
    "    \n",
    "    \n",
    "    geemap.ee_export_image_to_drive(\n",
    "        popImg, \n",
    "        description = boundary_id_aoi + '-WorldPop-population',\n",
    "        folder='data', \n",
    "        scale=popScale, \n",
    "        region=boundary_geo_ee.geometry(),\n",
    "        maxPixels = 50000000000\n",
    "    )\n",
    "    \n",
    "    geemap.ee_export_image_to_drive(\n",
    "        popwOSaccess, \n",
    "        description = boundary_id_aoi + '-population-wOpenSpace',\n",
    "        folder='data', \n",
    "        scale=popScale, \n",
    "        region=boundary_geo_ee.geometry(),\n",
    "        maxPixels = 50000000000\n",
    "    )\n",
    "        \n",
    "    geemap.ee_export_image_to_drive(\n",
    "        popwthresTC, \n",
    "        description = boundary_id_aoi + '-population-wTreeCover',\n",
    "        folder='data', \n",
    "        scale=popScale, \n",
    "        region=boundary_geo_ee.geometry(),\n",
    "        maxPixels = 50000000000\n",
    "    )"
   ]
  },
  {
   "cell_type": "markdown",
   "id": "599b25cb-ed19-4321-9e17-695c5007c73a",
   "metadata": {},
   "source": [
    "# Upload in aws\n",
    "\n",
    "Since we can't download directly the rasters locally due to their size, the rasters are stored in a google-drive folder and then downloaded locally in order to push them back to s3 bucket."
   ]
  },
  {
   "cell_type": "code",
   "execution_count": null,
   "id": "d636d7cc-7a74-47c9-a5ac-8012866044db",
   "metadata": {},
   "outputs": [],
   "source": [
    "# connect to s3\n",
    "aws_credentials = pd.read_csv('/home/jovyan/PlanetaryComputerExamples/aws_credentials.csv')\n",
    "aws_key = aws_credentials.iloc[0]['Access key ID']\n",
    "aws_secret = aws_credentials.iloc[0]['Secret access key']\n",
    "\n",
    "s3 = boto3.resource(\n",
    "    service_name='s3',\n",
    "    aws_access_key_id=aws_key,\n",
    "    aws_secret_access_key=aws_secret\n",
    ")\n"
   ]
  },
  {
   "cell_type": "code",
   "execution_count": null,
   "id": "5b2a26c3-e909-42b6-905f-a21c432a3703",
   "metadata": {},
   "outputs": [],
   "source": [
    "for i in range(0,len(boundary_georef)):\n",
    "# for i in range(7,9):\n",
    "# for i in range(11,22):\n",
    "# for i in range(25,len(boundary_georef)):\n",
    "    boundary_id = boundary_georef.loc[i, 'geo_name']+'-'+boundary_georef.loc[i, 'aoi_boundary_name']\n",
    "    geo_name = boundary_georef.loc[i, 'geo_name']\n",
    "    print(\"\\n boundary_id: \"+boundary_id)\n",
    "\n",
    "    # read local raster\n",
    "    city_file = 'data/' + boundary_id +'-WorldPop-population.tif'\n",
    "    raster_path = os.path.join(out_dir, city_file)\n",
    "    \n",
    "    # upload in s3\n",
    "    s3.meta.client.upload_file(raster_path, \n",
    "                               bucket_name, \n",
    "                               'data/population/worldpop/v_0/'+ boundary_id + '-WorldPop-population-2020.tif',\n",
    "                               ExtraArgs={'ACL':'public-read'})\n",
    "\n",
    "    # read local raster\n",
    "    city_file = 'data/' + boundary_id +'-population-wTreeCover.tif'\n",
    "    raster_path = os.path.join(out_dir, city_file)\n",
    "    \n",
    "    # upload in s3\n",
    "    s3.meta.client.upload_file(raster_path, \n",
    "                               bucket_name, \n",
    "                               'data/population/worldpop/v_0/'+ boundary_id + '-population-wTreeCover-2020.tif',\n",
    "                               ExtraArgs={'ACL':'public-read'})\n",
    "    \n",
    "    # read local raster\n",
    "    city_file = 'data/' + boundary_id +'-population-wOpenSpace.tif'\n",
    "    raster_path = os.path.join(out_dir, city_file)\n",
    "    \n",
    "    # upload in s3\n",
    "    s3.meta.client.upload_file(raster_path, \n",
    "                               bucket_name, \n",
    "                               'data/population/worldpop/v_0/'+ boundary_id + '-population-wOpenSpace-2020.tif',\n",
    "                               ExtraArgs={'ACL':'public-read'})"
   ]
  },
  {
   "cell_type": "code",
   "execution_count": null,
   "id": "fddd08c8-f5ce-41ec-b56c-6a4b9aee1268",
   "metadata": {},
   "outputs": [],
   "source": []
  }
 ],
 "metadata": {
  "kernelspec": {
   "display_name": "Python 3 (ipykernel)",
   "language": "python",
   "name": "python3"
  },
  "language_info": {
   "codemirror_mode": {
    "name": "ipython",
    "version": 3
   },
   "file_extension": ".py",
   "mimetype": "text/x-python",
   "name": "python",
   "nbconvert_exporter": "python",
   "pygments_lexer": "ipython3",
   "version": "3.10.6"
  }
 },
 "nbformat": 4,
 "nbformat_minor": 5
}
