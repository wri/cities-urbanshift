{
 "cells": [
  {
   "cell_type": "code",
   "execution_count": null,
   "id": "910a66a1-a3b7-4aee-98ab-2b826a1b6e3b",
   "metadata": {},
   "outputs": [],
   "source": [
    "# import sys\n",
    "# !{sys.executable} -m pip install pip earthengine-api\n",
    "# !{sys.executable} -m pip install pip geemap[all]\n",
    "# !{sys.executable} -m pip install pip rasterstats "
   ]
  },
  {
   "cell_type": "code",
   "execution_count": null,
   "id": "dd9f259e-62a6-4b7e-b879-8628b18a8741",
   "metadata": {},
   "outputs": [],
   "source": [
    "import ee\n",
    "# ee.Authenticate()"
   ]
  },
  {
   "cell_type": "code",
   "execution_count": null,
   "id": "73901903-5245-4507-950b-3a78b2e820b8",
   "metadata": {},
   "outputs": [],
   "source": [
    "ee.Initialize()"
   ]
  },
  {
   "cell_type": "code",
   "execution_count": null,
   "id": "ff69f1a8-e7fa-40ac-81db-f9a67f1e82c6",
   "metadata": {},
   "outputs": [],
   "source": [
    "import numpy as np\n",
    "import requests\n",
    "import os\n",
    "import pandas as pd\n",
    "import rasterio\n",
    "import boto3\n",
    "import geopandas as gpd\n",
    "import io\n",
    "from rasterstats import zonal_stats\n",
    "import fiona\n",
    "import rasterio.mask\n",
    "import geemap\n",
    "import glob\n",
    "import boto3"
   ]
  },
  {
   "cell_type": "code",
   "execution_count": null,
   "id": "e9de7d4d-ed34-493b-8573-ab00825ca668",
   "metadata": {},
   "outputs": [],
   "source": [
    "# hide warnings\n",
    "import warnings\n",
    "warnings.filterwarnings('ignore')"
   ]
  },
  {
   "cell_type": "markdown",
   "id": "11ea530a-3c18-423a-a28a-de82cfa137ff",
   "metadata": {},
   "source": [
    "# Read input data"
   ]
  },
  {
   "cell_type": "code",
   "execution_count": null,
   "id": "330baf82-21ca-423c-803a-37782d5d7357",
   "metadata": {},
   "outputs": [],
   "source": [
    "# define directory\n",
    "out_dir = os.getcwd()\n",
    "bucket_name = 'cities-urbanshift' \n",
    "aws_s3_dir = \"https://\"+bucket_name+\".s3.eu-west-3.amazonaws.com/data\""
   ]
  },
  {
   "cell_type": "code",
   "execution_count": null,
   "id": "0f66600a-4238-4bb0-a3f8-70195746ffd1",
   "metadata": {},
   "outputs": [],
   "source": [
    "# read esa land cover\n",
    "esa_land_cover = ee.ImageCollection('ESA/WorldCover/v100').first()"
   ]
  },
  {
   "cell_type": "code",
   "execution_count": null,
   "id": "d1fa5ee9-8643-433d-9275-0fbc3ba0230b",
   "metadata": {},
   "outputs": [],
   "source": [
    "# get list of c4f cities\n",
    "boundary_georef = pd.read_csv(aws_s3_dir + '/boundaries/v_0/boundary_georef.csv')\n",
    "boundary_georef"
   ]
  },
  {
   "cell_type": "code",
   "execution_count": null,
   "id": "9713ecad-ff62-44c7-9e1a-fd62d91fd776",
   "metadata": {},
   "outputs": [],
   "source": [
    "# # remove cities with time out issues due to volumetry\n",
    "# data_volumetry_error_cities = ['MEX-Mexico_City']\n",
    "# boundary_georef = boundary_georef[~boundary_georef['geo_name'].isin(data_volumetry_error_cities)].reset_index(drop=True)\n",
    "# boundary_georef"
   ]
  },
  {
   "cell_type": "markdown",
   "id": "88e1c571-5f1e-4a24-8dd7-9222ffe1097a",
   "metadata": {
    "tags": []
   },
   "source": [
    "# Compute indicator"
   ]
  },
  {
   "cell_type": "code",
   "execution_count": null,
   "id": "2155f1c4-4efe-4b67-916f-29090041d975",
   "metadata": {},
   "outputs": [],
   "source": [
    "cities_indicators_GRE_3_1 = pd.DataFrame() "
   ]
  },
  {
   "cell_type": "code",
   "execution_count": null,
   "id": "b19a7e21-e324-45ec-bd84-51e0a682eaf2",
   "metadata": {},
   "outputs": [],
   "source": [
    "for i in range(7,len(boundary_georef)):\n",
    "    print(i)\n",
    "    geo_name = boundary_georef.loc[i, 'geo_name']\n",
    "    print(\"\\n geo_name: \"+geo_name)\n",
    "    \n",
    "    boundary_id_aoi = boundary_georef.loc[i, 'geo_name']+'-'+boundary_georef.loc[i, 'aoi_boundary_name']\n",
    "    boundary_id_unit = boundary_georef.loc[i, 'geo_name']+'-'+boundary_georef.loc[i, 'units_boundary_name']\n",
    "    \n",
    "    #read open space\n",
    "    openspace_path = aws_s3_dir + '/open_space/openstreetmap/v_0/'+boundary_id_aoi+'-OSM-open_space-2022.geojson'\n",
    "    openspace_geo = requests.get(openspace_path).json()\n",
    "    openspace_geo_ee = geemap.geojson_to_ee(openspace_geo)\n",
    "\n",
    "    ## Make an image, with the same projection as WorldCover, out of the OSM ways in the FC.\n",
    "    WCprojection = esa_land_cover.projection(); \n",
    "    RecSitesImg = openspace_geo_ee.style(\n",
    "      color='gray',\n",
    "    ).reproject(\n",
    "          crs= WCprojection\n",
    "        )\n",
    "    # create image with two bands: BuiltupPixels and UrbanOpenPixels\n",
    "    Builtup = esa_land_cover.updateMask(esa_land_cover.eq(50)).rename(\"BuiltupPixels\")\n",
    "    UrbanOpen = RecSitesImg.updateMask(esa_land_cover.eq(50)).select(1).rename(\"UrbanOpenPixels\")\n",
    "    comb = Builtup.addBands([UrbanOpen])\n",
    "    \n",
    "    # Function to translate pixel counts into area and percents\n",
    "    def CountToArea(feat):\n",
    "        feat = ee.Feature(feat)\n",
    "        FeatArea = ee.Number(feat.area(1)).multiply(0.000001)\n",
    "        UrbanOpenArea = ee.Number(feat.getNumber('UrbanOpenPixels')).multiply(ee.Number(100)).multiply(ee.Number(0.000001))\n",
    "        BuiltupArea = ee.Number(feat.getNumber('BuiltupPixels')).multiply(ee.Number(100)).multiply(ee.Number(0.000001))\n",
    "        OpenAreaPctofBuiltUpArea = ee.Number(UrbanOpenArea).divide(ee.Number(BuiltupArea))\n",
    "\n",
    "        return feat.set({\n",
    "            #'TotalareaKM2': FeatArea,\n",
    "            #'UrbanOpenAreaKM2': UrbanOpenArea,\n",
    "            #'BuiltupAreaKM2': BuiltupArea,\n",
    "            'OpenAreaPctofBuiltUpArea': OpenAreaPctofBuiltUpArea,\n",
    "        })\n",
    "    \n",
    "    # process aoi level ------\n",
    "    print(\"\\n boundary_id_aoi: \"+boundary_id_aoi)\n",
    "    # read boundaries\n",
    "    boundary_path = aws_s3_dir +'/boundaries/v_0/boundary-'+boundary_id_aoi+'.geojson'\n",
    "    boundary_geo = requests.get(boundary_path).json()\n",
    "    boundary_geo_ee = geemap.geojson_to_ee(boundary_geo)\n",
    "    \n",
    "    ## define scale for reductions - 10 is ideal, but can be increased if memory errors with large geographies\n",
    "    Scale = 10\n",
    "    \n",
    "    ## create FeatureCollection with pixels counts of Builtup and UrbanOpen for each feature\n",
    "    OpenBuiltcount=comb.reduceRegions(\n",
    "      reducer= ee.Reducer.count(), \n",
    "      collection= boundary_geo_ee, \n",
    "      scale= Scale, \n",
    "      tileScale= 1\n",
    "    )\n",
    "\n",
    "    # apply CountToArea function to FeatureCollection\n",
    "    OpenBuiltAreaPct = OpenBuiltcount.map(CountToArea).select(['geo_id','OpenAreaPctofBuiltUpArea'])\n",
    "\n",
    "    # store in df and apend\n",
    "    df = geemap.ee_to_pandas(OpenBuiltAreaPct)\n",
    "    df = df.rename(columns={\"OpenAreaPctofBuiltUpArea\": \"GRE_3_1_percentOpenSpaceinBuiltup\"})\n",
    "    cities_indicators_GRE_3_1 = cities_indicators_GRE_3_1.append(df)\n",
    "    \n",
    "    \n",
    "    # process unit of analysis level ------\n",
    "    print(\"\\n boundary_id_unit: \"+boundary_id_unit)\n",
    "    # read boundaries\n",
    "    boundary_path = aws_s3_dir +'/boundaries/v_0/boundary-'+boundary_id_unit+'.geojson'\n",
    "    boundary_geo = requests.get(boundary_path).json()\n",
    "    boundary_geo_ee = geemap.geojson_to_ee(boundary_geo)\n",
    "    \n",
    "    ## create FeatureCollection with pixels counts of Builtup and UrbanOpen for each feature\n",
    "    OpenBuiltcount=comb.reduceRegions(\n",
    "      reducer= ee.Reducer.count(), \n",
    "      collection= boundary_geo_ee, \n",
    "      scale= Scale, \n",
    "      tileScale= 1\n",
    "    )\n",
    "    \n",
    "    # apply CountToArea function to FeatureCollection\n",
    "    OpenBuiltAreaPct = OpenBuiltcount.map(CountToArea).select(['geo_id','OpenAreaPctofBuiltUpArea'])\n",
    "\n",
    "    # store in df and apend\n",
    "    df = geemap.ee_to_pandas(OpenBuiltAreaPct)\n",
    "    df = df.rename(columns={\"OpenAreaPctofBuiltUpArea\": \"GRE_3_1_percentOpenSpaceinBuiltup\"})\n",
    "    cities_indicators_GRE_3_1 = cities_indicators_GRE_3_1.append(df)"
   ]
  },
  {
   "cell_type": "code",
   "execution_count": null,
   "id": "41e36d60-52d1-4a98-bbed-6271e2a20c7a",
   "metadata": {},
   "outputs": [],
   "source": [
    "cities_indicators_GRE_3_1"
   ]
  },
  {
   "cell_type": "markdown",
   "id": "71932a47-50c3-4fdd-a287-d001db856caf",
   "metadata": {},
   "source": [
    "# Workaround for geographies with a lot of open space that won't load into memory - must be run one city at a time"
   ]
  },
  {
   "cell_type": "code",
   "execution_count": null,
   "id": "40200f04-13cd-47ec-8f08-d573f011eee7",
   "metadata": {},
   "outputs": [],
   "source": [
    "#delete any existing GEE asset for openspace\n",
    "ee.data.deleteAsset('users/emackres/thisopenspace')"
   ]
  },
  {
   "cell_type": "code",
   "execution_count": null,
   "id": "3a876cad-23fd-4466-8831-06b9bda516a5",
   "metadata": {},
   "outputs": [],
   "source": [
    "## calculate city - adjust range to include single city of interest\n",
    "for i in range(6,7): #len(boundary_georef)):\n",
    "    print(i)\n",
    "    geo_name = boundary_georef.loc[i, 'geo_name']\n",
    "    print(\"\\n geo_name: \"+geo_name)\n",
    "    \n",
    "    boundary_id_aoi = boundary_georef.loc[i, 'geo_name']+'-'+boundary_georef.loc[i, 'aoi_boundary_name']\n",
    "    boundary_id_unit = boundary_georef.loc[i, 'geo_name']+'-'+boundary_georef.loc[i, 'units_boundary_name']\n",
    "\n",
    "    #read open space\n",
    "    openspace_path = aws_s3_dir + '/open_space/openstreetmap/v_0/'+boundary_id_aoi+'-OSM-open_space-2022.geojson'\n",
    "    openspace_geo = requests.get(openspace_path).json()\n",
    "    openspace_geo_ee = geemap.geojson_to_ee(openspace_geo)\n",
    "\n",
    "    exportTask = ee.batch.Export.table.toAsset(\n",
    "        collection = openspace_geo_ee,\n",
    "        description = 'description',\n",
    "        assetId = 'users/emackres/thisopenspace'\n",
    "    )\n",
    "    exportTask.start()"
   ]
  },
  {
   "cell_type": "code",
   "execution_count": null,
   "id": "bec2be2d-2c63-410f-b1a9-d03b4829f7e2",
   "metadata": {},
   "outputs": [],
   "source": [
    "exportTask.status()"
   ]
  },
  {
   "cell_type": "code",
   "execution_count": null,
   "id": "b27158df-50e4-4ba2-8d02-530bb9c71c27",
   "metadata": {},
   "outputs": [],
   "source": [
    "## load saved asset - wait until task status says \"COMPLETED\"\n",
    "openspace_geo_ee = ee.FeatureCollection('users/emackres/thisopenspace')"
   ]
  },
  {
   "cell_type": "code",
   "execution_count": null,
   "id": "8a670e18-4b23-4979-8876-4fca0dfc2da5",
   "metadata": {},
   "outputs": [],
   "source": [
    "for i in range(6,7): #len(boundary_georef)):\n",
    "    print(i)\n",
    "    geo_name = boundary_georef.loc[i, 'geo_name']\n",
    "    print(\"\\n geo_name: \"+geo_name)\n",
    "    \n",
    "    boundary_id_aoi = boundary_georef.loc[i, 'geo_name']+'-'+boundary_georef.loc[i, 'aoi_boundary_name']\n",
    "    boundary_id_unit = boundary_georef.loc[i, 'geo_name']+'-'+boundary_georef.loc[i, 'units_boundary_name']\n",
    "    \n",
    "        \n",
    "    # #read open space\n",
    "    # openspace_path = 'https://cities-cities4forests.s3.eu-west-3.amazonaws.com/data/open_space/openstreetmap/v_0/'+boundary_id_aoi+'-OSM-open_space-2022.geojson'\n",
    "    # openspace_geo = requests.get(openspace_path).json()\n",
    "    # openspace_geo_ee = geemap.geojson_to_ee(openspace_geo)\n",
    "\n",
    "    ## Make an image, with the same projection as WorldCover, out of the OSM ways in the FC.\n",
    "    WCprojection = esa_land_cover.projection(); \n",
    "    RecSitesImg = openspace_geo_ee.style(\n",
    "      color='gray',\n",
    "    ).reproject(\n",
    "          crs= WCprojection\n",
    "        )\n",
    "    # create image with two bands: BuiltupPixels and UrbanOpenPixels\n",
    "    Builtup = esa_land_cover.updateMask(esa_land_cover.eq(50)).rename(\"BuiltupPixels\")\n",
    "    UrbanOpen = RecSitesImg.updateMask(esa_land_cover.eq(50)).select(1).rename(\"UrbanOpenPixels\")\n",
    "    comb = Builtup.addBands([UrbanOpen])\n",
    "    \n",
    "    # Function to translate pixel counts into area and percents\n",
    "    def CountToArea(feat):\n",
    "        feat = ee.Feature(feat)\n",
    "        FeatArea = ee.Number(feat.area(1)).multiply(0.000001)\n",
    "        UrbanOpenArea = ee.Number(feat.getNumber('UrbanOpenPixels')).multiply(ee.Number(100)).multiply(ee.Number(0.000001))\n",
    "        BuiltupArea = ee.Number(feat.getNumber('BuiltupPixels')).multiply(ee.Number(100)).multiply(ee.Number(0.000001))\n",
    "        OpenAreaPctofBuiltUpArea = ee.Number(UrbanOpenArea).divide(ee.Number(BuiltupArea))\n",
    "\n",
    "        return feat.set({\n",
    "            #'TotalareaKM2': FeatArea,\n",
    "            #'UrbanOpenAreaKM2': UrbanOpenArea,\n",
    "            #'BuiltupAreaKM2': BuiltupArea,\n",
    "            'OpenAreaPctofBuiltUpArea': OpenAreaPctofBuiltUpArea,\n",
    "        })\n",
    "    \n",
    "    # process aoi level ------\n",
    "    print(\"\\n boundary_id_aoi: \"+boundary_id_aoi)\n",
    "    # read boundaries\n",
    "    boundary_path = aws_s3_dir +'/boundaries/v_0/boundary-'+boundary_id_aoi+'.geojson'\n",
    "    boundary_geo = requests.get(boundary_path).json()\n",
    "    boundary_geo_ee = geemap.geojson_to_ee(boundary_geo)\n",
    "    \n",
    "    ## define scale for reductions - 10 is ideal, but can be increased if memory errors with large geographies\n",
    "    Scale = 10\n",
    "    \n",
    "    ## create FeatureCollection with pixels counts of Builtup and UrbanOpen for each feature\n",
    "    OpenBuiltcount=comb.reduceRegions(\n",
    "      reducer= ee.Reducer.count(), \n",
    "      collection= boundary_geo_ee, \n",
    "      scale= Scale, \n",
    "      tileScale= 1\n",
    "    )\n",
    "\n",
    "    # apply CountToArea function to FeatureCollection\n",
    "    OpenBuiltAreaPct = OpenBuiltcount.map(CountToArea).select(['geo_id','OpenAreaPctofBuiltUpArea'])\n",
    "\n",
    "    # store in df and apend\n",
    "    df = geemap.ee_to_pandas(OpenBuiltAreaPct)\n",
    "    df = df.rename(columns={\"OpenAreaPctofBuiltUpArea\": \"GRE_3_1_percentOpenSpaceinBuiltup\"})\n",
    "    cities_indicators_GRE_3_1 = cities_indicators_GRE_3_1.append(df)\n",
    "    \n",
    "    \n",
    "    # process unit of analysis level ------\n",
    "    print(\"\\n boundary_id_unit: \"+boundary_id_unit)\n",
    "    # read boundaries\n",
    "    boundary_path = aws_s3_dir +'/boundaries/v_0/boundary-'+boundary_id_unit+'.geojson'\n",
    "    boundary_geo = requests.get(boundary_path).json()\n",
    "    boundary_geo_ee = geemap.geojson_to_ee(boundary_geo)\n",
    "    \n",
    "    ## create FeatureCollection with pixels counts of Builtup and UrbanOpen for each feature\n",
    "    OpenBuiltcount=comb.reduceRegions(\n",
    "      reducer= ee.Reducer.count(), \n",
    "      collection= boundary_geo_ee, \n",
    "      scale= Scale, \n",
    "      tileScale= 1\n",
    "    )\n",
    "    \n",
    "    # apply CountToArea function to FeatureCollection\n",
    "    OpenBuiltAreaPct = OpenBuiltcount.map(CountToArea).select(['geo_id','OpenAreaPctofBuiltUpArea'])\n",
    "\n",
    "    # store in df and apend\n",
    "    df = geemap.ee_to_pandas(OpenBuiltAreaPct)\n",
    "    df = df.rename(columns={\"OpenAreaPctofBuiltUpArea\": \"GRE_3_1_percentOpenSpaceinBuiltup\"})\n",
    "    cities_indicators_GRE_3_1 = cities_indicators_GRE_3_1.append(df)"
   ]
  },
  {
   "cell_type": "code",
   "execution_count": null,
   "id": "8fa47486-f561-4827-b38e-8535cef774bd",
   "metadata": {},
   "outputs": [],
   "source": [
    "cities_indicators_GRE_3_1"
   ]
  },
  {
   "cell_type": "markdown",
   "id": "8d5abd9b-097c-4676-a500-ecd45ad77374",
   "metadata": {},
   "source": [
    "# Merge with indicator table"
   ]
  },
  {
   "cell_type": "code",
   "execution_count": null,
   "id": "731fba45-59b3-44fe-94a9-3520763dffed",
   "metadata": {},
   "outputs": [],
   "source": [
    "# read indicator table\n",
    "cities_indicators = pd.read_csv('https://'+bucket_name+'.s3.eu-west-3.amazonaws.com/indicators/cities_indicators_ericV1.csv')\n",
    "cities_indicators"
   ]
  },
  {
   "cell_type": "code",
   "execution_count": null,
   "id": "978df631-317b-4c42-8c8a-d8ee108e1715",
   "metadata": {},
   "outputs": [],
   "source": [
    "def merge_indicators(indicator_table, new_indicator_table, indicator_name):\n",
    "    if indicator_name in indicator_table.columns:\n",
    "        print(\"replace with new calculations\")\n",
    "        indicator_table.drop(indicator_name, inplace=True, axis=1)\n",
    "        new_indicator_table = new_indicator_table.drop_duplicates()\n",
    "        cities_indicators_df = indicator_table.merge(new_indicator_table[[\"geo_id\",indicator_name]], \n",
    "                                                     on='geo_id', \n",
    "                                                     how='left',\n",
    "                                                     validate='one_to_many')\n",
    "    else:\n",
    "        print(\"add new indicators\")\n",
    "        new_indicator_table = new_indicator_table.drop_duplicates()\n",
    "        cities_indicators_df = indicator_table.merge(new_indicator_table[[\"geo_id\",indicator_name]], \n",
    "                                                     on='geo_id', \n",
    "                                                     how='left',\n",
    "                                                     validate='one_to_many')\n",
    "    return(cities_indicators_df)"
   ]
  },
  {
   "cell_type": "code",
   "execution_count": null,
   "id": "ffa73a3a-ea72-42ab-81ed-589b95ef33ab",
   "metadata": {},
   "outputs": [],
   "source": [
    "cities_indicators_merged = merge_indicators(indicator_table = cities_indicators,\n",
    "                                            new_indicator_table = cities_indicators_GRE_3_1,\n",
    "                                            indicator_name = \"GRE_3_1_percentOpenSpaceinBuiltup\")"
   ]
  },
  {
   "cell_type": "code",
   "execution_count": null,
   "id": "6c10c1e2-9aa9-4d43-a110-8550e4f36e0e",
   "metadata": {},
   "outputs": [],
   "source": [
    "cities_indicators_merged"
   ]
  },
  {
   "cell_type": "markdown",
   "id": "cba258d2-9e13-4fcc-bf22-4aeb3f359405",
   "metadata": {},
   "source": [
    "# Upload in aws s3"
   ]
  },
  {
   "cell_type": "code",
   "execution_count": null,
   "id": "4c059a57-b6a6-4354-b24b-f45102ec8399",
   "metadata": {},
   "outputs": [],
   "source": [
    "# connect to s3\n",
    "aws_credentials = pd.read_csv('/home/jovyan/PlanetaryComputerExamples/aws_credentials.csv')\n",
    "# aws_credentials = pd.read_csv('C:\\\\Users\\\\Saif.Shabou\\\\OneDrive - World Resources Institute\\\\Documents\\\\aws\\\\credentials.csv')\n",
    "aws_key = aws_credentials.iloc[0]['Access key ID']\n",
    "aws_secret = aws_credentials.iloc[0]['Secret access key']\n",
    "\n",
    "s3 = boto3.resource(\n",
    "    service_name='s3',\n",
    "    aws_access_key_id=aws_key,\n",
    "    aws_secret_access_key=aws_secret\n",
    ")"
   ]
  },
  {
   "cell_type": "code",
   "execution_count": null,
   "id": "1a2235f8-fb77-40f6-91d8-908dca3fd164",
   "metadata": {},
   "outputs": [],
   "source": [
    "# upload to aws\n",
    "key_data = 'indicators/cities_indicators_ericV1.csv'\n",
    "\n",
    "cities_indicators_merged.to_csv(\n",
    "    f\"s3://{bucket_name}/{key_data}\",\n",
    "    index=False,\n",
    "    storage_options={\n",
    "        \"key\": aws_key,\n",
    "        \"secret\": aws_secret\n",
    "    },\n",
    ")"
   ]
  },
  {
   "cell_type": "code",
   "execution_count": null,
   "id": "db9ed391-015d-4778-acc5-37c0c7a04703",
   "metadata": {},
   "outputs": [],
   "source": [
    "# make it public\n",
    "object_acl = s3.ObjectAcl(bucket_name,key_data)\n",
    "response = object_acl.put(ACL='public-read')"
   ]
  },
  {
   "cell_type": "code",
   "execution_count": null,
   "id": "ecf202dd-5adf-44d6-83b2-bcba1e8e3d11",
   "metadata": {},
   "outputs": [],
   "source": []
  }
 ],
 "metadata": {
  "kernelspec": {
   "display_name": "Python 3 (ipykernel)",
   "language": "python",
   "name": "python3"
  },
  "language_info": {
   "codemirror_mode": {
    "name": "ipython",
    "version": 3
   },
   "file_extension": ".py",
   "mimetype": "text/x-python",
   "name": "python",
   "nbconvert_exporter": "python",
   "pygments_lexer": "ipython3",
   "version": "3.10.6"
  }
 },
 "nbformat": 4,
 "nbformat_minor": 5
}
