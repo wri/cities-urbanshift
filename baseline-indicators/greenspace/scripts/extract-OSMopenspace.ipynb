{
 "cells": [
  {
   "cell_type": "code",
   "execution_count": null,
   "id": "f1e565e6-751d-461a-a315-8f964c79f464",
   "metadata": {
    "tags": []
   },
   "outputs": [],
   "source": [
    "# import sys\n",
    "# !{sys.executable} -m pip install pip earthengine-api\n",
    "# !{sys.executable} -m pip install pip geemap[vector]"
   ]
  },
  {
   "cell_type": "code",
   "execution_count": null,
   "id": "3f4715cc-5ef4-4017-9e18-a91716a1d0e0",
   "metadata": {},
   "outputs": [],
   "source": [
    "import ee\n",
    "#ee.Authenticate()"
   ]
  },
  {
   "cell_type": "code",
   "execution_count": null,
   "id": "42aac093-e263-47b9-a88b-a4998b5c7dda",
   "metadata": {},
   "outputs": [],
   "source": [
    "ee.Initialize()"
   ]
  },
  {
   "cell_type": "code",
   "execution_count": null,
   "id": "4f1bc907-8871-46ee-8fce-f9befdd48f7b",
   "metadata": {},
   "outputs": [],
   "source": [
    "import geemap\n",
    "# geemap.update_package()\n",
    "import ipyleaflet\n",
    "import numpy as np\n",
    "import requests\n",
    "import os\n",
    "import pandas as pd\n",
    "import rasterio\n",
    "import boto3\n",
    "import geopandas as gpd\n",
    "import glob"
   ]
  },
  {
   "cell_type": "markdown",
   "id": "0b7d4e26-7d56-4da5-a1df-7bca2f46cec6",
   "metadata": {},
   "source": [
    "# Load data"
   ]
  },
  {
   "cell_type": "code",
   "execution_count": null,
   "id": "9ad9de2e-45cf-4160-babc-e229b1be685a",
   "metadata": {},
   "outputs": [],
   "source": [
    "# define directories\n",
    "out_dir = os.getcwd()\n",
    "bucket_name = 'cities-urbanshift' \n",
    "aws_s3_dir = 'https://'+bucket_name+'.s3.eu-west-3.amazonaws.com/data'"
   ]
  },
  {
   "cell_type": "code",
   "execution_count": null,
   "id": "b4dccacc-b266-4e08-ab29-40c7e3d6de67",
   "metadata": {},
   "outputs": [],
   "source": [
    "# get list of cities\n",
    "boundary_georef = pd.read_csv(aws_s3_dir + '/boundaries/v_0/boundary_georef.csv')\n",
    "boundary_georef"
   ]
  },
  {
   "cell_type": "markdown",
   "id": "9071a191-dab3-476a-b2ff-e2e2f91f72b3",
   "metadata": {},
   "source": [
    "# Extract OSM by city"
   ]
  },
  {
   "cell_type": "code",
   "execution_count": null,
   "id": "324911c6-8ee9-4155-8be1-4f1c7201bc9d",
   "metadata": {},
   "outputs": [],
   "source": [
    "for i in range(0,len(boundary_georef)):\n",
    "    print(i)\n",
    "    boundary_id = boundary_georef.loc[i, 'geo_name'] + '-' + boundary_georef.loc[i, 'aoi_boundary_name']\n",
    "    print(boundary_id)\n",
    "    \n",
    "    # read boundaries\n",
    "    boundary_path = aws_s3_dir + '/boundaries/v_0/boundary-'+boundary_id+'.geojson'\n",
    "    boundary_geo = requests.get(boundary_path).json()\n",
    "    boundary_geo_ee = geemap.geojson_to_ee(boundary_geo)\n",
    "    \n",
    "    #query OSM\n",
    "    ## create bounding box\n",
    "    bb = boundary_geo_ee.union(1).geometry().buffer(100).bounds(1000)\n",
    "    print(bb.getInfo())\n",
    "    ## return the list of coordinates\n",
    "    listCoords = ee.Array.cat(bb.coordinates(), 1); \n",
    "    ##Casting it to an array makes it possible to slice out the x and y coordinates:\n",
    "    ##get the X-coordinates\n",
    "    xCoords = listCoords.slice(1, 0, 1); #print('xCoords', xCoords.getInfo());\n",
    "    yCoords = listCoords.slice(1, 1, 2); #print('yCoords', yCoords.getInfo());\n",
    "    ## Reducing each array reveals then the min and max values:\n",
    "    ## reduce the arrays to find the max (or min) value\n",
    "    West = ee.Number(xCoords.reduce('min', [0]).get([0,0])).getInfo(); \n",
    "    East = ee.Number(xCoords.reduce('max', [0]).get([0,0])).getInfo(); \n",
    "    North = ee.Number(yCoords.reduce('min', [0]).get([0,0])).getInfo(); \n",
    "    South = ee.Number(yCoords.reduce('max', [0]).get([0,0])).getInfo(); \n",
    "    \n",
    "    ## set OSM tags relevant to open space category\n",
    "    tags = {'leisure':['park','nature_reserve','common','playground','pitch','track'],'boundary':['protected_area','national_park']} #{'leisure':['park','nature_reserve','common','playground','pitch','track'],'boundary':['protected_area','national_park']} #}\n",
    "\n",
    "    # use bounding box to get geodataframe of all OSM data on recreation sites/parks. Use .drop to remove properties that have incompatible names with FeatureCollections\n",
    "    RecSites = geemap.osm_gdf_from_bbox(North, South, East, West, tags)#.drop(columns=['contact:p.o.box']) # use to remove properties that have incompatible names with FeatureCollections\n",
    "    RecSites = RecSites.reset_index()\n",
    "    #RecSites.sort_index()#.sample(3)\n",
    "    #RecSites.sort_values(by=['osmid'],axis='index')\n",
    "    \n",
    "    ## keep only columns desired to reduce file size \n",
    "    RecSites = RecSites[RecSites['element_type']!= 'node']\n",
    "    RecSites = RecSites[RecSites.geom_type != 'LineString']\n",
    "    RecSites = RecSites.loc[:, ['osmid','geometry']] #['element_type','osmid','leisure','boundary','name','geometry']\n",
    "    #RecSites#.sample(3)\n",
    "    \n",
    "    # convert Geodataframe to GeoJson\n",
    "    RecSitesGJ = geemap.gdf_to_geojson(RecSites)\n",
    "    \n",
    "    # convert GeoJson to ee.FeatureCollection\n",
    "    RecSitesFC = geemap.geojson_to_ee(RecSitesGJ)#.filter(ee.Filter.eq('element_type','way')).select(['osmid','element_type','geometry','leisure','boundary'])\n",
    "    \n",
    "    # Download FeatureCollection of OSM data (ways/polygons only) to Google Drive as geojson\n",
    "    # Set configuration parameters for output vector\n",
    "    task_config = {\n",
    "        'folder': 'data',  # output Google Drive folder\n",
    "        'fileFormat': 'Geojson',\n",
    "        'description': boundary_id + '-OSM-OpenSpace',\n",
    "        #'selectors': col_names,  # a list of properties/attributes to be exported\n",
    "    }\n",
    "\n",
    "    print('Exporting ' +boundary_id+ '-OSM-OpenSpace')\n",
    "    task = ee.batch.Export.table.toDrive(RecSitesFC, **task_config)\n",
    "    task.start()"
   ]
  },
  {
   "cell_type": "code",
   "execution_count": null,
   "id": "1c5f0a2e-8d5a-4b85-96f1-f0b2083c3bb6",
   "metadata": {},
   "outputs": [],
   "source": []
  },
  {
   "cell_type": "markdown",
   "id": "4d86f46e-4fad-44c7-b191-43e8d0ae6fb4",
   "metadata": {},
   "source": [
    "# Upload in aws\n",
    "\n",
    "Since we can't download directly the rasters locally due to their size, the rasters are stored in a google-drive folder and then downloaded locally in order to push them back to s3 bucket."
   ]
  },
  {
   "cell_type": "code",
   "execution_count": null,
   "id": "80a8a6d1-47d1-428d-9386-18ec1dcb3c12",
   "metadata": {},
   "outputs": [],
   "source": [
    "# connect to s3\n",
    "aws_credentials = pd.read_csv('/home/jovyan/PlanetaryComputerExamples/aws_credentials.csv')\n",
    "aws_key = aws_credentials.iloc[0]['Access key ID']\n",
    "aws_secret = aws_credentials.iloc[0]['Secret access key']\n",
    "\n",
    "s3 = boto3.resource(\n",
    "    service_name='s3',\n",
    "    aws_access_key_id=aws_key,\n",
    "    aws_secret_access_key=aws_secret\n",
    ")"
   ]
  },
  {
   "cell_type": "code",
   "execution_count": null,
   "id": "81e5ec65-c926-4913-9912-056e371c83f5",
   "metadata": {},
   "outputs": [],
   "source": [
    "out_dir = os.getcwd()"
   ]
  },
  {
   "cell_type": "code",
   "execution_count": null,
   "id": "242653b9-d2bc-4918-bc8d-16f6a7f4e72f",
   "metadata": {},
   "outputs": [],
   "source": [
    "for i in range(0, len(boundary_georef)):\n",
    "    boundary_id = boundary_georef.loc[i, 'geo_name']+'-'+boundary_georef.loc[i, 'aoi_boundary_name']\n",
    "    geo_name = boundary_georef.loc[i, 'geo_name']\n",
    "    print(\"\\n boundary_id: \"+boundary_id)\n",
    "\n",
    "    # read local raster\n",
    "    city_file = 'data/' + boundary_id +'-OSM-OpenSpace.geojson'\n",
    "    raster_path = os.path.join(out_dir, city_file)\n",
    "    \n",
    "    # upload in s3\n",
    "    s3.meta.client.upload_file(raster_path, \n",
    "                               bucket_name, \n",
    "                               'data/open_space/openstreetmap/v_0/'+ boundary_id + '-OSM-open_space-2022.geojson',\n",
    "                               ExtraArgs={'ACL':'public-read'})"
   ]
  },
  {
   "cell_type": "markdown",
   "id": "65055696-91a4-45b6-953d-33770c1e87dd",
   "metadata": {},
   "source": [
    "# Visualize"
   ]
  },
  {
   "cell_type": "code",
   "execution_count": null,
   "id": "a674270a-e4e3-41c1-a630-9cfec22f09fb",
   "metadata": {},
   "outputs": [],
   "source": [
    "## create map\n",
    "Map = geemap.Map(height=\"350px\")\n",
    "Map"
   ]
  },
  {
   "cell_type": "code",
   "execution_count": null,
   "id": "d3c8292d-d060-4325-83b2-83e91e66a7aa",
   "metadata": {},
   "outputs": [],
   "source": [
    "i = 10\n",
    "boundary_id = boundary_georef.loc[i, 'geo_name'] + '-' + boundary_georef.loc[i, 'aoi_boundary_name']\n",
    "print(boundary_id)"
   ]
  },
  {
   "cell_type": "code",
   "execution_count": null,
   "id": "53a3be4b-96da-4115-9d31-d87b15d8c565",
   "metadata": {},
   "outputs": [],
   "source": [
    "# read boundaries\n",
    "boundary_path = 'https://cities-cities4forests.s3.eu-west-3.amazonaws.com/data/boundaries/v_0/boundary-'+boundary_id+'.geojson'\n",
    "boundary_geo = requests.get(boundary_path).json()\n",
    "boundary_geo_ee = geemap.geojson_to_ee(boundary_geo)"
   ]
  },
  {
   "cell_type": "code",
   "execution_count": null,
   "id": "d988bb38-f21c-4c2d-8a69-67eefb061ef0",
   "metadata": {},
   "outputs": [],
   "source": [
    "#read open space\n",
    "openspace_path = 'https://cities-cities4forests.s3.eu-west-3.amazonaws.com/data/open_space/openstreetmap/v_0/'+boundary_id+'-OSM-open_space-2022.geojson'\n",
    "openspace_geo = requests.get(openspace_path).json()\n",
    "openspace_geo_ee = geemap.geojson_to_ee(openspace_geo)"
   ]
  },
  {
   "cell_type": "code",
   "execution_count": null,
   "id": "3f0dcad4-8a9e-43b7-820a-3e6da4c31bbc",
   "metadata": {},
   "outputs": [],
   "source": [
    "## add basemap and center on area of interest\n",
    "Map.add_basemap('HYBRID')\n",
    "Map.centerObject(boundary_geo_ee, zoom=12)"
   ]
  },
  {
   "cell_type": "code",
   "execution_count": null,
   "id": "efa859a2-8f4c-4e88-9ed0-6df327af5118",
   "metadata": {},
   "outputs": [],
   "source": [
    "Map.addLayer(boundary_geo_ee, {'color': 'FF0000'}, 'City boundary')"
   ]
  },
  {
   "cell_type": "code",
   "execution_count": null,
   "id": "7a7fab7a-3b58-4d0f-99ed-bc3522b432cd",
   "metadata": {},
   "outputs": [],
   "source": [
    "Map.addLayer(openspace_geo_ee,  {'color': 'FF00FF'}, 'Open space (OSM)')"
   ]
  },
  {
   "cell_type": "code",
   "execution_count": null,
   "id": "f400f46e-f36d-458f-8fa7-0033eff3d56a",
   "metadata": {},
   "outputs": [],
   "source": []
  }
 ],
 "metadata": {
  "kernelspec": {
   "display_name": "Python 3 (ipykernel)",
   "language": "python",
   "name": "python3"
  },
  "language_info": {
   "codemirror_mode": {
    "name": "ipython",
    "version": 3
   },
   "file_extension": ".py",
   "mimetype": "text/x-python",
   "name": "python",
   "nbconvert_exporter": "python",
   "pygments_lexer": "ipython3",
   "version": "3.10.6"
  }
 },
 "nbformat": 4,
 "nbformat_minor": 5
}
