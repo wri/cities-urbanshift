{
 "cells": [
  {
   "cell_type": "code",
   "execution_count": null,
   "id": "7058a45f-5caf-417b-9ae5-fa124f73bbbc",
   "metadata": {},
   "outputs": [],
   "source": [
    "# import sys\n",
    "# !{sys.executable} -m pip install pip earthengine-api\n",
    "# !{sys.executable} -m pip install pip geemap"
   ]
  },
  {
   "cell_type": "code",
   "execution_count": null,
   "id": "3f4715cc-5ef4-4017-9e18-a91716a1d0e0",
   "metadata": {},
   "outputs": [],
   "source": [
    "import ee\n",
    "# ee.Authenticate()"
   ]
  },
  {
   "cell_type": "code",
   "execution_count": null,
   "id": "42aac093-e263-47b9-a88b-a4998b5c7dda",
   "metadata": {},
   "outputs": [],
   "source": [
    "ee.Initialize()"
   ]
  },
  {
   "cell_type": "code",
   "execution_count": null,
   "id": "4f1bc907-8871-46ee-8fce-f9befdd48f7b",
   "metadata": {},
   "outputs": [],
   "source": [
    "import geemap\n",
    "import ipyleaflet\n",
    "import numpy as np\n",
    "import requests\n",
    "import os\n",
    "import pandas as pd\n",
    "import rasterio\n",
    "import boto3\n",
    "import geopandas as gpd\n",
    "import glob"
   ]
  },
  {
   "cell_type": "code",
   "execution_count": null,
   "id": "fae0c8d1-baf2-4783-b883-9ea89609f3fa",
   "metadata": {},
   "outputs": [],
   "source": [
    "# define directory\n",
    "out_dir = os.getcwd()\n",
    "bucket_name = 'cities-urbanshift' \n",
    "aws_s3_dir = 'https://'+bucket_name+'.s3.eu-west-3.amazonaws.com'"
   ]
  },
  {
   "cell_type": "markdown",
   "id": "0b7d4e26-7d56-4da5-a1df-7bca2f46cec6",
   "metadata": {},
   "source": [
    "# Load data"
   ]
  },
  {
   "cell_type": "code",
   "execution_count": null,
   "id": "b5133fa3-c5fa-4d3a-bdcb-d1adbc468110",
   "metadata": {},
   "outputs": [],
   "source": [
    "# read Tree Mosaic Land\n",
    "tml = ee.ImageCollection('projects/wri-datalab/TML')\n",
    "tml_tree_cover = tml.reduce(ee.Reducer.mean()).rename('b1')"
   ]
  },
  {
   "cell_type": "code",
   "execution_count": null,
   "id": "f425e4cb-e18a-4c86-92ba-dd4cb9c8321d",
   "metadata": {},
   "outputs": [],
   "source": [
    "# get list of cities\n",
    "boundary_georef = pd.read_csv(aws_s3_dir+'/data/boundaries/v_0/boundary_georef.csv')\n",
    "boundary_georef"
   ]
  },
  {
   "cell_type": "markdown",
   "id": "9071a191-dab3-476a-b2ff-e2e2f91f72b3",
   "metadata": {},
   "source": [
    "# Extract TML by city"
   ]
  },
  {
   "cell_type": "code",
   "execution_count": null,
   "id": "324911c6-8ee9-4155-8be1-4f1c7201bc9d",
   "metadata": {},
   "outputs": [],
   "source": [
    "for i in range(20,21): #len(boundary_georef)):\n",
    "    print(i)\n",
    "    boundary_id = boundary_georef.loc[i, 'geo_name'] + '-' + boundary_georef.loc[i, 'aoi_boundary_name']\n",
    "    print(boundary_id)\n",
    "    \n",
    "    # read boundaries\n",
    "    boundary_path = aws_s3_dir+'/data/boundaries/v_0/boundary-'+boundary_id+'.geojson'\n",
    "    boundary_geo = requests.get(boundary_path).json()\n",
    "    boundary_geo_ee = geemap.geojson_to_ee(boundary_geo)\n",
    "    \n",
    "    # Download ee.Image for TML as GeoTIFF\n",
    "    geemap.ee_export_image_to_drive(\n",
    "        tml_tree_cover.toByte(), # use toByte() to reduce file size\n",
    "        description = boundary_id + '-TML-TreeCover',\n",
    "        folder='data', \n",
    "        scale=10, #10 or 50\n",
    "        region=boundary_geo_ee.geometry(),\n",
    "        maxPixels = 5000000000\n",
    "    )"
   ]
  },
  {
   "cell_type": "code",
   "execution_count": null,
   "id": "80a8a6d1-47d1-428d-9386-18ec1dcb3c12",
   "metadata": {},
   "outputs": [],
   "source": [
    "# connect to s3\n",
    "# aws_credentials = pd.read_csv('C:\\\\Users\\\\Saif.Shabou\\\\OneDrive - World Resources Institute\\\\Documents\\\\aws\\\\credentials.csv')\n",
    "aws_credentials = pd.read_csv('/home/jovyan/PlanetaryComputerExamples/aws_credentials.csv')\n",
    "aws_key = aws_credentials.iloc[0]['Access key ID']\n",
    "aws_secret = aws_credentials.iloc[0]['Secret access key']\n",
    "\n",
    "s3 = boto3.resource(\n",
    "    service_name='s3',\n",
    "    aws_access_key_id=aws_key,\n",
    "    aws_secret_access_key=aws_secret\n",
    ")"
   ]
  },
  {
   "cell_type": "code",
   "execution_count": null,
   "id": "242653b9-d2bc-4918-bc8d-16f6a7f4e72f",
   "metadata": {},
   "outputs": [],
   "source": [
    "for i in range(1, len(boundary_georef)):\n",
    "    boundary_id = boundary_georef.loc[i, 'geo_name']+'-'+boundary_georef.loc[i, 'aoi_boundary_name']\n",
    "    geo_name = boundary_georef.loc[i, 'geo_name']\n",
    "    print(\"\\n boundary_id: \"+boundary_id)\n",
    "\n",
    "    # read local raster\n",
    "    city_file = 'data/' + boundary_id +'-TML-TreeCover.tif'\n",
    "    raster_path = os.path.join(out_dir, city_file)\n",
    "    \n",
    "    # upload in s3\n",
    "    s3.meta.client.upload_file(raster_path, \n",
    "                               bucket_name, \n",
    "                               'data/tree_cover/tree_mosaic_land/v_0/'+ boundary_id + '-TML-tree_cover-2020.tif',\n",
    "                               ExtraArgs={'ACL':'public-read'})"
   ]
  },
  {
   "cell_type": "code",
   "execution_count": null,
   "id": "b1bba615-678f-4768-b56f-6a873bec8f59",
   "metadata": {},
   "outputs": [],
   "source": []
  }
 ],
 "metadata": {
  "kernelspec": {
   "display_name": "Python 3 (ipykernel)",
   "language": "python",
   "name": "python3"
  },
  "language_info": {
   "codemirror_mode": {
    "name": "ipython",
    "version": 3
   },
   "file_extension": ".py",
   "mimetype": "text/x-python",
   "name": "python",
   "nbconvert_exporter": "python",
   "pygments_lexer": "ipython3",
   "version": "3.10.6"
  }
 },
 "nbformat": 4,
 "nbformat_minor": 5
}
