{
 "cells": [
  {
   "cell_type": "code",
   "execution_count": null,
   "id": "d33b961f-7afd-478a-97d7-00fb318f5f66",
   "metadata": {},
   "outputs": [],
   "source": [
    "# import sys\n",
    "# !{sys.executable} -m pip install pip earthengine-api\n",
    "# !{sys.executable} -m pip install pip geemap"
   ]
  },
  {
   "cell_type": "code",
   "execution_count": null,
   "id": "f8dc9608-d4f1-43d9-b45e-618c4a507b8c",
   "metadata": {},
   "outputs": [],
   "source": [
    "import ee\n",
    "# ee.Authenticate()"
   ]
  },
  {
   "cell_type": "code",
   "execution_count": null,
   "id": "39366990-46f0-4859-a776-8fd2e4fb3ce7",
   "metadata": {},
   "outputs": [],
   "source": [
    "ee.Initialize()"
   ]
  },
  {
   "cell_type": "code",
   "execution_count": null,
   "id": "d61ff348-dd5f-4cdf-ab12-50d10bfb1d3f",
   "metadata": {},
   "outputs": [],
   "source": [
    "import geemap\n",
    "import ipyleaflet\n",
    "import numpy as np\n",
    "import requests\n",
    "import os\n",
    "import pandas as pd\n",
    "import rasterio\n",
    "import boto3\n",
    "import geopandas as gpd\n",
    "import glob"
   ]
  },
  {
   "cell_type": "code",
   "execution_count": null,
   "id": "fccd7a8e-03a6-4206-881d-51ae6a2ff5ff",
   "metadata": {},
   "outputs": [],
   "source": [
    "# define directory\n",
    "out_dir = os.getcwd()\n",
    "bucket_name = 'cities-urbanshift' \n",
    "aws_s3_dir = 'https://'+bucket_name+'.s3.eu-west-3.amazonaws.com'"
   ]
  },
  {
   "cell_type": "markdown",
   "id": "4ccaba0a-2130-4b3d-86ec-d57b46004e79",
   "metadata": {},
   "source": [
    "# Load data"
   ]
  },
  {
   "cell_type": "code",
   "execution_count": null,
   "id": "b2fca8de-7f70-4e0b-9113-71b302cbce13",
   "metadata": {},
   "outputs": [],
   "source": [
    "# read esa land cover\n",
    "esa_land_cover = ee.ImageCollection('ESA/WorldCover/v100').first()\n",
    "\n",
    "habitatFROM = [0,10,20,30,40,50,60,80,70,90,95,100]\n",
    "habitatTO = [0,1,1,1,0,0,0,0,0,1,1,1]\n",
    "esa_natural_areas = esa_land_cover.remap(habitatFROM,habitatTO)"
   ]
  },
  {
   "cell_type": "code",
   "execution_count": null,
   "id": "06cb6b89-5a3e-4581-a941-41ef4e2b6a6e",
   "metadata": {},
   "outputs": [],
   "source": [
    "# get list of urbanshift cities\n",
    "boundary_georef = pd.read_csv(aws_s3_dir+'/data/boundaries/v_0/boundary_georef.csv')\n",
    "boundary_georef"
   ]
  },
  {
   "cell_type": "markdown",
   "id": "b57b96c3-6cb1-49b0-b468-755276e1fbc9",
   "metadata": {},
   "source": [
    "# Extract ESA raster by feature"
   ]
  },
  {
   "cell_type": "code",
   "execution_count": null,
   "id": "571d34ee-ab4a-41ff-9662-1df1f23e9765",
   "metadata": {},
   "outputs": [],
   "source": [
    "for i in range(0,len(boundary_georef)):\n",
    "    print(i)\n",
    "    boundary_id = boundary_georef.loc[i, 'geo_name']+'-'+boundary_georef.loc[i, 'aoi_boundary_name']\n",
    "    print(boundary_id)\n",
    "    \n",
    "    # read boundaries\n",
    "    boundary_path = aws_s3_dir+'/data/boundaries/v_0/boundary-'+boundary_id+'.geojson'\n",
    "    boundary_geo = requests.get(boundary_path).json()\n",
    "    boundary_geo_ee = geemap.geojson_to_ee(boundary_geo)\n",
    "    \n",
    "    # Download ee.Image for Land cover as GeoTIFF\n",
    "    geemap.ee_export_image_to_drive(\n",
    "        esa_land_cover.toByte(), # use toByte() to reduce file size \n",
    "        description = boundary_id + '-ESA-Landcover',\n",
    "        folder='data', \n",
    "        scale=10, # 10, 50, or 100\n",
    "        region=boundary_geo_ee.geometry(),\n",
    "        maxPixels = 5000000000\n",
    "    )\n",
    "    \n",
    "    geemap.ee_export_image_to_drive(\n",
    "        esa_natural_areas.toByte(), # use toByte() to reduce file size \n",
    "        description = boundary_id + '-ESA-naturalareas',\n",
    "        folder='data', \n",
    "        scale=100, # 10, 50, or 100\n",
    "        region=boundary_geo_ee.geometry(),\n",
    "        maxPixels = 5000000000\n",
    "    )"
   ]
  },
  {
   "cell_type": "markdown",
   "id": "a7094936-e495-4429-9249-d4831f0954e4",
   "metadata": {},
   "source": [
    "# Upload in aws\n",
    "\n",
    "Since we can't download directly the rasters locally due to their size, the rasters are stored in a google-drive folder and then downloaded locally in order to push them back to s3 bucket."
   ]
  },
  {
   "cell_type": "code",
   "execution_count": null,
   "id": "ca9f5054-b011-4ca2-b766-7c14ecf37935",
   "metadata": {},
   "outputs": [],
   "source": [
    "# connect to s3\n",
    "# aws_credentials = pd.read_csv('C:\\\\Users\\\\Saif.Shabou\\\\OneDrive - World Resources Institute\\\\Documents\\\\aws\\\\credentials.csv')\n",
    "aws_credentials = pd.read_csv('/home/jovyan/PlanetaryComputerExamples/aws_credentials.csv')\n",
    "aws_key = aws_credentials.iloc[0]['Access key ID']\n",
    "aws_secret = aws_credentials.iloc[0]['Secret access key']\n",
    "\n",
    "s3 = boto3.resource(\n",
    "    service_name='s3',\n",
    "    aws_access_key_id=aws_key,\n",
    "    aws_secret_access_key=aws_secret\n",
    ")"
   ]
  },
  {
   "cell_type": "code",
   "execution_count": null,
   "id": "6b71a246-6876-4b85-bde5-da554f2548bc",
   "metadata": {},
   "outputs": [],
   "source": [
    "for i in range(0, len(boundary_georef)):\n",
    "    boundary_id = boundary_georef.loc[i, 'geo_name']+'-'+boundary_georef.loc[i, 'aoi_boundary_name']\n",
    "    geo_name = boundary_georef.loc[i, 'geo_name']\n",
    "    print(\"\\n geo_name: \"+geo_name)\n",
    "\n",
    "    # read local raster\n",
    "    city_file = 'data/' + boundary_id + '-ESA-Landcover100.tif'\n",
    "    raster_path = os.path.join(out_dir, city_file)\n",
    "    \n",
    "    # upload in s3\n",
    "    s3.meta.client.upload_file(raster_path, \n",
    "                               bucket_name, \n",
    "                               'data/land_use/esa_world_cover/v_0/'+ boundary_id + '-ESA-world_cover-2020-100m.tif',\n",
    "                               ExtraArgs={'ACL':'public-read'})"
   ]
  },
  {
   "cell_type": "code",
   "execution_count": null,
   "id": "b36df765-8933-4598-9e89-304ca8a03c41",
   "metadata": {},
   "outputs": [],
   "source": [
    "for i in range(0, len(boundary_georef)):\n",
    "    boundary_id = boundary_georef.loc[i, 'geo_name']+'-'+boundary_georef.loc[i, 'aoi_boundary_name']\n",
    "    geo_name = boundary_georef.loc[i, 'geo_name']\n",
    "    print(\"\\n geo_name: \"+geo_name)\n",
    "\n",
    "    # read local raster\n",
    "    city_file = 'data/' + boundary_id + '-ESA-naturalareas.tif'\n",
    "    raster_path = os.path.join(out_dir, city_file)\n",
    "    \n",
    "    # upload in s3\n",
    "    s3.meta.client.upload_file(raster_path, \n",
    "                               bucket_name, \n",
    "                               'data/land_use/esa_world_cover/v_0/'+ boundary_id + '-ESA-world_cover-2020-natural_areas-100m.tif',\n",
    "                               ExtraArgs={'ACL':'public-read'})"
   ]
  },
  {
   "cell_type": "code",
   "execution_count": null,
   "id": "594debf8-71e0-4c75-afcd-b23490cbeb67",
   "metadata": {},
   "outputs": [],
   "source": []
  }
 ],
 "metadata": {
  "kernelspec": {
   "display_name": "Python 3 (ipykernel)",
   "language": "python",
   "name": "python3"
  },
  "language_info": {
   "codemirror_mode": {
    "name": "ipython",
    "version": 3
   },
   "file_extension": ".py",
   "mimetype": "text/x-python",
   "name": "python",
   "nbconvert_exporter": "python",
   "pygments_lexer": "ipython3",
   "version": "3.10.6"
  }
 },
 "nbformat": 4,
 "nbformat_minor": 5
}
