{
 "cells": [
  {
   "cell_type": "code",
   "execution_count": 22,
   "id": "7606b147-7980-4059-b339-ecb5af63e960",
   "metadata": {},
   "outputs": [],
   "source": [
    "import os\n",
    "import pandas as pd\n",
    "import boto3\n",
    "import geopandas as gpd\n",
    "import numpy as np\n",
    "import boto3"
   ]
  },
  {
   "cell_type": "markdown",
   "id": "4021d325-e50c-4273-b386-f7c54dd9c1af",
   "metadata": {},
   "source": [
    "# Load data"
   ]
  },
  {
   "cell_type": "code",
   "execution_count": 3,
   "id": "8db98da1-eff8-4d22-b464-09190630bf8e",
   "metadata": {},
   "outputs": [
    {
     "data": {
      "text/html": [
       "<div>\n",
       "<style scoped>\n",
       "    .dataframe tbody tr th:only-of-type {\n",
       "        vertical-align: middle;\n",
       "    }\n",
       "\n",
       "    .dataframe tbody tr th {\n",
       "        vertical-align: top;\n",
       "    }\n",
       "\n",
       "    .dataframe thead th {\n",
       "        text-align: right;\n",
       "    }\n",
       "</style>\n",
       "<table border=\"1\" class=\"dataframe\">\n",
       "  <thead>\n",
       "    <tr style=\"text-align: right;\">\n",
       "      <th></th>\n",
       "      <th>geo_id</th>\n",
       "      <th>geo_name</th>\n",
       "      <th>geo_parent_name</th>\n",
       "      <th>geo_level</th>\n",
       "      <th>lulc_class_code</th>\n",
       "      <th>percent</th>\n",
       "      <th>lulc_class_label</th>\n",
       "      <th>data_source</th>\n",
       "      <th>year</th>\n",
       "    </tr>\n",
       "  </thead>\n",
       "  <tbody>\n",
       "    <tr>\n",
       "      <th>0</th>\n",
       "      <td>ARG-Buenos_Aires_ADM-2_1</td>\n",
       "      <td>José C. Paz</td>\n",
       "      <td>ARG-Buenos_Aires</td>\n",
       "      <td>ADM-2</td>\n",
       "      <td>10</td>\n",
       "      <td>0.237981</td>\n",
       "      <td>Trees</td>\n",
       "      <td>ESA world cover</td>\n",
       "      <td>2020</td>\n",
       "    </tr>\n",
       "    <tr>\n",
       "      <th>1</th>\n",
       "      <td>ARG-Buenos_Aires_ADM-2_2</td>\n",
       "      <td>La Matanza</td>\n",
       "      <td>ARG-Buenos_Aires</td>\n",
       "      <td>ADM-2</td>\n",
       "      <td>10</td>\n",
       "      <td>0.128051</td>\n",
       "      <td>Trees</td>\n",
       "      <td>ESA world cover</td>\n",
       "      <td>2020</td>\n",
       "    </tr>\n",
       "    <tr>\n",
       "      <th>2</th>\n",
       "      <td>ARG-Buenos_Aires_ADM-2_3</td>\n",
       "      <td>Berazategui</td>\n",
       "      <td>ARG-Buenos_Aires</td>\n",
       "      <td>ADM-2</td>\n",
       "      <td>10</td>\n",
       "      <td>0.253611</td>\n",
       "      <td>Trees</td>\n",
       "      <td>ESA world cover</td>\n",
       "      <td>2020</td>\n",
       "    </tr>\n",
       "    <tr>\n",
       "      <th>3</th>\n",
       "      <td>ARG-Buenos_Aires_ADM-2_4</td>\n",
       "      <td>Vicente López</td>\n",
       "      <td>ARG-Buenos_Aires</td>\n",
       "      <td>ADM-2</td>\n",
       "      <td>10</td>\n",
       "      <td>0.128976</td>\n",
       "      <td>Trees</td>\n",
       "      <td>ESA world cover</td>\n",
       "      <td>2020</td>\n",
       "    </tr>\n",
       "    <tr>\n",
       "      <th>4</th>\n",
       "      <td>ARG-Buenos_Aires_ADM-2_5</td>\n",
       "      <td>Moreno</td>\n",
       "      <td>ARG-Buenos_Aires</td>\n",
       "      <td>ADM-2</td>\n",
       "      <td>10</td>\n",
       "      <td>0.396034</td>\n",
       "      <td>Trees</td>\n",
       "      <td>ESA world cover</td>\n",
       "      <td>2020</td>\n",
       "    </tr>\n",
       "  </tbody>\n",
       "</table>\n",
       "</div>"
      ],
      "text/plain": [
       "                     geo_id       geo_name   geo_parent_name geo_level  \\\n",
       "0  ARG-Buenos_Aires_ADM-2_1    José C. Paz  ARG-Buenos_Aires     ADM-2   \n",
       "1  ARG-Buenos_Aires_ADM-2_2     La Matanza  ARG-Buenos_Aires     ADM-2   \n",
       "2  ARG-Buenos_Aires_ADM-2_3    Berazategui  ARG-Buenos_Aires     ADM-2   \n",
       "3  ARG-Buenos_Aires_ADM-2_4  Vicente López  ARG-Buenos_Aires     ADM-2   \n",
       "4  ARG-Buenos_Aires_ADM-2_5         Moreno  ARG-Buenos_Aires     ADM-2   \n",
       "\n",
       "   lulc_class_code   percent lulc_class_label      data_source  year  \n",
       "0               10  0.237981            Trees  ESA world cover  2020  \n",
       "1               10  0.128051            Trees  ESA world cover  2020  \n",
       "2               10  0.253611            Trees  ESA world cover  2020  \n",
       "3               10  0.128976            Trees  ESA world cover  2020  \n",
       "4               10  0.396034            Trees  ESA world cover  2020  "
      ]
     },
     "execution_count": 3,
     "metadata": {},
     "output_type": "execute_result"
    }
   ],
   "source": [
    "# land use land cover stats\n",
    "cities_lulc_stats = pd.read_csv('https://cities-urbanshift.s3.eu-west-3.amazonaws.com/indicators/cities_lulc_stats.csv') \n",
    "cities_lulc_stats.head()"
   ]
  },
  {
   "cell_type": "markdown",
   "id": "4142f2bc-82f5-47d2-ab67-ea208aed2eaf",
   "metadata": {},
   "source": [
    "# Compute SICB-1: percent of natural areas by feature"
   ]
  },
  {
   "cell_type": "code",
   "execution_count": 4,
   "id": "cfbae074-2bad-415a-896e-23f49287ecfd",
   "metadata": {},
   "outputs": [],
   "source": [
    "# Select esa land cover\n",
    "cities_lulc_stats_esa = cities_lulc_stats[cities_lulc_stats['data_source'] == 'ESA world cover']"
   ]
  },
  {
   "cell_type": "code",
   "execution_count": 18,
   "id": "26b7be98-6c88-452b-86b6-1bef33c206b0",
   "metadata": {},
   "outputs": [
    {
     "data": {
      "text/html": [
       "<div>\n",
       "<style scoped>\n",
       "    .dataframe tbody tr th:only-of-type {\n",
       "        vertical-align: middle;\n",
       "    }\n",
       "\n",
       "    .dataframe tbody tr th {\n",
       "        vertical-align: top;\n",
       "    }\n",
       "\n",
       "    .dataframe thead th {\n",
       "        text-align: right;\n",
       "    }\n",
       "</style>\n",
       "<table border=\"1\" class=\"dataframe\">\n",
       "  <thead>\n",
       "    <tr style=\"text-align: right;\">\n",
       "      <th></th>\n",
       "      <th>geo_id</th>\n",
       "      <th>class</th>\n",
       "      <th>SICB_1_percent_of_natural_areas</th>\n",
       "    </tr>\n",
       "  </thead>\n",
       "  <tbody>\n",
       "    <tr>\n",
       "      <th>0</th>\n",
       "      <td>ARG-Buenos_Aires_ADM-2-union_1</td>\n",
       "      <td>1</td>\n",
       "      <td>0.585685</td>\n",
       "    </tr>\n",
       "    <tr>\n",
       "      <th>1</th>\n",
       "      <td>ARG-Buenos_Aires_ADM-2_1</td>\n",
       "      <td>1</td>\n",
       "      <td>0.330940</td>\n",
       "    </tr>\n",
       "    <tr>\n",
       "      <th>2</th>\n",
       "      <td>ARG-Buenos_Aires_ADM-2_10</td>\n",
       "      <td>1</td>\n",
       "      <td>0.401922</td>\n",
       "    </tr>\n",
       "    <tr>\n",
       "      <th>3</th>\n",
       "      <td>ARG-Buenos_Aires_ADM-2_11</td>\n",
       "      <td>1</td>\n",
       "      <td>0.072892</td>\n",
       "    </tr>\n",
       "    <tr>\n",
       "      <th>4</th>\n",
       "      <td>ARG-Buenos_Aires_ADM-2_12</td>\n",
       "      <td>1</td>\n",
       "      <td>0.094891</td>\n",
       "    </tr>\n",
       "  </tbody>\n",
       "</table>\n",
       "</div>"
      ],
      "text/plain": [
       "                           geo_id class  SICB_1_percent_of_natural_areas\n",
       "0  ARG-Buenos_Aires_ADM-2-union_1     1                         0.585685\n",
       "1        ARG-Buenos_Aires_ADM-2_1     1                         0.330940\n",
       "2       ARG-Buenos_Aires_ADM-2_10     1                         0.401922\n",
       "3       ARG-Buenos_Aires_ADM-2_11     1                         0.072892\n",
       "4       ARG-Buenos_Aires_ADM-2_12     1                         0.094891"
      ]
     },
     "execution_count": 18,
     "metadata": {},
     "output_type": "execute_result"
    }
   ],
   "source": [
    "df = cities_lulc_stats_esa\n",
    "# recoding class labels\n",
    "mapper_natural_areas = {'Trees': '1', \n",
    "                        'Shrubland': '1', \n",
    "                        'Grassland': '1',\n",
    "                        'Cropland': '0',\n",
    "                        'Built-up': '0',\n",
    "                        'Barren / sparse vegetation': '0',\n",
    "                        'Snow and ice': '0',\n",
    "                        'Open water': '0',\n",
    "                        'Herbaceous wetland': '1',\n",
    "                        'Mangroves': '1',\n",
    "                        'Moss and lichen': '1'}\n",
    "df['class'] = df['lulc_class_label'].map(mapper_natural_areas).fillna(df['lulc_class_label'])\n",
    "# group by natural areas classes\n",
    "df_classes = df.groupby(['geo_id', 'class']).agg({'percent': 'sum'}).reset_index()\n",
    "# filter natural areas\n",
    "df_classes_natural = df_classes[df_classes['class']=='1']\n",
    "df_classes_natural = df_classes_natural.reset_index(drop=True)\n",
    "# rename columns\n",
    "df_classes_natural = df_classes_natural.rename(columns={\"percent\": \"SICB_1_percent_of_natural_areas\"})\n",
    "df_classes_natural.head()"
   ]
  },
  {
   "cell_type": "markdown",
   "id": "d57ed385-991a-4486-b3c2-ffc8b5859e08",
   "metadata": {},
   "source": [
    "# Merge with indicator table"
   ]
  },
  {
   "cell_type": "code",
   "execution_count": 13,
   "id": "18c7c4d2-d6d4-4fc2-98ef-9882265163ee",
   "metadata": {},
   "outputs": [],
   "source": [
    "# read indicator table\n",
    "cities_indicators = pd.read_csv('https://cities-urbanshift.s3.eu-west-3.amazonaws.com/indicators/cities_indicators.csv') "
   ]
  },
  {
   "cell_type": "code",
   "execution_count": 15,
   "id": "b9b4e3c9-6d07-4a19-a1e4-5cb25bbc3d37",
   "metadata": {},
   "outputs": [],
   "source": [
    "def merge_indicators(indicator_table, new_indicator_table, indicator_name):\n",
    "    if indicator_name in indicator_table.columns:\n",
    "        print(\"replace by new indicators\")\n",
    "        indicator_table.drop(indicator_name, inplace=True, axis=1)\n",
    "        cities_indicators_df = indicator_table.merge(new_indicator_table[[\"geo_id\",indicator_name]], \n",
    "                                                     on='geo_id', \n",
    "                                                     how='left')\n",
    "    else:\n",
    "        print(\"add new indicators\")\n",
    "        cities_indicators_df = indicator_table.merge(new_indicator_table[[\"geo_id\",indicator_name]], \n",
    "                                                     on='geo_id', \n",
    "                                                     how='left')\n",
    "    return(cities_indicators_df)"
   ]
  },
  {
   "cell_type": "code",
   "execution_count": 20,
   "id": "b16f201e-bc05-49f2-a7bc-ad57919d2b67",
   "metadata": {},
   "outputs": [
    {
     "name": "stdout",
     "output_type": "stream",
     "text": [
      "add new indicators\n"
     ]
    }
   ],
   "source": [
    "cities_indicators_merged = merge_indicators(indicator_table = cities_indicators,\n",
    "                                            new_indicator_table = df_classes_natural,\n",
    "                                            indicator_name = \"SICB_1_percent_of_natural_areas\")"
   ]
  },
  {
   "cell_type": "code",
   "execution_count": 21,
   "id": "af21da08-6f67-44af-902a-8235960ea774",
   "metadata": {},
   "outputs": [
    {
     "data": {
      "text/html": [
       "<div>\n",
       "<style scoped>\n",
       "    .dataframe tbody tr th:only-of-type {\n",
       "        vertical-align: middle;\n",
       "    }\n",
       "\n",
       "    .dataframe tbody tr th {\n",
       "        vertical-align: top;\n",
       "    }\n",
       "\n",
       "    .dataframe thead th {\n",
       "        text-align: right;\n",
       "    }\n",
       "</style>\n",
       "<table border=\"1\" class=\"dataframe\">\n",
       "  <thead>\n",
       "    <tr style=\"text-align: right;\">\n",
       "      <th></th>\n",
       "      <th>geo_id</th>\n",
       "      <th>geo_level</th>\n",
       "      <th>geo_name</th>\n",
       "      <th>geo_parent_name</th>\n",
       "      <th>SICB_1_percent_of_natural_areas</th>\n",
       "    </tr>\n",
       "  </thead>\n",
       "  <tbody>\n",
       "    <tr>\n",
       "      <th>0</th>\n",
       "      <td>ARG-Buenos_Aires_ADM-1_1</td>\n",
       "      <td>ADM-1</td>\n",
       "      <td>ARG-Buenos_Aires</td>\n",
       "      <td>ARG-Buenos_Aires</td>\n",
       "      <td>NaN</td>\n",
       "    </tr>\n",
       "    <tr>\n",
       "      <th>1</th>\n",
       "      <td>ARG-Buenos_Aires_ADM-2_1</td>\n",
       "      <td>ADM-2</td>\n",
       "      <td>José C. Paz</td>\n",
       "      <td>ARG-Buenos_Aires</td>\n",
       "      <td>0.330940</td>\n",
       "    </tr>\n",
       "    <tr>\n",
       "      <th>2</th>\n",
       "      <td>ARG-Buenos_Aires_ADM-2_2</td>\n",
       "      <td>ADM-2</td>\n",
       "      <td>La Matanza</td>\n",
       "      <td>ARG-Buenos_Aires</td>\n",
       "      <td>0.343660</td>\n",
       "    </tr>\n",
       "    <tr>\n",
       "      <th>3</th>\n",
       "      <td>ARG-Buenos_Aires_ADM-2_3</td>\n",
       "      <td>ADM-2</td>\n",
       "      <td>Berazategui</td>\n",
       "      <td>ARG-Buenos_Aires</td>\n",
       "      <td>0.699419</td>\n",
       "    </tr>\n",
       "    <tr>\n",
       "      <th>4</th>\n",
       "      <td>ARG-Buenos_Aires_ADM-2_4</td>\n",
       "      <td>ADM-2</td>\n",
       "      <td>Vicente López</td>\n",
       "      <td>ARG-Buenos_Aires</td>\n",
       "      <td>0.165703</td>\n",
       "    </tr>\n",
       "  </tbody>\n",
       "</table>\n",
       "</div>"
      ],
      "text/plain": [
       "                     geo_id geo_level          geo_name   geo_parent_name  \\\n",
       "0  ARG-Buenos_Aires_ADM-1_1     ADM-1  ARG-Buenos_Aires  ARG-Buenos_Aires   \n",
       "1  ARG-Buenos_Aires_ADM-2_1     ADM-2       José C. Paz  ARG-Buenos_Aires   \n",
       "2  ARG-Buenos_Aires_ADM-2_2     ADM-2        La Matanza  ARG-Buenos_Aires   \n",
       "3  ARG-Buenos_Aires_ADM-2_3     ADM-2       Berazategui  ARG-Buenos_Aires   \n",
       "4  ARG-Buenos_Aires_ADM-2_4     ADM-2     Vicente López  ARG-Buenos_Aires   \n",
       "\n",
       "   SICB_1_percent_of_natural_areas  \n",
       "0                              NaN  \n",
       "1                         0.330940  \n",
       "2                         0.343660  \n",
       "3                         0.699419  \n",
       "4                         0.165703  "
      ]
     },
     "execution_count": 21,
     "metadata": {},
     "output_type": "execute_result"
    }
   ],
   "source": [
    "cities_indicators_merged.head()"
   ]
  },
  {
   "cell_type": "markdown",
   "id": "5cfd9b4e-1e7d-4bd8-8324-aa3e62a8ef8e",
   "metadata": {},
   "source": [
    "# Upload in aws s3"
   ]
  },
  {
   "cell_type": "code",
   "execution_count": 23,
   "id": "fdbff4e6-d01e-455d-b129-2c603058b992",
   "metadata": {},
   "outputs": [],
   "source": [
    "# connect to s3\n",
    "aws_credentials = pd.read_csv('C:\\\\Users\\\\Saif.Shabou\\\\OneDrive - World Resources Institute\\\\Documents\\\\aws\\\\credentials.csv')\n",
    "aws_key = aws_credentials.iloc[0]['Access key ID']\n",
    "aws_secret = aws_credentials.iloc[0]['Secret access key']\n",
    "\n",
    "s3 = boto3.resource(\n",
    "    service_name='s3',\n",
    "    aws_access_key_id=aws_key,\n",
    "    aws_secret_access_key=aws_secret\n",
    ")"
   ]
  },
  {
   "cell_type": "code",
   "execution_count": 24,
   "id": "e4ebffd5-9c65-4eb8-866f-5ce911a0be0b",
   "metadata": {},
   "outputs": [],
   "source": [
    "# upload to aws\n",
    "key_data = 'indicators/cities_indicators.csv'\n",
    "bucket_name = 'cities-urbanshift' \n",
    "cities_indicators_merged.to_csv(\n",
    "    f\"s3://{bucket_name}/{key_data}\",\n",
    "    index=False,\n",
    "    storage_options={\n",
    "        \"key\": aws_key,\n",
    "        \"secret\": aws_secret\n",
    "    },\n",
    ")"
   ]
  },
  {
   "cell_type": "code",
   "execution_count": 25,
   "id": "ac2103f6-4215-4b9e-9bd3-74e5c802de88",
   "metadata": {},
   "outputs": [],
   "source": [
    "# make it public\n",
    "object_acl = s3.ObjectAcl(bucket_name,key_data)\n",
    "response = object_acl.put(ACL='public-read')"
   ]
  }
 ],
 "metadata": {
  "kernelspec": {
   "display_name": "Python 3 (ipykernel)",
   "language": "python",
   "name": "python3"
  },
  "language_info": {
   "codemirror_mode": {
    "name": "ipython",
    "version": 3
   },
   "file_extension": ".py",
   "mimetype": "text/x-python",
   "name": "python",
   "nbconvert_exporter": "python",
   "pygments_lexer": "ipython3",
   "version": "3.10.5"
  }
 },
 "nbformat": 4,
 "nbformat_minor": 5
}
