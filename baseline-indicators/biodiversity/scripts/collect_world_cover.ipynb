{
 "cells": [
  {
   "cell_type": "code",
   "execution_count": 29,
   "id": "17071209",
   "metadata": {},
   "outputs": [],
   "source": [
    "import geemap\n",
    "import ee \n",
    "import os\n",
    "import geopandas as gpd\n",
    "import json\n",
    "import requests\n",
    "from geemap import geojson_to_ee, ee_to_geojson\n",
    "from ipyleaflet import GeoJSON"
   ]
  },
  {
   "cell_type": "code",
   "execution_count": 2,
   "id": "4d8ac244",
   "metadata": {},
   "outputs": [
    {
     "data": {
      "application/vnd.jupyter.widget-view+json": {
       "model_id": "cedcdadcb4e4486fbead6b2c29d29d27",
       "version_major": 2,
       "version_minor": 0
      },
      "text/plain": [
       "Map(center=[40, -100], controls=(WidgetControl(options=['position', 'transparent_bg'], widget=HBox(children=(T…"
      ]
     },
     "metadata": {},
     "output_type": "display_data"
    }
   ],
   "source": [
    "Map = geemap.Map()\n",
    "Map"
   ]
  },
  {
   "cell_type": "code",
   "execution_count": 4,
   "id": "fe357e63",
   "metadata": {},
   "outputs": [],
   "source": [
    "# Get ESA World cover\n",
    "world_cover_collection = ee.ImageCollection(\"ESA/WorldCover/v100\")"
   ]
  },
  {
   "cell_type": "code",
   "execution_count": 18,
   "id": "34e37591",
   "metadata": {},
   "outputs": [
    {
     "data": {
      "text/plain": [
       "{'IMAGE_DATE': '2020-01-01',\n",
       " 'Map_class_names': ['Trees',\n",
       "  'Shrubland',\n",
       "  'Grassland',\n",
       "  'Cropland',\n",
       "  'Built-up',\n",
       "  'Barren / sparse vegetation',\n",
       "  'Snow and ice',\n",
       "  'Open water',\n",
       "  'Herbaceous wetland',\n",
       "  'Mangroves',\n",
       "  'Moss and lichen'],\n",
       " 'Map_class_palette': ['006400',\n",
       "  'ffbb22',\n",
       "  'ffff4c',\n",
       "  'f096ff',\n",
       "  'fa0000',\n",
       "  'b4b4b4',\n",
       "  'f0f0f0',\n",
       "  '0064c8',\n",
       "  '0096a0',\n",
       "  '00cf75',\n",
       "  'fae6a0'],\n",
       " 'Map_class_values': [10, 20, 30, 40, 50, 60, 70, 80, 90, 95, 100],\n",
       " 'NODATA_value': '0',\n",
       " 'NOMINAL_SCALE': 9.276624232772797,\n",
       " 'copyright': 'ESA WorldCover project 2020 / Contains modified Copernicus Sentinel data (2020) processed by ESA WorldCover consortium',\n",
       " 'creator': 'ESA WorldCover project',\n",
       " 'doi': 'NA',\n",
       " 'institution': 'VITO NV',\n",
       " 'orbit_type': '',\n",
       " 'platform': 'Sentinel-2 and Sentinel-1',\n",
       " 'processing_level': 'L3',\n",
       " 'processing_mode': 'offline',\n",
       " 'product_version': 'V1.0.0',\n",
       " 'production_crs': 'EPSG:4326',\n",
       " 'production_grid': '3x3 degree tiling grid',\n",
       " 'references': 'https://esa-worldcover.org',\n",
       " 'sensor': '',\n",
       " 'source': 'Derived from EO satellite imagery',\n",
       " 'system:asset_size': '109355.097577 MB',\n",
       " 'system:band_names': ['Map'],\n",
       " 'system:id': 'ESA/WorldCover/v100/2020',\n",
       " 'system:index': '2020',\n",
       " 'system:time_end': '2021-01-01 00:00:00',\n",
       " 'system:time_start': '2020-01-01 00:00:00',\n",
       " 'system:version': 1634824277829985}"
      ]
     },
     "execution_count": 18,
     "metadata": {},
     "output_type": "execute_result"
    }
   ],
   "source": [
    "world_cover_image = world_cover_collection.first()\n",
    "geemap.image_props(world_cover_image).getInfo()"
   ]
  },
  {
   "cell_type": "code",
   "execution_count": 21,
   "id": "bf1ace1a",
   "metadata": {},
   "outputs": [
    {
     "data": {
      "application/vnd.jupyter.widget-view+json": {
       "model_id": "cedcdadcb4e4486fbead6b2c29d29d27",
       "version_major": 2,
       "version_minor": 0
      },
      "text/plain": [
       "Map(bottom=481732.0, center=[14.55425996948678, 121.02793854940143], controls=(WidgetControl(options=['positio…"
      ]
     },
     "metadata": {},
     "output_type": "display_data"
    }
   ],
   "source": [
    "Map.addLayer(world_cover_image, {}, \"First image\")\n",
    "Map"
   ]
  },
  {
   "cell_type": "code",
   "execution_count": 11,
   "id": "1cc2f1b4",
   "metadata": {},
   "outputs": [],
   "source": [
    "# get city boundaries\n",
    "city_boundary = ee.FeatureCollection('users/saifshabou/dataportal/boundaries/PHL-makati')"
   ]
  },
  {
   "cell_type": "code",
   "execution_count": 22,
   "id": "ea95c961",
   "metadata": {},
   "outputs": [],
   "source": [
    "Map.centerObject(city_boundary,12)\n",
    "Map.addLayer(city_boundary,{} ,\"City boundary\")"
   ]
  },
  {
   "cell_type": "code",
   "execution_count": 58,
   "id": "91985e5e",
   "metadata": {},
   "outputs": [],
   "source": [
    "# convert geojson boundary into ee feature collection\n",
    "def city_boundary_geojson_to_ee(city_id):\n",
    "    # read geojson\n",
    "    geojson_path = '../data/'+city_id+'.geojson'\n",
    "    file_path = os.path.abspath(geojson_path)\n",
    "    # open geojson\n",
    "    with open(file_path) as f:\n",
    "        json_data = json.load(f)\n",
    "    # convert geojson to ee feature collection\n",
    "    ee_data = geojson_to_ee(json_data)\n",
    "    \n",
    "    return ee_data\n",
    "\n",
    "city_boundary_ee = city_boundary_geojson_to_ee(city_id = 'CRI-San_jose-boundary')"
   ]
  },
  {
   "cell_type": "code",
   "execution_count": 63,
   "id": "6d8a8846",
   "metadata": {},
   "outputs": [
    {
     "name": "stdout",
     "output_type": "stream",
     "text": [
      "Generating URL ...\n",
      "Downloading data from https://earthengine.googleapis.com/v1alpha/projects/earthengine-legacy/thumbnails/e16a4e74c771a73c680af7540eb5147b-d9a327b0c30d33ff3fc256f534b3e7fb:getPixels\n",
      "Please wait ...\n",
      "Data downloaded to C:\\Users\\Saif.Shabou\\OneDrive - World Resources Institute\\Documents\\UrbanShift\\github\\cities-urbanshift\\baseline-indicators\\biodiversity\\scripts\\data\\world_cover_esa\\world_cover_CRI-San_jose-boundary.tif\n"
     ]
    }
   ],
   "source": [
    "city_id = 'CRI-San_jose-boundary'\n",
    "\n",
    "# clip raster\n",
    "clip = world_cover_image.clipToCollection(city_boundary_ee)\n",
    "# output name \n",
    "output_file_name = 'data/world_cover_esa/world_cover_'+ city_id+'.tif'\n",
    "# export\n",
    "geemap.ee_export_image(clip, \n",
    "                       filename=output_file_name, \n",
    "                       region=city_boundary_ee.geometry())"
   ]
  },
  {
   "cell_type": "code",
   "execution_count": 60,
   "id": "7c8ae828",
   "metadata": {},
   "outputs": [
    {
     "name": "stdout",
     "output_type": "stream",
     "text": [
      "Generating URL ...\n",
      "An error occurred while downloading.\n",
      "Image.clipToBoundsAndScale, argument 'geometry': Invalid type.\n",
      "Expected type: Geometry.\n",
      "Actual type: FeatureCollection.\n"
     ]
    }
   ],
   "source": [
    "# export clipped geotif\n",
    "\n",
    "def city_world_cover_clip(world_cover_image, city_id, city_boundary_ee):\n",
    "    # clip raster\n",
    "    clip = world_cover_image.clipToCollection(ee_data)\n",
    "    # output name \n",
    "    output_file_name = 'world_cover_'+ city_id+'.tif'\n",
    "    # export\n",
    "    geemap.ee_export_image(clip, \n",
    "                           filename=output_file_name, \n",
    "                           region=ee_data.geometry())\n",
    "\n",
    "output_file_name = 'world_cover_'+ city_id+'.tif'\n",
    "\n",
    "geemap.ee_export_image(world_cover_image, \n",
    "                       filename=output_file_name, \n",
    "                       #scale=90, \n",
    "                       region=city_boundary_ee, \n",
    "                       file_per_band=False)"
   ]
  },
  {
   "cell_type": "code",
   "execution_count": 54,
   "id": "cf7c81df",
   "metadata": {},
   "outputs": [],
   "source": [
    "city_id = 'CRI-San_jose-boundary'\n",
    "geojson_path = '../data/'+city_id+'.geojson'"
   ]
  },
  {
   "cell_type": "code",
   "execution_count": 56,
   "id": "8d94e300",
   "metadata": {},
   "outputs": [],
   "source": [
    "file_path = os.path.abspath(geojson_path)"
   ]
  },
  {
   "cell_type": "code",
   "execution_count": 38,
   "id": "fd374a75",
   "metadata": {},
   "outputs": [],
   "source": [
    "with open(file_path) as f:\n",
    "    json_data = json.load(f)"
   ]
  },
  {
   "cell_type": "code",
   "execution_count": 39,
   "id": "0aeda8bf",
   "metadata": {},
   "outputs": [],
   "source": [
    "json_layer = GeoJSON(data=json_data, name='San Jose boundaries', hover_style={'fillColor': 'red' , 'fillOpacity': 0.5})\n",
    "Map.add_layer(json_layer)"
   ]
  },
  {
   "cell_type": "code",
   "execution_count": 41,
   "id": "df9c495c",
   "metadata": {},
   "outputs": [],
   "source": [
    "ee_data = geojson_to_ee(json_data)\n",
    "Map.addLayer(ee_data, {}, \"San Jose boundaries ee\")"
   ]
  },
  {
   "cell_type": "code",
   "execution_count": 42,
   "id": "f145a83d",
   "metadata": {},
   "outputs": [],
   "source": []
  },
  {
   "cell_type": "code",
   "execution_count": 46,
   "id": "8d4a6177",
   "metadata": {},
   "outputs": [],
   "source": [
    "world_cover_city = world_cover_collection \\\n",
    "  .filterBounds(ee_data)"
   ]
  },
  {
   "cell_type": "code",
   "execution_count": 51,
   "id": "3ecf8630",
   "metadata": {},
   "outputs": [
    {
     "name": "stdout",
     "output_type": "stream",
     "text": [
      "Generating URL ...\n",
      "An error occurred while downloading.\n",
      "Image.clipToBoundsAndScale, argument 'geometry': Invalid type.\n",
      "Expected type: Geometry.\n",
      "Actual type: FeatureCollection.\n"
     ]
    }
   ],
   "source": [
    "geemap.ee_export_image(world_cover_image, \n",
    "                       filename=\"test wc.tif\", \n",
    "                       #scale=90, \n",
    "                       region=ee_data, \n",
    "                       file_per_band=False)"
   ]
  },
  {
   "cell_type": "code",
   "execution_count": 52,
   "id": "26af23ed",
   "metadata": {},
   "outputs": [],
   "source": [
    "clip = world_cover_image.clipToCollection(ee_data)"
   ]
  },
  {
   "cell_type": "code",
   "execution_count": 53,
   "id": "71b54ea8",
   "metadata": {},
   "outputs": [
    {
     "name": "stdout",
     "output_type": "stream",
     "text": [
      "Generating URL ...\n",
      "Downloading data from https://earthengine.googleapis.com/v1alpha/projects/earthengine-legacy/thumbnails/35cfd425563f5296a2f02c0529837ac6-33cbcacce4e13d2988e4cb1028ff98dd:getPixels\n",
      "Please wait ...\n",
      "Data downloaded to C:\\Users\\Saif.Shabou\\OneDrive - World Resources Institute\\Documents\\UrbanShift\\github\\cities-urbanshift\\baseline-indicators\\biodiversity\\scripts\\test.tif\n"
     ]
    }
   ],
   "source": [
    "geemap.ee_export_image(clip, \n",
    "                       filename='test.tif', \n",
    "                       region=ee_data.geometry())"
   ]
  },
  {
   "cell_type": "code",
   "execution_count": null,
   "id": "f7ba3223",
   "metadata": {},
   "outputs": [],
   "source": []
  },
  {
   "cell_type": "code",
   "execution_count": 5,
   "id": "19c33f33",
   "metadata": {},
   "outputs": [],
   "source": [
    "country = 'PHL'\n",
    "\n",
    "popASun = ee.ImageCollection(\"WorldPop/GP/100m/pop_age_sex_cons_unadj\").filterBounds(city_boundary) \n",
    "\n",
    "pop = popASun \\\n",
    "  .filter(ee.Filter.inList('country',[country])) \\\n",
    "  .filter(ee.Filter.inList('year',[2020])) \\\n",
    "  .select('population')\n",
    "\n",
    "population = popASun \\\n",
    "    .select(['population']) \\\n",
    "    .mean() \\\n",
    "    .reduce(ee.Reducer.sum()) \\\n",
    "    .rename('population')\n",
    "\n",
    "popChildren = popASun \\\n",
    "    .select(['M_0','M_1','M_5','M_10','M_15','F_0','F_1','F_5','F_10','F_15']) \\\n",
    "    .mean() \\\n",
    "    .reduce(ee.Reducer.sum()) \\\n",
    "    .rename('popChildren')\n"
   ]
  },
  {
   "cell_type": "code",
   "execution_count": 6,
   "id": "0b63bf34",
   "metadata": {},
   "outputs": [],
   "source": [
    "# get children category\n",
    "data_popChildren = popASun.select(['M_0','M_1','M_5','M_10','M_15','F_0','F_1','F_5','F_10','F_15'])\n",
    "city_popChildren_img = data_popChildren.map(lambda image: image.clip(city_boundary))\n",
    "city_popChildren_img = city_popChildren_img \\\n",
    "                       .mean() \\\n",
    "                       .reduce(ee.Reducer.sum()) \\\n",
    "                       .rename('popChildren')"
   ]
  },
  {
   "cell_type": "code",
   "execution_count": 20,
   "id": "93d98331",
   "metadata": {},
   "outputs": [],
   "source": [
    "pop_city = ee.ImageCollection(\"WorldPop/GP/100m/pop_age_sex_cons_unadj\")"
   ]
  },
  {
   "cell_type": "code",
   "execution_count": 24,
   "id": "e823187d",
   "metadata": {},
   "outputs": [
    {
     "ename": "SyntaxError",
     "evalue": "unexpected EOF while parsing (Temp/ipykernel_19460/2789389396.py, line 2)",
     "output_type": "error",
     "traceback": [
      "\u001b[1;36m  File \u001b[1;32m\"C:\\Users\\SAIF~1.SHA\\AppData\\Local\\Temp/ipykernel_19460/2789389396.py\"\u001b[1;36m, line \u001b[1;32m2\u001b[0m\n\u001b[1;33m    .filter(ee.Filter.geometry(city_boundary)) \\\u001b[0m\n\u001b[1;37m                                                \n^\u001b[0m\n\u001b[1;31mSyntaxError\u001b[0m\u001b[1;31m:\u001b[0m unexpected EOF while parsing\n"
     ]
    }
   ],
   "source": [
    "pop_city = population \\\n",
    "  .filter(ee.Filter.geometry(city_boundary)) \\"
   ]
  },
  {
   "cell_type": "code",
   "execution_count": 22,
   "id": "7be677d0",
   "metadata": {},
   "outputs": [
    {
     "data": {
      "text/plain": [
       "{'type': 'ImageCollection',\n",
       " 'bands': [],\n",
       " 'id': 'WorldPop/GP/100m/pop_age_sex_cons_unadj',\n",
       " 'version': 1633091485639135,\n",
       " 'properties': {'date_range': [1577836800000, 1609459200000],\n",
       "  'period': 0,\n",
       "  'type_name': 'ImageCollection',\n",
       "  'max_mirrored_version': 1616619208130123,\n",
       "  'keywords': ['demography', 'population', 'worldpop'],\n",
       "  'thumb': 'https://mw1.google.com/ges/dd/images/WorldPop_GP_100m_pop_thumb.png',\n",
       "  'description': '<p>Global high-resolution, contemporary data on human population distributions are\\na prerequisite for the accurate measurement of the impacts of population\\ngrowth, for monitoring changes, and for planning interventions. The WorldPop\\nproject aims to meet these needs through the provision of detailed and open\\naccess population distribution datasets built using transparent and\\npeer-reviewed approaches.</p><p>Full details on the methods and datasets used in constructing the\\ndata, along with open access publications, are provided on the\\n<a href=\"https://www.worldpop.org.uk\">WorldPop website</a>. In brief, recent census-based\\npopulation counts matched to their associated administrative units are\\ndisaggregated to ~100x100m grid cells through machine learning approaches\\nthat exploit the relationships between population densities and a range of\\ngeospatial covariate layers. The mapping approach\\nis Random Forest-based dasymetric redistribution.</p><p>This dataset contains top-down constrained breakdown of\\nestimated population by age and gender groups. Currently only 2020 data\\nare present.</p><p>Top-down constrained age/sex structure estimate datasets for individual\\ncountries for 2020 at 100m spatial resolution with country totals adjusted to\\nmatch the corresponding official United Nations population estimates that have\\nbeen prepared by the Population Division of the Department of Economic and\\nSocial Affairs of the United Nations Secretariat\\n(<a href=\"https://population.un.org/wpp/Download/Files/1_Indicators%20(Standard)/EXCEL_FILES/1_Population/WPP2019_POP_F01_1_TOTAL_POPULATION_BOTH_SEXES.xlsx\">2019 Revision of World Population Prospects</a>).</p><p><a href=\"https://www.worldpop.org/methods/top_down_constrained_vs_unconstrained\">See explanation of constrained vs unconstrained datasets</a>.</p><p><b>Resolution</b><br>92.77 meters\\n</p><p><b>Bands</b><table class=\"eecat\"><tr><th scope=\"col\">Name</th><th scope=\"col\">Description</th></tr><tr><td>population</td><td><p>Estimated number of people residing in each grid cell</p></td></tr><tr><td>M_0</td><td><p>Estimated number of men between 0 and 1 years old residing in each grid cell</p></td></tr><tr><td>M_1</td><td><p>Estimated number of men between 1 and 4 years old residing in each grid cell</p></td></tr><tr><td>M_5</td><td><p>Estimated number of men between 5 and 9 years old residing in each grid cell</p></td></tr><tr><td>M_10</td><td><p>Estimated number of men between 10 and 14 years old residing in each grid cell</p></td></tr><tr><td>M_15</td><td><p>Estimated number of men between 15 and 19 years old residing in each grid cell</p></td></tr><tr><td>M_20</td><td><p>Estimated number of men between 20 and 24 years old residing in each grid cell</p></td></tr><tr><td>M_25</td><td><p>Estimated number of men between 25 and 29 years old residing in each grid cell</p></td></tr><tr><td>M_30</td><td><p>Estimated number of men between 30 and 34 years old residing in each grid cell</p></td></tr><tr><td>M_35</td><td><p>Estimated number of men between 35 and 39 years old residing in each grid cell</p></td></tr><tr><td>M_40</td><td><p>Estimated number of men between 40 and 44 years old residing in each grid cell</p></td></tr><tr><td>M_45</td><td><p>Estimated number of men between 45 and 49 years old residing in each grid cell</p></td></tr><tr><td>M_50</td><td><p>Estimated number of men between 50 and 54 years old residing in each grid cell</p></td></tr><tr><td>M_55</td><td><p>Estimated number of men between 55 and 59 years old residing in each grid cell</p></td></tr><tr><td>M_60</td><td><p>Estimated number of men between 60 and 64 years old residing in each grid cell</p></td></tr><tr><td>M_65</td><td><p>Estimated number of men between 65 and 69 years old residing in each grid cell</p></td></tr><tr><td>M_70</td><td><p>Estimated number of men between 70 and 74 years old residing in each grid cell</p></td></tr><tr><td>M_75</td><td><p>Estimated number of men between 75 and 79 years old residing in each grid cell</p></td></tr><tr><td>M_80</td><td><p>Estimated number of men 80 years old or above residing in each grid cell</p></td></tr><tr><td>F_0</td><td><p>Estimated number of women between 0 and 1 years old residing in each grid cell</p></td></tr><tr><td>F_1</td><td><p>Estimated number of women between 1 and 4 years old residing in each grid cell</p></td></tr><tr><td>F_5</td><td><p>Estimated number of women between 5 and 9 years old residing in each grid cell</p></td></tr><tr><td>F_10</td><td><p>Estimated number of women between 10 and 14 years old residing in each grid cell</p></td></tr><tr><td>F_15</td><td><p>Estimated number of women between 15 and 19 years old residing in each grid cell</p></td></tr><tr><td>F_20</td><td><p>Estimated number of women between 20 and 24 years old residing in each grid cell</p></td></tr><tr><td>F_25</td><td><p>Estimated number of women between 25 and 29 years old residing in each grid cell</p></td></tr><tr><td>F_30</td><td><p>Estimated number of women between 30 and 34 years old residing in each grid cell</p></td></tr><tr><td>F_35</td><td><p>Estimated number of women between 35 and 39 years old residing in each grid cell</p></td></tr><tr><td>F_40</td><td><p>Estimated number of women between 40 and 44 years old residing in each grid cell</p></td></tr><tr><td>F_45</td><td><p>Estimated number of women between 45 and 49 years old residing in each grid cell</p></td></tr><tr><td>F_50</td><td><p>Estimated number of women between 50 and 54 years old residing in each grid cell</p></td></tr><tr><td>F_55</td><td><p>Estimated number of women between 55 and 59 years old residing in each grid cell</p></td></tr><tr><td>F_60</td><td><p>Estimated number of women between 60 and 64 years old residing in each grid cell</p></td></tr><tr><td>F_65</td><td><p>Estimated number of women between 65 and 69 years old residing in each grid cell</p></td></tr><tr><td>F_70</td><td><p>Estimated number of women between 70 and 74 years old residing in each grid cell</p></td></tr><tr><td>F_75</td><td><p>Estimated number of women between 75 and 79 years old residing in each grid cell</p></td></tr><tr><td>F_80</td><td><p>Estimated number of women 80 years old or above residing in each grid cell</p></td></tr></table><p><b>Image Properties</b><table class=\"eecat\"><tr><th scope=\"col\">Name</th><th scope=\"col\">Type</th><th scope=\"col\">Description</th></tr><tr><td>country</td><td>STRING</td><td><p>Country</p></td></tr><tr><td>year</td><td>DOUBLE</td><td><p>Year</p></td></tr></table><p><sup>Further WorldPop gridded datasets on population age structures, poverty, urban growth, and population dynamics are freely available on the WorldPop website. WorldPop represents a collaboration between researchers at the University of Southampton, Universite Libre de Bruxelles, and University of Louisville. The project is principally funded by the Bill and Melinda Gates Foundation.</sup><p><b>Terms of Use</b><br><p>WorldPop datasets are licensed under the Creative Commons Attribution 4.0\\nInternational License. Users are free to use, copy, distribute, transmit,\\nand adapt the work for commercial and non-commercial purposes, without\\nrestriction, as long as clear attribution of the source is provided.</p><p><b>Suggested citation(s)</b><ul><li><p>Please cite the WorldPop website as the source: <a href=\"https://www.worldpop.org\">www.worldpop.org</a>.</p></li><li><p>Americas population data: Alessandro Sorichetta, Graeme M. Hornby, Forrest R. Stevens, Andrea E. Gaughan, Catherine Linard, Andrew J. Tatem, 2015, High-resolution gridded population datasets for Latin America and the Caribbean in 2010, 2015, and 2020, Scientific Data, <a href=\"https://doi.org/10.1038/sdata.2015.45\">doi:10.1038/sdata.2015.45</a></p></li><li><p>Africa population count data: Linard, C., Gilbert, M., Snow, R.W., Noor, A.M. and Tatem, A.J., 2012, Population distribution, settlement patterns and accessibility across Africa in 2010, PLoS ONE, 7(2): e31743.</p></li><li><p>Asia population count data: Gaughan AE, Stevens FR, Linard C, Jia P and Tatem AJ, 2013, High resolution population distribution maps for Southeast Asia in 2010 and 2015, PLoS ONE, 8(2): e55882.</p></li></ul><style>\\n  table.eecat {\\n  border: 1px solid black;\\n  border-collapse: collapse;\\n  font-size: 13px;\\n  }\\n  table.eecat td, tr, th {\\n  text-align: left; vertical-align: top;\\n  border: 1px solid gray; padding: 3px;\\n  }\\n  td.nobreak { white-space: nowrap; }\\n</style>',\n",
       "  'source_tags': ['worldpop'],\n",
       "  'visualization_0_max': '50.0',\n",
       "  'provider_url': 'https://www.worldpop.org',\n",
       "  'title': 'WorldPop Global Project Population Data: Constrained Estimated\\nAge and Sex Structures of Residential Population per 100x100m Grid Square\\n',\n",
       "  'sample': 'https://mw1.google.com/ges/dd/images/WorldPop_GP_100m_pop_sample.png',\n",
       "  'tags': ['demography', 'population', 'worldpop'],\n",
       "  'product_tags': ['population', 'demography'],\n",
       "  'visualization_0_palette': '24126c,1fff4f,d4ff50',\n",
       "  'provider': 'WorldPop',\n",
       "  'visualization_0_min': '0.0',\n",
       "  'visualization_0_name': 'Population',\n",
       "  'visualization_0_bands': 'population'},\n",
       " 'features': [{'type': 'Image',\n",
       "   'bands': [{'id': 'population',\n",
       "     'data_type': {'type': 'PixelType', 'precision': 'float'},\n",
       "     'dimensions': [11613, 19781],\n",
       "     'crs': 'EPSG:4326',\n",
       "     'crs_transform': [0.0008333333299750276,\n",
       "      0,\n",
       "      116.927916214,\n",
       "      0,\n",
       "      -0.0008333333300136493,\n",
       "      21.070416784]}],\n",
       "   'version': 1616773999184905,\n",
       "   'id': 'WorldPop/GP/100m/pop_age_sex_cons_unadj/PHL_2020',\n",
       "   'properties': {'system:time_start': 1577836800000,\n",
       "    'country': 'PHL',\n",
       "    'year': 2020,\n",
       "    'system:footprint': {'type': 'LinearRing',\n",
       "     'coordinates': [[117.83552038066641, 21.070834870081608],\n",
       "      [116.92743828422617, 21.070834135838755],\n",
       "      [116.92749542772972, 4.585831723922451],\n",
       "      [117.83552038066641, 4.585641281615557],\n",
       "      [119.04510371980996, 4.585641279264663],\n",
       "      [120.25468706385837, 4.585641275896482],\n",
       "      [121.46427033059643, 4.585641234737403],\n",
       "      [122.67385371246844, 4.5856412816419185],\n",
       "      [124.18583285951797, 4.585323286310995],\n",
       "      [125.6978120194143, 4.585641262513421],\n",
       "      [126.60583701428145, 4.58583168866869],\n",
       "      [126.60589410439597, 21.070834126332546],\n",
       "      [124.79062448566528, 21.07083491745837],\n",
       "      [123.58104122231781, 21.07083493109196],\n",
       "      [122.06906202268175, 21.07083494667915],\n",
       "      [120.55708286908951, 21.07083487997482],\n",
       "      [119.34749951129777, 21.070834927005926],\n",
       "      [117.83552038066641, 21.070834870081608]]},\n",
       "    'system:time_end': 1609372800000,\n",
       "    'system:asset_size': 374219788,\n",
       "    'system:index': 'PHL_2020'}},\n",
       "  {'type': 'Image',\n",
       "   'bands': [{'id': 'population',\n",
       "     'data_type': {'type': 'PixelType', 'precision': 'float'},\n",
       "     'dimensions': [193200, 58800],\n",
       "     'crs': 'EPSG:4326',\n",
       "     'crs_transform': [0.00083333333,\n",
       "      0,\n",
       "      18.99958327267001,\n",
       "      0,\n",
       "      -0.00083333333,\n",
       "      90.000416508432]}],\n",
       "   'version': 1616774004055745,\n",
       "   'id': 'WorldPop/GP/100m/pop_age_sex_cons_unadj/RUS_2020',\n",
       "   'properties': {'system:time_start': 1577836800000,\n",
       "    'country': 'RUS',\n",
       "    'year': 2020,\n",
       "    'system:footprint': {'type': 'LinearRing',\n",
       "     'coordinates': [[-180, -90],\n",
       "      [180, -90],\n",
       "      [180, 90],\n",
       "      [-180, 90],\n",
       "      [-180, -90]]},\n",
       "    'system:time_end': 1609372800000,\n",
       "    'system:asset_size': 3984401223,\n",
       "    'system:index': 'RUS_2020'}},\n",
       "  {'type': 'Image',\n",
       "   'bands': [{'id': 'population',\n",
       "     'data_type': {'type': 'PixelType', 'precision': 'float'},\n",
       "     'dimensions': [13200, 58800],\n",
       "     'crs': 'EPSG:4326',\n",
       "     'crs_transform': [0.00083333333,\n",
       "      0,\n",
       "      -180.00041593133,\n",
       "      0,\n",
       "      -0.0008333333300002048,\n",
       "      90.000416508432]}],\n",
       "   'version': 1616774004423184,\n",
       "   'id': 'WorldPop/GP/100m/pop_age_sex_cons_unadj/RUS_W_2020',\n",
       "   'properties': {'system:time_start': 1577836800000,\n",
       "    'country': 'RUS',\n",
       "    'year': 2020,\n",
       "    'system:footprint': {'type': 'LinearRing',\n",
       "     'coordinates': [[-180, -90],\n",
       "      [180, -90],\n",
       "      [180, 90],\n",
       "      [-180, 90],\n",
       "      [-180, -90]]},\n",
       "    'system:time_end': 1609372800000,\n",
       "    'system:asset_size': 2016619,\n",
       "    'system:index': 'RUS_W_2020'}}]}"
      ]
     },
     "execution_count": 22,
     "metadata": {},
     "output_type": "execute_result"
    }
   ],
   "source": [
    "pop_city.getInfo()"
   ]
  },
  {
   "cell_type": "code",
   "execution_count": 7,
   "id": "f711c364",
   "metadata": {},
   "outputs": [],
   "source": [
    "popviz = {\n",
    "  'min': 0.0,\n",
    "  'max': 150.0,\n",
    "  'palette': ['24126c', '1fff4f', 'd4ff50']\n",
    "}\n",
    "Map.addLayer(population,popviz,'Population',False,0.5)\n",
    "Map.addLayer(popChildren,popviz,'Population - Children (<20)',False,0.5)"
   ]
  },
  {
   "cell_type": "code",
   "execution_count": 23,
   "id": "1716ccf0",
   "metadata": {},
   "outputs": [],
   "source": [
    "Map.addLayer(pop_city,popviz,'pop_city',False,0.5)"
   ]
  },
  {
   "cell_type": "code",
   "execution_count": 74,
   "id": "439b4726",
   "metadata": {},
   "outputs": [],
   "source": [
    "# export geotif\n",
    "out_dir = os.path.join(os.path.expanduser('~'), 'data')\n",
    "filename = os.path.join(out_dir, 'city_pop_children.tif')"
   ]
  },
  {
   "cell_type": "code",
   "execution_count": 84,
   "id": "a5fc0862",
   "metadata": {},
   "outputs": [],
   "source": [
    "# load administrative boundaries: Makati\n",
    "boundaries_cities = gpd.read_file('https://storage.googleapis.com/data_portal_exposure/data/administrative_boundaries/mapped/PHL_makati.geojson')\n"
   ]
  },
  {
   "cell_type": "code",
   "execution_count": 108,
   "id": "78a94645",
   "metadata": {},
   "outputs": [],
   "source": [
    "# get bbox\n",
    "xmin, ymin, xmax, ymax = boundaries_cities.total_bounds\n",
    "geometry = ee.Geometry.Rectangle([xmin, ymin, xmax, ymax])"
   ]
  },
  {
   "cell_type": "code",
   "execution_count": 110,
   "id": "9c34dad5",
   "metadata": {},
   "outputs": [
    {
     "name": "stdout",
     "output_type": "stream",
     "text": [
      "Generating URL ...\n",
      "Downloading data from https://earthengine.googleapis.com/v1alpha/projects/earthengine-legacy/thumbnails/02058763f2cf5d94fc84a4bf47233c65-c1e740217d06b0962d3fd873d0afcf96:getPixels\n",
      "Please wait ...\n",
      "An error occurred while downloading.\n",
      "[Errno 2] No such file or directory: 'C:\\\\Users\\\\Saif.Shabou\\\\data\\\\city_pop_children.zip'\n"
     ]
    }
   ],
   "source": [
    "geemap.ee_export_image(city_popChildren_img, \n",
    "                       filename=filename, \n",
    "                       #scale=90, \n",
    "                       region=geometry, \n",
    "                       file_per_band=False)"
   ]
  },
  {
   "cell_type": "code",
   "execution_count": 61,
   "id": "faadaec5",
   "metadata": {},
   "outputs": [],
   "source": [
    "popChildren = popASun \\\n",
    "    .filterBounds(city_boundary) \\\n",
    "    .select(['M_0','M_1','M_5','M_10','M_15','F_0','F_1','F_5','F_10','F_15']) \\\n",
    "    .mean() \\\n",
    "    .reduce(ee.Reducer.sum()) \\\n",
    "    .rename('popChildren')"
   ]
  },
  {
   "cell_type": "code",
   "execution_count": 71,
   "id": "85b76fdc",
   "metadata": {},
   "outputs": [
    {
     "data": {
      "text/plain": [
       "{'type': 'Image',\n",
       " 'bands': [{'id': 'popChildren',\n",
       "   'data_type': {'type': 'PixelType', 'precision': 'double'},\n",
       "   'crs': 'EPSG:4326',\n",
       "   'crs_transform': [1, 0, 0, 0, 1, 0]}]}"
      ]
     },
     "execution_count": 71,
     "metadata": {},
     "output_type": "execute_result"
    }
   ],
   "source": [
    "city_popChildren_img.getInfo()"
   ]
  },
  {
   "cell_type": "code",
   "execution_count": 63,
   "id": "0c14c8c0",
   "metadata": {},
   "outputs": [],
   "source": [
    "popviz = {\n",
    "  'min': 0.0,\n",
    "  'max': 150.0,\n",
    "  'palette': ['24126c', '1fff4f', 'd4ff50']\n",
    "}\n",
    "Map.addLayer(population,popviz,'Population',False,0.5)\n",
    "Map.addLayer(popChildren,popviz,'Population - Children (<20)',False,0.5)\n"
   ]
  },
  {
   "cell_type": "code",
   "execution_count": 72,
   "id": "7a59eb4e",
   "metadata": {},
   "outputs": [],
   "source": [
    "Map.addLayer(city_popChildren_img,popviz,'city_popChildren_img',False,0.5)"
   ]
  },
  {
   "cell_type": "code",
   "execution_count": 6,
   "id": "4dbb342a",
   "metadata": {},
   "outputs": [],
   "source": [
    "# get city boundaries\n",
    "city_boundary = ee.FeatureCollection('users/saifshabou/dataportal/boundaries/PHL-makati')"
   ]
  },
  {
   "cell_type": "code",
   "execution_count": 9,
   "id": "5195e46b",
   "metadata": {},
   "outputs": [],
   "source": [
    "# get population data\n",
    "pop_age_sex = ee.ImageCollection(\"WorldPop/GP/100m/pop_age_sex_cons_unadj\")\n",
    "\n",
    "visualization = {\n",
    "  'bands': ['population'],\n",
    "  'min': 0.0,\n",
    "  'max': 50.0,\n",
    "  'palette': ['24126c', '1fff4f', 'd4ff50']\n",
    "}\n",
    "\n",
    "Map.centerObject(city_boundary,9)\n",
    "\n",
    "Map.addLayer(pop_age_sex, visualization, 'Population')"
   ]
  },
  {
   "cell_type": "code",
   "execution_count": 18,
   "id": "07be4a33",
   "metadata": {},
   "outputs": [],
   "source": [
    "# filter parameters\n",
    "year = 2020\n",
    "country_code = 'PHL'"
   ]
  },
  {
   "cell_type": "code",
   "execution_count": 19,
   "id": "3446a4b4",
   "metadata": {},
   "outputs": [],
   "source": [
    "city_pop_age_sex = pop_age_sex.filter(ee.Filter.bounds(city_boundary)) \\\n",
    "    .filterMetadata('year', 'equals', year) \\\n",
    "    .filterMetadata('country', 'equals', country_code) "
   ]
  },
  {
   "cell_type": "code",
   "execution_count": 21,
   "id": "ed0be055",
   "metadata": {},
   "outputs": [],
   "source": [
    "Map.addLayer(city_pop_age_sex, visualization, 'Population city')\n",
    "Map.centerObject(city_boundary,9)"
   ]
  },
  {
   "cell_type": "code",
   "execution_count": 33,
   "id": "54add41e",
   "metadata": {},
   "outputs": [],
   "source": [
    "# process population data\n",
    "city_pop_dataset = ee.ImageCollection(\"WorldPop/GP/100m/pop_age_sex_cons_unadj\").filterBounds(city_boundary) \n",
    "data_population = city_pop_dataset.select('M_0') #population\n",
    "city_population_img = data_population.map(lambda image: image.clip(city_boundary))"
   ]
  },
  {
   "cell_type": "code",
   "execution_count": 52,
   "id": "331d2cdf",
   "metadata": {},
   "outputs": [
    {
     "data": {
      "text/plain": [
       "{'type': 'ImageCollection',\n",
       " 'bands': [],\n",
       " 'id': 'WorldPop/GP/100m/pop_age_sex_cons_unadj',\n",
       " 'version': 1633091485639135,\n",
       " 'properties': {'date_range': [1577836800000, 1609459200000],\n",
       "  'period': 0,\n",
       "  'type_name': 'ImageCollection',\n",
       "  'max_mirrored_version': 1616619208130123,\n",
       "  'keywords': ['demography', 'population', 'worldpop'],\n",
       "  'thumb': 'https://mw1.google.com/ges/dd/images/WorldPop_GP_100m_pop_thumb.png',\n",
       "  'description': '<p>Global high-resolution, contemporary data on human population distributions are\\na prerequisite for the accurate measurement of the impacts of population\\ngrowth, for monitoring changes, and for planning interventions. The WorldPop\\nproject aims to meet these needs through the provision of detailed and open\\naccess population distribution datasets built using transparent and\\npeer-reviewed approaches.</p><p>Full details on the methods and datasets used in constructing the\\ndata, along with open access publications, are provided on the\\n<a href=\"https://www.worldpop.org.uk\">WorldPop website</a>. In brief, recent census-based\\npopulation counts matched to their associated administrative units are\\ndisaggregated to ~100x100m grid cells through machine learning approaches\\nthat exploit the relationships between population densities and a range of\\ngeospatial covariate layers. The mapping approach\\nis Random Forest-based dasymetric redistribution.</p><p>This dataset contains top-down constrained breakdown of\\nestimated population by age and gender groups. Currently only 2020 data\\nare present.</p><p>Top-down constrained age/sex structure estimate datasets for individual\\ncountries for 2020 at 100m spatial resolution with country totals adjusted to\\nmatch the corresponding official United Nations population estimates that have\\nbeen prepared by the Population Division of the Department of Economic and\\nSocial Affairs of the United Nations Secretariat\\n(<a href=\"https://population.un.org/wpp/Download/Files/1_Indicators%20(Standard)/EXCEL_FILES/1_Population/WPP2019_POP_F01_1_TOTAL_POPULATION_BOTH_SEXES.xlsx\">2019 Revision of World Population Prospects</a>).</p><p><a href=\"https://www.worldpop.org/methods/top_down_constrained_vs_unconstrained\">See explanation of constrained vs unconstrained datasets</a>.</p><p><b>Resolution</b><br>92.77 meters\\n</p><p><b>Bands</b><table class=\"eecat\"><tr><th scope=\"col\">Name</th><th scope=\"col\">Description</th></tr><tr><td>population</td><td><p>Estimated number of people residing in each grid cell</p></td></tr><tr><td>M_0</td><td><p>Estimated number of men between 0 and 1 years old residing in each grid cell</p></td></tr><tr><td>M_1</td><td><p>Estimated number of men between 1 and 4 years old residing in each grid cell</p></td></tr><tr><td>M_5</td><td><p>Estimated number of men between 5 and 9 years old residing in each grid cell</p></td></tr><tr><td>M_10</td><td><p>Estimated number of men between 10 and 14 years old residing in each grid cell</p></td></tr><tr><td>M_15</td><td><p>Estimated number of men between 15 and 19 years old residing in each grid cell</p></td></tr><tr><td>M_20</td><td><p>Estimated number of men between 20 and 24 years old residing in each grid cell</p></td></tr><tr><td>M_25</td><td><p>Estimated number of men between 25 and 29 years old residing in each grid cell</p></td></tr><tr><td>M_30</td><td><p>Estimated number of men between 30 and 34 years old residing in each grid cell</p></td></tr><tr><td>M_35</td><td><p>Estimated number of men between 35 and 39 years old residing in each grid cell</p></td></tr><tr><td>M_40</td><td><p>Estimated number of men between 40 and 44 years old residing in each grid cell</p></td></tr><tr><td>M_45</td><td><p>Estimated number of men between 45 and 49 years old residing in each grid cell</p></td></tr><tr><td>M_50</td><td><p>Estimated number of men between 50 and 54 years old residing in each grid cell</p></td></tr><tr><td>M_55</td><td><p>Estimated number of men between 55 and 59 years old residing in each grid cell</p></td></tr><tr><td>M_60</td><td><p>Estimated number of men between 60 and 64 years old residing in each grid cell</p></td></tr><tr><td>M_65</td><td><p>Estimated number of men between 65 and 69 years old residing in each grid cell</p></td></tr><tr><td>M_70</td><td><p>Estimated number of men between 70 and 74 years old residing in each grid cell</p></td></tr><tr><td>M_75</td><td><p>Estimated number of men between 75 and 79 years old residing in each grid cell</p></td></tr><tr><td>M_80</td><td><p>Estimated number of men 80 years old or above residing in each grid cell</p></td></tr><tr><td>F_0</td><td><p>Estimated number of women between 0 and 1 years old residing in each grid cell</p></td></tr><tr><td>F_1</td><td><p>Estimated number of women between 1 and 4 years old residing in each grid cell</p></td></tr><tr><td>F_5</td><td><p>Estimated number of women between 5 and 9 years old residing in each grid cell</p></td></tr><tr><td>F_10</td><td><p>Estimated number of women between 10 and 14 years old residing in each grid cell</p></td></tr><tr><td>F_15</td><td><p>Estimated number of women between 15 and 19 years old residing in each grid cell</p></td></tr><tr><td>F_20</td><td><p>Estimated number of women between 20 and 24 years old residing in each grid cell</p></td></tr><tr><td>F_25</td><td><p>Estimated number of women between 25 and 29 years old residing in each grid cell</p></td></tr><tr><td>F_30</td><td><p>Estimated number of women between 30 and 34 years old residing in each grid cell</p></td></tr><tr><td>F_35</td><td><p>Estimated number of women between 35 and 39 years old residing in each grid cell</p></td></tr><tr><td>F_40</td><td><p>Estimated number of women between 40 and 44 years old residing in each grid cell</p></td></tr><tr><td>F_45</td><td><p>Estimated number of women between 45 and 49 years old residing in each grid cell</p></td></tr><tr><td>F_50</td><td><p>Estimated number of women between 50 and 54 years old residing in each grid cell</p></td></tr><tr><td>F_55</td><td><p>Estimated number of women between 55 and 59 years old residing in each grid cell</p></td></tr><tr><td>F_60</td><td><p>Estimated number of women between 60 and 64 years old residing in each grid cell</p></td></tr><tr><td>F_65</td><td><p>Estimated number of women between 65 and 69 years old residing in each grid cell</p></td></tr><tr><td>F_70</td><td><p>Estimated number of women between 70 and 74 years old residing in each grid cell</p></td></tr><tr><td>F_75</td><td><p>Estimated number of women between 75 and 79 years old residing in each grid cell</p></td></tr><tr><td>F_80</td><td><p>Estimated number of women 80 years old or above residing in each grid cell</p></td></tr></table><p><b>Image Properties</b><table class=\"eecat\"><tr><th scope=\"col\">Name</th><th scope=\"col\">Type</th><th scope=\"col\">Description</th></tr><tr><td>country</td><td>STRING</td><td><p>Country</p></td></tr><tr><td>year</td><td>DOUBLE</td><td><p>Year</p></td></tr></table><p><sup>Further WorldPop gridded datasets on population age structures, poverty, urban growth, and population dynamics are freely available on the WorldPop website. WorldPop represents a collaboration between researchers at the University of Southampton, Universite Libre de Bruxelles, and University of Louisville. The project is principally funded by the Bill and Melinda Gates Foundation.</sup><p><b>Terms of Use</b><br><p>WorldPop datasets are licensed under the Creative Commons Attribution 4.0\\nInternational License. Users are free to use, copy, distribute, transmit,\\nand adapt the work for commercial and non-commercial purposes, without\\nrestriction, as long as clear attribution of the source is provided.</p><p><b>Suggested citation(s)</b><ul><li><p>Please cite the WorldPop website as the source: <a href=\"https://www.worldpop.org\">www.worldpop.org</a>.</p></li><li><p>Americas population data: Alessandro Sorichetta, Graeme M. Hornby, Forrest R. Stevens, Andrea E. Gaughan, Catherine Linard, Andrew J. Tatem, 2015, High-resolution gridded population datasets for Latin America and the Caribbean in 2010, 2015, and 2020, Scientific Data, <a href=\"https://doi.org/10.1038/sdata.2015.45\">doi:10.1038/sdata.2015.45</a></p></li><li><p>Africa population count data: Linard, C., Gilbert, M., Snow, R.W., Noor, A.M. and Tatem, A.J., 2012, Population distribution, settlement patterns and accessibility across Africa in 2010, PLoS ONE, 7(2): e31743.</p></li><li><p>Asia population count data: Gaughan AE, Stevens FR, Linard C, Jia P and Tatem AJ, 2013, High resolution population distribution maps for Southeast Asia in 2010 and 2015, PLoS ONE, 8(2): e55882.</p></li></ul><style>\\n  table.eecat {\\n  border: 1px solid black;\\n  border-collapse: collapse;\\n  font-size: 13px;\\n  }\\n  table.eecat td, tr, th {\\n  text-align: left; vertical-align: top;\\n  border: 1px solid gray; padding: 3px;\\n  }\\n  td.nobreak { white-space: nowrap; }\\n</style>',\n",
       "  'source_tags': ['worldpop'],\n",
       "  'visualization_0_max': '50.0',\n",
       "  'provider_url': 'https://www.worldpop.org',\n",
       "  'title': 'WorldPop Global Project Population Data: Constrained Estimated\\nAge and Sex Structures of Residential Population per 100x100m Grid Square\\n',\n",
       "  'sample': 'https://mw1.google.com/ges/dd/images/WorldPop_GP_100m_pop_sample.png',\n",
       "  'tags': ['demography', 'population', 'worldpop'],\n",
       "  'product_tags': ['population', 'demography'],\n",
       "  'visualization_0_palette': '24126c,1fff4f,d4ff50',\n",
       "  'provider': 'WorldPop',\n",
       "  'visualization_0_min': '0.0',\n",
       "  'visualization_0_name': 'Population',\n",
       "  'visualization_0_bands': 'population'},\n",
       " 'features': [{'type': 'Image',\n",
       "   'bands': [{'id': 'M_0',\n",
       "     'data_type': {'type': 'PixelType', 'precision': 'float'},\n",
       "     'dimensions': [11613, 19781],\n",
       "     'crs': 'EPSG:4326',\n",
       "     'crs_transform': [0.00083333333,\n",
       "      0,\n",
       "      116.927916214,\n",
       "      0,\n",
       "      -0.00083333333,\n",
       "      21.070416784]}],\n",
       "   'version': 1616773999184905,\n",
       "   'id': 'WorldPop/GP/100m/pop_age_sex_cons_unadj/PHL_2020',\n",
       "   'properties': {'system:time_start': 1577836800000,\n",
       "    'country': 'PHL',\n",
       "    'year': 2020,\n",
       "    'system:time_end': 1609372800000,\n",
       "    'system:asset_size': 374219788,\n",
       "    'system:index': 'PHL_2020'}},\n",
       "  {'type': 'Image',\n",
       "   'bands': [{'id': 'M_0',\n",
       "     'data_type': {'type': 'PixelType', 'precision': 'float'},\n",
       "     'dimensions': [193200, 58800],\n",
       "     'crs': 'EPSG:4326',\n",
       "     'crs_transform': [0.00083333333,\n",
       "      0,\n",
       "      18.99958327267001,\n",
       "      0,\n",
       "      -0.00083333333,\n",
       "      90.00041650842999]}],\n",
       "   'version': 1616774004055745,\n",
       "   'id': 'WorldPop/GP/100m/pop_age_sex_cons_unadj/RUS_2020',\n",
       "   'properties': {'system:time_start': 1577836800000,\n",
       "    'country': 'RUS',\n",
       "    'year': 2020,\n",
       "    'system:time_end': 1609372800000,\n",
       "    'system:asset_size': 3984401223,\n",
       "    'system:index': 'RUS_2020'}},\n",
       "  {'type': 'Image',\n",
       "   'bands': [{'id': 'M_0',\n",
       "     'data_type': {'type': 'PixelType', 'precision': 'float'},\n",
       "     'dimensions': [13200, 58800],\n",
       "     'crs': 'EPSG:4326',\n",
       "     'crs_transform': [0.00083333333,\n",
       "      0,\n",
       "      -180.00041593133,\n",
       "      0,\n",
       "      -0.00083333333,\n",
       "      90.00041650842999]}],\n",
       "   'version': 1616774004423184,\n",
       "   'id': 'WorldPop/GP/100m/pop_age_sex_cons_unadj/RUS_W_2020',\n",
       "   'properties': {'system:time_start': 1577836800000,\n",
       "    'country': 'RUS',\n",
       "    'year': 2020,\n",
       "    'system:time_end': 1609372800000,\n",
       "    'system:asset_size': 2016619,\n",
       "    'system:index': 'RUS_W_2020'}}]}"
      ]
     },
     "execution_count": 52,
     "metadata": {},
     "output_type": "execute_result"
    }
   ],
   "source": [
    "city_population_img.getInfo()"
   ]
  },
  {
   "cell_type": "code",
   "execution_count": 34,
   "id": "8a7e861e",
   "metadata": {},
   "outputs": [],
   "source": [
    "# viz\n",
    "city_pop_vis = {\n",
    "  'min': 0.0,\n",
    "  'max': 50.0,\n",
    "  'palette': ['24126c', '1fff4f', 'd4ff50']\n",
    "}\n",
    "# adds image layers to map\n",
    "Map.addLayer(city_population_img, city_pop_vis, 'city_population_img')"
   ]
  },
  {
   "cell_type": "code",
   "execution_count": 42,
   "id": "69548c1f",
   "metadata": {},
   "outputs": [
    {
     "ename": "AttributeError",
     "evalue": "'Image' object has no attribute 'map'",
     "output_type": "error",
     "traceback": [
      "\u001b[1;31m---------------------------------------------------------------------------\u001b[0m",
      "\u001b[1;31mAttributeError\u001b[0m                            Traceback (most recent call last)",
      "\u001b[1;32mC:\\Users\\SAIF~1.SHA\\AppData\\Local\\Temp/ipykernel_26488/2224049449.py\u001b[0m in \u001b[0;36m<module>\u001b[1;34m\u001b[0m\n\u001b[0;32m      3\u001b[0m \u001b[0mdata_population_children\u001b[0m \u001b[1;33m=\u001b[0m \u001b[0mcity_pop_dataset\u001b[0m\u001b[1;33m.\u001b[0m\u001b[0mselect\u001b[0m\u001b[1;33m(\u001b[0m\u001b[1;34m'M_0'\u001b[0m\u001b[1;33m,\u001b[0m\u001b[1;34m'M_1'\u001b[0m\u001b[1;33m,\u001b[0m\u001b[1;34m'M_5'\u001b[0m\u001b[1;33m,\u001b[0m\u001b[1;34m'M_10'\u001b[0m\u001b[1;33m,\u001b[0m\u001b[1;34m'M_15'\u001b[0m\u001b[1;33m,\u001b[0m\u001b[1;34m'F_0'\u001b[0m\u001b[1;33m,\u001b[0m\u001b[1;34m'F_1'\u001b[0m\u001b[1;33m,\u001b[0m\u001b[1;34m'F_5'\u001b[0m\u001b[1;33m,\u001b[0m\u001b[1;34m'F_10'\u001b[0m\u001b[1;33m,\u001b[0m\u001b[1;34m'F_15'\u001b[0m\u001b[1;33m)\u001b[0m\u001b[0;31m\\\u001b[0m\u001b[1;33m\u001b[0m\u001b[1;33m\u001b[0m\u001b[0m\n\u001b[0;32m      4\u001b[0m                            \u001b[1;33m.\u001b[0m\u001b[0mreduce\u001b[0m\u001b[1;33m(\u001b[0m\u001b[0mee\u001b[0m\u001b[1;33m.\u001b[0m\u001b[0mReducer\u001b[0m\u001b[1;33m.\u001b[0m\u001b[0msum\u001b[0m\u001b[1;33m(\u001b[0m\u001b[1;33m)\u001b[0m\u001b[1;33m)\u001b[0m\u001b[1;33m\u001b[0m\u001b[1;33m\u001b[0m\u001b[0m\n\u001b[1;32m----> 5\u001b[1;33m \u001b[0mcity_population_children_img\u001b[0m \u001b[1;33m=\u001b[0m \u001b[0mdata_population_children\u001b[0m\u001b[1;33m.\u001b[0m\u001b[0mmap\u001b[0m\u001b[1;33m(\u001b[0m\u001b[1;32mlambda\u001b[0m \u001b[0mimage\u001b[0m\u001b[1;33m:\u001b[0m \u001b[0mimage\u001b[0m\u001b[1;33m.\u001b[0m\u001b[0mclip\u001b[0m\u001b[1;33m(\u001b[0m\u001b[0mcity_boundary\u001b[0m\u001b[1;33m)\u001b[0m\u001b[1;33m)\u001b[0m\u001b[1;33m\u001b[0m\u001b[1;33m\u001b[0m\u001b[0m\n\u001b[0m",
      "\u001b[1;31mAttributeError\u001b[0m: 'Image' object has no attribute 'map'"
     ]
    }
   ],
   "source": [
    "# process population data\n",
    "city_pop_dataset = ee.ImageCollection(\"WorldPop/GP/100m/pop_age_sex_cons_unadj\").filterBounds(city_boundary) \n",
    "data_population_children = city_pop_dataset.select('M_0','M_1','M_5','M_10','M_15','F_0','F_1','F_5','F_10','F_15')\\\n",
    "                           .reduce(ee.Reducer.sum())\n",
    "city_population_children_img = data_population_children.map(lambda image: image.clip(city_boundary))"
   ]
  },
  {
   "cell_type": "code",
   "execution_count": null,
   "id": "34478fcc",
   "metadata": {},
   "outputs": [],
   "source": [
    "popChildren = popASun \\\n",
    "    .select(['M_0','M_1','M_5','M_10','M_15','F_0','F_1','F_5','F_10','F_15']) \\\n",
    "    .mean() \\\n",
    "    .reduce(ee.Reducer.sum()) \\\n",
    "    .rename('popChildren')"
   ]
  },
  {
   "cell_type": "code",
   "execution_count": 43,
   "id": "86484cef",
   "metadata": {},
   "outputs": [
    {
     "data": {
      "text/plain": [
       "{'type': 'Image',\n",
       " 'bands': [{'id': 'M_0_sum',\n",
       "   'data_type': {'type': 'PixelType', 'precision': 'double'},\n",
       "   'crs': 'EPSG:4326',\n",
       "   'crs_transform': [1, 0, 0, 0, 1, 0]},\n",
       "  {'id': 'M_1_sum',\n",
       "   'data_type': {'type': 'PixelType', 'precision': 'double'},\n",
       "   'crs': 'EPSG:4326',\n",
       "   'crs_transform': [1, 0, 0, 0, 1, 0]},\n",
       "  {'id': 'M_5_sum',\n",
       "   'data_type': {'type': 'PixelType', 'precision': 'double'},\n",
       "   'crs': 'EPSG:4326',\n",
       "   'crs_transform': [1, 0, 0, 0, 1, 0]},\n",
       "  {'id': 'M_10_sum',\n",
       "   'data_type': {'type': 'PixelType', 'precision': 'double'},\n",
       "   'crs': 'EPSG:4326',\n",
       "   'crs_transform': [1, 0, 0, 0, 1, 0]},\n",
       "  {'id': 'M_15_sum',\n",
       "   'data_type': {'type': 'PixelType', 'precision': 'double'},\n",
       "   'crs': 'EPSG:4326',\n",
       "   'crs_transform': [1, 0, 0, 0, 1, 0]},\n",
       "  {'id': 'F_0_sum',\n",
       "   'data_type': {'type': 'PixelType', 'precision': 'double'},\n",
       "   'crs': 'EPSG:4326',\n",
       "   'crs_transform': [1, 0, 0, 0, 1, 0]},\n",
       "  {'id': 'F_1_sum',\n",
       "   'data_type': {'type': 'PixelType', 'precision': 'double'},\n",
       "   'crs': 'EPSG:4326',\n",
       "   'crs_transform': [1, 0, 0, 0, 1, 0]},\n",
       "  {'id': 'F_5_sum',\n",
       "   'data_type': {'type': 'PixelType', 'precision': 'double'},\n",
       "   'crs': 'EPSG:4326',\n",
       "   'crs_transform': [1, 0, 0, 0, 1, 0]},\n",
       "  {'id': 'F_10_sum',\n",
       "   'data_type': {'type': 'PixelType', 'precision': 'double'},\n",
       "   'crs': 'EPSG:4326',\n",
       "   'crs_transform': [1, 0, 0, 0, 1, 0]},\n",
       "  {'id': 'F_15_sum',\n",
       "   'data_type': {'type': 'PixelType', 'precision': 'double'},\n",
       "   'crs': 'EPSG:4326',\n",
       "   'crs_transform': [1, 0, 0, 0, 1, 0]}]}"
      ]
     },
     "execution_count": 43,
     "metadata": {},
     "output_type": "execute_result"
    }
   ],
   "source": [
    "data_population_children.getInfo()"
   ]
  },
  {
   "cell_type": "code",
   "execution_count": 39,
   "id": "d840e040",
   "metadata": {},
   "outputs": [
    {
     "ename": "EEException",
     "evalue": "Image.visualize: Cannot provide a palette when visualizing more than one band.",
     "output_type": "error",
     "traceback": [
      "\u001b[1;31m---------------------------------------------------------------------------\u001b[0m",
      "\u001b[1;31mHttpError\u001b[0m                                 Traceback (most recent call last)",
      "\u001b[1;32m~\\Anaconda3\\envs\\gee\\lib\\site-packages\\ee\\data.py\u001b[0m in \u001b[0;36m_execute_cloud_call\u001b[1;34m(call, num_retries)\u001b[0m\n\u001b[0;32m    333\u001b[0m   \u001b[1;32mtry\u001b[0m\u001b[1;33m:\u001b[0m\u001b[1;33m\u001b[0m\u001b[1;33m\u001b[0m\u001b[0m\n\u001b[1;32m--> 334\u001b[1;33m     \u001b[1;32mreturn\u001b[0m \u001b[0mcall\u001b[0m\u001b[1;33m.\u001b[0m\u001b[0mexecute\u001b[0m\u001b[1;33m(\u001b[0m\u001b[0mnum_retries\u001b[0m\u001b[1;33m=\u001b[0m\u001b[0mnum_retries\u001b[0m\u001b[1;33m)\u001b[0m\u001b[1;33m\u001b[0m\u001b[1;33m\u001b[0m\u001b[0m\n\u001b[0m\u001b[0;32m    335\u001b[0m   \u001b[1;32mexcept\u001b[0m \u001b[0mgoogleapiclient\u001b[0m\u001b[1;33m.\u001b[0m\u001b[0merrors\u001b[0m\u001b[1;33m.\u001b[0m\u001b[0mHttpError\u001b[0m \u001b[1;32mas\u001b[0m \u001b[0me\u001b[0m\u001b[1;33m:\u001b[0m\u001b[1;33m\u001b[0m\u001b[1;33m\u001b[0m\u001b[0m\n",
      "\u001b[1;32m~\\Anaconda3\\envs\\gee\\lib\\site-packages\\googleapiclient\\_helpers.py\u001b[0m in \u001b[0;36mpositional_wrapper\u001b[1;34m(*args, **kwargs)\u001b[0m\n\u001b[0;32m    133\u001b[0m                     \u001b[0mlogger\u001b[0m\u001b[1;33m.\u001b[0m\u001b[0mwarning\u001b[0m\u001b[1;33m(\u001b[0m\u001b[0mmessage\u001b[0m\u001b[1;33m)\u001b[0m\u001b[1;33m\u001b[0m\u001b[1;33m\u001b[0m\u001b[0m\n\u001b[1;32m--> 134\u001b[1;33m             \u001b[1;32mreturn\u001b[0m \u001b[0mwrapped\u001b[0m\u001b[1;33m(\u001b[0m\u001b[1;33m*\u001b[0m\u001b[0margs\u001b[0m\u001b[1;33m,\u001b[0m \u001b[1;33m**\u001b[0m\u001b[0mkwargs\u001b[0m\u001b[1;33m)\u001b[0m\u001b[1;33m\u001b[0m\u001b[1;33m\u001b[0m\u001b[0m\n\u001b[0m\u001b[0;32m    135\u001b[0m \u001b[1;33m\u001b[0m\u001b[0m\n",
      "\u001b[1;32m~\\Anaconda3\\envs\\gee\\lib\\site-packages\\googleapiclient\\http.py\u001b[0m in \u001b[0;36mexecute\u001b[1;34m(self, http, num_retries)\u001b[0m\n\u001b[0;32m    914\u001b[0m         \u001b[1;32mif\u001b[0m \u001b[0mresp\u001b[0m\u001b[1;33m.\u001b[0m\u001b[0mstatus\u001b[0m \u001b[1;33m>=\u001b[0m \u001b[1;36m300\u001b[0m\u001b[1;33m:\u001b[0m\u001b[1;33m\u001b[0m\u001b[1;33m\u001b[0m\u001b[0m\n\u001b[1;32m--> 915\u001b[1;33m             \u001b[1;32mraise\u001b[0m \u001b[0mHttpError\u001b[0m\u001b[1;33m(\u001b[0m\u001b[0mresp\u001b[0m\u001b[1;33m,\u001b[0m \u001b[0mcontent\u001b[0m\u001b[1;33m,\u001b[0m \u001b[0muri\u001b[0m\u001b[1;33m=\u001b[0m\u001b[0mself\u001b[0m\u001b[1;33m.\u001b[0m\u001b[0muri\u001b[0m\u001b[1;33m)\u001b[0m\u001b[1;33m\u001b[0m\u001b[1;33m\u001b[0m\u001b[0m\n\u001b[0m\u001b[0;32m    916\u001b[0m         \u001b[1;32mreturn\u001b[0m \u001b[0mself\u001b[0m\u001b[1;33m.\u001b[0m\u001b[0mpostproc\u001b[0m\u001b[1;33m(\u001b[0m\u001b[0mresp\u001b[0m\u001b[1;33m,\u001b[0m \u001b[0mcontent\u001b[0m\u001b[1;33m)\u001b[0m\u001b[1;33m\u001b[0m\u001b[1;33m\u001b[0m\u001b[0m\n",
      "\u001b[1;31mHttpError\u001b[0m: <HttpError 400 when requesting https://earthengine.googleapis.com/v1alpha/projects/earthengine-legacy/maps?fields=name&alt=json returned \"Image.visualize: Cannot provide a palette when visualizing more than one band.\". Details: \"Image.visualize: Cannot provide a palette when visualizing more than one band.\">",
      "\nDuring handling of the above exception, another exception occurred:\n",
      "\u001b[1;31mEEException\u001b[0m                               Traceback (most recent call last)",
      "\u001b[1;32mC:\\Users\\SAIF~1.SHA\\AppData\\Local\\Temp/ipykernel_26488/2924110991.py\u001b[0m in \u001b[0;36m<module>\u001b[1;34m\u001b[0m\n\u001b[0;32m      1\u001b[0m \u001b[1;31m# adds image layers to map\u001b[0m\u001b[1;33m\u001b[0m\u001b[1;33m\u001b[0m\u001b[1;33m\u001b[0m\u001b[0m\n\u001b[1;32m----> 2\u001b[1;33m \u001b[0mMap\u001b[0m\u001b[1;33m.\u001b[0m\u001b[0maddLayer\u001b[0m\u001b[1;33m(\u001b[0m\u001b[0mcity_population_children_img\u001b[0m\u001b[1;33m,\u001b[0m \u001b[0mcity_pop_vis\u001b[0m\u001b[1;33m,\u001b[0m \u001b[1;34m'city_population_children_img'\u001b[0m\u001b[1;33m)\u001b[0m\u001b[1;33m\u001b[0m\u001b[1;33m\u001b[0m\u001b[0m\n\u001b[0m",
      "\u001b[1;32m~\\Anaconda3\\envs\\gee\\lib\\site-packages\\geemap\\geemap.py\u001b[0m in \u001b[0;36madd_ee_layer\u001b[1;34m(self, ee_object, vis_params, name, shown, opacity)\u001b[0m\n\u001b[0;32m   1363\u001b[0m                 \u001b[1;32mraise\u001b[0m \u001b[0mException\u001b[0m\u001b[1;33m(\u001b[0m\u001b[0me\u001b[0m\u001b[1;33m)\u001b[0m\u001b[1;33m\u001b[0m\u001b[1;33m\u001b[0m\u001b[0m\n\u001b[0;32m   1364\u001b[0m \u001b[1;33m\u001b[0m\u001b[0m\n\u001b[1;32m-> 1365\u001b[1;33m         \u001b[0mmap_id_dict\u001b[0m \u001b[1;33m=\u001b[0m \u001b[0mee\u001b[0m\u001b[1;33m.\u001b[0m\u001b[0mImage\u001b[0m\u001b[1;33m(\u001b[0m\u001b[0mimage\u001b[0m\u001b[1;33m)\u001b[0m\u001b[1;33m.\u001b[0m\u001b[0mgetMapId\u001b[0m\u001b[1;33m(\u001b[0m\u001b[0mvis_params\u001b[0m\u001b[1;33m)\u001b[0m\u001b[1;33m\u001b[0m\u001b[1;33m\u001b[0m\u001b[0m\n\u001b[0m\u001b[0;32m   1366\u001b[0m         tile_layer = TileLayer(\n\u001b[0;32m   1367\u001b[0m             \u001b[0murl\u001b[0m\u001b[1;33m=\u001b[0m\u001b[0mmap_id_dict\u001b[0m\u001b[1;33m[\u001b[0m\u001b[1;34m\"tile_fetcher\"\u001b[0m\u001b[1;33m]\u001b[0m\u001b[1;33m.\u001b[0m\u001b[0murl_format\u001b[0m\u001b[1;33m,\u001b[0m\u001b[1;33m\u001b[0m\u001b[1;33m\u001b[0m\u001b[0m\n",
      "\u001b[1;32m~\\Anaconda3\\envs\\gee\\lib\\site-packages\\ee\\image.py\u001b[0m in \u001b[0;36mgetMapId\u001b[1;34m(self, vis_params)\u001b[0m\n\u001b[0;32m    129\u001b[0m     \u001b[0mvis_image\u001b[0m\u001b[1;33m,\u001b[0m \u001b[0mrequest\u001b[0m \u001b[1;33m=\u001b[0m \u001b[0mself\u001b[0m\u001b[1;33m.\u001b[0m\u001b[0m_apply_visualization\u001b[0m\u001b[1;33m(\u001b[0m\u001b[0mvis_params\u001b[0m\u001b[1;33m)\u001b[0m\u001b[1;33m\u001b[0m\u001b[1;33m\u001b[0m\u001b[0m\n\u001b[0;32m    130\u001b[0m     \u001b[0mrequest\u001b[0m\u001b[1;33m[\u001b[0m\u001b[1;34m'image'\u001b[0m\u001b[1;33m]\u001b[0m \u001b[1;33m=\u001b[0m \u001b[0mvis_image\u001b[0m\u001b[1;33m\u001b[0m\u001b[1;33m\u001b[0m\u001b[0m\n\u001b[1;32m--> 131\u001b[1;33m     \u001b[0mresponse\u001b[0m \u001b[1;33m=\u001b[0m \u001b[0mdata\u001b[0m\u001b[1;33m.\u001b[0m\u001b[0mgetMapId\u001b[0m\u001b[1;33m(\u001b[0m\u001b[0mrequest\u001b[0m\u001b[1;33m)\u001b[0m\u001b[1;33m\u001b[0m\u001b[1;33m\u001b[0m\u001b[0m\n\u001b[0m\u001b[0;32m    132\u001b[0m     \u001b[0mresponse\u001b[0m\u001b[1;33m[\u001b[0m\u001b[1;34m'image'\u001b[0m\u001b[1;33m]\u001b[0m \u001b[1;33m=\u001b[0m \u001b[0mself\u001b[0m\u001b[1;33m\u001b[0m\u001b[1;33m\u001b[0m\u001b[0m\n\u001b[0;32m    133\u001b[0m     \u001b[1;32mreturn\u001b[0m \u001b[0mresponse\u001b[0m\u001b[1;33m\u001b[0m\u001b[1;33m\u001b[0m\u001b[0m\n",
      "\u001b[1;32m~\\Anaconda3\\envs\\gee\\lib\\site-packages\\ee\\data.py\u001b[0m in \u001b[0;36mgetMapId\u001b[1;34m(params)\u001b[0m\n\u001b[0;32m    573\u001b[0m   \u001b[1;31m# Make it return only the name field, as otherwise it echoes the entire\u001b[0m\u001b[1;33m\u001b[0m\u001b[1;33m\u001b[0m\u001b[1;33m\u001b[0m\u001b[0m\n\u001b[0;32m    574\u001b[0m   \u001b[1;31m# request, which might be large.\u001b[0m\u001b[1;33m\u001b[0m\u001b[1;33m\u001b[0m\u001b[1;33m\u001b[0m\u001b[0m\n\u001b[1;32m--> 575\u001b[1;33m   result = _execute_cloud_call(\n\u001b[0m\u001b[0;32m    576\u001b[0m       _get_cloud_api_resource().projects().maps().create(\n\u001b[0;32m    577\u001b[0m           parent=_get_projects_path(), fields='name', body=request))\n",
      "\u001b[1;32m~\\Anaconda3\\envs\\gee\\lib\\site-packages\\ee\\data.py\u001b[0m in \u001b[0;36m_execute_cloud_call\u001b[1;34m(call, num_retries)\u001b[0m\n\u001b[0;32m    334\u001b[0m     \u001b[1;32mreturn\u001b[0m \u001b[0mcall\u001b[0m\u001b[1;33m.\u001b[0m\u001b[0mexecute\u001b[0m\u001b[1;33m(\u001b[0m\u001b[0mnum_retries\u001b[0m\u001b[1;33m=\u001b[0m\u001b[0mnum_retries\u001b[0m\u001b[1;33m)\u001b[0m\u001b[1;33m\u001b[0m\u001b[1;33m\u001b[0m\u001b[0m\n\u001b[0;32m    335\u001b[0m   \u001b[1;32mexcept\u001b[0m \u001b[0mgoogleapiclient\u001b[0m\u001b[1;33m.\u001b[0m\u001b[0merrors\u001b[0m\u001b[1;33m.\u001b[0m\u001b[0mHttpError\u001b[0m \u001b[1;32mas\u001b[0m \u001b[0me\u001b[0m\u001b[1;33m:\u001b[0m\u001b[1;33m\u001b[0m\u001b[1;33m\u001b[0m\u001b[0m\n\u001b[1;32m--> 336\u001b[1;33m     \u001b[1;32mraise\u001b[0m \u001b[0m_translate_cloud_exception\u001b[0m\u001b[1;33m(\u001b[0m\u001b[0me\u001b[0m\u001b[1;33m)\u001b[0m\u001b[1;33m\u001b[0m\u001b[1;33m\u001b[0m\u001b[0m\n\u001b[0m\u001b[0;32m    337\u001b[0m \u001b[1;33m\u001b[0m\u001b[0m\n\u001b[0;32m    338\u001b[0m \u001b[1;33m\u001b[0m\u001b[0m\n",
      "\u001b[1;31mEEException\u001b[0m: Image.visualize: Cannot provide a palette when visualizing more than one band."
     ]
    }
   ],
   "source": [
    "# adds image layers to map\n",
    "Map.addLayer(city_population_children_img, city_pop_vis, 'city_population_children_img')"
   ]
  },
  {
   "cell_type": "code",
   "execution_count": null,
   "id": "243fbcfe",
   "metadata": {},
   "outputs": [],
   "source": []
  }
 ],
 "metadata": {
  "kernelspec": {
   "display_name": "Python 3 (ipykernel)",
   "language": "python",
   "name": "python3"
  },
  "language_info": {
   "codemirror_mode": {
    "name": "ipython",
    "version": 3
   },
   "file_extension": ".py",
   "mimetype": "text/x-python",
   "name": "python",
   "nbconvert_exporter": "python",
   "pygments_lexer": "ipython3",
   "version": "3.8.10"
  }
 },
 "nbformat": 4,
 "nbformat_minor": 5
}
