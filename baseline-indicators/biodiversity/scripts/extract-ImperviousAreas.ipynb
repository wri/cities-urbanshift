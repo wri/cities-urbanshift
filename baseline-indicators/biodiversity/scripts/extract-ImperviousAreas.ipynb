{
 "cells": [
  {
   "cell_type": "code",
   "execution_count": null,
   "id": "30ea11e8-dd5e-4c74-be11-497feb22a025",
   "metadata": {},
   "outputs": [],
   "source": [
    "# import sys\n",
    "# !{sys.executable} -m pip install pip earthengine-api\n",
    "# !{sys.executable} -m pip install pip geemap"
   ]
  },
  {
   "cell_type": "code",
   "execution_count": null,
   "id": "035461fb-746d-4367-b887-f98fb8677eb9",
   "metadata": {},
   "outputs": [],
   "source": [
    "import ee\n",
    "# ee.Authenticate()"
   ]
  },
  {
   "cell_type": "code",
   "execution_count": null,
   "id": "1d44b9e6-310f-45fb-bf42-acf0277df0ab",
   "metadata": {},
   "outputs": [],
   "source": [
    "ee.Initialize()"
   ]
  },
  {
   "cell_type": "code",
   "execution_count": null,
   "id": "d3b9ad94-518d-4e80-8f70-3dcb8909f5e0",
   "metadata": {},
   "outputs": [],
   "source": [
    "import geemap\n",
    "import ipyleaflet\n",
    "import numpy as np\n",
    "import requests\n",
    "import os\n",
    "import pandas as pd\n",
    "import rasterio\n",
    "import boto3\n",
    "import geopandas as gpd\n",
    "import glob"
   ]
  },
  {
   "cell_type": "code",
   "execution_count": null,
   "id": "785f7693-0699-4380-9fdf-0d9580f9f371",
   "metadata": {},
   "outputs": [],
   "source": [
    "# define directory\n",
    "out_dir = os.getcwd()\n",
    "bucket_name = 'cities-urbanshift' \n",
    "aws_s3_dir = 'https://'+bucket_name+'.s3.eu-west-3.amazonaws.com'"
   ]
  },
  {
   "cell_type": "markdown",
   "id": "c02f5a68-86a7-4a3e-8c59-a3071d2ecc56",
   "metadata": {},
   "source": [
    "# Load data"
   ]
  },
  {
   "cell_type": "code",
   "execution_count": null,
   "id": "11f10650-ddea-4abc-9391-174fd97ea9bb",
   "metadata": {},
   "outputs": [],
   "source": [
    "imperv = ee.Image(\"Tsinghua/FROM-GLC/GAIA/v10\").select('change_year_index');\n",
    "impervScale = imperv.projection().nominalScale()\n",
    "\n",
    "# Map.addLayer(imperv, {}, \"Impervious in 2018\");\n",
    "\n",
    "impervmask = imperv.updateMask(imperv.gte(0))\n",
    "# Map.addLayer(impervmask,{},\"impervious areas\")"
   ]
  },
  {
   "cell_type": "code",
   "execution_count": null,
   "id": "674d6aa0-7144-47a5-80ed-bf4186d84bc7",
   "metadata": {},
   "outputs": [],
   "source": [
    "# get list of cities\n",
    "boundary_georef = pd.read_csv(aws_s3_dir+'/data/boundaries/v_0/boundary_georef.csv')\n",
    "boundary_georef"
   ]
  },
  {
   "cell_type": "markdown",
   "id": "6535d63b-696b-4500-9c15-39f912e1575e",
   "metadata": {},
   "source": [
    "# Extract impervious by city"
   ]
  },
  {
   "cell_type": "code",
   "execution_count": null,
   "id": "196a4d67-0243-48d1-ae95-aa90ed0cafa3",
   "metadata": {},
   "outputs": [],
   "source": [
    "for i in range(0,len(boundary_georef)):\n",
    "    print(i)\n",
    "    boundary_id = boundary_georef.loc[i, 'geo_name']+'-'+boundary_georef.loc[i, 'aoi_boundary_name']\n",
    "    print(boundary_id)\n",
    "    \n",
    "    # read boundaries\n",
    "    boundary_path = aws_s3_dir+'/data/boundaries/v_0/boundary-'+boundary_id+'.geojson'\n",
    "    boundary_geo = requests.get(boundary_path).json()\n",
    "    boundary_geo_ee = geemap.geojson_to_ee(boundary_geo)\n",
    "    \n",
    "    # Download ee.Image of albedo as GeoTIFF to Google Drive \n",
    "    geemap.ee_export_image_to_drive(\n",
    "        impervmask.toByte(), # use toByte() to reduce file size\n",
    "        description = boundary_id + '-impervious-areas-through-2018',\n",
    "        folder='data', \n",
    "        scale=impervScale, \n",
    "        region=boundary_geo_ee.geometry(),\n",
    "        maxPixels = 5000000000\n",
    "    )"
   ]
  },
  {
   "cell_type": "markdown",
   "id": "48219700-c1de-4192-ac46-2455d81664a1",
   "metadata": {},
   "source": [
    "# Upload in aws\n",
    "\n",
    "Since we can't download directly the rasters locally due to their size, the rasters are stored in a google-drive folder and then downloaded locally in order to push them back to s3 bucket."
   ]
  },
  {
   "cell_type": "code",
   "execution_count": null,
   "id": "cb8fac46-b020-4d00-bb3e-9ec76687936d",
   "metadata": {},
   "outputs": [],
   "source": [
    "# connect to s3\n",
    "aws_credentials = pd.read_csv('/home/jovyan/PlanetaryComputerExamples/aws_credentials.csv')\n",
    "aws_key = aws_credentials.iloc[0]['Access key ID']\n",
    "aws_secret = aws_credentials.iloc[0]['Secret access key']\n",
    "\n",
    "s3 = boto3.resource(\n",
    "    service_name='s3',\n",
    "    aws_access_key_id=aws_key,\n",
    "    aws_secret_access_key=aws_secret\n",
    ")"
   ]
  },
  {
   "cell_type": "code",
   "execution_count": null,
   "id": "2ae44f0f-b2ce-4409-898e-cbf62288a7ae",
   "metadata": {},
   "outputs": [],
   "source": [
    "for i in range(0, len(boundary_georef)):\n",
    "    boundary_id = boundary_georef.loc[i, 'geo_name']+'-'+boundary_georef.loc[i, 'aoi_boundary_name']\n",
    "    geo_name = boundary_georef.loc[i, 'geo_name']\n",
    "    print(\"\\n boundary_id: \"+boundary_id)\n",
    "\n",
    "    # read local raster\n",
    "    city_file = 'data/' + boundary_id + '-impervious-areas-through-2018.tif'\n",
    "    raster_path = os.path.join(out_dir, city_file)\n",
    "    \n",
    "    # upload in s3\n",
    "    s3.meta.client.upload_file(raster_path, \n",
    "                               bucket_name, \n",
    "                               'data/impervious/tsinghua/v_0/' + boundary_id + '-impervious-areas-through-2018.tif',\n",
    "                               ExtraArgs={'ACL':'public-read'})"
   ]
  },
  {
   "cell_type": "markdown",
   "id": "2f7dcc1b-04eb-4704-8f14-d405a3ecd76c",
   "metadata": {},
   "source": [
    "# Visualize data"
   ]
  },
  {
   "cell_type": "code",
   "execution_count": null,
   "id": "196625f2-a39e-4035-99b2-a1582bd61b16",
   "metadata": {},
   "outputs": [],
   "source": [
    "## create map\n",
    "Map = geemap.Map(height=\"350px\")\n",
    "Map"
   ]
  },
  {
   "cell_type": "code",
   "execution_count": null,
   "id": "93d53861-a215-414f-b686-4a945cb1dd8c",
   "metadata": {},
   "outputs": [],
   "source": [
    "## add basemap and center on area of interest\n",
    "Map.add_basemap('HYBRID')\n",
    "Map.centerObject(boundary_geo_ee, zoom=8)"
   ]
  },
  {
   "cell_type": "code",
   "execution_count": null,
   "id": "dd8ce425-2fe0-4455-a741-1045dc49eb47",
   "metadata": {},
   "outputs": [],
   "source": [
    "Map.addLayer(greenmask),\n",
    "             {'min':0, 'max':0.5, 'palette':['white','#006400']},\n",
    "             'Vegetation cover',True,1)"
   ]
  }
 ],
 "metadata": {
  "kernelspec": {
   "display_name": "Python 3 (ipykernel)",
   "language": "python",
   "name": "python3"
  },
  "language_info": {
   "codemirror_mode": {
    "name": "ipython",
    "version": 3
   },
   "file_extension": ".py",
   "mimetype": "text/x-python",
   "name": "python",
   "nbconvert_exporter": "python",
   "pygments_lexer": "ipython3",
   "version": "3.10.6"
  }
 },
 "nbformat": 4,
 "nbformat_minor": 5
}
