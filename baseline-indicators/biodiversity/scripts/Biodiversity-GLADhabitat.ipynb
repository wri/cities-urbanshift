{
 "cells": [
  {
   "cell_type": "code",
   "execution_count": null,
   "id": "3cfbd47b",
   "metadata": {},
   "outputs": [],
   "source": [
    "import ee\n",
    "# ee.Authenticate()"
   ]
  },
  {
   "cell_type": "code",
   "execution_count": null,
   "id": "4f8f3eab",
   "metadata": {},
   "outputs": [],
   "source": [
    "ee.Initialize()"
   ]
  },
  {
   "cell_type": "code",
   "execution_count": null,
   "id": "2456da90",
   "metadata": {},
   "outputs": [],
   "source": [
    "import geemap\n",
    "import ipyleaflet\n",
    "import numpy as np\n",
    "import requests\n",
    "import os"
   ]
  },
  {
   "cell_type": "code",
   "execution_count": null,
   "id": "a0cc7554",
   "metadata": {},
   "outputs": [],
   "source": [
    "## specify areas of interest / districts and metadata\n",
    "## URL method accessed an UrbanShift city's boundaries and uses information from file name and geoBoundaries properties (\"shapeName\") to create properties for output file\n",
    "#URL = 'https://cities-urbanshift.s3.eu-west-3.amazonaws.com/data/boundaries/ADM1/boundary-CHN-Ningbo-ADM1.geojson'\n",
    "URL = 'https://cities-urbanshift.s3.eu-west-3.amazonaws.com/data/boundaries/ADM2/boundary-CRI-San_Jose-ADM2.geojson'\n",
    "DistrictsGJ = requests.get(URL).json()\n",
    "Districts = geemap.geojson_to_ee(DistrictsGJ)\n",
    "#Districts = ee.FeatureCollection('users/emackres/Wards/Addis_Ababa_Woredas')\n",
    "DistrictsProjCRS = Districts.geometry().projection().crs()\n",
    "\n",
    "print(DistrictsProjCRS.getInfo())\n",
    "print(Districts.limit(1).getInfo())"
   ]
  },
  {
   "cell_type": "code",
   "execution_count": null,
   "id": "13664fdf",
   "metadata": {},
   "outputs": [],
   "source": [
    "# extract area properties from standarized filename\n",
    "# https://note.nkmk.me/en/python-split-rsplit-splitlines-re/ \n",
    "basename = os.path.splitext(os.path.basename(URL))[0]\n",
    "AOIname = basename.split('-',1)[1].rsplit('-',1)[0]\n",
    "#ADMlevel = basename.split('-')[-1]\n",
    "\n",
    "Areaofinterest = AOIname ## 3-letter country abreviation - city name with underscore for spaces, e.g. \"ETH-Addis_Ababa\"\n",
    "#unitofanalysis = ADMlevel ## options: \"ADM0\" (country), \"ADM1\" (state), \"Metro\" (metropolitan region), \"ADM2\" (municipality), \"ADM3\" (subcity/locality), \"ADM4\"(ward/neighborhood), ideally align with https://www.geoboundaries.org/index.html#getdata\n",
    "\n",
    "print(Areaofinterest)\n",
    "#print(unitofanalysis)"
   ]
  },
  {
   "cell_type": "code",
   "execution_count": null,
   "id": "30483f62",
   "metadata": {
    "scrolled": true
   },
   "outputs": [],
   "source": [
    "## create map\n",
    "Map = geemap.Map(height=\"400px\")\n",
    "Map"
   ]
  },
  {
   "cell_type": "code",
   "execution_count": null,
   "id": "69433526",
   "metadata": {},
   "outputs": [],
   "source": [
    "## add basemap and center on area of interest\n",
    "Map.add_basemap('HYBRID')\n",
    "Map.centerObject(Districts, zoom=12)"
   ]
  },
  {
   "cell_type": "code",
   "execution_count": null,
   "id": "034875d7",
   "metadata": {},
   "outputs": [],
   "source": [
    "## GLAD land cover change datasets\n",
    "LCLUC2000 = ee.Image('projects/glad/GLCLU2020/LCLUC_2000')\n",
    "LCLUC2020 = ee.Image('projects/glad/GLCLU2020/LCLUC_2020')\n",
    "LCLUCchange = ee.Image('projects/glad/GLCLU2020/LCLUC')\n",
    "\n",
    "# simplify the taxonomy \n",
    "def simplifyLC(im):\n",
    "    im = ee.Image(im)\n",
    "    im=(im.where(im.eq(0),0)\n",
    "    .where(im.gte(1).And(im.lte(24)),1)\n",
    "    .where(im.gte(25).And(im.lte(41)),2)\n",
    "    .where(im.gte(42).And(im.lte(48)),3)\n",
    "    .where(im.gte(100).And(im.lte(124)),4)\n",
    "    .where(im.gte(125).And(im.lte(148)),5)\n",
    "    .where(im.gte(200).And(im.lte(207)),6)\n",
    "    .where(im.eq(241),7)\n",
    "    .where(im.eq(244),8)\n",
    "    .where(im.eq(250),9)\n",
    "    .where(im.eq(255),10)\n",
    "           )\n",
    "    return im.updateMask(im.lte(9).And(im.gte(0)))\n",
    "\n",
    "LC2000 = simplifyLC(LCLUC2000)\n",
    "LC2020 = simplifyLC(LCLUC2020)\n",
    "\n",
    "LCproj = LC2020.projection().nominalScale()\n",
    "print(LC2000.getInfo())\n",
    "print(LCproj.getInfo())"
   ]
  },
  {
   "cell_type": "code",
   "execution_count": null,
   "id": "df70084e",
   "metadata": {},
   "outputs": [],
   "source": [
    "## define styling and legend \n",
    "\n",
    "LCLUCclasses = [\n",
    "\"Bare Ground\",\n",
    "\"Short Vegetation\",\n",
    "\"Forest\",\n",
    "\"Tall Forest (20m+)\",\n",
    "\"Wetland - Short Vegetation\",\n",
    "\"Wetland - Forest\",\n",
    "\"Water\",\n",
    "\"Snow/Ice\",\n",
    "\"Cropland\",\n",
    "\"Built-up Area\"\n",
    "  ]\n",
    "\n",
    "LCLUCcolors = [\n",
    "\"FEFECC\",\n",
    "\"B9B91E\",\n",
    "\"347834\",\n",
    "\"0D570D\",\n",
    "\"88CAAD\",\n",
    "\"589558\",\n",
    "\"6BAED6\",\n",
    "\"ACD1E8\",\n",
    "\"FFF183\",\n",
    "\"E8765D\"\n",
    "  ]\n",
    "\n",
    "# add to map\n",
    "vizLC = {'min':0, 'max':9, 'palette': LCLUCcolors}\n",
    "Map.addLayer(LC2000,vizLC,\"LCLUC 2000 (UMD)\")\n",
    "Map.addLayer(LC2020,vizLC,\"LCLUC 2020 (UMD)\")\n",
    "\n",
    "Map.add_legend(legend_keys=LCLUCclasses, legend_colors=LCLUCcolors, position='bottomleft')\n"
   ]
  },
  {
   "cell_type": "code",
   "execution_count": null,
   "id": "5afde67a",
   "metadata": {},
   "outputs": [],
   "source": [
    "# create images with habitat and non-habitat classes in each year\n",
    "\n",
    "def habitatLC(im):\n",
    "    im = ee.Image(im)\n",
    "    im = (im.where(im.eq(0),0)\n",
    "            .where(im.gte(7).And(im.lte(9)),0)\n",
    "            .where(im.gte(1).And(im.lte(6)),1)\n",
    "           )\n",
    "    return im.updateMask(im.gte(0).And(im.lte(1)))\n",
    "\n",
    "Hab2000 = habitatLC(LC2000)\n",
    "Hab2020 = habitatLC(LC2020)\n",
    "\n",
    "print(Hab2000.getInfo())\n",
    "\n",
    "vizHab = {'min':0, 'max':1, 'palette': ['black','white']}\n",
    "\n",
    "Map.addLayer(Hab2000,vizHab,\"Habitat 2000\")\n",
    "Map.addLayer(Hab2020,vizHab,\"Habitat 2020\")"
   ]
  },
  {
   "cell_type": "code",
   "execution_count": null,
   "id": "f02da269",
   "metadata": {},
   "outputs": [],
   "source": [
    "# create image with habitat gains and losses between start and end years\n",
    "def change(start, end):\n",
    "    im = (start.where(start.eq(0).And(end.eq(0)),0)\n",
    "            .where(start.eq(1).And(end.eq(1)),0)\n",
    "            .where(start.eq(0).And(end.eq(1)),1)\n",
    "            .where(start.eq(1).And(end.eq(0)),-1)\n",
    "           )\n",
    "    return im.updateMask(im.gte(-1).And(im.lte(1)).And(im.neq(0)))\n",
    "\n",
    "HabChange = change(Hab2000,Hab2020)\n",
    "print(HabChange.getInfo())\n",
    "\n",
    "vizCh = {'min':-1, 'max':1, 'palette': ['red','white','green']}\n",
    "Map.addLayer(HabChange,vizCh,'Habitat change')"
   ]
  },
  {
   "cell_type": "code",
   "execution_count": null,
   "id": "49d48695",
   "metadata": {},
   "outputs": [],
   "source": [
    "## Define masks for count operations\n",
    "NonHab2000masked = Hab2000.updateMask(Hab2000.eq(0))\n",
    "HabGain2020masked = HabChange.updateMask(HabChange.eq(1))\n",
    "Habtypes2020 = LC2020.updateMask(Hab2020.eq(1))\n",
    "NewHabtypes2020 = LC2020.updateMask(HabChange.eq(1))\n",
    "#Map.addLayer(NewHabtypes2020,vizLC,\"mask\")"
   ]
  },
  {
   "cell_type": "code",
   "execution_count": null,
   "id": "b0c177f6",
   "metadata": {},
   "outputs": [],
   "source": [
    "## reduce image counts to featurecollection of districts\n",
    "\n",
    "histo=HabGain2020masked.reduceRegions(\n",
    "  reducer= ee.Reducer.count().setOutputs([\"count_gain2020\"]),\n",
    "  collection= Districts, \n",
    "  scale= 30, \n",
    "  tileScale= 1\n",
    ")\n",
    "\n",
    "histo=NonHab2000masked.reduceRegions(\n",
    "  reducer= ee.Reducer.count().setOutputs([\"count_nonhab2000\"]), \n",
    "  collection= histo, \n",
    "  scale= 30, \n",
    "  tileScale= 1\n",
    ")\n",
    "\n",
    "histo=Habtypes2020.reduceRegions(\n",
    "  reducer= ee.Reducer.countDistinctNonNull().setOutputs([\"countD_habtypes2020\"]), \n",
    "  collection= histo, \n",
    "  scale= 30, \n",
    "  tileScale= 1\n",
    ")\n",
    "\n",
    "histo=NewHabtypes2020.reduceRegions(\n",
    "  reducer= ee.Reducer.countDistinctNonNull().setOutputs([\"countD_newhabtypes2020\"]), \n",
    "  collection= histo, \n",
    "  scale= 30, \n",
    "  tileScale= 1\n",
    ")\n",
    "\n",
    "print('histo:', histo.limit(1).getInfo())"
   ]
  },
  {
   "cell_type": "code",
   "execution_count": null,
   "id": "01f076e6",
   "metadata": {},
   "outputs": [],
   "source": [
    "# convert counts to indicators and create new featurecollection\n",
    "\n",
    "def count_to_stats(feat):\n",
    "    feat=ee.Feature(feat)\n",
    "    \n",
    "    HabRestPct = feat.getNumber('count_gain2020').divide(feat.getNumber('count_nonhab2000'))\n",
    "    HabTypesRestPct = feat.getNumber('countD_newhabtypes2020').divide(feat.getNumber('countD_habtypes2020'))\n",
    "    #HabRestArea = feat.getNumber('count_gain2020').multiply(ee.Number(30)).multiply(ee.Number(30)).multiply(ee.Number(0.000001))\n",
    "    HabRestArea = feat.getNumber('count_gain2020').multiply(ee.Number(LCproj)).multiply(ee.Number(LCproj)).multiply(ee.Number(0.000001))\n",
    "\n",
    "    FeatArea = feat.area(0.001).multiply(0.000001)\n",
    "    cityID = Areaofinterest\n",
    "    geo_level = feat.getString(\"shapeID\").split('-').getString(1)\n",
    "    #geo_level = unitofanalysis\n",
    "    #geo_name = feat.getString(\"Sub_City\").cat(ee.String(\"-\")).cat(feat.getString(\"Woreda\"))\n",
    "    #geo_name = feat.getString(\"city_name_viz\").split(' ').join('_')\n",
    "    geo_name = feat.getString(\"shapeName\").split(' ').join('_')\n",
    "    geo_id = ee.String(cityID+\"-\").cat(geo_name)\n",
    "    year = 2020\n",
    "    source = \"GLAD LCLUC\"\n",
    "    \n",
    "    return feat.set({\n",
    "        'SICB-7A-HabAreaRestoredPct2000-2020': HabRestPct, \n",
    "        'TotalareaKM2': FeatArea,\n",
    "        'SICB-7B-HabTypesRestoredPct2000-2020': HabTypesRestPct,\n",
    "        'HabRestAreaKM2-2000-2020': HabRestArea,\n",
    "        'geo_level': geo_level,\n",
    "        'geo_name': geo_name,\n",
    "        'geo_id': geo_id,\n",
    "        'year':year,\n",
    "        'source':source,\n",
    "    })\n",
    "\n",
    "HabGainPcts=histo.map(count_to_stats)\n",
    "\n",
    "print(HabGainPcts.limit(1).getInfo())"
   ]
  },
  {
   "cell_type": "code",
   "execution_count": null,
   "id": "a9317528",
   "metadata": {},
   "outputs": [],
   "source": [
    "## render on map percent tree cover by class from feature collection\n",
    "\n",
    "Tpctfills = ee.Image().paint(**{'featureCollection': HabGainPcts,'color': 'SICB-7B-HabTypesRestoredPct2000-2020'})\n",
    "Tpctfills2 = ee.Image().paint(**{'featureCollection': HabGainPcts,'color': 'SICB-7A-HabAreaRestoredPct2000-2020'})\n",
    "\n",
    "fillspalette = ['red', 'green']\n",
    "Map.addLayer(Districts,{},\"districts\")\n",
    "Map.addLayer(Tpctfills, {'palette': fillspalette,'min':0,'max':1}, '% habitat types restored (2000-2020)', True, 0.65)\n",
    "Map.addLayer(Tpctfills2, {'palette': fillspalette,'min':0,'max':0.10}, '% habitat restored (2000-2020)', True, 0.65)\n",
    "Map"
   ]
  },
  {
   "cell_type": "code",
   "execution_count": null,
   "id": "b8e39e87",
   "metadata": {},
   "outputs": [],
   "source": [
    "# keep only properties desired for the output file. \n",
    "HabGainPcts=HabGainPcts.select([\n",
    "    'SICB-7A-HabAreaRestoredPct2000-2020', \n",
    "    'TotalareaKM2',\n",
    "    'SICB-7B-HabTypesRestoredPct2000-2020', \n",
    "    'HabRestAreaKM2-2000-2020',\n",
    "    'geo_level',\n",
    "    'geo_name',\n",
    "    'geo_id',\n",
    "    'year',\n",
    "    'source'])\n",
    "\n",
    "df = geemap.ee_to_geopandas(HabGainPcts)\n",
    "df = df.sort_values(by=['SICB-7B-HabTypesRestoredPct2000-2020'],axis='index',ascending=False)\n",
    "df"
   ]
  },
  {
   "cell_type": "code",
   "execution_count": null,
   "id": "fb743043",
   "metadata": {},
   "outputs": [],
   "source": [
    "import matplotlib.pyplot as plt\n",
    "plt.close(\"all\")\n",
    "import pandas as pd\n",
    "\n",
    "\n",
    "df.plot.bar(x=\"geo_name\", y=\"SICB-7B-HabTypesRestoredPct2000-2020\",figsize=(16, 6))\n"
   ]
  },
  {
   "cell_type": "code",
   "execution_count": null,
   "id": "4dff215e",
   "metadata": {},
   "outputs": [],
   "source": []
  },
  {
   "cell_type": "markdown",
   "id": "cb3c4508",
   "metadata": {},
   "source": [
    "Download/export options \n",
    "We should probably adjust these to instead publish output files to our AWS bucket. "
   ]
  },
  {
   "cell_type": "code",
   "execution_count": null,
   "id": "4d4d47cb",
   "metadata": {},
   "outputs": [],
   "source": [
    "# Download attribute table as a CSV\n",
    "url = HabGainPcts.getDownloadURL(\n",
    "    filetype=\"csv\",\n",
    "    filename=\"HabGainPcts\",\n",
    ")\n",
    "print(\"CSV\",url)\n",
    "\n",
    "# Download attribute table as a GeoJSON\n",
    "url = HabGainPcts.getDownloadURL(\n",
    "    filetype=\"GEOJSON\",\n",
    "    filename=\"HabGainPcts\",\n",
    ")\n",
    "print(\"GeoJSON\",url)"
   ]
  },
  {
   "cell_type": "code",
   "execution_count": null,
   "id": "c3048601",
   "metadata": {},
   "outputs": [],
   "source": [
    "# Download Land cover rasters\n",
    "url = LC2000.getDownloadURL({\n",
    "    'format':\"GEO_TIFF\",\n",
    "    'name':\"GLADlandcover2000.tif\",\n",
    "    'region':Districts.geometry(),\n",
    "    'filePerBand':True,\n",
    "    'scale':30}\n",
    ")\n",
    "print(\"GEOTIFF 2000\",url)\n",
    "\n",
    "url = LC2020.getDownloadURL({\n",
    "    'format':\"GEO_TIFF\",\n",
    "    'name':\"GLADlandcover2020.tif\",\n",
    "    'region':Districts.geometry(),\n",
    "    'filePerBand':True,\n",
    "    'scale':30}\n",
    ")\n",
    "print(\"GEOTIFF 2020\",url)"
   ]
  },
  {
   "cell_type": "code",
   "execution_count": null,
   "id": "c437bcec",
   "metadata": {},
   "outputs": [],
   "source": [
    "# Alternative download ee.Image for Land cover as GeoTIFF\n",
    "\n",
    "geemap.ee_export_image(\n",
    "    LC2000, filename=\"GLADlandcover2000.tif\", scale=30, region=Districts.geometry(), file_per_band=False\n",
    ")\n",
    "\n",
    "geemap.ee_export_image(\n",
    "    LC2000, filename=\"GLADlandcover2020.tif\", scale=30, region=Districts.geometry(), file_per_band=False\n",
    ")"
   ]
  },
  {
   "cell_type": "code",
   "execution_count": null,
   "id": "451d4d71",
   "metadata": {},
   "outputs": [],
   "source": []
  }
 ],
 "metadata": {
  "kernelspec": {
   "display_name": "Python 3 (ipykernel)",
   "language": "python",
   "name": "python3"
  },
  "language_info": {
   "codemirror_mode": {
    "name": "ipython",
    "version": 3
   },
   "file_extension": ".py",
   "mimetype": "text/x-python",
   "name": "python",
   "nbconvert_exporter": "python",
   "pygments_lexer": "ipython3",
   "version": "3.9.12"
  }
 },
 "nbformat": 4,
 "nbformat_minor": 5
}
