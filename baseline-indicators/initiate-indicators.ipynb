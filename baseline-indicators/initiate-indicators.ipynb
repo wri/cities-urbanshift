{
 "cells": [
  {
   "cell_type": "code",
   "execution_count": 1,
   "id": "89e131ae",
   "metadata": {},
   "outputs": [],
   "source": [
    "import geopandas as gpd\n",
    "import pandas as pd\n",
    "import os\n",
    "import io\n",
    "import requests\n",
    "import boto3"
   ]
  },
  {
   "cell_type": "markdown",
   "id": "587cbdaf-bf09-4c51-ba32-f1c0d57eddff",
   "metadata": {},
   "source": [
    "This script intitate the dataframes that will store the different indicators calauclated for urbanshift cities.\n",
    "- Input: geojson file containing all the cities/sub-cities concerned \n",
    "- Output: csv file containing the list of cities and whre the indicators will be stored\n",
    "\n",
    "Run the script only when you want to initiate all the indicators"
   ]
  },
  {
   "cell_type": "code",
   "execution_count": 21,
   "id": "9df28988",
   "metadata": {},
   "outputs": [],
   "source": [
    "# connect to s3\n",
    "aws_credentials = pd.read_csv('C:\\\\Users\\\\Saif.Shabou\\\\OneDrive - World Resources Institute\\\\Documents\\\\aws\\\\credentials.csv')\n",
    "aws_key = aws_credentials.iloc[0]['Access key ID']\n",
    "aws_secret = aws_credentials.iloc[0]['Secret access key']\n",
    "\n",
    "s3 = boto3.resource(\n",
    "    service_name='s3',\n",
    "    aws_access_key_id=aws_key,\n",
    "    aws_secret_access_key=aws_secret\n",
    ")"
   ]
  },
  {
   "cell_type": "markdown",
   "id": "1ff8121a-8328-4f3b-96b9-e9ab2d12953b",
   "metadata": {},
   "source": [
    "# Load all features"
   ]
  },
  {
   "cell_type": "code",
   "execution_count": 22,
   "id": "7a821a1d-de5f-46f5-8c58-91fce148bb10",
   "metadata": {},
   "outputs": [
    {
     "data": {
      "text/html": [
       "<div>\n",
       "<style scoped>\n",
       "    .dataframe tbody tr th:only-of-type {\n",
       "        vertical-align: middle;\n",
       "    }\n",
       "\n",
       "    .dataframe tbody tr th {\n",
       "        vertical-align: top;\n",
       "    }\n",
       "\n",
       "    .dataframe thead th {\n",
       "        text-align: right;\n",
       "    }\n",
       "</style>\n",
       "<table border=\"1\" class=\"dataframe\">\n",
       "  <thead>\n",
       "    <tr style=\"text-align: right;\">\n",
       "      <th></th>\n",
       "      <th>geo_id</th>\n",
       "      <th>geo_level</th>\n",
       "      <th>geo_name</th>\n",
       "      <th>geo_parent_name</th>\n",
       "      <th>creation_date</th>\n",
       "      <th>geometry</th>\n",
       "    </tr>\n",
       "  </thead>\n",
       "  <tbody>\n",
       "    <tr>\n",
       "      <th>0</th>\n",
       "      <td>ARG-Buenos_Aires_ADM-1_1</td>\n",
       "      <td>ADM-1</td>\n",
       "      <td>ARG-Buenos_Aires</td>\n",
       "      <td>ARG-Buenos_Aires</td>\n",
       "      <td>2022-06-23</td>\n",
       "      <td>MULTIPOLYGON (((-58.36618 -34.59744, -58.36609...</td>\n",
       "    </tr>\n",
       "    <tr>\n",
       "      <th>1</th>\n",
       "      <td>ARG-Buenos_Aires_ADM-2_1</td>\n",
       "      <td>ADM-2</td>\n",
       "      <td>José C. Paz</td>\n",
       "      <td>ARG-Buenos_Aires</td>\n",
       "      <td>2022-06-23</td>\n",
       "      <td>MULTIPOLYGON (((-58.78474 -34.47614, -58.79169...</td>\n",
       "    </tr>\n",
       "    <tr>\n",
       "      <th>2</th>\n",
       "      <td>ARG-Buenos_Aires_ADM-2_2</td>\n",
       "      <td>ADM-2</td>\n",
       "      <td>La Matanza</td>\n",
       "      <td>ARG-Buenos_Aires</td>\n",
       "      <td>2022-06-23</td>\n",
       "      <td>MULTIPOLYGON (((-58.52920 -34.65475, -58.53370...</td>\n",
       "    </tr>\n",
       "    <tr>\n",
       "      <th>3</th>\n",
       "      <td>ARG-Buenos_Aires_ADM-2_3</td>\n",
       "      <td>ADM-2</td>\n",
       "      <td>Berazategui</td>\n",
       "      <td>ARG-Buenos_Aires</td>\n",
       "      <td>2022-06-23</td>\n",
       "      <td>MULTIPOLYGON (((-58.01673 -34.78019, -58.01683...</td>\n",
       "    </tr>\n",
       "    <tr>\n",
       "      <th>4</th>\n",
       "      <td>ARG-Buenos_Aires_ADM-2_4</td>\n",
       "      <td>ADM-2</td>\n",
       "      <td>Vicente López</td>\n",
       "      <td>ARG-Buenos_Aires</td>\n",
       "      <td>2022-06-23</td>\n",
       "      <td>MULTIPOLYGON (((-58.48032 -34.48861, -58.48036...</td>\n",
       "    </tr>\n",
       "  </tbody>\n",
       "</table>\n",
       "</div>"
      ],
      "text/plain": [
       "                     geo_id geo_level          geo_name   geo_parent_name  \\\n",
       "0  ARG-Buenos_Aires_ADM-1_1     ADM-1  ARG-Buenos_Aires  ARG-Buenos_Aires   \n",
       "1  ARG-Buenos_Aires_ADM-2_1     ADM-2       José C. Paz  ARG-Buenos_Aires   \n",
       "2  ARG-Buenos_Aires_ADM-2_2     ADM-2        La Matanza  ARG-Buenos_Aires   \n",
       "3  ARG-Buenos_Aires_ADM-2_3     ADM-2       Berazategui  ARG-Buenos_Aires   \n",
       "4  ARG-Buenos_Aires_ADM-2_4     ADM-2     Vicente López  ARG-Buenos_Aires   \n",
       "\n",
       "  creation_date                                           geometry  \n",
       "0    2022-06-23  MULTIPOLYGON (((-58.36618 -34.59744, -58.36609...  \n",
       "1    2022-06-23  MULTIPOLYGON (((-58.78474 -34.47614, -58.79169...  \n",
       "2    2022-06-23  MULTIPOLYGON (((-58.52920 -34.65475, -58.53370...  \n",
       "3    2022-06-23  MULTIPOLYGON (((-58.01673 -34.78019, -58.01683...  \n",
       "4    2022-06-23  MULTIPOLYGON (((-58.48032 -34.48861, -58.48036...  "
      ]
     },
     "execution_count": 22,
     "metadata": {},
     "output_type": "execute_result"
    }
   ],
   "source": [
    "# get all urbanshift cities boundaries at different levels\n",
    "boundaries_cities_urbanshift = gpd.read_file('https://cities-urbanshift.s3.eu-west-3.amazonaws.com/data/boundaries/v_0/boundary-cities-urbanshift.geojson')\n",
    "boundaries_cities_urbanshift.head()"
   ]
  },
  {
   "cell_type": "markdown",
   "id": "37ec904f-8db2-4536-8863-5f43994aca73",
   "metadata": {},
   "source": [
    "# Create empty indicator dataframe"
   ]
  },
  {
   "cell_type": "code",
   "execution_count": 23,
   "id": "133a6fbc-66ce-4747-b541-324dda73dbc5",
   "metadata": {},
   "outputs": [
    {
     "data": {
      "text/html": [
       "<div>\n",
       "<style scoped>\n",
       "    .dataframe tbody tr th:only-of-type {\n",
       "        vertical-align: middle;\n",
       "    }\n",
       "\n",
       "    .dataframe tbody tr th {\n",
       "        vertical-align: top;\n",
       "    }\n",
       "\n",
       "    .dataframe thead th {\n",
       "        text-align: right;\n",
       "    }\n",
       "</style>\n",
       "<table border=\"1\" class=\"dataframe\">\n",
       "  <thead>\n",
       "    <tr style=\"text-align: right;\">\n",
       "      <th></th>\n",
       "      <th>geo_id</th>\n",
       "      <th>geo_level</th>\n",
       "      <th>geo_name</th>\n",
       "      <th>geo_parent_name</th>\n",
       "    </tr>\n",
       "  </thead>\n",
       "  <tbody>\n",
       "    <tr>\n",
       "      <th>0</th>\n",
       "      <td>ARG-Buenos_Aires_ADM-1_1</td>\n",
       "      <td>ADM-1</td>\n",
       "      <td>ARG-Buenos_Aires</td>\n",
       "      <td>ARG-Buenos_Aires</td>\n",
       "    </tr>\n",
       "    <tr>\n",
       "      <th>1</th>\n",
       "      <td>ARG-Buenos_Aires_ADM-2_1</td>\n",
       "      <td>ADM-2</td>\n",
       "      <td>José C. Paz</td>\n",
       "      <td>ARG-Buenos_Aires</td>\n",
       "    </tr>\n",
       "    <tr>\n",
       "      <th>2</th>\n",
       "      <td>ARG-Buenos_Aires_ADM-2_2</td>\n",
       "      <td>ADM-2</td>\n",
       "      <td>La Matanza</td>\n",
       "      <td>ARG-Buenos_Aires</td>\n",
       "    </tr>\n",
       "    <tr>\n",
       "      <th>3</th>\n",
       "      <td>ARG-Buenos_Aires_ADM-2_3</td>\n",
       "      <td>ADM-2</td>\n",
       "      <td>Berazategui</td>\n",
       "      <td>ARG-Buenos_Aires</td>\n",
       "    </tr>\n",
       "    <tr>\n",
       "      <th>4</th>\n",
       "      <td>ARG-Buenos_Aires_ADM-2_4</td>\n",
       "      <td>ADM-2</td>\n",
       "      <td>Vicente López</td>\n",
       "      <td>ARG-Buenos_Aires</td>\n",
       "    </tr>\n",
       "  </tbody>\n",
       "</table>\n",
       "</div>"
      ],
      "text/plain": [
       "                     geo_id geo_level          geo_name   geo_parent_name\n",
       "0  ARG-Buenos_Aires_ADM-1_1     ADM-1  ARG-Buenos_Aires  ARG-Buenos_Aires\n",
       "1  ARG-Buenos_Aires_ADM-2_1     ADM-2       José C. Paz  ARG-Buenos_Aires\n",
       "2  ARG-Buenos_Aires_ADM-2_2     ADM-2        La Matanza  ARG-Buenos_Aires\n",
       "3  ARG-Buenos_Aires_ADM-2_3     ADM-2       Berazategui  ARG-Buenos_Aires\n",
       "4  ARG-Buenos_Aires_ADM-2_4     ADM-2     Vicente López  ARG-Buenos_Aires"
      ]
     },
     "execution_count": 23,
     "metadata": {},
     "output_type": "execute_result"
    }
   ],
   "source": [
    "# create the table\n",
    "cities_indicators_df = pd.DataFrame(boundaries_cities_urbanshift.drop(columns=['geometry','creation_date']))\n",
    "cities_indicators_df.head()"
   ]
  },
  {
   "cell_type": "markdown",
   "id": "87242f6e-ef84-4fd7-ab0f-c61a713425ca",
   "metadata": {},
   "source": [
    "# Upload in aws s3"
   ]
  },
  {
   "cell_type": "code",
   "execution_count": 27,
   "id": "56a967e7-beb8-483b-a8db-65a66a3decae",
   "metadata": {},
   "outputs": [],
   "source": [
    "# upload to aws\n",
    "key_data = 'indicators/cities_indicators.csv'\n",
    "bucket_name = 'cities-urbanshift' \n",
    "cities_indicators_df.to_csv(\n",
    "    f\"s3://{bucket_name}/{key_data}\",\n",
    "    index=False,\n",
    "    storage_options={\n",
    "        \"key\": aws_key,\n",
    "        \"secret\": aws_secret\n",
    "    },\n",
    ")"
   ]
  },
  {
   "cell_type": "code",
   "execution_count": 28,
   "id": "0ed92144-786f-4e9c-a846-4e400f8c963a",
   "metadata": {},
   "outputs": [],
   "source": [
    "# make it public\n",
    "object_acl = s3.ObjectAcl(bucket_name,key_data)\n",
    "response = object_acl.put(ACL='public-read')"
   ]
  },
  {
   "cell_type": "code",
   "execution_count": null,
   "id": "84a0d6c1-8ecc-4e34-ad32-b9f694c10c43",
   "metadata": {},
   "outputs": [],
   "source": []
  }
 ],
 "metadata": {
  "kernelspec": {
   "display_name": "Python 3 (ipykernel)",
   "language": "python",
   "name": "python3"
  },
  "language_info": {
   "codemirror_mode": {
    "name": "ipython",
    "version": 3
   },
   "file_extension": ".py",
   "mimetype": "text/x-python",
   "name": "python",
   "nbconvert_exporter": "python",
   "pygments_lexer": "ipython3",
   "version": "3.10.5"
  }
 },
 "nbformat": 4,
 "nbformat_minor": 5
}
