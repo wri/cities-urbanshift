{
 "cells": [
  {
   "cell_type": "code",
   "execution_count": 8,
   "id": "f5d75c5e-c723-47b7-9c04-96144a52d96b",
   "metadata": {},
   "outputs": [],
   "source": [
    "import os\n",
    "import pandas as pd\n",
    "import boto3"
   ]
  },
  {
   "cell_type": "code",
   "execution_count": 9,
   "id": "c262e06e-de29-4f0f-a033-27dcc3a49eb1",
   "metadata": {},
   "outputs": [
    {
     "name": "stdout",
     "output_type": "stream",
     "text": [
      "Empty DataFrame\n",
      "Columns: [theme, indicator_label, indicator_code, indicator_name, indicator_definition, data_sources, importance, methods]\n",
      "Index: []\n"
     ]
    }
   ],
   "source": [
    "# create an Empty pandas DataFrame with column names\n",
    "indicators_definitions = pd.DataFrame(columns = ['theme', 'indicator_label', 'indicator_code','indicator_name',\n",
    "                                                 'indicator_definition','data_sources','importance','methods'])\n",
    "print(indicators_definitions)"
   ]
  },
  {
   "cell_type": "markdown",
   "id": "69330815-5ec1-4245-9402-1a27b1c047e5",
   "metadata": {},
   "source": [
    "# Fill SICB-11 Percent of Tree cover"
   ]
  },
  {
   "cell_type": "code",
   "execution_count": 10,
   "id": "594ee764-4977-4649-864b-6b44f8fb5a9b",
   "metadata": {},
   "outputs": [
    {
     "name": "stderr",
     "output_type": "stream",
     "text": [
      "C:\\Users\\Saif.Shabou\\AppData\\Local\\Temp\\ipykernel_596\\2966266398.py:2: FutureWarning: The frame.append method is deprecated and will be removed from pandas in a future version. Use pandas.concat instead.\n",
      "  indicators_definitions = indicators_definitions.append({'theme' : 'Biodiversity',\n"
     ]
    },
    {
     "data": {
      "text/html": [
       "<div>\n",
       "<style scoped>\n",
       "    .dataframe tbody tr th:only-of-type {\n",
       "        vertical-align: middle;\n",
       "    }\n",
       "\n",
       "    .dataframe tbody tr th {\n",
       "        vertical-align: top;\n",
       "    }\n",
       "\n",
       "    .dataframe thead th {\n",
       "        text-align: right;\n",
       "    }\n",
       "</style>\n",
       "<table border=\"1\" class=\"dataframe\">\n",
       "  <thead>\n",
       "    <tr style=\"text-align: right;\">\n",
       "      <th></th>\n",
       "      <th>theme</th>\n",
       "      <th>indicator_label</th>\n",
       "      <th>indicator_code</th>\n",
       "      <th>indicator_name</th>\n",
       "      <th>indicator_definition</th>\n",
       "      <th>data_sources</th>\n",
       "      <th>importance</th>\n",
       "      <th>methods</th>\n",
       "    </tr>\n",
       "  </thead>\n",
       "  <tbody>\n",
       "    <tr>\n",
       "      <th>0</th>\n",
       "      <td>Biodiversity</td>\n",
       "      <td>Percent of Tree cover</td>\n",
       "      <td>BIO_11</td>\n",
       "      <td>SICB_11_percent_of_tree_cover</td>\n",
       "      <td>This indicator is computed as the average perc...</td>\n",
       "      <td>Tree Mosaic Land</td>\n",
       "      <td></td>\n",
       "      <td></td>\n",
       "    </tr>\n",
       "  </tbody>\n",
       "</table>\n",
       "</div>"
      ],
      "text/plain": [
       "          theme        indicator_label indicator_code  \\\n",
       "0  Biodiversity  Percent of Tree cover         BIO_11   \n",
       "\n",
       "                  indicator_name  \\\n",
       "0  SICB_11_percent_of_tree_cover   \n",
       "\n",
       "                                indicator_definition      data_sources  \\\n",
       "0  This indicator is computed as the average perc...  Tree Mosaic Land   \n",
       "\n",
       "  importance methods  \n",
       "0                     "
      ]
     },
     "execution_count": 10,
     "metadata": {},
     "output_type": "execute_result"
    }
   ],
   "source": [
    "# Percent of Tree cover\n",
    "indicators_definitions = indicators_definitions.append({'theme' : 'Biodiversity', \n",
    "                                                        'indicator_label' : 'Percent of Tree cover', \n",
    "                                                        'indicator_code' : 'BIO_11',\n",
    "                                                        'indicator_name' : 'SICB_11_percent_of_tree_cover',\n",
    "                                                       'indicator_definition' : 'This indicator is computed as the average percent of area with tree cover within the administrative boundaries of the city.',\n",
    "                                                       'data_sources' : 'Tree Mosaic Land',\n",
    "                                                       'importance' : ' ',\n",
    "                                                       'methods' : ' '}, \n",
    "                                                       ignore_index = True)\n",
    "indicators_definitions"
   ]
  },
  {
   "cell_type": "markdown",
   "id": "09de12c9-6a96-4a34-8872-6c3549a3d0ed",
   "metadata": {},
   "source": [
    "# SICB-1 Percent of Natural areas"
   ]
  },
  {
   "cell_type": "code",
   "execution_count": 11,
   "id": "07465ce6-f2c4-4d3b-af4f-b6b5c8d827b8",
   "metadata": {},
   "outputs": [
    {
     "name": "stderr",
     "output_type": "stream",
     "text": [
      "C:\\Users\\Saif.Shabou\\AppData\\Local\\Temp\\ipykernel_596\\4157585313.py:2: FutureWarning: The frame.append method is deprecated and will be removed from pandas in a future version. Use pandas.concat instead.\n",
      "  indicators_definitions = indicators_definitions.append({'theme' : 'Biodiversity',\n"
     ]
    },
    {
     "data": {
      "text/html": [
       "<div>\n",
       "<style scoped>\n",
       "    .dataframe tbody tr th:only-of-type {\n",
       "        vertical-align: middle;\n",
       "    }\n",
       "\n",
       "    .dataframe tbody tr th {\n",
       "        vertical-align: top;\n",
       "    }\n",
       "\n",
       "    .dataframe thead th {\n",
       "        text-align: right;\n",
       "    }\n",
       "</style>\n",
       "<table border=\"1\" class=\"dataframe\">\n",
       "  <thead>\n",
       "    <tr style=\"text-align: right;\">\n",
       "      <th></th>\n",
       "      <th>theme</th>\n",
       "      <th>indicator_label</th>\n",
       "      <th>indicator_code</th>\n",
       "      <th>indicator_name</th>\n",
       "      <th>indicator_definition</th>\n",
       "      <th>data_sources</th>\n",
       "      <th>importance</th>\n",
       "      <th>methods</th>\n",
       "    </tr>\n",
       "  </thead>\n",
       "  <tbody>\n",
       "    <tr>\n",
       "      <th>0</th>\n",
       "      <td>Biodiversity</td>\n",
       "      <td>Percent of Tree cover</td>\n",
       "      <td>BIO_11</td>\n",
       "      <td>SICB_11_percent_of_tree_cover</td>\n",
       "      <td>This indicator is computed as the average perc...</td>\n",
       "      <td>Tree Mosaic Land</td>\n",
       "      <td></td>\n",
       "      <td></td>\n",
       "    </tr>\n",
       "    <tr>\n",
       "      <th>1</th>\n",
       "      <td>Biodiversity</td>\n",
       "      <td>Percent of Natural Areas</td>\n",
       "      <td>BIO_1</td>\n",
       "      <td>SICB_1_percent_of_natural_areas</td>\n",
       "      <td>This indicator is computed as the average perc...</td>\n",
       "      <td>ESA World Cover</td>\n",
       "      <td></td>\n",
       "      <td></td>\n",
       "    </tr>\n",
       "  </tbody>\n",
       "</table>\n",
       "</div>"
      ],
      "text/plain": [
       "          theme           indicator_label indicator_code  \\\n",
       "0  Biodiversity     Percent of Tree cover         BIO_11   \n",
       "1  Biodiversity  Percent of Natural Areas          BIO_1   \n",
       "\n",
       "                    indicator_name  \\\n",
       "0    SICB_11_percent_of_tree_cover   \n",
       "1  SICB_1_percent_of_natural_areas   \n",
       "\n",
       "                                indicator_definition      data_sources  \\\n",
       "0  This indicator is computed as the average perc...  Tree Mosaic Land   \n",
       "1  This indicator is computed as the average perc...   ESA World Cover   \n",
       "\n",
       "  importance methods  \n",
       "0                     \n",
       "1                     "
      ]
     },
     "execution_count": 11,
     "metadata": {},
     "output_type": "execute_result"
    }
   ],
   "source": [
    "# Percent of Tree cover\n",
    "indicators_definitions = indicators_definitions.append({'theme' : 'Biodiversity', \n",
    "                                                        'indicator_label' : 'Percent of Natural Areas', \n",
    "                                                        'indicator_code' : 'BIO_1',\n",
    "                                                        'indicator_name' : 'SICB_1_percent_of_natural_areas',\n",
    "                                                       'indicator_definition' : 'This indicator is computed as the average percent of natural areas within the administrative boundaries of the city.',\n",
    "                                                       'data_sources' : 'ESA World Cover',\n",
    "                                                       'importance' : ' ',\n",
    "                                                       'methods' : ' '}, \n",
    "                                                       ignore_index = True)\n",
    "indicators_definitions"
   ]
  },
  {
   "cell_type": "markdown",
   "id": "aec4f72a-6f96-4778-b36b-842e7da0a038",
   "metadata": {},
   "source": [
    "# SICB 2 - Habitat connectivity"
   ]
  },
  {
   "cell_type": "code",
   "execution_count": 12,
   "id": "e2acb48b-18ac-4cb6-8b20-5c4863ad916a",
   "metadata": {},
   "outputs": [
    {
     "name": "stderr",
     "output_type": "stream",
     "text": [
      "C:\\Users\\Saif.Shabou\\AppData\\Local\\Temp\\ipykernel_596\\3217525101.py:1: FutureWarning: The frame.append method is deprecated and will be removed from pandas in a future version. Use pandas.concat instead.\n",
      "  indicators_definitions = indicators_definitions.append({'theme' : 'Biodiversity',\n"
     ]
    },
    {
     "data": {
      "text/html": [
       "<div>\n",
       "<style scoped>\n",
       "    .dataframe tbody tr th:only-of-type {\n",
       "        vertical-align: middle;\n",
       "    }\n",
       "\n",
       "    .dataframe tbody tr th {\n",
       "        vertical-align: top;\n",
       "    }\n",
       "\n",
       "    .dataframe thead th {\n",
       "        text-align: right;\n",
       "    }\n",
       "</style>\n",
       "<table border=\"1\" class=\"dataframe\">\n",
       "  <thead>\n",
       "    <tr style=\"text-align: right;\">\n",
       "      <th></th>\n",
       "      <th>theme</th>\n",
       "      <th>indicator_label</th>\n",
       "      <th>indicator_code</th>\n",
       "      <th>indicator_name</th>\n",
       "      <th>indicator_definition</th>\n",
       "      <th>data_sources</th>\n",
       "      <th>importance</th>\n",
       "      <th>methods</th>\n",
       "    </tr>\n",
       "  </thead>\n",
       "  <tbody>\n",
       "    <tr>\n",
       "      <th>0</th>\n",
       "      <td>Biodiversity</td>\n",
       "      <td>Percent of Tree cover</td>\n",
       "      <td>BIO_11</td>\n",
       "      <td>SICB_11_percent_of_tree_cover</td>\n",
       "      <td>This indicator is computed as the average perc...</td>\n",
       "      <td>Tree Mosaic Land</td>\n",
       "      <td></td>\n",
       "      <td></td>\n",
       "    </tr>\n",
       "    <tr>\n",
       "      <th>1</th>\n",
       "      <td>Biodiversity</td>\n",
       "      <td>Percent of Natural Areas</td>\n",
       "      <td>BIO_1</td>\n",
       "      <td>SICB_1_percent_of_natural_areas</td>\n",
       "      <td>This indicator is computed as the average perc...</td>\n",
       "      <td>ESA World Cover</td>\n",
       "      <td></td>\n",
       "      <td></td>\n",
       "    </tr>\n",
       "    <tr>\n",
       "      <th>2</th>\n",
       "      <td>Biodiversity</td>\n",
       "      <td>Habitat connectivity</td>\n",
       "      <td>BIO_2</td>\n",
       "      <td>SICB_2_habitat_connectivity</td>\n",
       "      <td></td>\n",
       "      <td></td>\n",
       "      <td></td>\n",
       "      <td></td>\n",
       "    </tr>\n",
       "  </tbody>\n",
       "</table>\n",
       "</div>"
      ],
      "text/plain": [
       "          theme           indicator_label indicator_code  \\\n",
       "0  Biodiversity     Percent of Tree cover         BIO_11   \n",
       "1  Biodiversity  Percent of Natural Areas          BIO_1   \n",
       "2  Biodiversity      Habitat connectivity          BIO_2   \n",
       "\n",
       "                    indicator_name  \\\n",
       "0    SICB_11_percent_of_tree_cover   \n",
       "1  SICB_1_percent_of_natural_areas   \n",
       "2      SICB_2_habitat_connectivity   \n",
       "\n",
       "                                indicator_definition      data_sources  \\\n",
       "0  This indicator is computed as the average perc...  Tree Mosaic Land   \n",
       "1  This indicator is computed as the average perc...   ESA World Cover   \n",
       "2                                                                        \n",
       "\n",
       "  importance methods  \n",
       "0                     \n",
       "1                     \n",
       "2                     "
      ]
     },
     "execution_count": 12,
     "metadata": {},
     "output_type": "execute_result"
    }
   ],
   "source": [
    "indicators_definitions = indicators_definitions.append({'theme' : 'Biodiversity', \n",
    "                                                        'indicator_label' : 'Habitat connectivity', \n",
    "                                                        'indicator_code' : 'BIO_2',\n",
    "                                                        'indicator_name' : 'SICB_2_habitat_connectivity',\n",
    "                                                       'indicator_definition' : '',\n",
    "                                                       'data_sources' : '',\n",
    "                                                       'importance' : ' ',\n",
    "                                                       'methods' : ' '}, \n",
    "                                                       ignore_index = True)\n",
    "indicators_definitions"
   ]
  },
  {
   "cell_type": "markdown",
   "id": "49efb428-9437-4f27-b8ed-a9140ae9f700",
   "metadata": {},
   "source": [
    "# Upload to aws s3"
   ]
  },
  {
   "cell_type": "code",
   "execution_count": 13,
   "id": "39f9b147-29a8-4ac2-bdff-fb838df6b005",
   "metadata": {},
   "outputs": [],
   "source": [
    "# connect to s3\n",
    "aws_credentials = pd.read_csv('C:\\\\Users\\\\Saif.Shabou\\\\OneDrive - World Resources Institute\\\\Documents\\\\aws\\\\credentials.csv')\n",
    "aws_key = aws_credentials.iloc[0]['Access key ID']\n",
    "aws_secret = aws_credentials.iloc[0]['Secret access key']\n",
    "\n",
    "s3 = boto3.resource(\n",
    "    service_name='s3',\n",
    "    aws_access_key_id=aws_key,\n",
    "    aws_secret_access_key=aws_secret\n",
    ")"
   ]
  },
  {
   "cell_type": "code",
   "execution_count": 14,
   "id": "0818d0aa-2ef3-47b8-a31c-f687179d8d3b",
   "metadata": {},
   "outputs": [],
   "source": [
    "# upload to aws\n",
    "key_data = 'indicators/indicators_definition.csv'\n",
    "bucket_name = 'cities-urbanshift' \n",
    "indicators_definitions.to_csv(\n",
    "    f\"s3://{bucket_name}/{key_data}\",\n",
    "    index=False,\n",
    "    storage_options={\n",
    "        \"key\": aws_key,\n",
    "        \"secret\": aws_secret\n",
    "    },\n",
    ")"
   ]
  },
  {
   "cell_type": "code",
   "execution_count": 15,
   "id": "923bb4ff-e24e-4f20-a7dd-37035a1a8cdc",
   "metadata": {},
   "outputs": [],
   "source": [
    "# make it public\n",
    "object_acl = s3.ObjectAcl(bucket_name,key_data)\n",
    "response = object_acl.put(ACL='public-read')"
   ]
  },
  {
   "cell_type": "code",
   "execution_count": null,
   "id": "74fa5e58-a1a4-455f-b9ef-22548ea66ec0",
   "metadata": {},
   "outputs": [],
   "source": []
  }
 ],
 "metadata": {
  "kernelspec": {
   "display_name": "Python 3 (ipykernel)",
   "language": "python",
   "name": "python3"
  },
  "language_info": {
   "codemirror_mode": {
    "name": "ipython",
    "version": 3
   },
   "file_extension": ".py",
   "mimetype": "text/x-python",
   "name": "python",
   "nbconvert_exporter": "python",
   "pygments_lexer": "ipython3",
   "version": "3.10.5"
  }
 },
 "nbformat": 4,
 "nbformat_minor": 5
}
