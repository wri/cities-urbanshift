{
 "cells": [
  {
   "cell_type": "code",
   "execution_count": 1,
   "id": "96c66b76",
   "metadata": {},
   "outputs": [],
   "source": [
    "import geemap\n",
    "import ee \n",
    "import os"
   ]
  },
  {
   "cell_type": "markdown",
   "id": "a3c9a0b7",
   "metadata": {},
   "source": [
    "# Set parameters"
   ]
  },
  {
   "cell_type": "code",
   "execution_count": 2,
   "id": "b3b617e4",
   "metadata": {},
   "outputs": [],
   "source": [
    "# years between 2000 and 2018 inclusive available for both layers\n",
    "startyear = 2000 \n",
    "# years between 2000 and 2018 inclusive available for both layers \n",
    "endyear = 2018 \n",
    "# ISO 3-letter country code\n",
    "countryCode = 'MEX'\n",
    "# Admin Level 1 name - required for geoB state calculations only, and chart titles\n",
    "AOI = 'Yucatán'"
   ]
  },
  {
   "cell_type": "markdown",
   "id": "8fe41433",
   "metadata": {},
   "source": [
    "# Get Map"
   ]
  },
  {
   "cell_type": "code",
   "execution_count": 3,
   "id": "30db0808",
   "metadata": {},
   "outputs": [
    {
     "data": {
      "application/vnd.jupyter.widget-view+json": {
       "model_id": "65e9b089ee1e4053ad0ab64e051ab872",
       "version_major": 2,
       "version_minor": 0
      },
      "text/plain": [
       "Map(center=[40, -100], controls=(WidgetControl(options=['position', 'transparent_bg'], widget=HBox(children=(T…"
      ]
     },
     "metadata": {},
     "output_type": "display_data"
    }
   ],
   "source": [
    "Map = geemap.Map()\n",
    "Map"
   ]
  },
  {
   "cell_type": "markdown",
   "id": "83b30b80",
   "metadata": {},
   "source": [
    "# Get population data"
   ]
  },
  {
   "cell_type": "code",
   "execution_count": 4,
   "id": "e180692c",
   "metadata": {},
   "outputs": [],
   "source": [
    "pop = ee.ImageCollection(\"WorldPop/GP/100m/pop\")\n",
    "\n",
    "popviz = {\n",
    "  'bands': ['population'],\n",
    "  'min': 0.0,\n",
    "  'max': 100.0,\n",
    "  'palette': ['24126c', '1fff4f', 'd4ff50']\n",
    "}\n",
    "\n",
    "Map.addLayer(pop, popviz, 'Population')"
   ]
  },
  {
   "cell_type": "markdown",
   "id": "b03974ef",
   "metadata": {},
   "source": [
    "# Get impervious area"
   ]
  },
  {
   "cell_type": "code",
   "execution_count": 5,
   "id": "9aad6fa0",
   "metadata": {},
   "outputs": [],
   "source": [
    "imperv = ee.Image(\"Tsinghua/FROM-GLC/GAIA/v10\")\n",
    "\n",
    "startyearindex = 2019 - startyear\n",
    "endyearindex = 2019 - endyear\n",
    "\n",
    "\n",
    "impervviz = {\n",
    "  'min': 0.0,\n",
    "  'max': 34.0,\n",
    "  'palette': [\n",
    "    \"014352\",\"1A492C\",\"071EC4\",\"B5CA36\",\"729EAC\",\"8EA5DE\",\n",
    "    \"818991\",\"62A3C3\",\"CCF4FE\",\"74F0B9\",\"32BC55\",\"C72144\",\n",
    "    \"56613B\",\"C14683\",\"C31C25\",\"5F6253\",\"11BF85\",\"A61B26\",\n",
    "    \"99FBC5\",\"188AAA\",\"C2D7F1\",\"B7D9D8\",\"856F96\",\"109C6B\",\n",
    "    \"2DE3F4\",\"9A777D\",\"151796\",\"C033D8\",\"510037\",\"640C21\",\n",
    "    \"31A191\",\"223AB0\",\"B692AC\",\"2DE3F4\",\n",
    "  ]\n",
    "}\n",
    "\n",
    "Map.addLayer(imperv, impervviz, 'Impervious change year')\n"
   ]
  },
  {
   "cell_type": "code",
   "execution_count": 6,
   "id": "b40d0b2a",
   "metadata": {
    "scrolled": true
   },
   "outputs": [],
   "source": [
    "# Calculate and display start and end year impervious maps\n",
    "\n",
    "impervStart = imperv.updateMask(imperv.gte(startyearindex)).multiply(ee.Image.pixelArea().reproject('EPSG:4326').multiply(0.000001)).rename('ImpervStart')\n",
    "impervEnd = imperv.updateMask(imperv.gte(endyearindex)).multiply(ee.Image.pixelArea().reproject('EPSG:4326').multiply(0.000001)).rename('ImpervEnd')\n",
    "\n",
    "# Add layers\n",
    "Map.addLayer(impervStart, impervviz, \"Impervious Area (km2) in \"+str(startyear)+\"\",False)\n",
    "Map.addLayer(impervEnd, impervviz, \"Impervious Area (km2) in \"+str(endyear)+\"\",False)"
   ]
  },
  {
   "cell_type": "markdown",
   "id": "7085e222",
   "metadata": {},
   "source": [
    "# center viz"
   ]
  },
  {
   "cell_type": "code",
   "execution_count": 7,
   "id": "2d45c8aa",
   "metadata": {},
   "outputs": [],
   "source": [
    "# get geoboundaries dataset\n",
    "geoBadm2 = ee.FeatureCollection('projects/wri-datalab/geoBoundaries/geoBoundariesCGAZ_ADM2')\n",
    "\n",
    "munis = geoBadm2.filter(ee.Filter.eq('ADM1_sha_1', AOI))\n",
    "muniName = 'shapeName'\n",
    "\n",
    "Map.centerObject(munis,9)"
   ]
  },
  {
   "cell_type": "markdown",
   "id": "0361dfd8",
   "metadata": {},
   "source": [
    "# filter pop"
   ]
  },
  {
   "cell_type": "code",
   "execution_count": 8,
   "id": "e3e5cae0",
   "metadata": {},
   "outputs": [],
   "source": [
    "# pop start year\n",
    "popStart = pop.filter(ee.Filter.bounds(munis)).filterMetadata('year', 'equals', startyear).filterMetadata('country', 'equals', countryCode)\n",
    "\n",
    "#print(popStart)\n",
    "Map.addLayer(popStart, popviz, 'Population '+str(startyear)+'',False,0.5)\n",
    "mergedpopStart = popStart.toBands().rename('PopStart')"
   ]
  },
  {
   "cell_type": "code",
   "execution_count": 9,
   "id": "73f373f7",
   "metadata": {},
   "outputs": [],
   "source": [
    "# pop end year\n",
    "popEnd = pop.filter(ee.Filter.bounds(munis)).filterMetadata('year', 'equals', endyear).filterMetadata('country', 'equals', countryCode)\n",
    "\n",
    "#print(popEnd)\n",
    "Map.addLayer(popEnd, popviz, 'Population '+str(endyear)+'',False,0.5)\n",
    "mergedpopEnd = popEnd.toBands().rename('PopEnd')"
   ]
  },
  {
   "cell_type": "code",
   "execution_count": 10,
   "id": "4a45ed9f",
   "metadata": {},
   "outputs": [],
   "source": [
    " # Combine 2 pop and 2 imperv datasets into one image with 4 bands\n",
    "stackedImage = mergedpopStart.addBands(mergedpopEnd).addBands(impervStart).addBands(impervEnd)"
   ]
  },
  {
   "cell_type": "code",
   "execution_count": 11,
   "id": "234e6777",
   "metadata": {},
   "outputs": [],
   "source": [
    "reduced = stackedImage.reduceRegions(**{\n",
    "    'collection': munis,\n",
    "    'reducer': ee.Reducer.sum()\n",
    "})"
   ]
  },
  {
   "cell_type": "markdown",
   "id": "e4ff014e",
   "metadata": {},
   "source": [
    "# Export results"
   ]
  },
  {
   "cell_type": "code",
   "execution_count": 12,
   "id": "851b9412",
   "metadata": {},
   "outputs": [],
   "source": [
    "out_dir = os.getcwd()"
   ]
  },
  {
   "cell_type": "code",
   "execution_count": 13,
   "id": "bb99cd85",
   "metadata": {},
   "outputs": [
    {
     "name": "stdout",
     "output_type": "stream",
     "text": [
      "Generating URL ...\n",
      "Downloading data from https://earthengine.googleapis.com/v1alpha/projects/earthengine-legacy/tables/68e90eda29ca0bf615154c624babfd80-0fb6f34a04adbec877abaaad6d0ad918:getFeatures\n",
      "Please wait ...\n",
      "Data downloaded to C:\\Users\\Saif.Shabou\\OneDrive - World Resources Institute\\Documents\\Python Scripts\\UrbanShift\\Urban Growth\\reduced.geojson\n"
     ]
    }
   ],
   "source": [
    "out_shp = os.path.join(out_dir, \"reduced.geojson\")\n",
    "geemap.ee_export_vector(reduced, out_shp, verbose=True)"
   ]
  },
  {
   "cell_type": "markdown",
   "id": "5366a930",
   "metadata": {},
   "source": [
    "# Annual rate of population change\n",
    " Computes annual rate of population change = (EndPop - StartPop / (EndYear - StartYear)) / StartPop * 100"
   ]
  },
  {
   "cell_type": "code",
   "execution_count": 14,
   "id": "a91e1594",
   "metadata": {},
   "outputs": [],
   "source": [
    "def computePopRate(feature):\n",
    "    PEnd = ee.Number(feature.get('PopEnd'))\n",
    "    PStart = ee.Number(feature.get('PopStart'))\n",
    "    EndY = ee.Number(endyear)\n",
    "    StartY = ee.Number(startyear)\n",
    "    return feature.set({'PopRate': (((PEnd.divide(PStart)).log()).divide(EndY.subtract(StartY))).multiply(100)})\n",
    "\n",
    "# generate a new property for all features\n",
    "reduced = reduced.map(computePopRate)"
   ]
  },
  {
   "cell_type": "code",
   "execution_count": 15,
   "id": "0b007b0b",
   "metadata": {},
   "outputs": [],
   "source": [
    "#show new property values\n",
    "#print(reduced.aggregate_array('PopRate'))"
   ]
  },
  {
   "cell_type": "code",
   "execution_count": 16,
   "id": "f8b8e717",
   "metadata": {},
   "outputs": [
    {
     "name": "stdout",
     "output_type": "stream",
     "text": [
      "Generating URL ...\n",
      "Downloading data from https://earthengine.googleapis.com/v1alpha/projects/earthengine-legacy/tables/49759148e8061d3541deb9c1a631c1c5-4154093d719114df56ce2aff297696bf:getFeatures\n",
      "Please wait ...\n",
      "Data downloaded to C:\\Users\\Saif.Shabou\\OneDrive - World Resources Institute\\Documents\\Python Scripts\\UrbanShift\\Urban Growth\\reduced_PopRate.geojson\n"
     ]
    }
   ],
   "source": [
    "# Export results\n",
    "out_shp = os.path.join(out_dir, \"reduced_PopRate.geojson\")\n",
    "geemap.ee_export_vector(reduced, out_shp, verbose=True)"
   ]
  },
  {
   "cell_type": "markdown",
   "id": "44cdee0a",
   "metadata": {},
   "source": [
    "# Annual rate of impervious area change\n",
    "Computes annual rate of impervious area change = (EndImperv - StartImperv / (EndYear - StartYear)) / StartImperv *100"
   ]
  },
  {
   "cell_type": "code",
   "execution_count": 17,
   "id": "1c58e529",
   "metadata": {},
   "outputs": [],
   "source": [
    "def computeImpervRate(feature):\n",
    "    IEnd = ee.Number(feature.get('ImpervEnd'))\n",
    "    IStart = ee.Number(feature.get('ImpervStart'))\n",
    "    EndY = ee.Number(endyear)\n",
    "    StartY = ee.Number(startyear)\n",
    "    return feature.set({'ImpervRate': (((IEnd.divide(IStart)).log()).divide(EndY.subtract(StartY))).multiply(100)})\n",
    "\n",
    "# generate a new property for all features\n",
    "reduced = reduced.map(computeImpervRate)"
   ]
  },
  {
   "cell_type": "code",
   "execution_count": 18,
   "id": "9fed43e2",
   "metadata": {},
   "outputs": [],
   "source": [
    "# show new property values\n",
    "# print('ImpervRate', reduced.aggregate_array('ImpervRate'))"
   ]
  },
  {
   "cell_type": "code",
   "execution_count": 19,
   "id": "284cf322",
   "metadata": {},
   "outputs": [
    {
     "name": "stdout",
     "output_type": "stream",
     "text": [
      "Generating URL ...\n",
      "Downloading data from https://earthengine.googleapis.com/v1alpha/projects/earthengine-legacy/tables/aeffdfe9ad5e9dae1f5cdc7be4ea3d1d-c2f6789da94a0df0683d89a376970fc9:getFeatures\n",
      "Please wait ...\n",
      "Data downloaded to C:\\Users\\Saif.Shabou\\OneDrive - World Resources Institute\\Documents\\Python Scripts\\UrbanShift\\Urban Growth\\reduced_ImpervRate.geojson\n"
     ]
    }
   ],
   "source": [
    "# Export results\n",
    "out_shp = os.path.join(out_dir, \"reduced_ImpervRate.geojson\")\n",
    "geemap.ee_export_vector(reduced, out_shp, verbose=True)"
   ]
  },
  {
   "cell_type": "markdown",
   "id": "345bf437",
   "metadata": {},
   "source": [
    "# Computes SDG Indicator 11.3.1: \"Ratio of land consumption rate to population growth rate\" \n",
    "Ratio = ImpervRate / PopRate"
   ]
  },
  {
   "cell_type": "code",
   "execution_count": 20,
   "id": "47e94867",
   "metadata": {},
   "outputs": [],
   "source": [
    "def computeGrowthRatio(feature):\n",
    "    Irate = ee.Number(feature.get('ImpervRate'))\n",
    "    Prate = ee.Number(feature.get('PopRate'))\n",
    "    return feature.set({ 'GrowthRatio': (Irate.divide(Prate)).abs()})\n",
    "\n",
    "# generate a new property for all features\n",
    "reduced = reduced.map(computeGrowthRatio)"
   ]
  },
  {
   "cell_type": "code",
   "execution_count": 21,
   "id": "08d15bef",
   "metadata": {},
   "outputs": [
    {
     "name": "stdout",
     "output_type": "stream",
     "text": [
      "Generating URL ...\n",
      "Downloading data from https://earthengine.googleapis.com/v1alpha/projects/earthengine-legacy/tables/22a427183f5ca1bcde1b070506da08d0-a24bb13530d0edd1a4d9bc20ca465ac9:getFeatures\n",
      "Please wait ...\n",
      "Data downloaded to C:\\Users\\Saif.Shabou\\OneDrive - World Resources Institute\\Documents\\Python Scripts\\UrbanShift\\Urban Growth\\reduced_GrowthRate.geojson\n"
     ]
    }
   ],
   "source": [
    "# Export results\n",
    "out_shp = os.path.join(out_dir, \"reduced_GrowthRate.geojson\")\n",
    "geemap.ee_export_vector(reduced, out_shp, verbose=True)"
   ]
  },
  {
   "cell_type": "markdown",
   "id": "c0cfa6d4",
   "metadata": {},
   "source": [
    "## Visualize two change and 1 ratio calculations \n",
    "### Population annual rate of change"
   ]
  },
  {
   "cell_type": "code",
   "execution_count": 22,
   "id": "397de0cf",
   "metadata": {},
   "outputs": [],
   "source": [
    "fillspalette = ['0000FF', '00FF00', 'FF0000']\n",
    "edgepalette = ['000000']\n",
    "empty = ee.Image().byte()"
   ]
  },
  {
   "cell_type": "code",
   "execution_count": 23,
   "id": "14358ef4",
   "metadata": {},
   "outputs": [],
   "source": [
    "Pfills = empty.paint(**{\n",
    "  'featureCollection': reduced,\n",
    "  'color': 'PopRate'\n",
    "  })"
   ]
  },
  {
   "cell_type": "code",
   "execution_count": 24,
   "id": "a239febe",
   "metadata": {},
   "outputs": [],
   "source": [
    "Map.addLayer(Pfills, {'palette': fillspalette, 'min': -5, 'max': 5}, 'Population annual rate of change % ('+str(startyear)+'-'+str(endyear)+')', True, 0.5)\n"
   ]
  },
  {
   "cell_type": "markdown",
   "id": "00a28a88",
   "metadata": {},
   "source": [
    "### Impervious area annual rate of change"
   ]
  },
  {
   "cell_type": "code",
   "execution_count": 25,
   "id": "426960fd",
   "metadata": {},
   "outputs": [],
   "source": [
    "empty = ee.Image().byte()\n",
    "Ifills = empty.paint(**{\n",
    "  'featureCollection': reduced,\n",
    "  'color': 'ImpervRate'\n",
    "  })\n",
    "\n",
    "Map.addLayer(Ifills, {'palette': fillspalette, 'min': -5, 'max': 5}, 'Impervious annual rate of change % ('+str(startyear)+'-'+str(endyear)+')', True, 0.5)\n"
   ]
  },
  {
   "cell_type": "markdown",
   "id": "75b37684",
   "metadata": {},
   "source": [
    "### Ratio of land consumption and population growth rates"
   ]
  },
  {
   "cell_type": "code",
   "execution_count": 26,
   "id": "38200648",
   "metadata": {},
   "outputs": [],
   "source": [
    "empty = ee.Image().byte()\n",
    "Gfills = empty.paint(**{\n",
    "  'featureCollection': reduced,\n",
    "  'color': 'GrowthRatio'\n",
    "  })\n",
    "\n",
    "Map.addLayer(Gfills, {'palette': fillspalette, 'min': -5, 'max': 5}, 'Ratio of land consumption and population growth rates ('+str(startyear)+'-'+str(endyear)+')', True, 0.5)\n"
   ]
  },
  {
   "cell_type": "markdown",
   "id": "b50066ff",
   "metadata": {},
   "source": [
    "### export results"
   ]
  },
  {
   "cell_type": "code",
   "execution_count": 27,
   "id": "8570c742",
   "metadata": {},
   "outputs": [
    {
     "name": "stdout",
     "output_type": "stream",
     "text": [
      "Generating URL ...\n",
      "Downloading data from https://earthengine.googleapis.com/v1alpha/projects/earthengine-legacy/tables/59a82549f34f7f9dce1fbd102dcff60f-c5c64dfdd63ccfa128f925159dd7af4d:getFeatures\n",
      "Please wait ...\n",
      "Data downloaded to C:\\Users\\Saif.Shabou\\OneDrive - World Resources Institute\\Documents\\Python Scripts\\UrbanShift\\Urban Growth\\reduced_Final.geojson\n"
     ]
    }
   ],
   "source": [
    "# Export results\n",
    "out_shp = os.path.join(out_dir, \"reduced_Final.geojson\")\n",
    "geemap.ee_export_vector(reduced, out_shp, verbose=True)"
   ]
  },
  {
   "cell_type": "markdown",
   "id": "ea414d5a",
   "metadata": {},
   "source": [
    "# chart to compare 'PopRate' and 'ImpervRate'"
   ]
  },
  {
   "cell_type": "code",
   "execution_count": 33,
   "id": "edadee1e",
   "metadata": {},
   "outputs": [],
   "source": [
    "import geopandas as gpd\n",
    "import matplotlib.pyplot as plt\n",
    "import pandas as pd"
   ]
  },
  {
   "cell_type": "code",
   "execution_count": 43,
   "id": "34fbdf29",
   "metadata": {},
   "outputs": [],
   "source": [
    "reduced_Final = gpd.read_file('reduced_Final.geojson')\n",
    "# print(reduced_Final.head())"
   ]
  },
  {
   "cell_type": "code",
   "execution_count": 44,
   "id": "55c071dc",
   "metadata": {},
   "outputs": [],
   "source": [
    "reduced_Final_df = pd.DataFrame(reduced_Final)"
   ]
  },
  {
   "cell_type": "code",
   "execution_count": 45,
   "id": "c4553d43",
   "metadata": {},
   "outputs": [
    {
     "data": {
      "text/plain": [
       "<AxesSubplot:title={'center':'Urban Area and population change'}, xlabel='PopRate', ylabel='ImpervRate'>"
      ]
     },
     "execution_count": 45,
     "metadata": {},
     "output_type": "execute_result"
    },
    {
     "data": {
      "image/png": "[encoded data removed]",
      "text/plain": [
       "<Figure size 432x288 with 1 Axes>"
      ]
     },
     "metadata": {
      "needs_background": "light"
     },
     "output_type": "display_data"
    }
   ],
   "source": [
    "reduced_Final_df.plot.scatter(x=\"PopRate\", y=\"ImpervRate\",title= \"Urban Area and population change\")"
   ]
  },
  {
   "cell_type": "code",
   "execution_count": null,
   "id": "8b2fd79e",
   "metadata": {},
   "outputs": [],
   "source": []
  }
 ],
 "metadata": {
  "kernelspec": {
   "display_name": "Python 3 (ipykernel)",
   "language": "python",
   "name": "python3"
  },
  "language_info": {
   "codemirror_mode": {
    "name": "ipython",
    "version": 3
   },
   "file_extension": ".py",
   "mimetype": "text/x-python",
   "name": "python",
   "nbconvert_exporter": "python",
   "pygments_lexer": "ipython3",
   "version": "3.8.10"
  }
 },
 "nbformat": 4,
 "nbformat_minor": 5
}
